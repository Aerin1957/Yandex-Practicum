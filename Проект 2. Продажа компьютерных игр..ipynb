{
 "cells": [
  {
   "cell_type": "markdown",
   "metadata": {},
   "source": [
    "# Описание проекта"
   ]
  },
  {
   "cell_type": "markdown",
   "metadata": {},
   "source": [
    "Вы работаете в интернет-магазине «Стримчик», который продаёт по всему миру компьютерные игры. Из открытых источников доступны исторические данные о продажах игр, оценки пользователей и экспертов, жанры и платформы (например, Xbox или PlayStation). Вам нужно выявить определяющие успешность игры закономерности. Это позволит сделать ставку на потенциально популярный продукт и спланировать рекламные кампании.\n",
    "Перед вами данные до 2016 года. Представим, что сейчас декабрь 2016 г., и вы планируете кампанию на 2017-й. Нужно отработать принцип работы с данными. Неважно, прогнозируете ли вы продажи на 2017 год по данным 2016-го или же 2027-й — по данным 2026 года.\n",
    "В наборе данных попадается аббревиатура ESRB (Entertainment Software Rating Board) — это ассоциация, определяющая возрастной рейтинг компьютерных игр. ESRB оценивает игровой контент и присваивает ему подходящую возрастную категорию, например, «Для взрослых», «Для детей младшего возраста» или «Для подростков»."
   ]
  },
  {
   "cell_type": "markdown",
   "metadata": {},
   "source": [
    "# Описание данных"
   ]
  },
  {
   "cell_type": "markdown",
   "metadata": {},
   "source": [
    "Name — название игры\n",
    "Platform — платформа\n",
    "Year_of_Release — год выпуска\n",
    "Genre — жанр игры\n",
    "NA_sales — продажи в Северной Америке (миллионы проданных копий)\n",
    "EU_sales — продажи в Европе (миллионы проданных копий)\n",
    "JP_sales — продажи в Японии (миллионы проданных копий)\n",
    "Other_sales — продажи в других странах (миллионы проданных копий)\n",
    "Critic_Score — оценка критиков (максимум 100)\n",
    "User_Score — оценка пользователей (максимум 10)\n",
    "Rating — рейтинг от организации ESRB (англ. Entertainment Software Rating Board). Эта ассоциация определяет рейтинг компьютерных игр и присваивает им подходящую возрастную категорию.\n",
    "Данные за 2016 год могут быть неполными."
   ]
  },
  {
   "cell_type": "markdown",
   "metadata": {},
   "source": [
    "# Задание"
   ]
  },
  {
   "cell_type": "markdown",
   "metadata": {},
   "source": [
    "Шаг 1. Откройте файл с данными и изучите общую информацию\n",
    "Путь к файлу: /datasets/games.csv. Скачать датасет  \n",
    "Шаг 2. Подготовьте данные\n",
    "Замените названия столбцов (приведите к нижнему регистру);\n",
    "Преобразуйте данные в нужные типы. Опишите, в каких столбцах заменили тип данных и почему;\n",
    "Обработайте пропуски при необходимости:\n",
    "  \n",
    "Объясните, почему заполнили пропуски определённым образом или почему не стали это делать;\n",
    "Опишите причины, которые могли привести к пропускам;\n",
    "Обратите внимание на аббревиатуру 'tbd' в столбце с оценкой пользователей. Отдельно разберите это значение и опишите, как его обработать;\n",
    "Посчитайте суммарные продажи во всех регионах и запишите их в отдельный столбец.\n",
    "Шаг 3. Проведите исследовательский анализ данных\n",
    "Посмотрите, сколько игр выпускалось в разные годы. Важны ли данные за все периоды?\n",
    "Посмотрите, как менялись продажи по платформам. Выберите платформы с наибольшими суммарными продажами и постройте распределение по годам. За какой характерный срок появляются новые и исчезают старые платформы?\n",
    "Возьмите данные за соответствующий актуальный период. Актуальный период определите самостоятельно в результате исследования предыдущих вопросов. Основной фактор — эти данные помогут построить прогноз на 2017 год.\n",
    "Не учитывайте в работе данные за предыдущие годы.\n",
    "Какие платформы лидируют по продажам, растут или падают? Выберите несколько потенциально прибыльных платформ.\n",
    "Постройте график «ящик с усами» по глобальным продажам игр в разбивке по платформам. Опишите результат.\n",
    "Посмотрите, как влияют на продажи внутри одной популярной платформы отзывы пользователей и критиков. Постройте диаграмму рассеяния и посчитайте корреляцию между отзывами и продажами. Сформулируйте выводы.\n",
    "Соотнесите выводы с продажами игр на других платформах.\n",
    "Посмотрите на общее распределение игр по жанрам. Что можно сказать о самых прибыльных жанрах? Выделяются ли жанры с высокими и низкими продажами?\n",
    "Шаг 4. Составьте портрет пользователя каждого региона\n",
    "Определите для пользователя каждого региона (NA, EU, JP):\n",
    "Самые популярные платформы (топ-5). Опишите различия в долях продаж.\n",
    "Самые популярные жанры (топ-5). Поясните разницу.\n",
    "Влияет ли рейтинг ESRB на продажи в отдельном регионе?\n",
    "Шаг 5. Проверьте гипотезы\n",
    "Средние пользовательские рейтинги платформ Xbox One и PC одинаковые;\n",
    "Средние пользовательские рейтинги жанров Action (англ. «действие», экшен-игры) и Sports (англ. «спортивные соревнования») разные.\n",
    "Задайте самостоятельно пороговое значение alpha.\n",
    "Поясните:\n",
    "Как вы сформулировали нулевую и альтернативную гипотезы;\n",
    "Какой критерий применили для проверки гипотез и почему.\n",
    "Шаг 6. Напишите общий вывод"
   ]
  },
  {
   "cell_type": "markdown",
   "metadata": {},
   "source": [
    "# 1. Подготовка данных."
   ]
  },
  {
   "cell_type": "code",
   "execution_count": 1,
   "metadata": {},
   "outputs": [],
   "source": [
    "import pandas as pd\n",
    "import matplotlib.pyplot as plt\n",
    "import numpy as np\n",
    "import seaborn as sns\n",
    "from scipy import stats as st\n",
    "from scipy.stats import levene"
   ]
  },
  {
   "cell_type": "code",
   "execution_count": 2,
   "metadata": {},
   "outputs": [
    {
     "data": {
      "text/html": [
       "<div>\n",
       "<style scoped>\n",
       "    .dataframe tbody tr th:only-of-type {\n",
       "        vertical-align: middle;\n",
       "    }\n",
       "\n",
       "    .dataframe tbody tr th {\n",
       "        vertical-align: top;\n",
       "    }\n",
       "\n",
       "    .dataframe thead th {\n",
       "        text-align: right;\n",
       "    }\n",
       "</style>\n",
       "<table border=\"1\" class=\"dataframe\">\n",
       "  <thead>\n",
       "    <tr style=\"text-align: right;\">\n",
       "      <th></th>\n",
       "      <th>Name</th>\n",
       "      <th>Platform</th>\n",
       "      <th>Year_of_Release</th>\n",
       "      <th>Genre</th>\n",
       "      <th>NA_sales</th>\n",
       "      <th>EU_sales</th>\n",
       "      <th>JP_sales</th>\n",
       "      <th>Other_sales</th>\n",
       "      <th>Critic_Score</th>\n",
       "      <th>User_Score</th>\n",
       "      <th>Rating</th>\n",
       "    </tr>\n",
       "  </thead>\n",
       "  <tbody>\n",
       "    <tr>\n",
       "      <th>0</th>\n",
       "      <td>Wii Sports</td>\n",
       "      <td>Wii</td>\n",
       "      <td>2006.0</td>\n",
       "      <td>Sports</td>\n",
       "      <td>41.36</td>\n",
       "      <td>28.96</td>\n",
       "      <td>3.77</td>\n",
       "      <td>8.45</td>\n",
       "      <td>76.0</td>\n",
       "      <td>8</td>\n",
       "      <td>E</td>\n",
       "    </tr>\n",
       "    <tr>\n",
       "      <th>1</th>\n",
       "      <td>Super Mario Bros.</td>\n",
       "      <td>NES</td>\n",
       "      <td>1985.0</td>\n",
       "      <td>Platform</td>\n",
       "      <td>29.08</td>\n",
       "      <td>3.58</td>\n",
       "      <td>6.81</td>\n",
       "      <td>0.77</td>\n",
       "      <td>NaN</td>\n",
       "      <td>NaN</td>\n",
       "      <td>NaN</td>\n",
       "    </tr>\n",
       "    <tr>\n",
       "      <th>2</th>\n",
       "      <td>Mario Kart Wii</td>\n",
       "      <td>Wii</td>\n",
       "      <td>2008.0</td>\n",
       "      <td>Racing</td>\n",
       "      <td>15.68</td>\n",
       "      <td>12.76</td>\n",
       "      <td>3.79</td>\n",
       "      <td>3.29</td>\n",
       "      <td>82.0</td>\n",
       "      <td>8.3</td>\n",
       "      <td>E</td>\n",
       "    </tr>\n",
       "    <tr>\n",
       "      <th>3</th>\n",
       "      <td>Wii Sports Resort</td>\n",
       "      <td>Wii</td>\n",
       "      <td>2009.0</td>\n",
       "      <td>Sports</td>\n",
       "      <td>15.61</td>\n",
       "      <td>10.93</td>\n",
       "      <td>3.28</td>\n",
       "      <td>2.95</td>\n",
       "      <td>80.0</td>\n",
       "      <td>8</td>\n",
       "      <td>E</td>\n",
       "    </tr>\n",
       "    <tr>\n",
       "      <th>4</th>\n",
       "      <td>Pokemon Red/Pokemon Blue</td>\n",
       "      <td>GB</td>\n",
       "      <td>1996.0</td>\n",
       "      <td>Role-Playing</td>\n",
       "      <td>11.27</td>\n",
       "      <td>8.89</td>\n",
       "      <td>10.22</td>\n",
       "      <td>1.00</td>\n",
       "      <td>NaN</td>\n",
       "      <td>NaN</td>\n",
       "      <td>NaN</td>\n",
       "    </tr>\n",
       "  </tbody>\n",
       "</table>\n",
       "</div>"
      ],
      "text/plain": [
       "                       Name Platform  Year_of_Release         Genre  NA_sales  \\\n",
       "0                Wii Sports      Wii           2006.0        Sports     41.36   \n",
       "1         Super Mario Bros.      NES           1985.0      Platform     29.08   \n",
       "2            Mario Kart Wii      Wii           2008.0        Racing     15.68   \n",
       "3         Wii Sports Resort      Wii           2009.0        Sports     15.61   \n",
       "4  Pokemon Red/Pokemon Blue       GB           1996.0  Role-Playing     11.27   \n",
       "\n",
       "   EU_sales  JP_sales  Other_sales  Critic_Score User_Score Rating  \n",
       "0     28.96      3.77         8.45          76.0          8      E  \n",
       "1      3.58      6.81         0.77           NaN        NaN    NaN  \n",
       "2     12.76      3.79         3.29          82.0        8.3      E  \n",
       "3     10.93      3.28         2.95          80.0          8      E  \n",
       "4      8.89     10.22         1.00           NaN        NaN    NaN  "
      ]
     },
     "execution_count": 2,
     "metadata": {},
     "output_type": "execute_result"
    }
   ],
   "source": [
    "data = pd.read_csv('/datasets/games.csv')\n",
    "data.head()"
   ]
  },
  {
   "cell_type": "code",
   "execution_count": 3,
   "metadata": {},
   "outputs": [
    {
     "data": {
      "text/plain": [
       "Index(['name', 'platform', 'year_of_release', 'genre', 'na_sales', 'eu_sales',\n",
       "       'jp_sales', 'other_sales', 'critic_score', 'user_score', 'rating'],\n",
       "      dtype='object')"
      ]
     },
     "execution_count": 3,
     "metadata": {},
     "output_type": "execute_result"
    }
   ],
   "source": [
    "data.columns = data.columns.str.lower()\n",
    "data.columns"
   ]
  },
  {
   "cell_type": "markdown",
   "metadata": {},
   "source": [
    "Заменила названия столбцов, привела к нижнему регистру."
   ]
  },
  {
   "cell_type": "code",
   "execution_count": 4,
   "metadata": {},
   "outputs": [
    {
     "name": "stdout",
     "output_type": "stream",
     "text": [
      "<class 'pandas.core.frame.DataFrame'>\n",
      "RangeIndex: 16715 entries, 0 to 16714\n",
      "Data columns (total 11 columns):\n",
      " #   Column           Non-Null Count  Dtype  \n",
      "---  ------           --------------  -----  \n",
      " 0   name             16713 non-null  object \n",
      " 1   platform         16715 non-null  object \n",
      " 2   year_of_release  16446 non-null  float64\n",
      " 3   genre            16713 non-null  object \n",
      " 4   na_sales         16715 non-null  float64\n",
      " 5   eu_sales         16715 non-null  float64\n",
      " 6   jp_sales         16715 non-null  float64\n",
      " 7   other_sales      16715 non-null  float64\n",
      " 8   critic_score     8137 non-null   float64\n",
      " 9   user_score       10014 non-null  object \n",
      " 10  rating           9949 non-null   object \n",
      "dtypes: float64(6), object(5)\n",
      "memory usage: 1.4+ MB\n"
     ]
    }
   ],
   "source": [
    "data.info()"
   ]
  },
  {
   "cell_type": "markdown",
   "metadata": {},
   "source": [
    "Исходя из полученной информации видна необходимость поменять тип данных в столбцах \"year_of_release\" и \"user_score\"."
   ]
  },
  {
   "cell_type": "code",
   "execution_count": 5,
   "metadata": {},
   "outputs": [
    {
     "data": {
      "text/plain": [
       "array(['Wii Sports', 'Super Mario Bros.', 'Mario Kart Wii', ...,\n",
       "       'Woody Woodpecker in Crazy Castle 5', 'LMA Manager 2007',\n",
       "       'Haitaka no Psychedelica'], dtype=object)"
      ]
     },
     "execution_count": 5,
     "metadata": {},
     "output_type": "execute_result"
    }
   ],
   "source": [
    "data['name'].unique()"
   ]
  },
  {
   "cell_type": "code",
   "execution_count": 6,
   "metadata": {},
   "outputs": [
    {
     "data": {
      "text/plain": [
       "array(['Wii', 'NES', 'GB', 'DS', 'X360', 'PS3', 'PS2', 'SNES', 'GBA',\n",
       "       'PS4', '3DS', 'N64', 'PS', 'XB', 'PC', '2600', 'PSP', 'XOne',\n",
       "       'WiiU', 'GC', 'GEN', 'DC', 'PSV', 'SAT', 'SCD', 'WS', 'NG', 'TG16',\n",
       "       '3DO', 'GG', 'PCFX'], dtype=object)"
      ]
     },
     "execution_count": 6,
     "metadata": {},
     "output_type": "execute_result"
    }
   ],
   "source": [
    "data['platform'].unique()"
   ]
  },
  {
   "cell_type": "code",
   "execution_count": 7,
   "metadata": {},
   "outputs": [],
   "source": [
    "data['year_of_release'] = data['year_of_release'].astype('Int64')"
   ]
  },
  {
   "cell_type": "code",
   "execution_count": 8,
   "metadata": {},
   "outputs": [
    {
     "data": {
      "text/plain": [
       "<IntegerArray>\n",
       "[2006, 1985, 2008, 2009, 1996, 1989, 1984, 2005, 1999, 2007, 2010, 2013, 2004,\n",
       " 1990, 1988, 2002, 2001, 2011, 1998, 2015, 2012, 2014, 1992, 1997, 1993, 1994,\n",
       " 1982, 2016, 2003, 1986, 2000, <NA>, 1995, 1991, 1981, 1987, 1980, 1983]\n",
       "Length: 38, dtype: Int64"
      ]
     },
     "execution_count": 8,
     "metadata": {},
     "output_type": "execute_result"
    }
   ],
   "source": [
    "data['year_of_release'].unique()"
   ]
  },
  {
   "cell_type": "code",
   "execution_count": 9,
   "metadata": {},
   "outputs": [
    {
     "data": {
      "text/plain": [
       "array(['Sports', 'Platform', 'Racing', 'Role-Playing', 'Puzzle', 'Misc',\n",
       "       'Shooter', 'Simulation', 'Action', 'Fighting', 'Adventure',\n",
       "       'Strategy', nan], dtype=object)"
      ]
     },
     "execution_count": 9,
     "metadata": {},
     "output_type": "execute_result"
    }
   ],
   "source": [
    "data['genre'].unique()"
   ]
  },
  {
   "cell_type": "code",
   "execution_count": 10,
   "metadata": {},
   "outputs": [
    {
     "data": {
      "text/plain": [
       "array([76., nan, 82., 80., 89., 58., 87., 91., 61., 97., 95., 77., 88.,\n",
       "       83., 94., 93., 85., 86., 98., 96., 90., 84., 73., 74., 78., 92.,\n",
       "       71., 72., 68., 62., 49., 67., 81., 66., 56., 79., 70., 59., 64.,\n",
       "       75., 60., 63., 69., 50., 25., 42., 44., 55., 48., 57., 29., 47.,\n",
       "       65., 54., 20., 53., 37., 38., 33., 52., 30., 32., 43., 45., 51.,\n",
       "       40., 46., 39., 34., 35., 41., 36., 28., 31., 27., 26., 19., 23.,\n",
       "       24., 21., 17., 22., 13.])"
      ]
     },
     "execution_count": 10,
     "metadata": {},
     "output_type": "execute_result"
    }
   ],
   "source": [
    "data['critic_score'].unique()"
   ]
  },
  {
   "cell_type": "code",
   "execution_count": 11,
   "metadata": {},
   "outputs": [],
   "source": [
    "data['critic_score'] = data['critic_score'].astype(float)"
   ]
  },
  {
   "cell_type": "code",
   "execution_count": 12,
   "metadata": {},
   "outputs": [
    {
     "data": {
      "text/plain": [
       "array(['8', nan, '8.3', '8.5', '6.6', '8.4', '8.6', '7.7', '6.3', '7.4',\n",
       "       '8.2', '9', '7.9', '8.1', '8.7', '7.1', '3.4', '5.3', '4.8', '3.2',\n",
       "       '8.9', '6.4', '7.8', '7.5', '2.6', '7.2', '9.2', '7', '7.3', '4.3',\n",
       "       '7.6', '5.7', '5', '9.1', '6.5', 'tbd', '8.8', '6.9', '9.4', '6.8',\n",
       "       '6.1', '6.7', '5.4', '4', '4.9', '4.5', '9.3', '6.2', '4.2', '6',\n",
       "       '3.7', '4.1', '5.8', '5.6', '5.5', '4.4', '4.6', '5.9', '3.9',\n",
       "       '3.1', '2.9', '5.2', '3.3', '4.7', '5.1', '3.5', '2.5', '1.9', '3',\n",
       "       '2.7', '2.2', '2', '9.5', '2.1', '3.6', '2.8', '1.8', '3.8', '0',\n",
       "       '1.6', '9.6', '2.4', '1.7', '1.1', '0.3', '1.5', '0.7', '1.2',\n",
       "       '2.3', '0.5', '1.3', '0.2', '0.6', '1.4', '0.9', '1', '9.7'],\n",
       "      dtype=object)"
      ]
     },
     "execution_count": 12,
     "metadata": {},
     "output_type": "execute_result"
    }
   ],
   "source": [
    "data['user_score'].unique()"
   ]
  },
  {
   "cell_type": "code",
   "execution_count": 13,
   "metadata": {},
   "outputs": [
    {
     "data": {
      "text/plain": [
       "array(['E', nan, 'M', 'T', 'E10+', 'K-A', 'AO', 'EC', 'RP'], dtype=object)"
      ]
     },
     "execution_count": 13,
     "metadata": {},
     "output_type": "execute_result"
    }
   ],
   "source": [
    "data['rating'].unique()"
   ]
  },
  {
   "cell_type": "code",
   "execution_count": 14,
   "metadata": {},
   "outputs": [],
   "source": [
    "data['rating'] = data['rating'].fillna('без рейтинга')"
   ]
  },
  {
   "cell_type": "markdown",
   "metadata": {},
   "source": [
    "Оставила пропуски в year_of_release , critic_score и user_score  из опасения испортить данные и повлиять на статистику"
   ]
  },
  {
   "cell_type": "markdown",
   "metadata": {},
   "source": [
    "Пропуски могли пояится по разным причинам: не знают жанр, не знают год релиза, неизвестен рейтинг или игре не присваивалась оценка,возможно, технические ошибки."
   ]
  },
  {
   "cell_type": "markdown",
   "metadata": {},
   "source": [
    "В оценке пользователей есть буквенное обозначение tbd. Согласно запросу в гугле, это расшифровывается как To Be Determined, то есть Будет определено. Следовательно, практически то же самое, что и \"неизвестно\", думаю, что отзывов просто не было.\n",
    "Можно заменить."
   ]
  },
  {
   "cell_type": "code",
   "execution_count": 15,
   "metadata": {},
   "outputs": [],
   "source": [
    "data.loc[data['user_score'] == 'tbd', 'user_score'] = np.nan"
   ]
  },
  {
   "cell_type": "code",
   "execution_count": 16,
   "metadata": {},
   "outputs": [],
   "source": [
    "data['user_score'] = data['user_score'].astype(float)"
   ]
  },
  {
   "cell_type": "code",
   "execution_count": 17,
   "metadata": {},
   "outputs": [
    {
     "data": {
      "text/plain": [
       "0"
      ]
     },
     "execution_count": 17,
     "metadata": {},
     "output_type": "execute_result"
    }
   ],
   "source": [
    "data.duplicated().sum()"
   ]
  },
  {
   "cell_type": "markdown",
   "metadata": {},
   "source": [
    "Нет дубликатов, это хорошо"
   ]
  },
  {
   "cell_type": "code",
   "execution_count": 102,
   "metadata": {},
   "outputs": [
    {
     "data": {
      "text/html": [
       "<div>\n",
       "<style scoped>\n",
       "    .dataframe tbody tr th:only-of-type {\n",
       "        vertical-align: middle;\n",
       "    }\n",
       "\n",
       "    .dataframe tbody tr th {\n",
       "        vertical-align: top;\n",
       "    }\n",
       "\n",
       "    .dataframe thead th {\n",
       "        text-align: right;\n",
       "    }\n",
       "</style>\n",
       "<table border=\"1\" class=\"dataframe\">\n",
       "  <thead>\n",
       "    <tr style=\"text-align: right;\">\n",
       "      <th></th>\n",
       "      <th>name</th>\n",
       "      <th>platform</th>\n",
       "      <th>year_of_release</th>\n",
       "      <th>genre</th>\n",
       "      <th>na_sales</th>\n",
       "      <th>eu_sales</th>\n",
       "      <th>jp_sales</th>\n",
       "      <th>other_sales</th>\n",
       "      <th>critic_score</th>\n",
       "      <th>user_score</th>\n",
       "      <th>rating</th>\n",
       "    </tr>\n",
       "  </thead>\n",
       "  <tbody>\n",
       "    <tr>\n",
       "      <th>1591</th>\n",
       "      <td>Need for Speed: Most Wanted</td>\n",
       "      <td>X360</td>\n",
       "      <td>2005</td>\n",
       "      <td>Racing</td>\n",
       "      <td>1.0</td>\n",
       "      <td>0.13</td>\n",
       "      <td>0.02</td>\n",
       "      <td>0.10</td>\n",
       "      <td>83.0</td>\n",
       "      <td>8.5</td>\n",
       "      <td>T</td>\n",
       "    </tr>\n",
       "    <tr>\n",
       "      <th>4127</th>\n",
       "      <td>Sonic the Hedgehog</td>\n",
       "      <td>PS3</td>\n",
       "      <td>&lt;NA&gt;</td>\n",
       "      <td>Platform</td>\n",
       "      <td>0.0</td>\n",
       "      <td>0.48</td>\n",
       "      <td>0.00</td>\n",
       "      <td>0.00</td>\n",
       "      <td>43.0</td>\n",
       "      <td>4.1</td>\n",
       "      <td>E10+</td>\n",
       "    </tr>\n",
       "    <tr>\n",
       "      <th>11715</th>\n",
       "      <td>Need for Speed: Most Wanted</td>\n",
       "      <td>PC</td>\n",
       "      <td>2012</td>\n",
       "      <td>Racing</td>\n",
       "      <td>0.0</td>\n",
       "      <td>0.06</td>\n",
       "      <td>0.00</td>\n",
       "      <td>0.02</td>\n",
       "      <td>82.0</td>\n",
       "      <td>8.5</td>\n",
       "      <td>T</td>\n",
       "    </tr>\n",
       "    <tr>\n",
       "      <th>14244</th>\n",
       "      <td>NaN</td>\n",
       "      <td>GEN</td>\n",
       "      <td>1993</td>\n",
       "      <td>NaN</td>\n",
       "      <td>0.0</td>\n",
       "      <td>0.00</td>\n",
       "      <td>0.03</td>\n",
       "      <td>0.00</td>\n",
       "      <td>NaN</td>\n",
       "      <td>NaN</td>\n",
       "      <td>без рейтинга</td>\n",
       "    </tr>\n",
       "    <tr>\n",
       "      <th>16230</th>\n",
       "      <td>Madden NFL 13</td>\n",
       "      <td>PS3</td>\n",
       "      <td>2012</td>\n",
       "      <td>Sports</td>\n",
       "      <td>0.0</td>\n",
       "      <td>0.01</td>\n",
       "      <td>0.00</td>\n",
       "      <td>0.00</td>\n",
       "      <td>83.0</td>\n",
       "      <td>5.5</td>\n",
       "      <td>E</td>\n",
       "    </tr>\n",
       "  </tbody>\n",
       "</table>\n",
       "</div>"
      ],
      "text/plain": [
       "                              name platform  year_of_release     genre  \\\n",
       "1591   Need for Speed: Most Wanted     X360             2005    Racing   \n",
       "4127            Sonic the Hedgehog      PS3             <NA>  Platform   \n",
       "11715  Need for Speed: Most Wanted       PC             2012    Racing   \n",
       "14244                          NaN      GEN             1993       NaN   \n",
       "16230                Madden NFL 13      PS3             2012    Sports   \n",
       "\n",
       "       na_sales  eu_sales  jp_sales  other_sales  critic_score  user_score  \\\n",
       "1591        1.0      0.13      0.02         0.10          83.0         8.5   \n",
       "4127        0.0      0.48      0.00         0.00          43.0         4.1   \n",
       "11715       0.0      0.06      0.00         0.02          82.0         8.5   \n",
       "14244       0.0      0.00      0.03         0.00           NaN         NaN   \n",
       "16230       0.0      0.01      0.00         0.00          83.0         5.5   \n",
       "\n",
       "             rating  \n",
       "1591              T  \n",
       "4127           E10+  \n",
       "11715             T  \n",
       "14244  без рейтинга  \n",
       "16230             E  "
      ]
     },
     "execution_count": 102,
     "metadata": {},
     "output_type": "execute_result"
    }
   ],
   "source": [
    "data_dup = data[data.duplicated(subset=['name', 'platform'])==True]\n",
    "data_dup"
   ]
  },
  {
   "cell_type": "code",
   "execution_count": 103,
   "metadata": {},
   "outputs": [
    {
     "data": {
      "text/html": [
       "<div>\n",
       "<style scoped>\n",
       "    .dataframe tbody tr th:only-of-type {\n",
       "        vertical-align: middle;\n",
       "    }\n",
       "\n",
       "    .dataframe tbody tr th {\n",
       "        vertical-align: top;\n",
       "    }\n",
       "\n",
       "    .dataframe thead th {\n",
       "        text-align: right;\n",
       "    }\n",
       "</style>\n",
       "<table border=\"1\" class=\"dataframe\">\n",
       "  <thead>\n",
       "    <tr style=\"text-align: right;\">\n",
       "      <th></th>\n",
       "      <th>name</th>\n",
       "      <th>platform</th>\n",
       "      <th>year_of_release</th>\n",
       "      <th>genre</th>\n",
       "      <th>na_sales</th>\n",
       "      <th>eu_sales</th>\n",
       "      <th>jp_sales</th>\n",
       "      <th>other_sales</th>\n",
       "      <th>critic_score</th>\n",
       "      <th>user_score</th>\n",
       "      <th>rating</th>\n",
       "    </tr>\n",
       "  </thead>\n",
       "  <tbody>\n",
       "    <tr>\n",
       "      <th>253</th>\n",
       "      <td>Need for Speed: Most Wanted</td>\n",
       "      <td>PS2</td>\n",
       "      <td>2005</td>\n",
       "      <td>Racing</td>\n",
       "      <td>2.03</td>\n",
       "      <td>1.79</td>\n",
       "      <td>0.08</td>\n",
       "      <td>0.47</td>\n",
       "      <td>82.0</td>\n",
       "      <td>9.1</td>\n",
       "      <td>T</td>\n",
       "    </tr>\n",
       "    <tr>\n",
       "      <th>523</th>\n",
       "      <td>Need for Speed: Most Wanted</td>\n",
       "      <td>PS3</td>\n",
       "      <td>2012</td>\n",
       "      <td>Racing</td>\n",
       "      <td>0.71</td>\n",
       "      <td>1.46</td>\n",
       "      <td>0.06</td>\n",
       "      <td>0.58</td>\n",
       "      <td>NaN</td>\n",
       "      <td>NaN</td>\n",
       "      <td>без рейтинга</td>\n",
       "    </tr>\n",
       "    <tr>\n",
       "      <th>1190</th>\n",
       "      <td>Need for Speed: Most Wanted</td>\n",
       "      <td>X360</td>\n",
       "      <td>2012</td>\n",
       "      <td>Racing</td>\n",
       "      <td>0.62</td>\n",
       "      <td>0.78</td>\n",
       "      <td>0.01</td>\n",
       "      <td>0.15</td>\n",
       "      <td>83.0</td>\n",
       "      <td>8.5</td>\n",
       "      <td>T</td>\n",
       "    </tr>\n",
       "    <tr>\n",
       "      <th>1591</th>\n",
       "      <td>Need for Speed: Most Wanted</td>\n",
       "      <td>X360</td>\n",
       "      <td>2005</td>\n",
       "      <td>Racing</td>\n",
       "      <td>1.00</td>\n",
       "      <td>0.13</td>\n",
       "      <td>0.02</td>\n",
       "      <td>0.10</td>\n",
       "      <td>83.0</td>\n",
       "      <td>8.5</td>\n",
       "      <td>T</td>\n",
       "    </tr>\n",
       "    <tr>\n",
       "      <th>1998</th>\n",
       "      <td>Need for Speed: Most Wanted</td>\n",
       "      <td>XB</td>\n",
       "      <td>2005</td>\n",
       "      <td>Racing</td>\n",
       "      <td>0.53</td>\n",
       "      <td>0.46</td>\n",
       "      <td>0.00</td>\n",
       "      <td>0.05</td>\n",
       "      <td>83.0</td>\n",
       "      <td>8.8</td>\n",
       "      <td>T</td>\n",
       "    </tr>\n",
       "    <tr>\n",
       "      <th>2048</th>\n",
       "      <td>Need for Speed: Most Wanted</td>\n",
       "      <td>PSV</td>\n",
       "      <td>2012</td>\n",
       "      <td>Racing</td>\n",
       "      <td>0.33</td>\n",
       "      <td>0.45</td>\n",
       "      <td>0.01</td>\n",
       "      <td>0.22</td>\n",
       "      <td>NaN</td>\n",
       "      <td>NaN</td>\n",
       "      <td>без рейтинга</td>\n",
       "    </tr>\n",
       "    <tr>\n",
       "      <th>3581</th>\n",
       "      <td>Need for Speed: Most Wanted</td>\n",
       "      <td>GC</td>\n",
       "      <td>2005</td>\n",
       "      <td>Racing</td>\n",
       "      <td>0.43</td>\n",
       "      <td>0.11</td>\n",
       "      <td>0.00</td>\n",
       "      <td>0.02</td>\n",
       "      <td>80.0</td>\n",
       "      <td>9.1</td>\n",
       "      <td>T</td>\n",
       "    </tr>\n",
       "    <tr>\n",
       "      <th>5972</th>\n",
       "      <td>Need for Speed: Most Wanted</td>\n",
       "      <td>PC</td>\n",
       "      <td>2005</td>\n",
       "      <td>Racing</td>\n",
       "      <td>0.02</td>\n",
       "      <td>0.23</td>\n",
       "      <td>0.00</td>\n",
       "      <td>0.04</td>\n",
       "      <td>82.0</td>\n",
       "      <td>8.5</td>\n",
       "      <td>T</td>\n",
       "    </tr>\n",
       "    <tr>\n",
       "      <th>6273</th>\n",
       "      <td>Need for Speed: Most Wanted</td>\n",
       "      <td>WiiU</td>\n",
       "      <td>2013</td>\n",
       "      <td>Racing</td>\n",
       "      <td>0.13</td>\n",
       "      <td>0.12</td>\n",
       "      <td>0.00</td>\n",
       "      <td>0.02</td>\n",
       "      <td>NaN</td>\n",
       "      <td>NaN</td>\n",
       "      <td>без рейтинга</td>\n",
       "    </tr>\n",
       "    <tr>\n",
       "      <th>6410</th>\n",
       "      <td>Need for Speed: Most Wanted</td>\n",
       "      <td>DS</td>\n",
       "      <td>2005</td>\n",
       "      <td>Racing</td>\n",
       "      <td>0.24</td>\n",
       "      <td>0.01</td>\n",
       "      <td>0.00</td>\n",
       "      <td>0.02</td>\n",
       "      <td>45.0</td>\n",
       "      <td>6.1</td>\n",
       "      <td>E</td>\n",
       "    </tr>\n",
       "    <tr>\n",
       "      <th>6473</th>\n",
       "      <td>Need for Speed: Most Wanted</td>\n",
       "      <td>GBA</td>\n",
       "      <td>2005</td>\n",
       "      <td>Racing</td>\n",
       "      <td>0.19</td>\n",
       "      <td>0.07</td>\n",
       "      <td>0.00</td>\n",
       "      <td>0.00</td>\n",
       "      <td>NaN</td>\n",
       "      <td>8.3</td>\n",
       "      <td>E</td>\n",
       "    </tr>\n",
       "    <tr>\n",
       "      <th>11715</th>\n",
       "      <td>Need for Speed: Most Wanted</td>\n",
       "      <td>PC</td>\n",
       "      <td>2012</td>\n",
       "      <td>Racing</td>\n",
       "      <td>0.00</td>\n",
       "      <td>0.06</td>\n",
       "      <td>0.00</td>\n",
       "      <td>0.02</td>\n",
       "      <td>82.0</td>\n",
       "      <td>8.5</td>\n",
       "      <td>T</td>\n",
       "    </tr>\n",
       "  </tbody>\n",
       "</table>\n",
       "</div>"
      ],
      "text/plain": [
       "                              name platform  year_of_release   genre  \\\n",
       "253    Need for Speed: Most Wanted      PS2             2005  Racing   \n",
       "523    Need for Speed: Most Wanted      PS3             2012  Racing   \n",
       "1190   Need for Speed: Most Wanted     X360             2012  Racing   \n",
       "1591   Need for Speed: Most Wanted     X360             2005  Racing   \n",
       "1998   Need for Speed: Most Wanted       XB             2005  Racing   \n",
       "2048   Need for Speed: Most Wanted      PSV             2012  Racing   \n",
       "3581   Need for Speed: Most Wanted       GC             2005  Racing   \n",
       "5972   Need for Speed: Most Wanted       PC             2005  Racing   \n",
       "6273   Need for Speed: Most Wanted     WiiU             2013  Racing   \n",
       "6410   Need for Speed: Most Wanted       DS             2005  Racing   \n",
       "6473   Need for Speed: Most Wanted      GBA             2005  Racing   \n",
       "11715  Need for Speed: Most Wanted       PC             2012  Racing   \n",
       "\n",
       "       na_sales  eu_sales  jp_sales  other_sales  critic_score  user_score  \\\n",
       "253        2.03      1.79      0.08         0.47          82.0         9.1   \n",
       "523        0.71      1.46      0.06         0.58           NaN         NaN   \n",
       "1190       0.62      0.78      0.01         0.15          83.0         8.5   \n",
       "1591       1.00      0.13      0.02         0.10          83.0         8.5   \n",
       "1998       0.53      0.46      0.00         0.05          83.0         8.8   \n",
       "2048       0.33      0.45      0.01         0.22           NaN         NaN   \n",
       "3581       0.43      0.11      0.00         0.02          80.0         9.1   \n",
       "5972       0.02      0.23      0.00         0.04          82.0         8.5   \n",
       "6273       0.13      0.12      0.00         0.02           NaN         NaN   \n",
       "6410       0.24      0.01      0.00         0.02          45.0         6.1   \n",
       "6473       0.19      0.07      0.00         0.00           NaN         8.3   \n",
       "11715      0.00      0.06      0.00         0.02          82.0         8.5   \n",
       "\n",
       "             rating  \n",
       "253               T  \n",
       "523    без рейтинга  \n",
       "1190              T  \n",
       "1591              T  \n",
       "1998              T  \n",
       "2048   без рейтинга  \n",
       "3581              T  \n",
       "5972              T  \n",
       "6273   без рейтинга  \n",
       "6410              E  \n",
       "6473              E  \n",
       "11715             T  "
      ]
     },
     "execution_count": 103,
     "metadata": {},
     "output_type": "execute_result"
    }
   ],
   "source": [
    "data[data['name']=='Need for Speed: Most Wanted']"
   ]
  },
  {
   "cell_type": "markdown",
   "metadata": {},
   "source": [
    "Посмотрела по Need for Speed, нашла по 2 раза на PC и X360, но у них разные годы релиза, притом не 1 год разницы, что можно было бы счесть ошибкой, а по 7. Больше похоже на переиздание. Оставлю все же так и не буду трогать."
   ]
  },
  {
   "cell_type": "markdown",
   "metadata": {},
   "source": [
    "По заданию нужно посчитать суммарные продажи во всех регионах"
   ]
  },
  {
   "cell_type": "code",
   "execution_count": 104,
   "metadata": {},
   "outputs": [],
   "source": [
    "data['total_sales'] = data['na_sales'] + data['eu_sales'] + data['jp_sales'] + data['other_sales']"
   ]
  },
  {
   "cell_type": "code",
   "execution_count": 105,
   "metadata": {},
   "outputs": [
    {
     "data": {
      "text/html": [
       "<div>\n",
       "<style scoped>\n",
       "    .dataframe tbody tr th:only-of-type {\n",
       "        vertical-align: middle;\n",
       "    }\n",
       "\n",
       "    .dataframe tbody tr th {\n",
       "        vertical-align: top;\n",
       "    }\n",
       "\n",
       "    .dataframe thead th {\n",
       "        text-align: right;\n",
       "    }\n",
       "</style>\n",
       "<table border=\"1\" class=\"dataframe\">\n",
       "  <thead>\n",
       "    <tr style=\"text-align: right;\">\n",
       "      <th></th>\n",
       "      <th>name</th>\n",
       "      <th>platform</th>\n",
       "      <th>year_of_release</th>\n",
       "      <th>genre</th>\n",
       "      <th>na_sales</th>\n",
       "      <th>eu_sales</th>\n",
       "      <th>jp_sales</th>\n",
       "      <th>other_sales</th>\n",
       "      <th>critic_score</th>\n",
       "      <th>user_score</th>\n",
       "      <th>rating</th>\n",
       "      <th>total_sales</th>\n",
       "    </tr>\n",
       "  </thead>\n",
       "  <tbody>\n",
       "    <tr>\n",
       "      <th>0</th>\n",
       "      <td>Wii Sports</td>\n",
       "      <td>Wii</td>\n",
       "      <td>2006</td>\n",
       "      <td>Sports</td>\n",
       "      <td>41.36</td>\n",
       "      <td>28.96</td>\n",
       "      <td>3.77</td>\n",
       "      <td>8.45</td>\n",
       "      <td>76.0</td>\n",
       "      <td>8.0</td>\n",
       "      <td>E</td>\n",
       "      <td>82.54</td>\n",
       "    </tr>\n",
       "    <tr>\n",
       "      <th>1</th>\n",
       "      <td>Super Mario Bros.</td>\n",
       "      <td>NES</td>\n",
       "      <td>1985</td>\n",
       "      <td>Platform</td>\n",
       "      <td>29.08</td>\n",
       "      <td>3.58</td>\n",
       "      <td>6.81</td>\n",
       "      <td>0.77</td>\n",
       "      <td>NaN</td>\n",
       "      <td>NaN</td>\n",
       "      <td>без рейтинга</td>\n",
       "      <td>40.24</td>\n",
       "    </tr>\n",
       "    <tr>\n",
       "      <th>2</th>\n",
       "      <td>Mario Kart Wii</td>\n",
       "      <td>Wii</td>\n",
       "      <td>2008</td>\n",
       "      <td>Racing</td>\n",
       "      <td>15.68</td>\n",
       "      <td>12.76</td>\n",
       "      <td>3.79</td>\n",
       "      <td>3.29</td>\n",
       "      <td>82.0</td>\n",
       "      <td>8.3</td>\n",
       "      <td>E</td>\n",
       "      <td>35.52</td>\n",
       "    </tr>\n",
       "    <tr>\n",
       "      <th>3</th>\n",
       "      <td>Wii Sports Resort</td>\n",
       "      <td>Wii</td>\n",
       "      <td>2009</td>\n",
       "      <td>Sports</td>\n",
       "      <td>15.61</td>\n",
       "      <td>10.93</td>\n",
       "      <td>3.28</td>\n",
       "      <td>2.95</td>\n",
       "      <td>80.0</td>\n",
       "      <td>8.0</td>\n",
       "      <td>E</td>\n",
       "      <td>32.77</td>\n",
       "    </tr>\n",
       "    <tr>\n",
       "      <th>4</th>\n",
       "      <td>Pokemon Red/Pokemon Blue</td>\n",
       "      <td>GB</td>\n",
       "      <td>1996</td>\n",
       "      <td>Role-Playing</td>\n",
       "      <td>11.27</td>\n",
       "      <td>8.89</td>\n",
       "      <td>10.22</td>\n",
       "      <td>1.00</td>\n",
       "      <td>NaN</td>\n",
       "      <td>NaN</td>\n",
       "      <td>без рейтинга</td>\n",
       "      <td>31.38</td>\n",
       "    </tr>\n",
       "    <tr>\n",
       "      <th>5</th>\n",
       "      <td>Tetris</td>\n",
       "      <td>GB</td>\n",
       "      <td>1989</td>\n",
       "      <td>Puzzle</td>\n",
       "      <td>23.20</td>\n",
       "      <td>2.26</td>\n",
       "      <td>4.22</td>\n",
       "      <td>0.58</td>\n",
       "      <td>NaN</td>\n",
       "      <td>NaN</td>\n",
       "      <td>без рейтинга</td>\n",
       "      <td>30.26</td>\n",
       "    </tr>\n",
       "    <tr>\n",
       "      <th>6</th>\n",
       "      <td>New Super Mario Bros.</td>\n",
       "      <td>DS</td>\n",
       "      <td>2006</td>\n",
       "      <td>Platform</td>\n",
       "      <td>11.28</td>\n",
       "      <td>9.14</td>\n",
       "      <td>6.50</td>\n",
       "      <td>2.88</td>\n",
       "      <td>89.0</td>\n",
       "      <td>8.5</td>\n",
       "      <td>E</td>\n",
       "      <td>29.80</td>\n",
       "    </tr>\n",
       "    <tr>\n",
       "      <th>7</th>\n",
       "      <td>Wii Play</td>\n",
       "      <td>Wii</td>\n",
       "      <td>2006</td>\n",
       "      <td>Misc</td>\n",
       "      <td>13.96</td>\n",
       "      <td>9.18</td>\n",
       "      <td>2.93</td>\n",
       "      <td>2.84</td>\n",
       "      <td>58.0</td>\n",
       "      <td>6.6</td>\n",
       "      <td>E</td>\n",
       "      <td>28.91</td>\n",
       "    </tr>\n",
       "    <tr>\n",
       "      <th>8</th>\n",
       "      <td>New Super Mario Bros. Wii</td>\n",
       "      <td>Wii</td>\n",
       "      <td>2009</td>\n",
       "      <td>Platform</td>\n",
       "      <td>14.44</td>\n",
       "      <td>6.94</td>\n",
       "      <td>4.70</td>\n",
       "      <td>2.24</td>\n",
       "      <td>87.0</td>\n",
       "      <td>8.4</td>\n",
       "      <td>E</td>\n",
       "      <td>28.32</td>\n",
       "    </tr>\n",
       "    <tr>\n",
       "      <th>9</th>\n",
       "      <td>Duck Hunt</td>\n",
       "      <td>NES</td>\n",
       "      <td>1984</td>\n",
       "      <td>Shooter</td>\n",
       "      <td>26.93</td>\n",
       "      <td>0.63</td>\n",
       "      <td>0.28</td>\n",
       "      <td>0.47</td>\n",
       "      <td>NaN</td>\n",
       "      <td>NaN</td>\n",
       "      <td>без рейтинга</td>\n",
       "      <td>28.31</td>\n",
       "    </tr>\n",
       "  </tbody>\n",
       "</table>\n",
       "</div>"
      ],
      "text/plain": [
       "                        name platform  year_of_release         genre  \\\n",
       "0                 Wii Sports      Wii             2006        Sports   \n",
       "1          Super Mario Bros.      NES             1985      Platform   \n",
       "2             Mario Kart Wii      Wii             2008        Racing   \n",
       "3          Wii Sports Resort      Wii             2009        Sports   \n",
       "4   Pokemon Red/Pokemon Blue       GB             1996  Role-Playing   \n",
       "5                     Tetris       GB             1989        Puzzle   \n",
       "6      New Super Mario Bros.       DS             2006      Platform   \n",
       "7                   Wii Play      Wii             2006          Misc   \n",
       "8  New Super Mario Bros. Wii      Wii             2009      Platform   \n",
       "9                  Duck Hunt      NES             1984       Shooter   \n",
       "\n",
       "   na_sales  eu_sales  jp_sales  other_sales  critic_score  user_score  \\\n",
       "0     41.36     28.96      3.77         8.45          76.0         8.0   \n",
       "1     29.08      3.58      6.81         0.77           NaN         NaN   \n",
       "2     15.68     12.76      3.79         3.29          82.0         8.3   \n",
       "3     15.61     10.93      3.28         2.95          80.0         8.0   \n",
       "4     11.27      8.89     10.22         1.00           NaN         NaN   \n",
       "5     23.20      2.26      4.22         0.58           NaN         NaN   \n",
       "6     11.28      9.14      6.50         2.88          89.0         8.5   \n",
       "7     13.96      9.18      2.93         2.84          58.0         6.6   \n",
       "8     14.44      6.94      4.70         2.24          87.0         8.4   \n",
       "9     26.93      0.63      0.28         0.47           NaN         NaN   \n",
       "\n",
       "         rating  total_sales  \n",
       "0             E        82.54  \n",
       "1  без рейтинга        40.24  \n",
       "2             E        35.52  \n",
       "3             E        32.77  \n",
       "4  без рейтинга        31.38  \n",
       "5  без рейтинга        30.26  \n",
       "6             E        29.80  \n",
       "7             E        28.91  \n",
       "8             E        28.32  \n",
       "9  без рейтинга        28.31  "
      ]
     },
     "execution_count": 105,
     "metadata": {},
     "output_type": "execute_result"
    }
   ],
   "source": [
    "data.head(10)"
   ]
  },
  {
   "cell_type": "markdown",
   "metadata": {},
   "source": [
    "Вывод по предобработке: унифицировала столбцы, заменила Tbd на nan оценках пользователей, заменила тип данных году релиза, добавила новый столбец по суммарным продажам."
   ]
  },
  {
   "cell_type": "markdown",
   "metadata": {},
   "source": [
    "# 2. Исследовательский анализ данных"
   ]
  },
  {
   "cell_type": "markdown",
   "metadata": {},
   "source": [
    "*1. Посмотрите, сколько игр выпускалось в разные годы. Важны ли данные за все периоды?*"
   ]
  },
  {
   "cell_type": "code",
   "execution_count": 106,
   "metadata": {},
   "outputs": [
    {
     "data": {
      "text/plain": [
       "Text(0.5, 0, 'Год')"
      ]
     },
     "execution_count": 106,
     "metadata": {},
     "output_type": "execute_result"
    },
    {
     "data": {
      "image/png": "[encoded data removed]",
      "text/plain": [
       "<Figure size 432x288 with 1 Axes>"
      ]
     },
     "metadata": {
      "needs_background": "light"
     },
     "output_type": "display_data"
    }
   ],
   "source": [
    "game_in_year = data['year_of_release'].plot(kind='hist', bins=100).legend()\n",
    "game_in_year.set_title('год релиза')\n",
    "plt.title('Годы релиза игр', fontsize = 12) # заголовок\n",
    "plt.ylabel('Количество игр в год, шт.', fontsize = 8)  # подписываем ось y\n",
    "plt.xlabel('Год', fontsize = 8) # подписываем ось x"
   ]
  },
  {
   "cell_type": "markdown",
   "metadata": {},
   "source": [
    "До 90х игр было очень мало, но с 1994 г. начинается устойчивый рос количества выпускаемых игр. Вероятно, на это повлияло развитие компьютерной техники, а также приставок. Такой рост продолжался до 2008 г., продержался на том же уровне в 2009 г., и с 2010 начался спад, что в свою очередь, вероятно, связано с развитием смартфонов и индустрии мобильных игр.\n",
    "Таким образом, отвечая на поставленный вопрос, думаю, что количество игр до 1990 г. можно считать нерелевантным и эти данные не очень важны."
   ]
  },
  {
   "cell_type": "markdown",
   "metadata": {},
   "source": [
    "*2. Посмотрите, как менялись продажи по платформам. Выберите платформы с наибольшими суммарными продажами и постройте распределение по годам. За какой характерный срок появляются новые и исчезают старые платформы?*"
   ]
  },
  {
   "cell_type": "code",
   "execution_count": 107,
   "metadata": {},
   "outputs": [],
   "source": [
    "data_cut = data[data['year_of_release']>=1994]"
   ]
  },
  {
   "cell_type": "markdown",
   "metadata": {},
   "source": [
    "Тк в предыдущем пункте было определено, что рост игр начался с 1994 г., я подумала, что стоит выкинуть предыдущие годы."
   ]
  },
  {
   "cell_type": "code",
   "execution_count": 108,
   "metadata": {},
   "outputs": [],
   "source": [
    "#посмотрим топ платформ по продажам (выведем в порядке уменьшения)\n",
    "most_sum_sale = data_cut.pivot_table(\n",
    "index='platform',\n",
    "values=['total_sales'],\n",
    "aggfunc={'total_sales':'sum'}\n",
    ").sort_values(by='total_sales',ascending=False)"
   ]
  },
  {
   "cell_type": "code",
   "execution_count": 109,
   "metadata": {},
   "outputs": [
    {
     "data": {
      "text/html": [
       "<div>\n",
       "<style scoped>\n",
       "    .dataframe tbody tr th:only-of-type {\n",
       "        vertical-align: middle;\n",
       "    }\n",
       "\n",
       "    .dataframe tbody tr th {\n",
       "        vertical-align: top;\n",
       "    }\n",
       "\n",
       "    .dataframe thead th {\n",
       "        text-align: right;\n",
       "    }\n",
       "</style>\n",
       "<table border=\"1\" class=\"dataframe\">\n",
       "  <thead>\n",
       "    <tr style=\"text-align: right;\">\n",
       "      <th></th>\n",
       "      <th>total_sales</th>\n",
       "    </tr>\n",
       "    <tr>\n",
       "      <th>platform</th>\n",
       "      <th></th>\n",
       "    </tr>\n",
       "  </thead>\n",
       "  <tbody>\n",
       "    <tr>\n",
       "      <th>PS2</th>\n",
       "      <td>1233.56</td>\n",
       "    </tr>\n",
       "    <tr>\n",
       "      <th>X360</th>\n",
       "      <td>961.24</td>\n",
       "    </tr>\n",
       "    <tr>\n",
       "      <th>PS3</th>\n",
       "      <td>931.34</td>\n",
       "    </tr>\n",
       "    <tr>\n",
       "      <th>Wii</th>\n",
       "      <td>891.18</td>\n",
       "    </tr>\n",
       "    <tr>\n",
       "      <th>DS</th>\n",
       "      <td>802.76</td>\n",
       "    </tr>\n",
       "    <tr>\n",
       "      <th>PS</th>\n",
       "      <td>727.58</td>\n",
       "    </tr>\n",
       "    <tr>\n",
       "      <th>PS4</th>\n",
       "      <td>314.14</td>\n",
       "    </tr>\n",
       "    <tr>\n",
       "      <th>GBA</th>\n",
       "      <td>312.88</td>\n",
       "    </tr>\n",
       "    <tr>\n",
       "      <th>PSP</th>\n",
       "      <td>289.53</td>\n",
       "    </tr>\n",
       "    <tr>\n",
       "      <th>3DS</th>\n",
       "      <td>257.81</td>\n",
       "    </tr>\n",
       "    <tr>\n",
       "      <th>PC</th>\n",
       "      <td>252.66</td>\n",
       "    </tr>\n",
       "    <tr>\n",
       "      <th>XB</th>\n",
       "      <td>251.57</td>\n",
       "    </tr>\n",
       "    <tr>\n",
       "      <th>N64</th>\n",
       "      <td>218.01</td>\n",
       "    </tr>\n",
       "    <tr>\n",
       "      <th>GC</th>\n",
       "      <td>196.73</td>\n",
       "    </tr>\n",
       "    <tr>\n",
       "      <th>XOne</th>\n",
       "      <td>159.32</td>\n",
       "    </tr>\n",
       "    <tr>\n",
       "      <th>GB</th>\n",
       "      <td>152.08</td>\n",
       "    </tr>\n",
       "    <tr>\n",
       "      <th>SNES</th>\n",
       "      <td>84.67</td>\n",
       "    </tr>\n",
       "    <tr>\n",
       "      <th>WiiU</th>\n",
       "      <td>82.19</td>\n",
       "    </tr>\n",
       "    <tr>\n",
       "      <th>PSV</th>\n",
       "      <td>53.81</td>\n",
       "    </tr>\n",
       "    <tr>\n",
       "      <th>SAT</th>\n",
       "      <td>33.59</td>\n",
       "    </tr>\n",
       "    <tr>\n",
       "      <th>DC</th>\n",
       "      <td>15.95</td>\n",
       "    </tr>\n",
       "    <tr>\n",
       "      <th>GEN</th>\n",
       "      <td>8.13</td>\n",
       "    </tr>\n",
       "    <tr>\n",
       "      <th>WS</th>\n",
       "      <td>1.42</td>\n",
       "    </tr>\n",
       "    <tr>\n",
       "      <th>NG</th>\n",
       "      <td>1.23</td>\n",
       "    </tr>\n",
       "    <tr>\n",
       "      <th>SCD</th>\n",
       "      <td>0.36</td>\n",
       "    </tr>\n",
       "    <tr>\n",
       "      <th>TG16</th>\n",
       "      <td>0.16</td>\n",
       "    </tr>\n",
       "    <tr>\n",
       "      <th>NES</th>\n",
       "      <td>0.11</td>\n",
       "    </tr>\n",
       "    <tr>\n",
       "      <th>3DO</th>\n",
       "      <td>0.10</td>\n",
       "    </tr>\n",
       "    <tr>\n",
       "      <th>PCFX</th>\n",
       "      <td>0.03</td>\n",
       "    </tr>\n",
       "  </tbody>\n",
       "</table>\n",
       "</div>"
      ],
      "text/plain": [
       "          total_sales\n",
       "platform             \n",
       "PS2           1233.56\n",
       "X360           961.24\n",
       "PS3            931.34\n",
       "Wii            891.18\n",
       "DS             802.76\n",
       "PS             727.58\n",
       "PS4            314.14\n",
       "GBA            312.88\n",
       "PSP            289.53\n",
       "3DS            257.81\n",
       "PC             252.66\n",
       "XB             251.57\n",
       "N64            218.01\n",
       "GC             196.73\n",
       "XOne           159.32\n",
       "GB             152.08\n",
       "SNES            84.67\n",
       "WiiU            82.19\n",
       "PSV             53.81\n",
       "SAT             33.59\n",
       "DC              15.95\n",
       "GEN              8.13\n",
       "WS               1.42\n",
       "NG               1.23\n",
       "SCD              0.36\n",
       "TG16             0.16\n",
       "NES              0.11\n",
       "3DO              0.10\n",
       "PCFX             0.03"
      ]
     },
     "execution_count": 109,
     "metadata": {},
     "output_type": "execute_result"
    }
   ],
   "source": [
    "most_sum_sale"
   ]
  },
  {
   "cell_type": "markdown",
   "metadata": {},
   "source": [
    "Посмотрим эту табличку на графике"
   ]
  },
  {
   "cell_type": "code",
   "execution_count": 110,
   "metadata": {},
   "outputs": [
    {
     "data": {
      "text/plain": [
       "Text(0, 0.5, 'Продажи')"
      ]
     },
     "execution_count": 110,
     "metadata": {},
     "output_type": "execute_result"
    },
    {
     "data": {
      "image/png": "[encoded data removed]",
      "text/plain": [
       "<Figure size 936x288 with 1 Axes>"
      ]
     },
     "metadata": {
      "needs_background": "light"
     },
     "output_type": "display_data"
    }
   ],
   "source": [
    "most_sum_sale = data_cut.pivot_table(index='platform', values='total_sales', aggfunc='sum').sort_values(\n",
    "    by='total_sales', ascending=False)\n",
    "\n",
    "plt.figure(figsize=(13,4))\n",
    "sns.barplot(x=most_sum_sale.index,y=most_sum_sale['total_sales'])\n",
    "plt.title(\"Продажи по платформам\")\n",
    "plt.xlabel(\"Платформа\")\n",
    "plt.ylabel(\"Продажи\")"
   ]
  },
  {
   "cell_type": "markdown",
   "metadata": {},
   "source": [
    "Собственно, график подтверждает табличку и также показывает, что самые популярные (читай \"продаваемые\") платформы - PS2, X360, PS3, Wii, DS\tи PS. Конечно, обычно топ выводится кратным 5, однако на данном графике так явно напрашивается 6, что я решила оставить топ-6.\t"
   ]
  },
  {
   "cell_type": "markdown",
   "metadata": {},
   "source": [
    "Посмотрим срок службы платформ из топ-6"
   ]
  },
  {
   "cell_type": "code",
   "execution_count": 111,
   "metadata": {},
   "outputs": [
    {
     "data": {
      "text/plain": [
       "Text(0, 0.5, 'platform')"
      ]
     },
     "execution_count": 111,
     "metadata": {},
     "output_type": "execute_result"
    },
    {
     "data": {
      "image/png": "[encoded data removed]",
      "text/plain": [
       "<Figure size 432x288 with 1 Axes>"
      ]
     },
     "metadata": {
      "needs_background": "light"
     },
     "output_type": "display_data"
    }
   ],
   "source": [
    "data_cut.loc[data_cut['platform'] == 'PS2','year_of_release'].hist(bins=10, alpha=0.6, color='red', label='PS2', density=True)\n",
    "data_cut.loc[data_cut['platform'] == 'X360','year_of_release'].hist(bins=10, alpha=0.6, color='blue', label='X360', density=True)\n",
    "data_cut.loc[data_cut['platform'] == 'PS3','year_of_release'].hist(bins=10, alpha=0.6, color='yellow', label='PS3', density=True)\n",
    "data_cut.loc[data_cut['platform'] == 'Wii','year_of_release'].hist(bins=10, alpha=0.6, color='green', label='Wii', density=True)\n",
    "data_cut.loc[data_cut['platform'] == 'DS','year_of_release'].hist(bins=10, alpha=0.6, color='purple', label='DS', density=True)\n",
    "data_cut.loc[data_cut['platform'] == 'PS','year_of_release'].hist(bins=10, alpha=0.6, color='orange', label='PS', density=True)\n",
    "plt.legend(bbox_to_anchor=(1, 0.6))\n",
    "\n",
    "plt.xlabel('year_of_release')\n",
    "plt.ylabel('platform')"
   ]
  },
  {
   "cell_type": "markdown",
   "metadata": {},
   "source": [
    "Срок жизни платформ:\n",
    "\n",
    "PS2 - 2000-2011 - 11 лет;\n",
    "X360 - 2005-2016 - 11 лет;\n",
    "PS3 - 2006-2016 - 10 лет;\n",
    "Wii - 2006-2016 - 10 лет;\n",
    "DS - 2004-2013 - 9 лет;\n",
    "PS - 1994-2003 - 9 лет.\n",
    "\n",
    "Средний срок жизни платформ из топ-6 равен 10 годам. \n",
    "Предположу, что это и можно считать характерным сроком, за который появляются новые и исчезают старые платформы."
   ]
  },
  {
   "cell_type": "markdown",
   "metadata": {},
   "source": [
    "*3.Какие платформы лидируют по продажам, растут или падают? Выберите несколько потенциально прибыльных платформ.*"
   ]
  },
  {
   "cell_type": "markdown",
   "metadata": {},
   "source": [
    "Для начала необходимо определить актуальный период. Вроде логично предположить, что раз срок жизни платформы равен 10 годам, то последние 10 лет, с 2006 г., и можно считать актуальным периодом. Однако вспоминая, что в 2008-2009 гг. был пик по количеству выпускаемых игр, и понимая, что в 2017 г. подобные значения достигнуты не будут, будем в принципе рассматривать период после 2010 г., когда начался резкий спад. При этом, как стало известно, дл игровой индустрии период более 4х лет - это много. И если нам нужен прогноз на 2017 г., то за вычетом 4х лет, это 2013 г., однако с учетом того, что некоторые платформы закончились в 2013, возьмем период с 2014 г."
   ]
  },
  {
   "cell_type": "code",
   "execution_count": 112,
   "metadata": {},
   "outputs": [],
   "source": [
    "#создам новый датафрейм с совсем-совсем акатуальными данными\n",
    "data_cut_2014 = data_cut[data_cut['year_of_release'] > 2014]"
   ]
  },
  {
   "cell_type": "code",
   "execution_count": 113,
   "metadata": {},
   "outputs": [
    {
     "data": {
      "text/html": [
       "<div>\n",
       "<style scoped>\n",
       "    .dataframe tbody tr th:only-of-type {\n",
       "        vertical-align: middle;\n",
       "    }\n",
       "\n",
       "    .dataframe tbody tr th {\n",
       "        vertical-align: top;\n",
       "    }\n",
       "\n",
       "    .dataframe thead th {\n",
       "        text-align: right;\n",
       "    }\n",
       "</style>\n",
       "<table border=\"1\" class=\"dataframe\">\n",
       "  <thead>\n",
       "    <tr style=\"text-align: right;\">\n",
       "      <th></th>\n",
       "      <th>platform</th>\n",
       "      <th>total_sales</th>\n",
       "    </tr>\n",
       "  </thead>\n",
       "  <tbody>\n",
       "    <tr>\n",
       "      <th>3</th>\n",
       "      <td>PS4</td>\n",
       "      <td>188.15</td>\n",
       "    </tr>\n",
       "    <tr>\n",
       "      <th>9</th>\n",
       "      <td>XOne</td>\n",
       "      <td>86.29</td>\n",
       "    </tr>\n",
       "    <tr>\n",
       "      <th>0</th>\n",
       "      <td>3DS</td>\n",
       "      <td>42.92</td>\n",
       "    </tr>\n",
       "    <tr>\n",
       "      <th>7</th>\n",
       "      <td>WiiU</td>\n",
       "      <td>20.95</td>\n",
       "    </tr>\n",
       "    <tr>\n",
       "      <th>2</th>\n",
       "      <td>PS3</td>\n",
       "      <td>20.42</td>\n",
       "    </tr>\n",
       "    <tr>\n",
       "      <th>1</th>\n",
       "      <td>PC</td>\n",
       "      <td>13.77</td>\n",
       "    </tr>\n",
       "    <tr>\n",
       "      <th>8</th>\n",
       "      <td>X360</td>\n",
       "      <td>13.48</td>\n",
       "    </tr>\n",
       "    <tr>\n",
       "      <th>5</th>\n",
       "      <td>PSV</td>\n",
       "      <td>10.50</td>\n",
       "    </tr>\n",
       "    <tr>\n",
       "      <th>6</th>\n",
       "      <td>Wii</td>\n",
       "      <td>1.32</td>\n",
       "    </tr>\n",
       "    <tr>\n",
       "      <th>4</th>\n",
       "      <td>PSP</td>\n",
       "      <td>0.12</td>\n",
       "    </tr>\n",
       "  </tbody>\n",
       "</table>\n",
       "</div>"
      ],
      "text/plain": [
       "  platform  total_sales\n",
       "3      PS4       188.15\n",
       "9     XOne        86.29\n",
       "0      3DS        42.92\n",
       "7     WiiU        20.95\n",
       "2      PS3        20.42\n",
       "1       PC        13.77\n",
       "8     X360        13.48\n",
       "5      PSV        10.50\n",
       "6      Wii         1.32\n",
       "4      PSP         0.12"
      ]
     },
     "execution_count": 113,
     "metadata": {},
     "output_type": "execute_result"
    }
   ],
   "source": [
    "#посмотрим продажи по платформам\n",
    "most_sum_sale = data_cut_2014.groupby('platform').agg({'total_sales': 'sum'}).reset_index()\n",
    "most_sum_sale.sort_values(by='total_sales', ascending=False).head(10)"
   ]
  },
  {
   "cell_type": "markdown",
   "metadata": {},
   "source": [
    "PS4, XOne, 3DS, WiiU, PS3 - наиболее продаваемые платформы после 2014 г. Падают продажи у Wii и PSP."
   ]
  },
  {
   "cell_type": "markdown",
   "metadata": {},
   "source": [
    "Попробуем выбрать из них наиболее потенциально прибыльные к 2017 г."
   ]
  },
  {
   "cell_type": "code",
   "execution_count": 114,
   "metadata": {},
   "outputs": [
    {
     "data": {
      "text/plain": [
       "Text(0, 0.5, 'PS4')"
      ]
     },
     "execution_count": 114,
     "metadata": {},
     "output_type": "execute_result"
    },
    {
     "data": {
      "image/png": "[encoded data removed]",
      "text/plain": [
       "<Figure size 432x288 with 1 Axes>"
      ]
     },
     "metadata": {
      "needs_background": "light"
     },
     "output_type": "display_data"
    }
   ],
   "source": [
    "#Хочу посмотреть, как выглядят на графике актуальные с 2014 года платформы\n",
    "data_cut_2014.loc[data_cut_2014[\"platform\"] == \"PS4\", \"year_of_release\"].hist(\n",
    "    bins=5, alpha=0.6, label=\"PS4\", density=True\n",
    ")\n",
    "plt.xlabel(\"year_of_release\")\n",
    "plt.ylabel(\"PS4\")"
   ]
  },
  {
   "cell_type": "code",
   "execution_count": 115,
   "metadata": {},
   "outputs": [
    {
     "data": {
      "text/plain": [
       "Text(0, 0.5, 'XOne')"
      ]
     },
     "execution_count": 115,
     "metadata": {},
     "output_type": "execute_result"
    },
    {
     "data": {
      "image/png": "[encoded data removed]",
      "text/plain": [
       "<Figure size 432x288 with 1 Axes>"
      ]
     },
     "metadata": {
      "needs_background": "light"
     },
     "output_type": "display_data"
    }
   ],
   "source": [
    "data_cut_2014.loc[data_cut_2014[\"platform\"] == \"XOne\", \"year_of_release\"].hist(\n",
    "    bins=5, alpha=0.6, label=\"XOne\", density=True\n",
    ")\n",
    "plt.xlabel(\"year_of_release\")\n",
    "plt.ylabel(\"XOne\")"
   ]
  },
  {
   "cell_type": "code",
   "execution_count": 116,
   "metadata": {},
   "outputs": [
    {
     "data": {
      "text/plain": [
       "Text(0, 0.5, '3DS')"
      ]
     },
     "execution_count": 116,
     "metadata": {},
     "output_type": "execute_result"
    },
    {
     "data": {
      "image/png": "[encoded data removed]",
      "text/plain": [
       "<Figure size 432x288 with 1 Axes>"
      ]
     },
     "metadata": {
      "needs_background": "light"
     },
     "output_type": "display_data"
    }
   ],
   "source": [
    "data_cut_2014.loc[data_cut_2014[\"platform\"] == \"3DS\", \"year_of_release\"].hist(\n",
    "    bins=5, alpha=0.6, label=\"3DS\", density=True\n",
    ")\n",
    "plt.xlabel(\"year_of_release\")\n",
    "plt.ylabel(\"3DS\")"
   ]
  },
  {
   "cell_type": "code",
   "execution_count": 117,
   "metadata": {},
   "outputs": [
    {
     "data": {
      "text/plain": [
       "Text(0, 0.5, 'WiiU')"
      ]
     },
     "execution_count": 117,
     "metadata": {},
     "output_type": "execute_result"
    },
    {
     "data": {
      "image/png": "[encoded data removed]",
      "text/plain": [
       "<Figure size 432x288 with 1 Axes>"
      ]
     },
     "metadata": {
      "needs_background": "light"
     },
     "output_type": "display_data"
    }
   ],
   "source": [
    "data_cut_2014.loc[data_cut_2014[\"platform\"] == \"WiiU\", \"year_of_release\"].hist(\n",
    "    bins=5, alpha=0.6, label=\"WiiU\", density=True\n",
    ")\n",
    "plt.xlabel(\"year_of_release\")\n",
    "plt.ylabel(\"WiiU\")"
   ]
  },
  {
   "cell_type": "code",
   "execution_count": 118,
   "metadata": {},
   "outputs": [
    {
     "data": {
      "text/plain": [
       "Text(0, 0.5, 'PS3')"
      ]
     },
     "execution_count": 118,
     "metadata": {},
     "output_type": "execute_result"
    },
    {
     "data": {
      "image/png": "[encoded data removed]",
      "text/plain": [
       "<Figure size 432x288 with 1 Axes>"
      ]
     },
     "metadata": {
      "needs_background": "light"
     },
     "output_type": "display_data"
    }
   ],
   "source": [
    "data_cut_2014.loc[data_cut_2014[\"platform\"] == \"PS3\", \"year_of_release\"].hist(\n",
    "    bins=5, alpha=0.6, label=\"PS3\", density=True\n",
    ")\n",
    "plt.xlabel(\"year_of_release\")\n",
    "plt.ylabel(\"PS3\")"
   ]
  },
  {
   "cell_type": "markdown",
   "metadata": {},
   "source": [
    "Согласно эти графикам, у платформ  PS4 и XOne растет спрос, у остальны - падает."
   ]
  },
  {
   "cell_type": "markdown",
   "metadata": {},
   "source": [
    "*Постройте график «ящик с усами» по глобальным продажам игр в разбивке по платформам. Опишите результат.*"
   ]
  },
  {
   "cell_type": "code",
   "execution_count": 119,
   "metadata": {},
   "outputs": [
    {
     "data": {
      "image/png": "[encoded data removed]",
      "text/plain": [
       "<Figure size 720x720 with 1 Axes>"
      ]
     },
     "metadata": {
      "needs_background": "light"
     },
     "output_type": "display_data"
    }
   ],
   "source": [
    "plot = data_cut_2014.boxplot('total_sales',by='platform', figsize=(10,10)).set_ylim(0, 10)"
   ]
  },
  {
   "cell_type": "code",
   "execution_count": 120,
   "metadata": {},
   "outputs": [
    {
     "data": {
      "image/png": "[encoded data removed]",
      "text/plain": [
       "<Figure size 720x720 with 1 Axes>"
      ]
     },
     "metadata": {
      "needs_background": "light"
     },
     "output_type": "display_data"
    }
   ],
   "source": [
    "plot = data_cut_2014.boxplot('total_sales',by='platform', figsize=(10,10)).set_ylim(0, 0.85)"
   ]
  },
  {
   "cell_type": "markdown",
   "metadata": {},
   "source": [
    "На диаграмме выделяются 5 платформ по максимальным показателям: WiiU, Wii, XOne, PS4, X360."
   ]
  },
  {
   "cell_type": "markdown",
   "metadata": {},
   "source": [
    "*Посмотрите, как влияют на продажи внутри одной популярной платформы отзывы пользователей и критиков. Постройте диаграмму рассеяния и посчитайте корреляцию между отзывами и продажами. Сформулируйте выводы.*"
   ]
  },
  {
   "cell_type": "markdown",
   "metadata": {},
   "source": [
    "Для рассмотрения выбрана платформа PS4, как та, у которой предположительно будет расти спрос и дальше и которая на слуху."
   ]
  },
  {
   "cell_type": "code",
   "execution_count": 121,
   "metadata": {},
   "outputs": [
    {
     "data": {
      "image/png": "[encoded data removed]",
      "text/plain": [
       "<Figure size 576x576 with 1 Axes>"
      ]
     },
     "metadata": {
      "needs_background": "light"
     },
     "output_type": "display_data"
    }
   ],
   "source": [
    "#посмотрим отзывы пользователей\n",
    "data_cut_2014[data_cut_2014[\"platform\"] == \"PS4\"].plot(\n",
    "    x=\"user_score\",\n",
    "    y=\"total_sales\",\n",
    "    kind=\"scatter\",\n",
    "    alpha=0.3,\n",
    "    figsize=(8, 8),\n",
    "    grid=True,\n",
    ")\n",
    "plt.show()"
   ]
  },
  {
   "cell_type": "code",
   "execution_count": 122,
   "metadata": {},
   "outputs": [
    {
     "data": {
      "image/png": "[encoded data removed]",
      "text/plain": [
       "<Figure size 576x576 with 1 Axes>"
      ]
     },
     "metadata": {
      "needs_background": "light"
     },
     "output_type": "display_data"
    }
   ],
   "source": [
    "#и отзывы критиков\n",
    "data_cut_2014[data_cut_2014[\"platform\"] == \"PS4\"].plot(\n",
    "    x=\"critic_score\",\n",
    "    y=\"total_sales\",\n",
    "    kind=\"scatter\",\n",
    "    alpha=0.3,\n",
    "    figsize=(8, 8),\n",
    "    grid=True,\n",
    ")\n",
    "plt.show()"
   ]
  },
  {
   "cell_type": "code",
   "execution_count": 123,
   "metadata": {},
   "outputs": [
    {
     "data": {
      "text/plain": [
       "-0.05973845712638215"
      ]
     },
     "execution_count": 123,
     "metadata": {},
     "output_type": "execute_result"
    }
   ],
   "source": [
    "# вычислим корреляционную матрицу\n",
    "ps4_sales = data_cut_2014[data_cut_2014['platform']=='PS4']\n",
    "ps4_sales['user_score'].corr(ps4_sales['total_sales'])"
   ]
  },
  {
   "cell_type": "markdown",
   "metadata": {},
   "source": [
    "Корреляция слабая отрицательная"
   ]
  },
  {
   "cell_type": "code",
   "execution_count": 124,
   "metadata": {},
   "outputs": [
    {
     "data": {
      "text/plain": [
       "0.3928485555130601"
      ]
     },
     "execution_count": 124,
     "metadata": {},
     "output_type": "execute_result"
    }
   ],
   "source": [
    "ps4_sales = data_cut_2014[data_cut_2014['platform']=='PS4']\n",
    "ps4_sales['critic_score'].corr(ps4_sales['total_sales'])"
   ]
  },
  {
   "cell_type": "markdown",
   "metadata": {},
   "source": [
    "Корреляция слабая положительная"
   ]
  },
  {
   "cell_type": "markdown",
   "metadata": {},
   "source": [
    "Большую часть составляют высокие оценки. По данным диаграммы рассеивания по отзывам покупателей слабо отрицательная корреляция и слабо положительная корреляция по отзывам критиков. Предположу, что оценки других пользователей неважны совсем, а оценки критиков имеют некоторый вес для юзеров. "
   ]
  },
  {
   "cell_type": "markdown",
   "metadata": {},
   "source": [
    "*Соотнесите выводы с продажами игр на других платформах.*"
   ]
  },
  {
   "cell_type": "code",
   "execution_count": 125,
   "metadata": {},
   "outputs": [
    {
     "data": {
      "image/png": "[encoded data removed]",
      "text/plain": [
       "<Figure size 576x576 with 1 Axes>"
      ]
     },
     "metadata": {
      "needs_background": "light"
     },
     "output_type": "display_data"
    }
   ],
   "source": [
    "#посмотрим по другим популярным платформам:WiiU\n",
    "#отзывы пользователей\n",
    "data_cut_2014[data_cut_2014[\"platform\"] == \"WiiU\"].plot(\n",
    "    x=\"user_score\",\n",
    "    y=\"total_sales\",\n",
    "    kind=\"scatter\",\n",
    "    alpha=0.3,\n",
    "    figsize=(8, 8),\n",
    "    grid=True,\n",
    ")\n",
    "plt.show()"
   ]
  },
  {
   "cell_type": "code",
   "execution_count": 126,
   "metadata": {},
   "outputs": [
    {
     "data": {
      "image/png": "[encoded data removed]",
      "text/plain": [
       "<Figure size 576x576 with 1 Axes>"
      ]
     },
     "metadata": {
      "needs_background": "light"
     },
     "output_type": "display_data"
    }
   ],
   "source": [
    "#отзывы критиков\n",
    "data_cut_2014[data_cut_2014[\"platform\"] == \"WiiU\"].plot(\n",
    "    x=\"critic_score\",\n",
    "    y=\"total_sales\",\n",
    "    kind=\"scatter\",\n",
    "    alpha=0.3,\n",
    "    figsize=(8, 8),\n",
    "    grid=True,\n",
    ")\n",
    "plt.show()"
   ]
  },
  {
   "cell_type": "code",
   "execution_count": 127,
   "metadata": {},
   "outputs": [
    {
     "data": {
      "text/plain": [
       "0.3635185724809445"
      ]
     },
     "execution_count": 127,
     "metadata": {},
     "output_type": "execute_result"
    }
   ],
   "source": [
    "# вычислим корреляционную матрицу\n",
    "wiiu_sales = data_cut_2014[data_cut_2014['platform']=='WiiU']\n",
    "wiiu_sales['user_score'].corr(wiiu_sales['total_sales'])"
   ]
  },
  {
   "cell_type": "code",
   "execution_count": 128,
   "metadata": {},
   "outputs": [
    {
     "data": {
      "text/plain": [
       "0.317045711769622"
      ]
     },
     "execution_count": 128,
     "metadata": {},
     "output_type": "execute_result"
    }
   ],
   "source": [
    "wiiu_sales = data_cut_2014[data_cut_2014['platform']=='WiiU']\n",
    "wiiu_sales['critic_score'].corr(wiiu_sales['total_sales'])"
   ]
  },
  {
   "cell_type": "code",
   "execution_count": 129,
   "metadata": {},
   "outputs": [
    {
     "data": {
      "image/png": "[encoded data removed]",
      "text/plain": [
       "<Figure size 576x576 with 1 Axes>"
      ]
     },
     "metadata": {
      "needs_background": "light"
     },
     "output_type": "display_data"
    }
   ],
   "source": [
    "#и XOne\n",
    "#отзывы пользователей\n",
    "data_cut_2014[data_cut_2014[\"platform\"] == \"XOne\"].plot(\n",
    "    x=\"user_score\",\n",
    "    y=\"total_sales\",\n",
    "    kind=\"scatter\",\n",
    "    alpha=0.3,\n",
    "    figsize=(8, 8),\n",
    "    grid=True,\n",
    ")\n",
    "plt.show()"
   ]
  },
  {
   "cell_type": "code",
   "execution_count": 130,
   "metadata": {},
   "outputs": [
    {
     "data": {
      "image/png": "[encoded data removed]",
      "text/plain": [
       "<Figure size 576x576 with 1 Axes>"
      ]
     },
     "metadata": {
      "needs_background": "light"
     },
     "output_type": "display_data"
    }
   ],
   "source": [
    "#отзывы критиков\n",
    "data_cut_2014[data_cut_2014[\"platform\"] == \"XOne\"].plot(\n",
    "    x=\"critic_score\",\n",
    "    y=\"total_sales\",\n",
    "    kind=\"scatter\",\n",
    "    alpha=0.3,\n",
    "    figsize=(8, 8),\n",
    "    grid=True,\n",
    ")\n",
    "plt.show()"
   ]
  },
  {
   "cell_type": "code",
   "execution_count": 131,
   "metadata": {},
   "outputs": [
    {
     "data": {
      "text/plain": [
       "-0.04146733387366271"
      ]
     },
     "execution_count": 131,
     "metadata": {},
     "output_type": "execute_result"
    }
   ],
   "source": [
    "# вычислим корреляционную матрицу\n",
    "xone_sales = data_cut_2014[data_cut_2014['platform']=='XOne']\n",
    "xone_sales['user_score'].corr(xone_sales['total_sales'])"
   ]
  },
  {
   "cell_type": "code",
   "execution_count": 132,
   "metadata": {},
   "outputs": [
    {
     "data": {
      "text/plain": [
       "0.43088874582136805"
      ]
     },
     "execution_count": 132,
     "metadata": {},
     "output_type": "execute_result"
    }
   ],
   "source": [
    "xone_sales = data_cut_2014[data_cut_2014['platform']=='XOne']\n",
    "xone_sales['critic_score'].corr(xone_sales['total_sales'])"
   ]
  },
  {
   "cell_type": "markdown",
   "metadata": {},
   "source": [
    "В целом, для платформы XOne по отзывам покупателей слабо отрицательная корреляция и слабо положительная корреляция по отзывам критиков, что совпадает с PS4, то есть оценки других пользователей неважны совсем, а оценки критиков имеют некоторый вес для юзеров. Однако для платформы WiiU обе корреляции слабо положительные, получается, некоторое значение все же имеют. Предположу, что это может быть связано с популярностью и известностью платформ, и люди просто их хотят несмотря ни на что, а с менее известными есть сомнения."
   ]
  },
  {
   "cell_type": "code",
   "execution_count": 133,
   "metadata": {},
   "outputs": [
    {
     "data": {
      "text/html": [
       "<div>\n",
       "<style scoped>\n",
       "    .dataframe tbody tr th:only-of-type {\n",
       "        vertical-align: middle;\n",
       "    }\n",
       "\n",
       "    .dataframe tbody tr th {\n",
       "        vertical-align: top;\n",
       "    }\n",
       "\n",
       "    .dataframe thead th {\n",
       "        text-align: right;\n",
       "    }\n",
       "</style>\n",
       "<table border=\"1\" class=\"dataframe\">\n",
       "  <thead>\n",
       "    <tr style=\"text-align: right;\">\n",
       "      <th></th>\n",
       "      <th>count</th>\n",
       "      <th>mean</th>\n",
       "      <th>std</th>\n",
       "      <th>min</th>\n",
       "      <th>25%</th>\n",
       "      <th>50%</th>\n",
       "      <th>75%</th>\n",
       "      <th>max</th>\n",
       "    </tr>\n",
       "    <tr>\n",
       "      <th>platform</th>\n",
       "      <th></th>\n",
       "      <th></th>\n",
       "      <th></th>\n",
       "      <th></th>\n",
       "      <th></th>\n",
       "      <th></th>\n",
       "      <th></th>\n",
       "      <th></th>\n",
       "    </tr>\n",
       "  </thead>\n",
       "  <tbody>\n",
       "    <tr>\n",
       "      <th>3DS</th>\n",
       "      <td>132.0</td>\n",
       "      <td>0.325152</td>\n",
       "      <td>0.798620</td>\n",
       "      <td>0.01</td>\n",
       "      <td>0.030</td>\n",
       "      <td>0.090</td>\n",
       "      <td>0.2325</td>\n",
       "      <td>7.14</td>\n",
       "    </tr>\n",
       "    <tr>\n",
       "      <th>PC</th>\n",
       "      <td>104.0</td>\n",
       "      <td>0.132404</td>\n",
       "      <td>0.209449</td>\n",
       "      <td>0.01</td>\n",
       "      <td>0.020</td>\n",
       "      <td>0.050</td>\n",
       "      <td>0.1425</td>\n",
       "      <td>1.28</td>\n",
       "    </tr>\n",
       "    <tr>\n",
       "      <th>PS3</th>\n",
       "      <td>111.0</td>\n",
       "      <td>0.183964</td>\n",
       "      <td>0.342696</td>\n",
       "      <td>0.01</td>\n",
       "      <td>0.020</td>\n",
       "      <td>0.060</td>\n",
       "      <td>0.1600</td>\n",
       "      <td>2.70</td>\n",
       "    </tr>\n",
       "    <tr>\n",
       "      <th>PS4</th>\n",
       "      <td>301.0</td>\n",
       "      <td>0.625083</td>\n",
       "      <td>1.457063</td>\n",
       "      <td>0.01</td>\n",
       "      <td>0.050</td>\n",
       "      <td>0.120</td>\n",
       "      <td>0.4200</td>\n",
       "      <td>14.63</td>\n",
       "    </tr>\n",
       "    <tr>\n",
       "      <th>PSP</th>\n",
       "      <td>3.0</td>\n",
       "      <td>0.040000</td>\n",
       "      <td>0.034641</td>\n",
       "      <td>0.02</td>\n",
       "      <td>0.020</td>\n",
       "      <td>0.020</td>\n",
       "      <td>0.0500</td>\n",
       "      <td>0.08</td>\n",
       "    </tr>\n",
       "    <tr>\n",
       "      <th>PSV</th>\n",
       "      <td>195.0</td>\n",
       "      <td>0.053846</td>\n",
       "      <td>0.063669</td>\n",
       "      <td>0.01</td>\n",
       "      <td>0.020</td>\n",
       "      <td>0.030</td>\n",
       "      <td>0.0600</td>\n",
       "      <td>0.41</td>\n",
       "    </tr>\n",
       "    <tr>\n",
       "      <th>Wii</th>\n",
       "      <td>5.0</td>\n",
       "      <td>0.264000</td>\n",
       "      <td>0.390487</td>\n",
       "      <td>0.01</td>\n",
       "      <td>0.030</td>\n",
       "      <td>0.150</td>\n",
       "      <td>0.1800</td>\n",
       "      <td>0.95</td>\n",
       "    </tr>\n",
       "    <tr>\n",
       "      <th>WiiU</th>\n",
       "      <td>42.0</td>\n",
       "      <td>0.498810</td>\n",
       "      <td>0.850240</td>\n",
       "      <td>0.01</td>\n",
       "      <td>0.050</td>\n",
       "      <td>0.215</td>\n",
       "      <td>0.5175</td>\n",
       "      <td>4.44</td>\n",
       "    </tr>\n",
       "    <tr>\n",
       "      <th>X360</th>\n",
       "      <td>48.0</td>\n",
       "      <td>0.280833</td>\n",
       "      <td>0.381207</td>\n",
       "      <td>0.01</td>\n",
       "      <td>0.040</td>\n",
       "      <td>0.110</td>\n",
       "      <td>0.3525</td>\n",
       "      <td>1.70</td>\n",
       "    </tr>\n",
       "    <tr>\n",
       "      <th>XOne</th>\n",
       "      <td>167.0</td>\n",
       "      <td>0.516707</td>\n",
       "      <td>0.965940</td>\n",
       "      <td>0.01</td>\n",
       "      <td>0.035</td>\n",
       "      <td>0.130</td>\n",
       "      <td>0.5550</td>\n",
       "      <td>7.39</td>\n",
       "    </tr>\n",
       "  </tbody>\n",
       "</table>\n",
       "</div>"
      ],
      "text/plain": [
       "          count      mean       std   min    25%    50%     75%    max\n",
       "platform                                                              \n",
       "3DS       132.0  0.325152  0.798620  0.01  0.030  0.090  0.2325   7.14\n",
       "PC        104.0  0.132404  0.209449  0.01  0.020  0.050  0.1425   1.28\n",
       "PS3       111.0  0.183964  0.342696  0.01  0.020  0.060  0.1600   2.70\n",
       "PS4       301.0  0.625083  1.457063  0.01  0.050  0.120  0.4200  14.63\n",
       "PSP         3.0  0.040000  0.034641  0.02  0.020  0.020  0.0500   0.08\n",
       "PSV       195.0  0.053846  0.063669  0.01  0.020  0.030  0.0600   0.41\n",
       "Wii         5.0  0.264000  0.390487  0.01  0.030  0.150  0.1800   0.95\n",
       "WiiU       42.0  0.498810  0.850240  0.01  0.050  0.215  0.5175   4.44\n",
       "X360       48.0  0.280833  0.381207  0.01  0.040  0.110  0.3525   1.70\n",
       "XOne      167.0  0.516707  0.965940  0.01  0.035  0.130  0.5550   7.39"
      ]
     },
     "execution_count": 133,
     "metadata": {},
     "output_type": "execute_result"
    }
   ],
   "source": [
    "data_cut_2014.groupby('platform')['total_sales'].describe()"
   ]
  },
  {
   "cell_type": "code",
   "execution_count": 134,
   "metadata": {},
   "outputs": [
    {
     "data": {
      "image/png": "[encoded data removed]",
      "text/plain": [
       "<Figure size 1800x504 with 1 Axes>"
      ]
     },
     "metadata": {
      "needs_background": "light"
     },
     "output_type": "display_data"
    }
   ],
   "source": [
    "data_cut_2014.boxplot(column='total_sales', by='platform', figsize=(25,7))\n",
    "plt.show()"
   ]
  },
  {
   "cell_type": "markdown",
   "metadata": {},
   "source": [
    "Есть выброс до 15 млн, видимо, популярная игра, и несколько в промежутке 6-9 млн, для статистики не имеющие особого значения."
   ]
  },
  {
   "cell_type": "code",
   "execution_count": 135,
   "metadata": {},
   "outputs": [
    {
     "data": {
      "image/png": "[encoded data removed]",
      "text/plain": [
       "<Figure size 1800x504 with 1 Axes>"
      ]
     },
     "metadata": {
      "needs_background": "light"
     },
     "output_type": "display_data"
    }
   ],
   "source": [
    "#судя по всему, можно смело уменьшать до 5 млн продаж\n",
    "data_cut_2014.boxplot(column='total_sales', by='platform', figsize=(25,7))\n",
    "plt.ylim(0, 5)\n",
    "plt.show()"
   ]
  },
  {
   "cell_type": "code",
   "execution_count": 136,
   "metadata": {},
   "outputs": [
    {
     "data": {
      "image/png": "[encoded data removed]",
      "text/plain": [
       "<Figure size 1800x504 with 1 Axes>"
      ]
     },
     "metadata": {
      "needs_background": "light"
     },
     "output_type": "display_data"
    }
   ],
   "source": [
    "#и даже до 800 тыс продаж\n",
    "data_cut_2014.boxplot(column='total_sales', by='platform', figsize=(25,7))\n",
    "plt.ylim(0, 0.8)\n",
    "plt.show()"
   ]
  },
  {
   "cell_type": "markdown",
   "metadata": {},
   "source": [
    "Вывод: лучше всего продавался WiiU - у него наивысшая медиана, за ним следуют XOne и PS4. Также можно заметить, что у многих платформ есть выбросы."
   ]
  },
  {
   "cell_type": "markdown",
   "metadata": {},
   "source": [
    "*Посмотрите на общее распределение игр по жанрам. Что можно сказать о самых прибыльных жанрах? Выделяются ли жанры с высокими и низкими продажами?*"
   ]
  },
  {
   "cell_type": "code",
   "execution_count": 137,
   "metadata": {},
   "outputs": [],
   "source": [
    "# посмотрим популярность жанров на всех платформах за все время\n",
    "x=data_cut_2014.groupby(\"genre\")['genre'].count()\n",
    "genres = x.index"
   ]
  },
  {
   "cell_type": "code",
   "execution_count": 138,
   "metadata": {},
   "outputs": [
    {
     "data": {
      "image/png": "[encoded data removed]",
      "text/plain": [
       "<Figure size 1440x504 with 1 Axes>"
      ]
     },
     "metadata": {},
     "output_type": "display_data"
    }
   ],
   "source": [
    "plt.figure(figsize=(20,7))\n",
    "plt.pie(x=x, labels=genres, autopct=\"%.2f\")\n",
    "plt.show()"
   ]
  },
  {
   "cell_type": "markdown",
   "metadata": {},
   "source": [
    "Выделю топ-5. Больше всего игр в жанре \"Action\", затем в \"Role-Playing\", \"Adventure\", \"Sports\" и \"Shooter\". Наименее популярны игры в жанре \"Puzzle\"."
   ]
  },
  {
   "cell_type": "code",
   "execution_count": 139,
   "metadata": {},
   "outputs": [
    {
     "data": {
      "text/html": [
       "<style  type=\"text/css\" >\n",
       "#T_db4ca_row0_col0{\n",
       "            width:  10em;\n",
       "             height:  80%;\n",
       "            background:  linear-gradient(90deg,#d65f5f 100.0%, transparent 100.0%);\n",
       "        }#T_db4ca_row1_col0{\n",
       "            width:  10em;\n",
       "             height:  80%;\n",
       "            background:  linear-gradient(90deg,#d65f5f 96.6%, transparent 96.6%);\n",
       "        }#T_db4ca_row2_col0{\n",
       "            width:  10em;\n",
       "             height:  80%;\n",
       "            background:  linear-gradient(90deg,#d65f5f 60.6%, transparent 60.6%);\n",
       "        }#T_db4ca_row3_col0{\n",
       "            width:  10em;\n",
       "             height:  80%;\n",
       "            background:  linear-gradient(90deg,#d65f5f 52.5%, transparent 52.5%);\n",
       "        }#T_db4ca_row4_col0{\n",
       "            width:  10em;\n",
       "             height:  80%;\n",
       "            background:  linear-gradient(90deg,#d65f5f 12.8%, transparent 12.8%);\n",
       "        }#T_db4ca_row5_col0{\n",
       "            width:  10em;\n",
       "             height:  80%;\n",
       "            background:  linear-gradient(90deg,#d65f5f 11.1%, transparent 11.1%);\n",
       "        }#T_db4ca_row6_col0{\n",
       "            width:  10em;\n",
       "             height:  80%;\n",
       "            background:  linear-gradient(90deg,#d65f5f 10.7%, transparent 10.7%);\n",
       "        }#T_db4ca_row7_col0{\n",
       "            width:  10em;\n",
       "             height:  80%;\n",
       "            background:  linear-gradient(90deg,#d65f5f 9.7%, transparent 9.7%);\n",
       "        }#T_db4ca_row8_col0{\n",
       "            width:  10em;\n",
       "             height:  80%;\n",
       "            background:  linear-gradient(90deg,#d65f5f 8.2%, transparent 8.2%);\n",
       "        }#T_db4ca_row9_col0{\n",
       "            width:  10em;\n",
       "             height:  80%;\n",
       "            background:  linear-gradient(90deg,#d65f5f 6.5%, transparent 6.5%);\n",
       "        }#T_db4ca_row10_col0{\n",
       "            width:  10em;\n",
       "             height:  80%;\n",
       "            background:  linear-gradient(90deg,#d65f5f 2.2%, transparent 2.2%);\n",
       "        }#T_db4ca_row11_col0{\n",
       "            width:  10em;\n",
       "             height:  80%;\n",
       "        }</style><table id=\"T_db4ca_\" ><thead>    <tr>        <th class=\"blank level0\" ></th>        <th class=\"col_heading level0 col0\" >total_sales</th>    </tr>    <tr>        <th class=\"index_name level0\" >genre</th>        <th class=\"blank\" ></th>    </tr></thead><tbody>\n",
       "                <tr>\n",
       "                        <th id=\"T_db4ca_level0_row0\" class=\"row_heading level0 row0\" >Shooter</th>\n",
       "                        <td id=\"T_db4ca_row0_col0\" class=\"data row0 col0\" >105.730000</td>\n",
       "            </tr>\n",
       "            <tr>\n",
       "                        <th id=\"T_db4ca_level0_row1\" class=\"row_heading level0 row1\" >Action</th>\n",
       "                        <td id=\"T_db4ca_row1_col0\" class=\"data row1 col0\" >102.130000</td>\n",
       "            </tr>\n",
       "            <tr>\n",
       "                        <th id=\"T_db4ca_level0_row2\" class=\"row_heading level0 row2\" >Sports</th>\n",
       "                        <td id=\"T_db4ca_row2_col0\" class=\"data row2 col0\" >64.330000</td>\n",
       "            </tr>\n",
       "            <tr>\n",
       "                        <th id=\"T_db4ca_level0_row3\" class=\"row_heading level0 row3\" >Role-Playing</th>\n",
       "                        <td id=\"T_db4ca_row3_col0\" class=\"data row3 col0\" >55.820000</td>\n",
       "            </tr>\n",
       "            <tr>\n",
       "                        <th id=\"T_db4ca_level0_row4\" class=\"row_heading level0 row4\" >Misc</th>\n",
       "                        <td id=\"T_db4ca_row4_col0\" class=\"data row4 col0\" >14.170000</td>\n",
       "            </tr>\n",
       "            <tr>\n",
       "                        <th id=\"T_db4ca_level0_row5\" class=\"row_heading level0 row5\" >Fighting</th>\n",
       "                        <td id=\"T_db4ca_row5_col0\" class=\"data row5 col0\" >12.370000</td>\n",
       "            </tr>\n",
       "            <tr>\n",
       "                        <th id=\"T_db4ca_level0_row6\" class=\"row_heading level0 row6\" >Adventure</th>\n",
       "                        <td id=\"T_db4ca_row6_col0\" class=\"data row6 col0\" >11.980000</td>\n",
       "            </tr>\n",
       "            <tr>\n",
       "                        <th id=\"T_db4ca_level0_row7\" class=\"row_heading level0 row7\" >Racing</th>\n",
       "                        <td id=\"T_db4ca_row7_col0\" class=\"data row7 col0\" >10.860000</td>\n",
       "            </tr>\n",
       "            <tr>\n",
       "                        <th id=\"T_db4ca_level0_row8\" class=\"row_heading level0 row8\" >Platform</th>\n",
       "                        <td id=\"T_db4ca_row8_col0\" class=\"data row8 col0\" >9.280000</td>\n",
       "            </tr>\n",
       "            <tr>\n",
       "                        <th id=\"T_db4ca_level0_row9\" class=\"row_heading level0 row9\" >Simulation</th>\n",
       "                        <td id=\"T_db4ca_row9_col0\" class=\"data row9 col0\" >7.550000</td>\n",
       "            </tr>\n",
       "            <tr>\n",
       "                        <th id=\"T_db4ca_level0_row10\" class=\"row_heading level0 row10\" >Strategy</th>\n",
       "                        <td id=\"T_db4ca_row10_col0\" class=\"data row10 col0\" >2.980000</td>\n",
       "            </tr>\n",
       "            <tr>\n",
       "                        <th id=\"T_db4ca_level0_row11\" class=\"row_heading level0 row11\" >Puzzle</th>\n",
       "                        <td id=\"T_db4ca_row11_col0\" class=\"data row11 col0\" >0.720000</td>\n",
       "            </tr>\n",
       "    </tbody></table>"
      ],
      "text/plain": [
       "<pandas.io.formats.style.Styler at 0x7f782106b6d0>"
      ]
     },
     "execution_count": 139,
     "metadata": {},
     "output_type": "execute_result"
    }
   ],
   "source": [
    "data_cut_2014.groupby(\"genre\")[[\"total_sales\"]].sum().sort_values(\n",
    "    \"total_sales\", ascending=False\n",
    ").style.bar()"
   ]
  },
  {
   "cell_type": "markdown",
   "metadata": {},
   "source": [
    "Чаще всего покупаются игры в жанре \"Shooter\", который входить и топ-5 по популярности.\n",
    "На втором месте игры в жанре \"Action\".\n",
    "На третьем месте игры в жанре \"Sports\".\n",
    "На четвертом \"Role-Playing\", замыкает этот топ \"Misc\"."
   ]
  },
  {
   "cell_type": "markdown",
   "metadata": {},
   "source": [
    "Попробую сравнить с медианным значением."
   ]
  },
  {
   "cell_type": "code",
   "execution_count": 140,
   "metadata": {},
   "outputs": [
    {
     "data": {
      "text/html": [
       "<style  type=\"text/css\" >\n",
       "#T_3a856_row0_col0{\n",
       "            width:  10em;\n",
       "             height:  80%;\n",
       "            background:  linear-gradient(90deg,#d65f5f 100.0%, transparent 100.0%);\n",
       "        }#T_3a856_row1_col0{\n",
       "            width:  10em;\n",
       "             height:  80%;\n",
       "            background:  linear-gradient(90deg,#d65f5f 25.7%, transparent 25.7%);\n",
       "        }#T_3a856_row2_col0{\n",
       "            width:  10em;\n",
       "             height:  80%;\n",
       "            background:  linear-gradient(90deg,#d65f5f 24.3%, transparent 24.3%);\n",
       "        }#T_3a856_row3_col0,#T_3a856_row4_col0{\n",
       "            width:  10em;\n",
       "             height:  80%;\n",
       "            background:  linear-gradient(90deg,#d65f5f 20.0%, transparent 20.0%);\n",
       "        }#T_3a856_row5_col0{\n",
       "            width:  10em;\n",
       "             height:  80%;\n",
       "            background:  linear-gradient(90deg,#d65f5f 17.1%, transparent 17.1%);\n",
       "        }#T_3a856_row6_col0,#T_3a856_row7_col0{\n",
       "            width:  10em;\n",
       "             height:  80%;\n",
       "            background:  linear-gradient(90deg,#d65f5f 8.6%, transparent 8.6%);\n",
       "        }#T_3a856_row8_col0{\n",
       "            width:  10em;\n",
       "             height:  80%;\n",
       "            background:  linear-gradient(90deg,#d65f5f 7.1%, transparent 7.1%);\n",
       "        }#T_3a856_row9_col0{\n",
       "            width:  10em;\n",
       "             height:  80%;\n",
       "            background:  linear-gradient(90deg,#d65f5f 5.7%, transparent 5.7%);\n",
       "        }#T_3a856_row10_col0,#T_3a856_row11_col0{\n",
       "            width:  10em;\n",
       "             height:  80%;\n",
       "        }</style><table id=\"T_3a856_\" ><thead>    <tr>        <th class=\"blank level0\" ></th>        <th class=\"col_heading level0 col0\" >total_sales</th>    </tr>    <tr>        <th class=\"index_name level0\" >genre</th>        <th class=\"blank\" ></th>    </tr></thead><tbody>\n",
       "                <tr>\n",
       "                        <th id=\"T_3a856_level0_row0\" class=\"row_heading level0 row0\" >Shooter</th>\n",
       "                        <td id=\"T_3a856_row0_col0\" class=\"data row0 col0\" >0.380000</td>\n",
       "            </tr>\n",
       "            <tr>\n",
       "                        <th id=\"T_3a856_level0_row1\" class=\"row_heading level0 row1\" >Sports</th>\n",
       "                        <td id=\"T_3a856_row1_col0\" class=\"data row1 col0\" >0.120000</td>\n",
       "            </tr>\n",
       "            <tr>\n",
       "                        <th id=\"T_3a856_level0_row2\" class=\"row_heading level0 row2\" >Role-Playing</th>\n",
       "                        <td id=\"T_3a856_row2_col0\" class=\"data row2 col0\" >0.115000</td>\n",
       "            </tr>\n",
       "            <tr>\n",
       "                        <th id=\"T_3a856_level0_row3\" class=\"row_heading level0 row3\" >Platform</th>\n",
       "                        <td id=\"T_3a856_row3_col0\" class=\"data row3 col0\" >0.100000</td>\n",
       "            </tr>\n",
       "            <tr>\n",
       "                        <th id=\"T_3a856_level0_row4\" class=\"row_heading level0 row4\" >Simulation</th>\n",
       "                        <td id=\"T_3a856_row4_col0\" class=\"data row4 col0\" >0.100000</td>\n",
       "            </tr>\n",
       "            <tr>\n",
       "                        <th id=\"T_3a856_level0_row5\" class=\"row_heading level0 row5\" >Fighting</th>\n",
       "                        <td id=\"T_3a856_row5_col0\" class=\"data row5 col0\" >0.090000</td>\n",
       "            </tr>\n",
       "            <tr>\n",
       "                        <th id=\"T_3a856_level0_row6\" class=\"row_heading level0 row6\" >Action</th>\n",
       "                        <td id=\"T_3a856_row6_col0\" class=\"data row6 col0\" >0.060000</td>\n",
       "            </tr>\n",
       "            <tr>\n",
       "                        <th id=\"T_3a856_level0_row7\" class=\"row_heading level0 row7\" >Misc</th>\n",
       "                        <td id=\"T_3a856_row7_col0\" class=\"data row7 col0\" >0.060000</td>\n",
       "            </tr>\n",
       "            <tr>\n",
       "                        <th id=\"T_3a856_level0_row8\" class=\"row_heading level0 row8\" >Racing</th>\n",
       "                        <td id=\"T_3a856_row8_col0\" class=\"data row8 col0\" >0.055000</td>\n",
       "            </tr>\n",
       "            <tr>\n",
       "                        <th id=\"T_3a856_level0_row9\" class=\"row_heading level0 row9\" >Strategy</th>\n",
       "                        <td id=\"T_3a856_row9_col0\" class=\"data row9 col0\" >0.050000</td>\n",
       "            </tr>\n",
       "            <tr>\n",
       "                        <th id=\"T_3a856_level0_row10\" class=\"row_heading level0 row10\" >Adventure</th>\n",
       "                        <td id=\"T_3a856_row10_col0\" class=\"data row10 col0\" >0.030000</td>\n",
       "            </tr>\n",
       "            <tr>\n",
       "                        <th id=\"T_3a856_level0_row11\" class=\"row_heading level0 row11\" >Puzzle</th>\n",
       "                        <td id=\"T_3a856_row11_col0\" class=\"data row11 col0\" >0.030000</td>\n",
       "            </tr>\n",
       "    </tbody></table>"
      ],
      "text/plain": [
       "<pandas.io.formats.style.Styler at 0x7f78210892b0>"
      ]
     },
     "execution_count": 140,
     "metadata": {},
     "output_type": "execute_result"
    }
   ],
   "source": [
    "data_cut_2014.groupby(\"genre\")[[\"total_sales\"]].median().sort_values(\n",
    "    \"total_sales\", ascending=False\n",
    ").style.bar()"
   ]
  },
  {
   "cell_type": "markdown",
   "metadata": {},
   "source": [
    "В медиане топ-1 также Шутеры, однако далее идут Спортивные, ролевые, платформы и симуляторы, тем самым значительно отличаясь от предыдущих результатов."
   ]
  },
  {
   "cell_type": "markdown",
   "metadata": {},
   "source": [
    "Подведем небольшой итог: с 1994 г. начинается устойчивый рос количества выпускаемых игр. Вероятно, на это повлияло развитие компьютерной техники, а также приставок. Такой рост продолжался до 2008 г., продержался на том же уровне в 2009 г., и с 2010 начался спад, что в свою очередь, вероятно, связано с развитием смартфонов и индустрии мобильных игр. В современное время, после 2014 г., наиболее продаваемые платформы это - PS4, XOne, 3DS, WiiU, PS3, средняя жизнь платформы - 10 лет. Предположительно, в 2017 г. самыми \"выстреливающими\" платформами окажутся PS4 и XOne, т.к. на них растет спрос.\n",
    "Отметим, что при покупке, пользователи больше доверяют мнению критиков, чем таких же юзеров, как они сами, хотя в целом это особо не влияет.\n",
    "Самый популярный жанр - \"Shooter\", наименее популярны игры в жанре \"Puzzle\"."
   ]
  },
  {
   "cell_type": "markdown",
   "metadata": {},
   "source": [
    "# 3. Портрет пользователя каждого региона."
   ]
  },
  {
   "cell_type": "markdown",
   "metadata": {},
   "source": [
    "*Определите для пользователя каждого региона (NA, EU, JP):\n",
    "Самые популярные платформы (топ-5). Опишите различия в долях продаж.\n",
    "Самые популярные жанры (топ-5). Поясните разницу.\n",
    "Влияет ли рейтинг ESRB на продажи в отдельном регионе?*"
   ]
  },
  {
   "cell_type": "code",
   "execution_count": 141,
   "metadata": {},
   "outputs": [],
   "source": [
    "na_platform = (\n",
    "    data_cut_2014.pivot_table(index=\"platform\", values=\"na_sales\", aggfunc=\"sum\")\n",
    "    .sort_values(by=\"na_sales\", ascending=False)\n",
    "    .head(5)\n",
    ")"
   ]
  },
  {
   "cell_type": "code",
   "execution_count": 142,
   "metadata": {},
   "outputs": [],
   "source": [
    "eu_platform = (\n",
    "    data_cut_2014.pivot_table(index=\"platform\", values=\"eu_sales\", aggfunc=\"sum\")\n",
    "    .sort_values(by=\"eu_sales\", ascending=False)\n",
    "    .head(5)\n",
    ")"
   ]
  },
  {
   "cell_type": "code",
   "execution_count": 143,
   "metadata": {},
   "outputs": [],
   "source": [
    "jp_platform = (\n",
    "    data_cut_2014.pivot_table(index=\"platform\", values=\"jp_sales\", aggfunc=\"sum\")\n",
    "    .sort_values(by=\"jp_sales\", ascending=False)\n",
    "    .head(5)\n",
    ")"
   ]
  },
  {
   "cell_type": "code",
   "execution_count": 144,
   "metadata": {},
   "outputs": [],
   "source": [
    "na_genre = data_cut_2014.pivot_table(index='genre', values='na_sales',aggfunc='sum').sort_values(by='na_sales',ascending=False).head(5)\n",
    "eu_genre = data_cut_2014.pivot_table(index='genre', values='eu_sales',aggfunc='sum').sort_values(by='eu_sales',ascending=False).head(5)\n",
    "jp_genre = data_cut_2014.pivot_table(index='genre', values='jp_sales',aggfunc='sum').sort_values(by='jp_sales',ascending=False).head(5)\n",
    "\n",
    "na_rating = data_cut_2014.pivot_table(index='rating',values='na_sales',aggfunc='sum')\n",
    "eu_rating = data_cut_2014.pivot_table(index='rating',values='eu_sales',aggfunc='sum')\n",
    "jp_rating = data_cut_2014.pivot_table(index='rating',values='jp_sales',aggfunc='sum')"
   ]
  },
  {
   "cell_type": "code",
   "execution_count": 145,
   "metadata": {},
   "outputs": [],
   "source": [
    "top_5_platform = na_platform.merge(eu_platform,on='platform',how='outer')\n",
    "top_5_platform = top_5_platform.merge(jp_platform,on='platform',how='outer')\n",
    "\n",
    "top_5_genre = na_genre.merge(eu_genre,on='genre',how='outer')\n",
    "top_5_genre = top_5_genre.merge(jp_genre,on='genre',how='outer')\n",
    "\n",
    "rating = na_rating.merge(eu_rating,on='rating',how='outer')\n",
    "rating = rating.merge(jp_rating,on='rating',how='outer')"
   ]
  },
  {
   "cell_type": "code",
   "execution_count": 146,
   "metadata": {},
   "outputs": [
    {
     "data": {
      "text/html": [
       "<div>\n",
       "<style scoped>\n",
       "    .dataframe tbody tr th:only-of-type {\n",
       "        vertical-align: middle;\n",
       "    }\n",
       "\n",
       "    .dataframe tbody tr th {\n",
       "        vertical-align: top;\n",
       "    }\n",
       "\n",
       "    .dataframe thead th {\n",
       "        text-align: right;\n",
       "    }\n",
       "</style>\n",
       "<table border=\"1\" class=\"dataframe\">\n",
       "  <thead>\n",
       "    <tr style=\"text-align: right;\">\n",
       "      <th></th>\n",
       "      <th>na_sales</th>\n",
       "      <th>eu_sales</th>\n",
       "      <th>jp_sales</th>\n",
       "    </tr>\n",
       "    <tr>\n",
       "      <th>platform</th>\n",
       "      <th></th>\n",
       "      <th></th>\n",
       "      <th></th>\n",
       "    </tr>\n",
       "  </thead>\n",
       "  <tbody>\n",
       "    <tr>\n",
       "      <th>PS4</th>\n",
       "      <td>63.86</td>\n",
       "      <td>83.54</td>\n",
       "      <td>12.05</td>\n",
       "    </tr>\n",
       "    <tr>\n",
       "      <th>XOne</th>\n",
       "      <td>50.30</td>\n",
       "      <td>28.10</td>\n",
       "      <td>NaN</td>\n",
       "    </tr>\n",
       "    <tr>\n",
       "      <th>3DS</th>\n",
       "      <td>10.31</td>\n",
       "      <td>7.39</td>\n",
       "      <td>23.55</td>\n",
       "    </tr>\n",
       "    <tr>\n",
       "      <th>WiiU</th>\n",
       "      <td>8.86</td>\n",
       "      <td>NaN</td>\n",
       "      <td>4.12</td>\n",
       "    </tr>\n",
       "    <tr>\n",
       "      <th>X360</th>\n",
       "      <td>8.05</td>\n",
       "      <td>NaN</td>\n",
       "      <td>NaN</td>\n",
       "    </tr>\n",
       "    <tr>\n",
       "      <th>PC</th>\n",
       "      <td>NaN</td>\n",
       "      <td>9.10</td>\n",
       "      <td>NaN</td>\n",
       "    </tr>\n",
       "    <tr>\n",
       "      <th>PS3</th>\n",
       "      <td>NaN</td>\n",
       "      <td>7.30</td>\n",
       "      <td>4.97</td>\n",
       "    </tr>\n",
       "    <tr>\n",
       "      <th>PSV</th>\n",
       "      <td>NaN</td>\n",
       "      <td>NaN</td>\n",
       "      <td>8.41</td>\n",
       "    </tr>\n",
       "  </tbody>\n",
       "</table>\n",
       "</div>"
      ],
      "text/plain": [
       "          na_sales  eu_sales  jp_sales\n",
       "platform                              \n",
       "PS4          63.86     83.54     12.05\n",
       "XOne         50.30     28.10       NaN\n",
       "3DS          10.31      7.39     23.55\n",
       "WiiU          8.86       NaN      4.12\n",
       "X360          8.05       NaN       NaN\n",
       "PC             NaN      9.10       NaN\n",
       "PS3            NaN      7.30      4.97\n",
       "PSV            NaN       NaN      8.41"
      ]
     },
     "metadata": {},
     "output_type": "display_data"
    },
    {
     "data": {
      "text/html": [
       "<div>\n",
       "<style scoped>\n",
       "    .dataframe tbody tr th:only-of-type {\n",
       "        vertical-align: middle;\n",
       "    }\n",
       "\n",
       "    .dataframe tbody tr th {\n",
       "        vertical-align: top;\n",
       "    }\n",
       "\n",
       "    .dataframe thead th {\n",
       "        text-align: right;\n",
       "    }\n",
       "</style>\n",
       "<table border=\"1\" class=\"dataframe\">\n",
       "  <thead>\n",
       "    <tr style=\"text-align: right;\">\n",
       "      <th></th>\n",
       "      <th>na_sales</th>\n",
       "      <th>eu_sales</th>\n",
       "      <th>jp_sales</th>\n",
       "    </tr>\n",
       "    <tr>\n",
       "      <th>genre</th>\n",
       "      <th></th>\n",
       "      <th></th>\n",
       "      <th></th>\n",
       "    </tr>\n",
       "  </thead>\n",
       "  <tbody>\n",
       "    <tr>\n",
       "      <th>Shooter</th>\n",
       "      <td>48.18</td>\n",
       "      <td>40.28</td>\n",
       "      <td>3.79</td>\n",
       "    </tr>\n",
       "    <tr>\n",
       "      <th>Action</th>\n",
       "      <td>33.68</td>\n",
       "      <td>34.82</td>\n",
       "      <td>23.05</td>\n",
       "    </tr>\n",
       "    <tr>\n",
       "      <th>Sports</th>\n",
       "      <td>26.31</td>\n",
       "      <td>27.82</td>\n",
       "      <td>NaN</td>\n",
       "    </tr>\n",
       "    <tr>\n",
       "      <th>Role-Playing</th>\n",
       "      <td>19.82</td>\n",
       "      <td>17.21</td>\n",
       "      <td>13.41</td>\n",
       "    </tr>\n",
       "    <tr>\n",
       "      <th>Misc</th>\n",
       "      <td>5.58</td>\n",
       "      <td>NaN</td>\n",
       "      <td>3.19</td>\n",
       "    </tr>\n",
       "    <tr>\n",
       "      <th>Racing</th>\n",
       "      <td>NaN</td>\n",
       "      <td>6.52</td>\n",
       "      <td>NaN</td>\n",
       "    </tr>\n",
       "    <tr>\n",
       "      <th>Adventure</th>\n",
       "      <td>NaN</td>\n",
       "      <td>NaN</td>\n",
       "      <td>2.22</td>\n",
       "    </tr>\n",
       "  </tbody>\n",
       "</table>\n",
       "</div>"
      ],
      "text/plain": [
       "              na_sales  eu_sales  jp_sales\n",
       "genre                                     \n",
       "Shooter          48.18     40.28      3.79\n",
       "Action           33.68     34.82     23.05\n",
       "Sports           26.31     27.82       NaN\n",
       "Role-Playing     19.82     17.21     13.41\n",
       "Misc              5.58       NaN      3.19\n",
       "Racing             NaN      6.52       NaN\n",
       "Adventure          NaN       NaN      2.22"
      ]
     },
     "metadata": {},
     "output_type": "display_data"
    },
    {
     "data": {
      "text/html": [
       "<div>\n",
       "<style scoped>\n",
       "    .dataframe tbody tr th:only-of-type {\n",
       "        vertical-align: middle;\n",
       "    }\n",
       "\n",
       "    .dataframe tbody tr th {\n",
       "        vertical-align: top;\n",
       "    }\n",
       "\n",
       "    .dataframe thead th {\n",
       "        text-align: right;\n",
       "    }\n",
       "</style>\n",
       "<table border=\"1\" class=\"dataframe\">\n",
       "  <thead>\n",
       "    <tr style=\"text-align: right;\">\n",
       "      <th></th>\n",
       "      <th>na_sales</th>\n",
       "      <th>eu_sales</th>\n",
       "      <th>jp_sales</th>\n",
       "    </tr>\n",
       "    <tr>\n",
       "      <th>rating</th>\n",
       "      <th></th>\n",
       "      <th></th>\n",
       "      <th></th>\n",
       "    </tr>\n",
       "  </thead>\n",
       "  <tbody>\n",
       "    <tr>\n",
       "      <th>E</th>\n",
       "      <td>26.59</td>\n",
       "      <td>34.83</td>\n",
       "      <td>5.25</td>\n",
       "    </tr>\n",
       "    <tr>\n",
       "      <th>E10+</th>\n",
       "      <td>17.87</td>\n",
       "      <td>11.54</td>\n",
       "      <td>3.27</td>\n",
       "    </tr>\n",
       "    <tr>\n",
       "      <th>M</th>\n",
       "      <td>47.03</td>\n",
       "      <td>45.54</td>\n",
       "      <td>4.29</td>\n",
       "    </tr>\n",
       "    <tr>\n",
       "      <th>T</th>\n",
       "      <td>22.86</td>\n",
       "      <td>20.32</td>\n",
       "      <td>7.70</td>\n",
       "    </tr>\n",
       "    <tr>\n",
       "      <th>без рейтинга</th>\n",
       "      <td>37.44</td>\n",
       "      <td>35.71</td>\n",
       "      <td>32.89</td>\n",
       "    </tr>\n",
       "  </tbody>\n",
       "</table>\n",
       "</div>"
      ],
      "text/plain": [
       "              na_sales  eu_sales  jp_sales\n",
       "rating                                    \n",
       "E                26.59     34.83      5.25\n",
       "E10+             17.87     11.54      3.27\n",
       "M                47.03     45.54      4.29\n",
       "T                22.86     20.32      7.70\n",
       "без рейтинга     37.44     35.71     32.89"
      ]
     },
     "execution_count": 146,
     "metadata": {},
     "output_type": "execute_result"
    }
   ],
   "source": [
    "display(top_5_platform)\n",
    "\n",
    "display(top_5_genre)\n",
    "\n",
    "rating"
   ]
  },
  {
   "cell_type": "markdown",
   "metadata": {},
   "source": [
    "Пропуски NaN говорят о том, что та или иная платформа или жанр в различных регионах не прижились."
   ]
  },
  {
   "cell_type": "code",
   "execution_count": 147,
   "metadata": {},
   "outputs": [
    {
     "data": {
      "image/png": "[encoded data removed]",
      "text/plain": [
       "<Figure size 1440x576 with 1 Axes>"
      ]
     },
     "metadata": {
      "needs_background": "light"
     },
     "output_type": "display_data"
    }
   ],
   "source": [
    "# ТОП-5 платформ в Северной Америке \n",
    "platform_na = data_cut_2014.groupby(\"platform\")[\"na_sales\"].sum()\n",
    "platform_na.plot(\n",
    "    x=\"platform\",\n",
    "    y=\"na_sales\",\n",
    "    kind=\"bar\",\n",
    "    figsize=(20, 8),\n",
    "    grid=True,\n",
    "    title=\"ТОП-5 платформ в Северной Америке\",\n",
    ")\n",
    "plt.xlabel(\"Платформа\")\n",
    "plt.ylabel(\"Продажи экземпляров (млн.)\")\n",
    "plt.show()"
   ]
  },
  {
   "cell_type": "markdown",
   "metadata": {},
   "source": [
    "Топ-5 платформ в Северной Америке - PS4, XOne, 3DS, WiiU и X360."
   ]
  },
  {
   "cell_type": "code",
   "execution_count": 148,
   "metadata": {},
   "outputs": [
    {
     "data": {
      "text/plain": [
       "'Доля продаж в Северной Америке'"
      ]
     },
     "metadata": {},
     "output_type": "display_data"
    },
    {
     "data": {
      "text/plain": [
       "platform\n",
       "X360    59.718101\n",
       "XOne    58.291807\n",
       "WiiU    42.291169\n",
       "Wii     37.121212\n",
       "PS4     33.941005\n",
       "PS3     27.717924\n",
       "PC      27.015251\n",
       "3DS     24.021435\n",
       "PSV      5.142857\n",
       "PSP      0.000000\n",
       "dtype: float64"
      ]
     },
     "metadata": {},
     "output_type": "display_data"
    }
   ],
   "source": [
    "#переменная platform_all - сумма общих продаж по всем платформам\n",
    "platform_all = data_cut_2014.groupby('platform')['total_sales'].sum()\n",
    "share_na = platform_na / platform_all * 100\n",
    "display('Доля продаж в Северной Америке')\n",
    "display(share_na.sort_values(ascending=False))"
   ]
  },
  {
   "cell_type": "markdown",
   "metadata": {},
   "source": [
    "Интересно, что топ-5 продаж относительно всего мира все же отличается в сравнении с топ-5 платформ Америки. Так, на Сеерную Америку приходится больше всего продаж игр на платформах X360, XOne, WiiU, Wii, PS4."
   ]
  },
  {
   "cell_type": "code",
   "execution_count": 149,
   "metadata": {},
   "outputs": [
    {
     "data": {
      "image/png": "[encoded data removed]",
      "text/plain": [
       "<Figure size 1440x576 with 1 Axes>"
      ]
     },
     "metadata": {
      "needs_background": "light"
     },
     "output_type": "display_data"
    }
   ],
   "source": [
    "# ТОП-5 платформ в Европе\n",
    "platform_eu = data_cut_2014.groupby(\"platform\")[\"eu_sales\"].sum()\n",
    "platform_eu.plot(\n",
    "    x=\"platform\",\n",
    "    y=\"eu_sales\",\n",
    "    kind=\"bar\",\n",
    "    figsize=(20, 8),\n",
    "    grid=True,\n",
    "    title=\"ТОП-5 платформ в Европе\",\n",
    ")\n",
    "plt.xlabel(\"Платформа\")\n",
    "plt.ylabel(\"Продажи экземпляров (млн.)\")\n",
    "plt.show()"
   ]
  },
  {
   "cell_type": "markdown",
   "metadata": {},
   "source": [
    "Топ-5 платформ в Европе - PS4, XOne, PC, 3DS, PS3. Видны явные различия с Америкой."
   ]
  },
  {
   "cell_type": "code",
   "execution_count": 150,
   "metadata": {},
   "outputs": [
    {
     "data": {
      "text/plain": [
       "'Доля продаж в Европе'"
      ]
     },
     "metadata": {},
     "output_type": "display_data"
    },
    {
     "data": {
      "text/plain": [
       "platform\n",
       "PC      66.085694\n",
       "Wii     55.303030\n",
       "PS4     44.400744\n",
       "PS3     35.749265\n",
       "XOne    32.564608\n",
       "X360    31.231454\n",
       "WiiU    30.978520\n",
       "3DS     17.218080\n",
       "PSV     10.285714\n",
       "PSP      0.000000\n",
       "dtype: float64"
      ]
     },
     "metadata": {},
     "output_type": "display_data"
    }
   ],
   "source": [
    "platform_all = data_cut_2014.groupby('platform')['total_sales'].sum()\n",
    "share_eu = platform_eu / platform_all * 100\n",
    "display('Доля продаж в Европе')\n",
    "display(share_eu.sort_values(ascending=False))"
   ]
  },
  {
   "cell_type": "markdown",
   "metadata": {},
   "source": [
    "На Европу приходится больше всего продаж игр на платформах PC, WiiUб PS4, PS3, ХOne."
   ]
  },
  {
   "cell_type": "code",
   "execution_count": 151,
   "metadata": {},
   "outputs": [
    {
     "data": {
      "image/png": "[encoded data removed]",
      "text/plain": [
       "<Figure size 1440x576 with 1 Axes>"
      ]
     },
     "metadata": {
      "needs_background": "light"
     },
     "output_type": "display_data"
    }
   ],
   "source": [
    "# ТОП-5 платформ в Японии\n",
    "platform_jp = data_cut_2014.groupby(\"platform\")[\"jp_sales\"].sum()\n",
    "platform_jp.plot(\n",
    "    x=\"platform\",\n",
    "    y=\"jp_sales\",\n",
    "    kind=\"bar\",\n",
    "    figsize=(20, 8),\n",
    "    grid=True,\n",
    "    title=\"ТОП-5 платформ в Японии\",\n",
    ")\n",
    "plt.xlabel(\"Платформа\")\n",
    "plt.ylabel(\"Продажи экземпляров (млн.)\")\n",
    "plt.show()"
   ]
  },
  {
   "cell_type": "markdown",
   "metadata": {},
   "source": [
    "Топ-5 платформ в Японии - 3DS, PS4, PSV, PS3 и WiiU."
   ]
  },
  {
   "cell_type": "code",
   "execution_count": 152,
   "metadata": {},
   "outputs": [
    {
     "data": {
      "text/plain": [
       "'Доля продаж в Японии'"
      ]
     },
     "metadata": {},
     "output_type": "display_data"
    },
    {
     "data": {
      "text/plain": [
       "platform\n",
       "PSP     100.000000\n",
       "PSV      80.095238\n",
       "3DS      54.869525\n",
       "PS3      24.338883\n",
       "WiiU     19.665871\n",
       "PS4       6.404465\n",
       "XOne      0.208599\n",
       "PC        0.000000\n",
       "Wii       0.000000\n",
       "X360      0.000000\n",
       "dtype: float64"
      ]
     },
     "metadata": {},
     "output_type": "display_data"
    }
   ],
   "source": [
    "platform_all = data_cut_2014.groupby('platform')['total_sales'].sum()\n",
    "share_jp = platform_jp / platform_all * 100\n",
    "display('Доля продаж в Японии')\n",
    "display(share_jp.sort_values(ascending=False))"
   ]
  },
  {
   "cell_type": "markdown",
   "metadata": {},
   "source": [
    "На Японию приходится больше всего продаж игр на платформах PSP, PSV, 3DS, PS3 и WiiU."
   ]
  },
  {
   "cell_type": "code",
   "execution_count": 153,
   "metadata": {},
   "outputs": [],
   "source": [
    "#самые популярные жанры\n",
    "#Северная Америка\n",
    "na_index = data_cut_2014.groupby('genre')['na_sales'].sum().sort_values()[-5:].index.tolist()\n",
    "na_values = data_cut_2014.groupby('genre')['na_sales'].sum().sort_values()[-5:]\n",
    "#Европа\n",
    "eu_index = data_cut_2014.groupby('genre')['eu_sales'].sum().sort_values()[-5:].index.tolist()\n",
    "eu_values = data_cut_2014.groupby('genre')['eu_sales'].sum().sort_values()[-5:]\n",
    "#Япония\n",
    "jp_index = data_cut_2014.groupby('genre')['jp_sales'].sum().sort_values()[-5:].index.tolist()\n",
    "jp_values = data_cut_2014.groupby('genre')['jp_sales'].sum().sort_values()[-5:]"
   ]
  },
  {
   "cell_type": "code",
   "execution_count": 154,
   "metadata": {},
   "outputs": [
    {
     "data": {
      "image/png": "[encoded data removed]",
      "text/plain": [
       "<Figure size 1440x288 with 3 Axes>"
      ]
     },
     "metadata": {
      "needs_background": "light"
     },
     "output_type": "display_data"
    }
   ],
   "source": [
    "fig, (ax1, ax2, ax3) = plt.subplots(1, 3, figsize=(20,4))\n",
    "\n",
    "ax1.bar(na_index, na_values)\n",
    "ax1.set_title(\"Северная Америка\", fontsize=16)\n",
    "\n",
    "ax2.bar(eu_index, eu_values)\n",
    "ax2.set_title(\"Европа\", fontsize=16)\n",
    "\n",
    "ax3.bar(jp_index, jp_values)\n",
    "ax3.set_title(\"Япония\", fontsize=16)\n",
    "\n",
    "plt.show()"
   ]
  },
  {
   "cell_type": "markdown",
   "metadata": {},
   "source": [
    "Во всех трех регионах в числе топ-5 есть игрф в жанре Role-Playing, Shooter и Action. При это для каждого региона есть свои особенности. Так, в Америке и Японии в топ попали игры в жанре \"Misc\", которых нет в Европе, но зато в Европе и Америке есть спортиыне игры,которых нет в Японии. При этом в самой японии есть в топе игры в жанре \"Adventure\", отсутсвующие в Европе и Америке."
   ]
  },
  {
   "cell_type": "markdown",
   "metadata": {},
   "source": [
    "*Влияет ли рейтинг ESRB на продажи в отдельном регионе?*"
   ]
  },
  {
   "cell_type": "markdown",
   "metadata": {},
   "source": [
    "Entertainment Software Rating Board (ESRB) — принятие и определение рейтингов для компьютерных видеоигр и другого развлекательного программного обеспечения в США и Канаде. \n",
    "\n",
    "«EC» («Early childhood») — «Для детей младшего возраста»: Игра подходит для детей от 3 лет и не содержит материалов, которые родители могли бы счесть неподходящими. Продукты, получившие данный рейтинг, изначально разрабатываются для детей и обычно представляют собой развивающие игры.\n",
    "\n",
    "«E» («Everyone») — «Для всех»: Содержание вполне подходит для всех возрастов. Такие игры могут понравиться и взрослым. Игры с этим рейтингом могут содержать минимальное насилие, в основном «мультяшного» характера.\n",
    "\n",
    "«E10+» («Everyone 10 and older») — «Для всех от 10 лет и старше»: Проекты с данным рейтингом могут содержать или немного больше мультипликационного или мягкого насилия, или несколько откровенные сцены, или минимальное количество крови. \n",
    "\n",
    "«T» («Teen») — «Подросткам»: Игра подходит для лиц от 13 лет. Проекты из данной категории могут содержать насилие, непристойные сцены, грубый юмор, в меру откровенное сексуальное содержимое, кровь или нечастое использование ненормативной лексики.\n",
    "\n",
    "«M» («Mature») — «Для взрослых»: Материалы игры не подходят для лиц младше 17 лет. Проекты с данным рейтингом могут содержать достаточно жестокое насилие, большое количество крови с расчленением, непристойные сексуальные сцены или грубую ненормативную лексику, нежелательную для младшей аудитории.\n",
    "\n",
    "«AO» («Adults Only 18+») — «Только для взрослых»: Содержание игры только для взрослых старше 18 лет. Продукты из данной категории могут содержать длительные сцены жестокого насилия и/или очень откровенное сексуальное содержимое, а также сцены с обнажением. \n",
    "\n",
    "«RP» («Rating Pending») — «Рейтинг ожидается»: Продукт был отправлен в ESRB и ожидает присвоения рейтинга. Данный логотип используется только на рекламных презентациях и в демо-версиях игр до официальной даты выпуска в продажу.\n",
    "\n",
    "«RP 17+» («Rating Pending») — «Рейтинг ожидается - примерно 17+»: Продукт отправлен ESRB на оценку, но примерное содержание близко к рейтингу «M». Данная маркировка была введена с 2021 г. и распространяется на демо или презентационный вариант."
   ]
  },
  {
   "cell_type": "code",
   "execution_count": 155,
   "metadata": {},
   "outputs": [
    {
     "data": {
      "image/png": "[encoded data removed]",
      "text/plain": [
       "<Figure size 1440x576 with 1 Axes>"
      ]
     },
     "metadata": {
      "needs_background": "light"
     },
     "output_type": "display_data"
    }
   ],
   "source": [
    "# рейтинг ESRB в Северной Америке\n",
    "rating_na = (\n",
    "    data_cut_2014.groupby(\"rating\")[\"na_sales\"].sum().sort_values(ascending=False)\n",
    ")\n",
    "rating_na.plot(\n",
    "    x=\"rating\",\n",
    "    y=\"na_sales\",\n",
    "    kind=\"bar\",\n",
    "    figsize=(20, 8),\n",
    "    grid=True,\n",
    "    title=\"Рейтинг ESRB в Северной Америке\",\n",
    ")\n",
    "plt.xlabel(\"Рейтинг\")\n",
    "plt.ylabel(\"Продажи экземпляров (млн.)\")\n",
    "plt.show()"
   ]
  },
  {
   "cell_type": "markdown",
   "metadata": {},
   "source": [
    "Самые высокие рейтинги у рейтинга «Для лиц старше 17 лет», затем у неопределенного рейтинга, для всех,для подростков от 13 лет и замыкают пятерку игры для лиц старше 10 лет."
   ]
  },
  {
   "cell_type": "code",
   "execution_count": 156,
   "metadata": {},
   "outputs": [
    {
     "data": {
      "image/png": "[encoded data removed]",
      "text/plain": [
       "<Figure size 1440x576 with 1 Axes>"
      ]
     },
     "metadata": {
      "needs_background": "light"
     },
     "output_type": "display_data"
    }
   ],
   "source": [
    "# рейтинг ESRB в Европе\n",
    "rating_eu = data_cut_2014.groupby(\"rating\")[\"eu_sales\"].sum().sort_values(ascending=False)\n",
    "rating_eu.plot(\n",
    "    x=\"rating\",\n",
    "    y=\"eu_sales\",\n",
    "    kind=\"bar\",\n",
    "    figsize=(20, 8),\n",
    "    grid=True,\n",
    "    title=\"Рейтинг ESRB в Европе\",\n",
    ")\n",
    "plt.xlabel(\"Рейтинг\")\n",
    "plt.ylabel(\"Продажи экземпляров (млн.)\")\n",
    "plt.show()"
   ]
  },
  {
   "cell_type": "markdown",
   "metadata": {},
   "source": [
    "Европа совпадает с Америкой."
   ]
  },
  {
   "cell_type": "code",
   "execution_count": 157,
   "metadata": {},
   "outputs": [
    {
     "data": {
      "image/png": "[encoded data removed]",
      "text/plain": [
       "<Figure size 1440x576 with 1 Axes>"
      ]
     },
     "metadata": {
      "needs_background": "light"
     },
     "output_type": "display_data"
    }
   ],
   "source": [
    "# рейтинг ESRB в Японии\n",
    "rating_jp = data_cut_2014.groupby(\"rating\")[\"jp_sales\"].sum().sort_values(ascending=False)\n",
    "rating_jp.plot(\n",
    "    x=\"rating\",\n",
    "    y=\"jp_sales\",\n",
    "    kind=\"bar\",\n",
    "    figsize=(20, 8),\n",
    "    grid=True,\n",
    "    title=\"Рейтинг ESRB в Японии\",\n",
    ")\n",
    "plt.xlabel(\"Рейтинг\")\n",
    "plt.ylabel(\"Продажи экземпляров (млн.)\")\n",
    "plt.show()"
   ]
  },
  {
   "cell_type": "markdown",
   "metadata": {},
   "source": [
    "В целом, в топе в Японии те же 5 видов, однако лидирует со значительным отрывом игры без возрастного рейтинга. Благодаря поиску узнала, что в Японии присуждением рейтингов занимается внутренняя организация, предположу, что поэтому так много игр без рейтинга, а точнее, без рейтинга ESRB, а с внутренним, поскольку это игры местного производства в том числе."
   ]
  },
  {
   "cell_type": "markdown",
   "metadata": {},
   "source": [
    "Подводя краткий итог, в Северной Америке топ-5 платформ это - PS4, XOne, 3DS, WiiU и X360 и больше всего продаж игр на платформах  X360, XOne, WiiU, Wii, PS4..\n",
    "В Европе топ-5 платформ это - PS4, XOne, PC, 3DS, PS3 и больше всего продаж игр на платформах PC, WiiUб PS4, PS3, ХOne.\n",
    "В Японии топ-5 платформ это  - 3DS, PS4, PSV, PS3 и WiiU и больше всего продаж игр на платформах PSP, PSV, 3DS, PS3 и WiiU.\n",
    "Во всех трех регионах в числе топ-5 есть игры в жанре Role-Playing, Shooter и Action. При этом для каждого региона есть свои особенности. Так, в Америке и Японии в топ попали игры в жанре \"Misc\", которых нет в Европе, но зато в Европе и Америке есть спортиыне игры,которых нет в Японии. При этом в самой Японии есть в топе игры в жанре \"Adventure\", отсутствующие в Европе и Америке.\n",
    "По возрастному рейтингу во всех трех направлениях присутствуют возрастные рейтинги «Для всех», неопределенный рейтинг, подростки и люди старше 17 и игры для лиц старше 10 лет.\n",
    "Однако у Европы и Америки лидирует \"для лиц старше 17 лет\", а у Японии - рейтинг неопределен, в связи с тем, что у них не рейтинг ESRB, а с внутренний, поскольку это игры местного производства в том числе."
   ]
  },
  {
   "cell_type": "markdown",
   "metadata": {},
   "source": [
    "# 4. Проверка гипотез."
   ]
  },
  {
   "cell_type": "markdown",
   "metadata": {},
   "source": [
    "*Средние пользовательские рейтинги платформ Xbox One и PC одинаковые.*"
   ]
  },
  {
   "cell_type": "markdown",
   "metadata": {},
   "source": [
    "H0:средние пользовательские рейтинги платформ Xbox One и PC одинаковые;\n",
    "\n",
    "H1:средние пользовательские рейтинги платформ Xbox One и PC разные."
   ]
  },
  {
   "cell_type": "code",
   "execution_count": 158,
   "metadata": {},
   "outputs": [],
   "source": [
    "#для удобства стоит создать новые датафреймы\n",
    "data_xone = data_cut_2014[data_cut_2014['platform']==\"XOne\"]['user_score'].dropna()\n",
    "data_pc = data_cut_2014[data_cut_2014['platform']==\"PC\"]['user_score'].dropna()"
   ]
  },
  {
   "cell_type": "code",
   "execution_count": 159,
   "metadata": {},
   "outputs": [
    {
     "data": {
      "text/plain": [
       "0.07122249094391404"
      ]
     },
     "execution_count": 159,
     "metadata": {},
     "output_type": "execute_result"
    }
   ],
   "source": [
    "stat, p = levene(data_xone, data_pc)\n",
    "p"
   ]
  },
  {
   "cell_type": "code",
   "execution_count": 161,
   "metadata": {
    "scrolled": true
   },
   "outputs": [
    {
     "name": "stdout",
     "output_type": "stream",
     "text": [
      "p-значение: 0.2778542084733835\n",
      "Не получилось отвергнуть нулевую гипотезу\n"
     ]
    }
   ],
   "source": [
    "alpha = .05 \n",
    "\n",
    "hip_1 = st.ttest_ind(\n",
    "    data_xone, \n",
    "    data_pc,\n",
    "    equal_var = True)\n",
    "\n",
    "print('p-значение:', hip_1.pvalue)\n",
    "\n",
    "if (hip_1.pvalue < alpha):\n",
    "    print(\"Отвергаем нулевую гипотезу\")\n",
    "else:\n",
    "    print(\"Не получилось отвергнуть нулевую гипотезу\") "
   ]
  },
  {
   "cell_type": "markdown",
   "metadata": {},
   "source": [
    "Получается, средняя оценка пользователей платформы XBox One не особо отличается от средней оценки пользователей платформы PC."
   ]
  },
  {
   "cell_type": "markdown",
   "metadata": {},
   "source": [
    "*Средние пользовательские рейтинги жанров Action (англ. «действие», экшен-игры) и Sports (англ. «спортивные соревнования») разные.*"
   ]
  },
  {
   "cell_type": "markdown",
   "metadata": {},
   "source": [
    "Н0: средние пользовательские рейтинги жанров Action и Sports разные;\n",
    "\n",
    "Н1: средние пользовательские рейтинги жанров Action и Sports одинаковые."
   ]
  },
  {
   "cell_type": "code",
   "execution_count": 164,
   "metadata": {},
   "outputs": [],
   "source": [
    "data_action = data_cut_2014[data_cut_2014['genre']==\"Action\"]['user_score'].dropna()\n",
    "data_sports = data_cut_2014[data_cut_2014['genre']==\"Sports\"]['user_score'].dropna()"
   ]
  },
  {
   "cell_type": "code",
   "execution_count": 163,
   "metadata": {},
   "outputs": [
    {
     "name": "stdout",
     "output_type": "stream",
     "text": [
      "p-значение: 5.97163549920592e-10\n",
      "Отвергаем нулевую гипотезу\n"
     ]
    }
   ],
   "source": [
    "alpha = .05 \n",
    "\n",
    "hip_2 = st.ttest_ind(\n",
    "    data_action, \n",
    "    data_sports,\n",
    "    equal_var = False)\n",
    "\n",
    "print('p-значение:', hip_2.pvalue)\n",
    "\n",
    "if (hip_2.pvalue < alpha):\n",
    "    print(\"Отвергаем нулевую гипотезу\")\n",
    "else:\n",
    "    print(\"Не получилось отвергнуть нулевую гипотезу\") "
   ]
  },
  {
   "cell_type": "markdown",
   "metadata": {},
   "source": [
    "Получается, что средние пользовательские рейтинги жанров Action и Sports одинаковые."
   ]
  },
  {
   "cell_type": "markdown",
   "metadata": {},
   "source": [
    "# 5. Общий вывод."
   ]
  },
  {
   "cell_type": "markdown",
   "metadata": {},
   "source": [
    "В рамках данного исследования была проведена подготовка и предобработка данных: унифицированы столбцы, заменены Tbd на nan оценках пользователей, заменен тип данных году релиза, добавлен новый столбец по суммарным продажам. \n",
    "\n",
    "Был проведен исследовательский анализ, выявлено, что с 1994 г. начинается устойчивый рост количества выпускаемых игр. Вероятно, на это повлияло развитие компьютерной техники, а также приставок. Такой рост продолжался до 2008 г., продержался на том же уровне в 2009 г., и с 2010 начался спад, что в свою очередь, вероятно, связано с развитием смартфонов и индустрии мобильных игр. В относительно современное время, после 2014 г., наиболее продаваемые платформы это - PS2, X360, PS3, Wii, DS и PS, средняя жизнь платформы - 10 лет. Отметим, что при покупке, пользователи больше доверяют мнению критиков, чем таких же юзеров, как они сами, однако сильно на это не опираются. Самый популярный жанр - \"Shooter\", наименее популярны игры в жанре \"Puzzle\".\n",
    "\n",
    "Также составлен небольшой пользовательский портрет: в Северной Америке топ-5 платформ это - PS4, XOne, 3DS, WiiU и X360 и больше всего продаж игр на платформах X360, XOne, WiiU, Wii, PS4. В Европе топ-5 платформ это - PS4, XOne, PC, 3DS, PS3 и больше всего продаж игр на платформах PC, WiiUб PS4, PS3, ХOne. В Японии топ-5 платформ это - 3DS, PS4, PSV, PS3 и WiiU и больше всего продаж игр на платформах PSP, PSV, 3DS, PS3 и WiiU. Во всех трех регионах в числе топ-5 есть игры в жанре Role-Playing, Shooter и Action. При этом для каждого региона есть свои особенности. Так, в Америке и Японии в топ попали игры в жанре \"Misc\", которых нет в Европе, но зато в Европе и Америке есть спортиыне игры,которых нет в Японии. При этом в самой Японии есть в топе игры в жанре \"Adventure\", отсутствующие в Европе и Америке. По возрастному рейтингу во всех трех направлениях присутствуют возрастные рейтинги «Для всех», неопределенный рейтинг, подростки и люди старше 17 и игры для лиц старше 10 лет. Однако у Европы и Америки лидирует \"для лиц старше 17 лет\", а у Японии - рейтинг неопределен, в связи с тем, что у них не рейтинг ESRB, а с внутренний, поскольку это игры местного производства в том числе.\n",
    "\n",
    "И проверены две гипотезы:\n",
    "Средние пользовательские рейтинги платформ Xbox One и PC одинаковые. Гипотеза подтвердилась, средняя оценка пользователей платформы XBox One не отличается от средней оценки пользователей платформы PC.\n",
    "Средние пользовательские рейтинги жанров Action и Sports разные. Гипотеза не подтвердилась, рейтинги примерно одинаковые."
   ]
  },
  {
   "cell_type": "markdown",
   "metadata": {},
   "source": [
    "# Для плана рекламной кампании компании \"Стримчик\""
   ]
  },
  {
   "cell_type": "markdown",
   "metadata": {},
   "source": [
    "Итак, для того, чтобы корректно понимать, как строить рекламную кампанию на предстояющий год, нужно учитывать несколько моментов.\n",
    "\n",
    "Во-первых, согласно прогнозу, наиболее популярными будут PS4 и XOne, поэтому следует сосредоточиться именно на этих игровых платформах.\n",
    "\n",
    "Во-вторых, крайне важен регион, в котором будет проводиться рекламная кампания.\n",
    "Так, например, для Северной Америки стоит сделать акцент на шутеры, экшны, спортивные, ролевые и игры в жанре \"Misc\" преемущественно для возрастной категории старше 17 лет.\n",
    "Для Европы стоит выбирать игры шутеры, экшны, спортивные, ролевые и гонки в основном также для 17+.\n",
    "Для Японии нужно выбирать игры в жанрах экш, ролевые, шутеры, игры в жанре \"Misc\" и приключения, притом в категории \"без рейтинга\", то есть в основном японского же происхождения (аудитория предпочитает более бликие им сюжеты за счет отличия азиатской культуры от американской и европейской).\n",
    "\n",
    "Обращать внимание на отзывы, пожалуй, бессмысленно, поскольку две платформы PS4 и XOne, которые будут популярны, и так на слуху и отзывы по ним не особо интересуют пользователей, а игры часто выбираются исходя из собсвенных интересов покупателя и желания продолжить интересные именно ему серии игр."
   ]
  }
 ],
 "metadata": {
  "ExecuteTimeLog": [
   {
    "duration": 1662,
    "start_time": "2023-01-17T18:38:58.501Z"
   },
   {
    "duration": 167,
    "start_time": "2023-01-17T18:42:28.824Z"
   },
   {
    "duration": 3,
    "start_time": "2023-01-17T18:43:02.288Z"
   },
   {
    "duration": 62,
    "start_time": "2023-01-17T18:43:05.041Z"
   },
   {
    "duration": 43,
    "start_time": "2023-01-17T18:48:00.893Z"
   },
   {
    "duration": 117,
    "start_time": "2023-01-17T18:48:26.325Z"
   },
   {
    "duration": 1356,
    "start_time": "2023-01-18T18:04:14.580Z"
   },
   {
    "duration": 111,
    "start_time": "2023-01-18T18:04:16.189Z"
   },
   {
    "duration": 4,
    "start_time": "2023-01-18T18:04:19.313Z"
   },
   {
    "duration": 3,
    "start_time": "2023-01-18T18:04:28.050Z"
   },
   {
    "duration": 6,
    "start_time": "2023-01-18T18:05:20.496Z"
   },
   {
    "duration": 5,
    "start_time": "2023-01-18T18:05:25.809Z"
   },
   {
    "duration": 21,
    "start_time": "2023-01-18T18:15:27.807Z"
   },
   {
    "duration": 17,
    "start_time": "2023-01-18T18:50:44.996Z"
   },
   {
    "duration": 5,
    "start_time": "2023-01-18T19:02:34.939Z"
   },
   {
    "duration": 1207,
    "start_time": "2023-01-18T19:08:12.268Z"
   },
   {
    "duration": 7,
    "start_time": "2023-01-18T19:08:16.336Z"
   },
   {
    "duration": 5,
    "start_time": "2023-01-18T19:08:40.947Z"
   },
   {
    "duration": 5,
    "start_time": "2023-01-18T19:13:42.126Z"
   },
   {
    "duration": 4,
    "start_time": "2023-01-18T19:15:40.198Z"
   },
   {
    "duration": 6,
    "start_time": "2023-01-18T19:15:42.199Z"
   },
   {
    "duration": 6,
    "start_time": "2023-01-18T19:15:42.622Z"
   },
   {
    "duration": 7,
    "start_time": "2023-01-18T19:15:43.568Z"
   },
   {
    "duration": 21,
    "start_time": "2023-01-18T19:16:24.692Z"
   },
   {
    "duration": 15,
    "start_time": "2023-01-18T19:17:29.435Z"
   },
   {
    "duration": 3,
    "start_time": "2023-01-18T19:19:21.474Z"
   },
   {
    "duration": 60,
    "start_time": "2023-01-18T19:19:22.138Z"
   },
   {
    "duration": 31,
    "start_time": "2023-01-18T19:19:22.670Z"
   },
   {
    "duration": 16,
    "start_time": "2023-01-18T19:19:24.108Z"
   },
   {
    "duration": 12,
    "start_time": "2023-01-18T19:19:25.471Z"
   },
   {
    "duration": 7,
    "start_time": "2023-01-18T19:19:28.238Z"
   },
   {
    "duration": 6,
    "start_time": "2023-01-18T19:19:30.549Z"
   },
   {
    "duration": 5,
    "start_time": "2023-01-18T19:19:31.607Z"
   },
   {
    "duration": 13,
    "start_time": "2023-01-18T19:22:15.615Z"
   },
   {
    "duration": 2,
    "start_time": "2023-01-18T19:23:02.296Z"
   },
   {
    "duration": 59,
    "start_time": "2023-01-18T19:23:03.913Z"
   },
   {
    "duration": 19,
    "start_time": "2023-01-18T19:23:05.165Z"
   },
   {
    "duration": 15,
    "start_time": "2023-01-18T19:23:06.955Z"
   },
   {
    "duration": 12,
    "start_time": "2023-01-18T19:23:08.337Z"
   },
   {
    "duration": 7,
    "start_time": "2023-01-18T19:23:09.912Z"
   },
   {
    "duration": 5,
    "start_time": "2023-01-18T19:23:11.158Z"
   },
   {
    "duration": 5,
    "start_time": "2023-01-18T19:23:11.920Z"
   },
   {
    "duration": 8,
    "start_time": "2023-01-18T19:23:38.480Z"
   },
   {
    "duration": 5,
    "start_time": "2023-01-18T19:23:49.855Z"
   },
   {
    "duration": 7,
    "start_time": "2023-01-18T19:24:18.498Z"
   },
   {
    "duration": 5,
    "start_time": "2023-01-18T19:25:24.793Z"
   },
   {
    "duration": 6,
    "start_time": "2023-01-18T19:25:29.474Z"
   },
   {
    "duration": 5,
    "start_time": "2023-01-18T19:25:30.145Z"
   },
   {
    "duration": 6,
    "start_time": "2023-01-18T19:25:30.717Z"
   },
   {
    "duration": 5,
    "start_time": "2023-01-18T19:27:28.898Z"
   },
   {
    "duration": 6,
    "start_time": "2023-01-18T19:27:45.069Z"
   },
   {
    "duration": 1325,
    "start_time": "2023-01-19T18:18:24.068Z"
   },
   {
    "duration": 106,
    "start_time": "2023-01-19T18:18:26.023Z"
   },
   {
    "duration": 20,
    "start_time": "2023-01-19T18:18:26.774Z"
   },
   {
    "duration": 20,
    "start_time": "2023-01-19T18:18:28.320Z"
   },
   {
    "duration": 5,
    "start_time": "2023-01-19T18:18:29.510Z"
   },
   {
    "duration": 7,
    "start_time": "2023-01-19T18:18:29.993Z"
   },
   {
    "duration": 6,
    "start_time": "2023-01-19T18:18:30.444Z"
   },
   {
    "duration": 7,
    "start_time": "2023-01-19T18:18:30.942Z"
   },
   {
    "duration": 7,
    "start_time": "2023-01-19T18:18:31.429Z"
   },
   {
    "duration": 7,
    "start_time": "2023-01-19T18:18:31.926Z"
   },
   {
    "duration": 6,
    "start_time": "2023-01-19T18:18:32.407Z"
   },
   {
    "duration": 6,
    "start_time": "2023-01-19T18:18:35.973Z"
   },
   {
    "duration": 7,
    "start_time": "2023-01-19T18:22:20.192Z"
   },
   {
    "duration": 6,
    "start_time": "2023-01-19T18:22:32.124Z"
   },
   {
    "duration": 69,
    "start_time": "2023-01-19T18:22:59.270Z"
   },
   {
    "duration": 2,
    "start_time": "2023-01-19T18:52:24.489Z"
   },
   {
    "duration": 57,
    "start_time": "2023-01-19T18:52:24.753Z"
   },
   {
    "duration": 21,
    "start_time": "2023-01-19T18:52:25.007Z"
   },
   {
    "duration": 13,
    "start_time": "2023-01-19T18:52:25.907Z"
   },
   {
    "duration": 6,
    "start_time": "2023-01-19T18:52:27.044Z"
   },
   {
    "duration": 6,
    "start_time": "2023-01-19T18:52:27.492Z"
   },
   {
    "duration": 4,
    "start_time": "2023-01-19T18:52:27.701Z"
   },
   {
    "duration": 5,
    "start_time": "2023-01-19T18:52:27.864Z"
   },
   {
    "duration": 5,
    "start_time": "2023-01-19T18:52:28.024Z"
   },
   {
    "duration": 5,
    "start_time": "2023-01-19T18:52:28.230Z"
   },
   {
    "duration": 4,
    "start_time": "2023-01-19T18:52:28.406Z"
   },
   {
    "duration": 5,
    "start_time": "2023-01-19T18:52:28.920Z"
   },
   {
    "duration": 103,
    "start_time": "2023-01-19T18:52:29.124Z"
   },
   {
    "duration": 5,
    "start_time": "2023-01-19T19:13:09.675Z"
   },
   {
    "duration": 17,
    "start_time": "2023-01-19T19:17:08.479Z"
   },
   {
    "duration": 95,
    "start_time": "2023-01-19T19:17:24.839Z"
   },
   {
    "duration": 82,
    "start_time": "2023-01-19T19:17:28.244Z"
   },
   {
    "duration": 6,
    "start_time": "2023-01-19T19:22:54.167Z"
   },
   {
    "duration": 18,
    "start_time": "2023-01-19T19:23:18.654Z"
   },
   {
    "duration": 1284,
    "start_time": "2023-01-21T19:03:17.336Z"
   },
   {
    "duration": 108,
    "start_time": "2023-01-21T19:03:18.622Z"
   },
   {
    "duration": 18,
    "start_time": "2023-01-21T19:03:18.731Z"
   },
   {
    "duration": 14,
    "start_time": "2023-01-21T19:03:18.752Z"
   },
   {
    "duration": 6,
    "start_time": "2023-01-21T19:03:18.850Z"
   },
   {
    "duration": 5,
    "start_time": "2023-01-21T19:03:19.022Z"
   },
   {
    "duration": 5,
    "start_time": "2023-01-21T19:03:19.252Z"
   },
   {
    "duration": 7,
    "start_time": "2023-01-21T19:03:19.469Z"
   },
   {
    "duration": 6,
    "start_time": "2023-01-21T19:03:19.738Z"
   },
   {
    "duration": 6,
    "start_time": "2023-01-21T19:03:20.166Z"
   },
   {
    "duration": 6,
    "start_time": "2023-01-21T19:03:20.626Z"
   },
   {
    "duration": 6,
    "start_time": "2023-01-21T19:03:20.988Z"
   },
   {
    "duration": 380,
    "start_time": "2023-01-21T19:07:22.266Z"
   },
   {
    "duration": 4,
    "start_time": "2023-01-21T19:07:43.852Z"
   },
   {
    "duration": 4,
    "start_time": "2023-01-21T19:08:02.507Z"
   },
   {
    "duration": 5,
    "start_time": "2023-01-21T19:08:18.292Z"
   },
   {
    "duration": 5,
    "start_time": "2023-01-21T19:08:18.942Z"
   },
   {
    "duration": 4,
    "start_time": "2023-01-21T19:10:07.708Z"
   },
   {
    "duration": 4,
    "start_time": "2023-01-21T19:10:08.716Z"
   },
   {
    "duration": 4,
    "start_time": "2023-01-21T19:12:37.235Z"
   },
   {
    "duration": 5,
    "start_time": "2023-01-21T19:12:38.628Z"
   },
   {
    "duration": 16,
    "start_time": "2023-01-21T19:12:39.162Z"
   },
   {
    "duration": 5,
    "start_time": "2023-01-21T19:12:41.014Z"
   },
   {
    "duration": 18,
    "start_time": "2023-01-21T19:12:41.212Z"
   },
   {
    "duration": 235,
    "start_time": "2023-01-21T19:19:05.961Z"
   },
   {
    "duration": 283,
    "start_time": "2023-01-21T19:19:12.577Z"
   },
   {
    "duration": 188,
    "start_time": "2023-01-21T19:19:25.084Z"
   },
   {
    "duration": 279,
    "start_time": "2023-01-21T19:19:31.867Z"
   },
   {
    "duration": 8,
    "start_time": "2023-01-21T19:58:35.268Z"
   },
   {
    "duration": 10,
    "start_time": "2023-01-21T20:21:53.389Z"
   },
   {
    "duration": 12,
    "start_time": "2023-01-21T20:22:30.750Z"
   },
   {
    "duration": 10,
    "start_time": "2023-01-21T20:22:44.681Z"
   },
   {
    "duration": 10,
    "start_time": "2023-01-21T20:23:37.973Z"
   },
   {
    "duration": 11,
    "start_time": "2023-01-21T20:23:47.472Z"
   },
   {
    "duration": 361,
    "start_time": "2023-01-21T20:29:05.407Z"
   },
   {
    "duration": 257,
    "start_time": "2023-01-21T20:53:06.897Z"
   },
   {
    "duration": 72,
    "start_time": "2023-01-21T21:09:09.872Z"
   },
   {
    "duration": 12,
    "start_time": "2023-01-21T21:14:41.999Z"
   },
   {
    "duration": 10,
    "start_time": "2023-01-21T21:16:04.724Z"
   },
   {
    "duration": 3,
    "start_time": "2023-01-21T21:18:25.884Z"
   },
   {
    "duration": 57,
    "start_time": "2023-01-21T21:18:26.283Z"
   },
   {
    "duration": 28,
    "start_time": "2023-01-21T21:18:26.658Z"
   },
   {
    "duration": 13,
    "start_time": "2023-01-21T21:18:27.554Z"
   },
   {
    "duration": 6,
    "start_time": "2023-01-21T21:18:28.656Z"
   },
   {
    "duration": 5,
    "start_time": "2023-01-21T21:18:29.108Z"
   },
   {
    "duration": 5,
    "start_time": "2023-01-21T21:18:29.563Z"
   },
   {
    "duration": 7,
    "start_time": "2023-01-21T21:18:30.010Z"
   },
   {
    "duration": 5,
    "start_time": "2023-01-21T21:18:30.427Z"
   },
   {
    "duration": 5,
    "start_time": "2023-01-21T21:18:30.860Z"
   },
   {
    "duration": 6,
    "start_time": "2023-01-21T21:18:31.325Z"
   },
   {
    "duration": 6,
    "start_time": "2023-01-21T21:18:31.767Z"
   },
   {
    "duration": 4,
    "start_time": "2023-01-21T21:18:32.198Z"
   },
   {
    "duration": 5,
    "start_time": "2023-01-21T21:18:34.319Z"
   },
   {
    "duration": 21,
    "start_time": "2023-01-21T21:18:35.123Z"
   },
   {
    "duration": 5,
    "start_time": "2023-01-21T21:18:36.610Z"
   },
   {
    "duration": 15,
    "start_time": "2023-01-21T21:18:37.086Z"
   },
   {
    "duration": 280,
    "start_time": "2023-01-21T21:18:40.013Z"
   },
   {
    "duration": 7,
    "start_time": "2023-01-21T21:18:45.836Z"
   },
   {
    "duration": 9,
    "start_time": "2023-01-21T21:18:48.833Z"
   },
   {
    "duration": 9,
    "start_time": "2023-01-21T21:20:27.706Z"
   },
   {
    "duration": 8,
    "start_time": "2023-01-21T21:20:33.040Z"
   },
   {
    "duration": 310,
    "start_time": "2023-01-21T21:21:22.160Z"
   },
   {
    "duration": 260,
    "start_time": "2023-01-21T21:21:36.679Z"
   },
   {
    "duration": 337,
    "start_time": "2023-01-21T21:22:14.774Z"
   },
   {
    "duration": 15,
    "start_time": "2023-01-21T21:25:45.005Z"
   },
   {
    "duration": 3,
    "start_time": "2023-01-21T21:26:06.617Z"
   },
   {
    "duration": 56,
    "start_time": "2023-01-21T21:26:06.801Z"
   },
   {
    "duration": 18,
    "start_time": "2023-01-21T21:26:06.973Z"
   },
   {
    "duration": 14,
    "start_time": "2023-01-21T21:26:07.361Z"
   },
   {
    "duration": 6,
    "start_time": "2023-01-21T21:26:07.720Z"
   },
   {
    "duration": 5,
    "start_time": "2023-01-21T21:26:07.900Z"
   },
   {
    "duration": 5,
    "start_time": "2023-01-21T21:26:08.093Z"
   },
   {
    "duration": 8,
    "start_time": "2023-01-21T21:26:08.285Z"
   },
   {
    "duration": 5,
    "start_time": "2023-01-21T21:26:08.467Z"
   },
   {
    "duration": 5,
    "start_time": "2023-01-21T21:26:08.660Z"
   },
   {
    "duration": 5,
    "start_time": "2023-01-21T21:26:08.844Z"
   },
   {
    "duration": 5,
    "start_time": "2023-01-21T21:26:09.033Z"
   },
   {
    "duration": 5,
    "start_time": "2023-01-21T21:26:09.214Z"
   },
   {
    "duration": 5,
    "start_time": "2023-01-21T21:26:09.956Z"
   },
   {
    "duration": 23,
    "start_time": "2023-01-21T21:26:10.131Z"
   },
   {
    "duration": 5,
    "start_time": "2023-01-21T21:26:11.559Z"
   },
   {
    "duration": 15,
    "start_time": "2023-01-21T21:26:11.785Z"
   },
   {
    "duration": 378,
    "start_time": "2023-01-21T21:26:13.913Z"
   },
   {
    "duration": 7,
    "start_time": "2023-01-21T21:26:21.834Z"
   },
   {
    "duration": 9,
    "start_time": "2023-01-21T21:26:25.956Z"
   },
   {
    "duration": 9,
    "start_time": "2023-01-21T21:26:26.581Z"
   },
   {
    "duration": 286,
    "start_time": "2023-01-21T21:26:27.979Z"
   },
   {
    "duration": 264,
    "start_time": "2023-01-21T21:26:31.589Z"
   },
   {
    "duration": 14,
    "start_time": "2023-01-21T21:26:41.406Z"
   },
   {
    "duration": 13,
    "start_time": "2023-01-21T21:27:12.518Z"
   },
   {
    "duration": 139,
    "start_time": "2023-01-21T21:34:56.472Z"
   },
   {
    "duration": 120,
    "start_time": "2023-01-21T21:35:31.886Z"
   },
   {
    "duration": 149,
    "start_time": "2023-01-21T21:36:00.598Z"
   },
   {
    "duration": 235,
    "start_time": "2023-01-21T21:36:22.392Z"
   },
   {
    "duration": 117,
    "start_time": "2023-01-21T21:36:47.032Z"
   },
   {
    "duration": 126,
    "start_time": "2023-01-21T21:37:19.490Z"
   },
   {
    "duration": 10,
    "start_time": "2023-01-21T22:13:05.147Z"
   },
   {
    "duration": 254,
    "start_time": "2023-01-21T22:27:47.823Z"
   },
   {
    "duration": 273,
    "start_time": "2023-01-21T22:44:51.292Z"
   },
   {
    "duration": 252,
    "start_time": "2023-01-21T22:45:01.599Z"
   },
   {
    "duration": 248,
    "start_time": "2023-01-21T22:46:41.236Z"
   },
   {
    "duration": 8,
    "start_time": "2023-01-21T23:02:36.699Z"
   },
   {
    "duration": 7,
    "start_time": "2023-01-21T23:02:44.829Z"
   },
   {
    "duration": 930,
    "start_time": "2023-01-21T23:06:29.943Z"
   },
   {
    "duration": 739,
    "start_time": "2023-01-21T23:07:55.277Z"
   },
   {
    "duration": 742,
    "start_time": "2023-01-21T23:08:08.288Z"
   },
   {
    "duration": 368,
    "start_time": "2023-01-21T23:12:12.483Z"
   },
   {
    "duration": 1232,
    "start_time": "2023-01-22T10:55:58.345Z"
   },
   {
    "duration": 102,
    "start_time": "2023-01-22T10:55:59.579Z"
   },
   {
    "duration": 18,
    "start_time": "2023-01-22T10:55:59.682Z"
   },
   {
    "duration": 15,
    "start_time": "2023-01-22T10:55:59.702Z"
   },
   {
    "duration": 6,
    "start_time": "2023-01-22T10:55:59.718Z"
   },
   {
    "duration": 4,
    "start_time": "2023-01-22T10:56:00.113Z"
   },
   {
    "duration": 18,
    "start_time": "2023-01-22T10:56:00.119Z"
   },
   {
    "duration": 12,
    "start_time": "2023-01-22T10:56:00.139Z"
   },
   {
    "duration": 18,
    "start_time": "2023-01-22T10:56:00.152Z"
   },
   {
    "duration": 5,
    "start_time": "2023-01-22T10:56:00.681Z"
   },
   {
    "duration": 21,
    "start_time": "2023-01-22T10:56:00.687Z"
   },
   {
    "duration": 19,
    "start_time": "2023-01-22T10:56:00.709Z"
   },
   {
    "duration": 5,
    "start_time": "2023-01-22T10:56:01.044Z"
   },
   {
    "duration": 5,
    "start_time": "2023-01-22T10:56:01.404Z"
   },
   {
    "duration": 16,
    "start_time": "2023-01-22T10:56:01.576Z"
   },
   {
    "duration": 5,
    "start_time": "2023-01-22T10:56:02.262Z"
   },
   {
    "duration": 15,
    "start_time": "2023-01-22T10:56:02.706Z"
   },
   {
    "duration": 279,
    "start_time": "2023-01-22T10:56:03.169Z"
   },
   {
    "duration": 8,
    "start_time": "2023-01-22T10:56:04.351Z"
   },
   {
    "duration": 40,
    "start_time": "2023-01-22T10:56:04.361Z"
   },
   {
    "duration": 21,
    "start_time": "2023-01-22T10:56:04.402Z"
   },
   {
    "duration": 278,
    "start_time": "2023-01-22T10:56:08.238Z"
   },
   {
    "duration": 253,
    "start_time": "2023-01-22T10:56:08.518Z"
   },
   {
    "duration": 22,
    "start_time": "2023-01-22T10:56:08.773Z"
   },
   {
    "duration": 144,
    "start_time": "2023-01-22T10:56:08.798Z"
   },
   {
    "duration": 149,
    "start_time": "2023-01-22T10:56:08.944Z"
   },
   {
    "duration": 217,
    "start_time": "2023-01-22T10:56:09.095Z"
   },
   {
    "duration": 128,
    "start_time": "2023-01-22T10:56:09.314Z"
   },
   {
    "duration": 133,
    "start_time": "2023-01-22T10:56:09.443Z"
   },
   {
    "duration": 3,
    "start_time": "2023-01-22T11:06:46.789Z"
   },
   {
    "duration": 55,
    "start_time": "2023-01-22T11:06:46.965Z"
   },
   {
    "duration": 17,
    "start_time": "2023-01-22T11:06:47.132Z"
   },
   {
    "duration": 13,
    "start_time": "2023-01-22T11:06:47.484Z"
   },
   {
    "duration": 6,
    "start_time": "2023-01-22T11:06:47.831Z"
   },
   {
    "duration": 5,
    "start_time": "2023-01-22T11:06:48.014Z"
   },
   {
    "duration": 4,
    "start_time": "2023-01-22T11:06:48.198Z"
   },
   {
    "duration": 6,
    "start_time": "2023-01-22T11:06:48.372Z"
   },
   {
    "duration": 4,
    "start_time": "2023-01-22T11:06:48.565Z"
   },
   {
    "duration": 5,
    "start_time": "2023-01-22T11:06:48.729Z"
   },
   {
    "duration": 5,
    "start_time": "2023-01-22T11:06:48.912Z"
   },
   {
    "duration": 5,
    "start_time": "2023-01-22T11:06:49.098Z"
   },
   {
    "duration": 4,
    "start_time": "2023-01-22T11:06:49.273Z"
   },
   {
    "duration": 5,
    "start_time": "2023-01-22T11:06:50.001Z"
   },
   {
    "duration": 14,
    "start_time": "2023-01-22T11:06:50.178Z"
   },
   {
    "duration": 5,
    "start_time": "2023-01-22T11:06:50.721Z"
   },
   {
    "duration": 16,
    "start_time": "2023-01-22T11:06:50.907Z"
   },
   {
    "duration": 297,
    "start_time": "2023-01-22T11:06:51.917Z"
   },
   {
    "duration": 6,
    "start_time": "2023-01-22T11:06:52.590Z"
   },
   {
    "duration": 10,
    "start_time": "2023-01-22T11:06:52.954Z"
   },
   {
    "duration": 9,
    "start_time": "2023-01-22T11:06:53.156Z"
   },
   {
    "duration": 450,
    "start_time": "2023-01-22T11:06:54.052Z"
   },
   {
    "duration": 251,
    "start_time": "2023-01-22T11:06:55.610Z"
   },
   {
    "duration": 12,
    "start_time": "2023-01-22T11:06:56.822Z"
   },
   {
    "duration": 124,
    "start_time": "2023-01-22T11:06:58.026Z"
   },
   {
    "duration": 124,
    "start_time": "2023-01-22T11:06:58.409Z"
   },
   {
    "duration": 123,
    "start_time": "2023-01-22T11:06:58.873Z"
   },
   {
    "duration": 118,
    "start_time": "2023-01-22T11:06:59.349Z"
   },
   {
    "duration": 129,
    "start_time": "2023-01-22T11:06:59.907Z"
   },
   {
    "duration": 247,
    "start_time": "2023-01-22T11:07:01.728Z"
   },
   {
    "duration": 227,
    "start_time": "2023-01-22T11:07:06.551Z"
   },
   {
    "duration": 151,
    "start_time": "2023-01-22T11:07:39.051Z"
   },
   {
    "duration": 152,
    "start_time": "2023-01-22T11:08:18.776Z"
   },
   {
    "duration": 247,
    "start_time": "2023-01-22T11:09:23.876Z"
   },
   {
    "duration": 231,
    "start_time": "2023-01-22T11:12:25.014Z"
   },
   {
    "duration": 4,
    "start_time": "2023-01-22T11:23:28.136Z"
   },
   {
    "duration": 80,
    "start_time": "2023-01-22T11:23:28.292Z"
   },
   {
    "duration": 29,
    "start_time": "2023-01-22T11:23:28.456Z"
   },
   {
    "duration": 20,
    "start_time": "2023-01-22T11:23:28.786Z"
   },
   {
    "duration": 8,
    "start_time": "2023-01-22T11:23:29.109Z"
   },
   {
    "duration": 7,
    "start_time": "2023-01-22T11:23:29.255Z"
   },
   {
    "duration": 5,
    "start_time": "2023-01-22T11:23:29.430Z"
   },
   {
    "duration": 8,
    "start_time": "2023-01-22T11:23:29.606Z"
   },
   {
    "duration": 7,
    "start_time": "2023-01-22T11:23:29.765Z"
   },
   {
    "duration": 6,
    "start_time": "2023-01-22T11:23:29.935Z"
   },
   {
    "duration": 4,
    "start_time": "2023-01-22T11:23:30.106Z"
   },
   {
    "duration": 5,
    "start_time": "2023-01-22T11:23:30.273Z"
   },
   {
    "duration": 15,
    "start_time": "2023-01-22T11:23:30.455Z"
   },
   {
    "duration": 5,
    "start_time": "2023-01-22T11:23:30.621Z"
   },
   {
    "duration": 14,
    "start_time": "2023-01-22T11:23:30.789Z"
   },
   {
    "duration": 5,
    "start_time": "2023-01-22T11:23:31.639Z"
   },
   {
    "duration": 17,
    "start_time": "2023-01-22T11:23:31.821Z"
   },
   {
    "duration": 5,
    "start_time": "2023-01-22T11:23:32.334Z"
   },
   {
    "duration": 17,
    "start_time": "2023-01-22T11:23:32.524Z"
   },
   {
    "duration": 305,
    "start_time": "2023-01-22T11:23:33.211Z"
   },
   {
    "duration": 5,
    "start_time": "2023-01-22T11:23:33.756Z"
   },
   {
    "duration": 18,
    "start_time": "2023-01-22T11:23:34.102Z"
   },
   {
    "duration": 25,
    "start_time": "2023-01-22T11:23:34.285Z"
   },
   {
    "duration": 312,
    "start_time": "2023-01-22T11:23:34.654Z"
   },
   {
    "duration": 294,
    "start_time": "2023-01-22T11:23:35.166Z"
   },
   {
    "duration": 26,
    "start_time": "2023-01-22T11:23:35.887Z"
   },
   {
    "duration": 144,
    "start_time": "2023-01-22T11:23:36.417Z"
   },
   {
    "duration": 145,
    "start_time": "2023-01-22T11:23:36.607Z"
   },
   {
    "duration": 160,
    "start_time": "2023-01-22T11:23:36.775Z"
   },
   {
    "duration": 141,
    "start_time": "2023-01-22T11:23:36.984Z"
   },
   {
    "duration": 282,
    "start_time": "2023-01-22T11:23:37.154Z"
   },
   {
    "duration": 271,
    "start_time": "2023-01-22T11:23:37.659Z"
   },
   {
    "duration": 168,
    "start_time": "2023-01-22T11:23:38.558Z"
   },
   {
    "duration": 161,
    "start_time": "2023-01-22T11:23:38.813Z"
   },
   {
    "duration": 273,
    "start_time": "2023-01-22T11:23:38.982Z"
   },
   {
    "duration": 237,
    "start_time": "2023-01-22T11:23:51.711Z"
   },
   {
    "duration": 3,
    "start_time": "2023-01-22T11:26:30.880Z"
   },
   {
    "duration": 65,
    "start_time": "2023-01-22T11:26:31.038Z"
   },
   {
    "duration": 20,
    "start_time": "2023-01-22T11:26:31.221Z"
   },
   {
    "duration": 20,
    "start_time": "2023-01-22T11:26:31.585Z"
   },
   {
    "duration": 9,
    "start_time": "2023-01-22T11:26:32.001Z"
   },
   {
    "duration": 5,
    "start_time": "2023-01-22T11:26:32.553Z"
   },
   {
    "duration": 4,
    "start_time": "2023-01-22T11:26:32.970Z"
   },
   {
    "duration": 8,
    "start_time": "2023-01-22T11:26:33.470Z"
   },
   {
    "duration": 9,
    "start_time": "2023-01-22T11:26:33.806Z"
   },
   {
    "duration": 7,
    "start_time": "2023-01-22T11:26:34.054Z"
   },
   {
    "duration": 4,
    "start_time": "2023-01-22T11:26:34.258Z"
   },
   {
    "duration": 6,
    "start_time": "2023-01-22T11:26:34.668Z"
   },
   {
    "duration": 6,
    "start_time": "2023-01-22T11:26:35.063Z"
   },
   {
    "duration": 4,
    "start_time": "2023-01-22T11:26:35.441Z"
   },
   {
    "duration": 5,
    "start_time": "2023-01-22T11:26:39.355Z"
   },
   {
    "duration": 5,
    "start_time": "2023-01-22T11:26:40.259Z"
   },
   {
    "duration": 14,
    "start_time": "2023-01-22T11:26:43.240Z"
   },
   {
    "duration": 5,
    "start_time": "2023-01-22T11:26:47.759Z"
   },
   {
    "duration": 17,
    "start_time": "2023-01-22T11:26:47.972Z"
   },
   {
    "duration": 297,
    "start_time": "2023-01-22T11:26:48.782Z"
   },
   {
    "duration": 6,
    "start_time": "2023-01-22T11:26:49.357Z"
   },
   {
    "duration": 10,
    "start_time": "2023-01-22T11:26:49.720Z"
   },
   {
    "duration": 8,
    "start_time": "2023-01-22T11:26:49.907Z"
   },
   {
    "duration": 325,
    "start_time": "2023-01-22T11:26:50.361Z"
   },
   {
    "duration": 282,
    "start_time": "2023-01-22T11:26:50.973Z"
   },
   {
    "duration": 15,
    "start_time": "2023-01-22T11:26:51.828Z"
   },
   {
    "duration": 141,
    "start_time": "2023-01-22T11:26:52.376Z"
   },
   {
    "duration": 154,
    "start_time": "2023-01-22T11:26:52.558Z"
   },
   {
    "duration": 147,
    "start_time": "2023-01-22T11:26:52.749Z"
   },
   {
    "duration": 287,
    "start_time": "2023-01-22T11:26:52.924Z"
   },
   {
    "duration": 142,
    "start_time": "2023-01-22T11:26:53.213Z"
   },
   {
    "duration": 305,
    "start_time": "2023-01-22T11:26:53.670Z"
   },
   {
    "duration": 167,
    "start_time": "2023-01-22T11:26:54.584Z"
   },
   {
    "duration": 165,
    "start_time": "2023-01-22T11:26:54.955Z"
   },
   {
    "duration": 8,
    "start_time": "2023-01-22T11:26:55.417Z"
   },
   {
    "duration": 7,
    "start_time": "2023-01-22T11:29:24.527Z"
   },
   {
    "duration": 60,
    "start_time": "2023-01-22T21:10:57.393Z"
   },
   {
    "duration": 1360,
    "start_time": "2023-01-22T21:11:05.913Z"
   },
   {
    "duration": 123,
    "start_time": "2023-01-22T21:11:07.275Z"
   },
   {
    "duration": 22,
    "start_time": "2023-01-22T21:11:07.399Z"
   },
   {
    "duration": 28,
    "start_time": "2023-01-22T21:11:07.423Z"
   },
   {
    "duration": 12,
    "start_time": "2023-01-22T21:11:07.457Z"
   },
   {
    "duration": 7,
    "start_time": "2023-01-22T21:11:07.471Z"
   },
   {
    "duration": 7,
    "start_time": "2023-01-22T21:11:07.479Z"
   },
   {
    "duration": 9,
    "start_time": "2023-01-22T21:11:07.488Z"
   },
   {
    "duration": 5,
    "start_time": "2023-01-22T21:11:07.665Z"
   },
   {
    "duration": 5,
    "start_time": "2023-01-22T21:11:07.826Z"
   },
   {
    "duration": 4,
    "start_time": "2023-01-22T21:11:08.001Z"
   },
   {
    "duration": 5,
    "start_time": "2023-01-22T21:11:08.178Z"
   },
   {
    "duration": 5,
    "start_time": "2023-01-22T21:11:08.373Z"
   },
   {
    "duration": 5,
    "start_time": "2023-01-22T21:11:08.730Z"
   },
   {
    "duration": 7,
    "start_time": "2023-01-22T21:11:09.421Z"
   },
   {
    "duration": 5,
    "start_time": "2023-01-22T21:11:09.589Z"
   },
   {
    "duration": 17,
    "start_time": "2023-01-22T21:11:09.768Z"
   },
   {
    "duration": 6,
    "start_time": "2023-01-22T21:11:10.306Z"
   },
   {
    "duration": 17,
    "start_time": "2023-01-22T21:11:10.458Z"
   },
   {
    "duration": 369,
    "start_time": "2023-01-22T21:11:11.189Z"
   },
   {
    "duration": 6,
    "start_time": "2023-01-22T21:11:11.697Z"
   },
   {
    "duration": 12,
    "start_time": "2023-01-22T21:11:12.054Z"
   },
   {
    "duration": 9,
    "start_time": "2023-01-22T21:11:12.230Z"
   },
   {
    "duration": 324,
    "start_time": "2023-01-22T21:11:12.598Z"
   },
   {
    "duration": 317,
    "start_time": "2023-01-22T21:11:13.154Z"
   },
   {
    "duration": 15,
    "start_time": "2023-01-22T21:11:13.914Z"
   },
   {
    "duration": 163,
    "start_time": "2023-01-22T21:11:14.516Z"
   },
   {
    "duration": 163,
    "start_time": "2023-01-22T21:11:14.715Z"
   },
   {
    "duration": 235,
    "start_time": "2023-01-22T21:11:14.970Z"
   },
   {
    "duration": 175,
    "start_time": "2023-01-22T21:11:15.207Z"
   },
   {
    "duration": 160,
    "start_time": "2023-01-22T21:11:15.415Z"
   },
   {
    "duration": 303,
    "start_time": "2023-01-22T21:11:16.026Z"
   },
   {
    "duration": 180,
    "start_time": "2023-01-22T21:11:16.877Z"
   },
   {
    "duration": 188,
    "start_time": "2023-01-22T21:11:17.129Z"
   },
   {
    "duration": 8,
    "start_time": "2023-01-22T21:11:17.362Z"
   },
   {
    "duration": 10,
    "start_time": "2023-01-22T21:11:17.856Z"
   },
   {
    "duration": 107,
    "start_time": "2023-01-22T21:11:18.862Z"
   },
   {
    "duration": 503,
    "start_time": "2023-01-22T21:16:33.226Z"
   },
   {
    "duration": 76,
    "start_time": "2023-01-22T21:23:44.811Z"
   },
   {
    "duration": 705,
    "start_time": "2023-01-22T21:25:05.638Z"
   },
   {
    "duration": 556,
    "start_time": "2023-01-22T21:25:39.876Z"
   },
   {
    "duration": 3,
    "start_time": "2023-01-22T21:26:34.245Z"
   },
   {
    "duration": 541,
    "start_time": "2023-01-22T21:28:23.176Z"
   },
   {
    "duration": 1338,
    "start_time": "2023-01-23T19:32:01.066Z"
   },
   {
    "duration": 213,
    "start_time": "2023-01-23T19:32:02.406Z"
   },
   {
    "duration": 20,
    "start_time": "2023-01-23T19:32:02.620Z"
   },
   {
    "duration": 17,
    "start_time": "2023-01-23T19:32:02.642Z"
   },
   {
    "duration": 7,
    "start_time": "2023-01-23T19:32:02.661Z"
   },
   {
    "duration": 10,
    "start_time": "2023-01-23T19:32:02.682Z"
   },
   {
    "duration": 12,
    "start_time": "2023-01-23T19:32:02.694Z"
   },
   {
    "duration": 16,
    "start_time": "2023-01-23T19:32:02.708Z"
   },
   {
    "duration": 5,
    "start_time": "2023-01-23T19:32:02.774Z"
   },
   {
    "duration": 5,
    "start_time": "2023-01-23T19:32:02.955Z"
   },
   {
    "duration": 4,
    "start_time": "2023-01-23T19:32:03.114Z"
   },
   {
    "duration": 5,
    "start_time": "2023-01-23T19:32:03.298Z"
   },
   {
    "duration": 5,
    "start_time": "2023-01-23T19:32:03.478Z"
   },
   {
    "duration": 5,
    "start_time": "2023-01-23T19:32:03.636Z"
   },
   {
    "duration": 5,
    "start_time": "2023-01-23T19:32:04.357Z"
   },
   {
    "duration": 5,
    "start_time": "2023-01-23T19:32:04.540Z"
   },
   {
    "duration": 18,
    "start_time": "2023-01-23T19:32:04.719Z"
   },
   {
    "duration": 6,
    "start_time": "2023-01-23T19:32:05.265Z"
   },
   {
    "duration": 20,
    "start_time": "2023-01-23T19:32:05.446Z"
   },
   {
    "duration": 371,
    "start_time": "2023-01-23T19:32:06.153Z"
   },
   {
    "duration": 7,
    "start_time": "2023-01-23T19:32:06.690Z"
   },
   {
    "duration": 13,
    "start_time": "2023-01-23T19:32:07.074Z"
   },
   {
    "duration": 8,
    "start_time": "2023-01-23T19:32:07.252Z"
   },
   {
    "duration": 328,
    "start_time": "2023-01-23T19:32:07.631Z"
   },
   {
    "duration": 288,
    "start_time": "2023-01-23T19:32:08.164Z"
   },
   {
    "duration": 14,
    "start_time": "2023-01-23T19:32:08.962Z"
   },
   {
    "duration": 132,
    "start_time": "2023-01-23T19:32:09.469Z"
   },
   {
    "duration": 132,
    "start_time": "2023-01-23T19:32:09.659Z"
   },
   {
    "duration": 214,
    "start_time": "2023-01-23T19:32:09.886Z"
   },
   {
    "duration": 137,
    "start_time": "2023-01-23T19:32:10.102Z"
   },
   {
    "duration": 149,
    "start_time": "2023-01-23T19:32:10.240Z"
   },
   {
    "duration": 273,
    "start_time": "2023-01-23T19:32:10.791Z"
   },
   {
    "duration": 161,
    "start_time": "2023-01-23T19:32:11.538Z"
   },
   {
    "duration": 155,
    "start_time": "2023-01-23T19:32:11.731Z"
   },
   {
    "duration": 9,
    "start_time": "2023-01-23T19:32:11.927Z"
   },
   {
    "duration": 7,
    "start_time": "2023-01-23T19:32:12.320Z"
   },
   {
    "duration": 74,
    "start_time": "2023-01-23T19:32:13.079Z"
   },
   {
    "duration": 491,
    "start_time": "2023-01-23T19:32:13.271Z"
   },
   {
    "duration": 614,
    "start_time": "2023-01-23T19:32:13.764Z"
   },
   {
    "duration": 512,
    "start_time": "2023-01-23T19:32:14.381Z"
   },
   {
    "duration": 512,
    "start_time": "2023-01-23T19:33:24.603Z"
   },
   {
    "duration": 7,
    "start_time": "2023-01-23T20:24:56.821Z"
   },
   {
    "duration": 164,
    "start_time": "2023-01-23T20:24:57.940Z"
   },
   {
    "duration": 158,
    "start_time": "2023-01-23T20:28:59.734Z"
   },
   {
    "duration": 95,
    "start_time": "2023-01-23T20:49:19.854Z"
   },
   {
    "duration": 5,
    "start_time": "2023-01-23T20:49:25.889Z"
   },
   {
    "duration": 56,
    "start_time": "2023-01-23T20:52:27.262Z"
   },
   {
    "duration": 20,
    "start_time": "2023-01-23T20:53:09.100Z"
   },
   {
    "duration": 21,
    "start_time": "2023-01-23T20:53:11.333Z"
   },
   {
    "duration": 1215,
    "start_time": "2023-01-24T18:27:19.309Z"
   },
   {
    "duration": 105,
    "start_time": "2023-01-24T18:27:20.527Z"
   },
   {
    "duration": 18,
    "start_time": "2023-01-24T18:27:20.633Z"
   },
   {
    "duration": 29,
    "start_time": "2023-01-24T18:27:20.653Z"
   },
   {
    "duration": 6,
    "start_time": "2023-01-24T18:27:20.684Z"
   },
   {
    "duration": 15,
    "start_time": "2023-01-24T18:27:20.692Z"
   },
   {
    "duration": 4,
    "start_time": "2023-01-24T18:27:20.736Z"
   },
   {
    "duration": 6,
    "start_time": "2023-01-24T18:27:20.936Z"
   },
   {
    "duration": 5,
    "start_time": "2023-01-24T18:27:21.091Z"
   },
   {
    "duration": 5,
    "start_time": "2023-01-24T18:27:21.265Z"
   },
   {
    "duration": 3,
    "start_time": "2023-01-24T18:27:21.442Z"
   },
   {
    "duration": 5,
    "start_time": "2023-01-24T18:27:21.608Z"
   },
   {
    "duration": 6,
    "start_time": "2023-01-24T18:27:21.792Z"
   },
   {
    "duration": 5,
    "start_time": "2023-01-24T18:27:21.993Z"
   },
   {
    "duration": 5,
    "start_time": "2023-01-24T18:27:22.836Z"
   },
   {
    "duration": 5,
    "start_time": "2023-01-24T18:27:23.039Z"
   },
   {
    "duration": 18,
    "start_time": "2023-01-24T18:27:23.227Z"
   },
   {
    "duration": 7,
    "start_time": "2023-01-24T18:27:23.892Z"
   },
   {
    "duration": 18,
    "start_time": "2023-01-24T18:27:24.079Z"
   },
   {
    "duration": 297,
    "start_time": "2023-01-24T18:27:24.832Z"
   },
   {
    "duration": 7,
    "start_time": "2023-01-24T18:27:25.409Z"
   },
   {
    "duration": 16,
    "start_time": "2023-01-24T18:27:25.767Z"
   },
   {
    "duration": 13,
    "start_time": "2023-01-24T18:27:25.955Z"
   },
   {
    "duration": 273,
    "start_time": "2023-01-24T18:27:26.328Z"
   },
   {
    "duration": 251,
    "start_time": "2023-01-24T18:27:26.897Z"
   },
   {
    "duration": 13,
    "start_time": "2023-01-24T18:27:27.708Z"
   },
   {
    "duration": 127,
    "start_time": "2023-01-24T18:27:28.312Z"
   },
   {
    "duration": 207,
    "start_time": "2023-01-24T18:27:28.513Z"
   },
   {
    "duration": 147,
    "start_time": "2023-01-24T18:27:28.721Z"
   },
   {
    "duration": 119,
    "start_time": "2023-01-24T18:27:28.934Z"
   },
   {
    "duration": 131,
    "start_time": "2023-01-24T18:27:29.193Z"
   },
   {
    "duration": 248,
    "start_time": "2023-01-24T18:27:29.908Z"
   },
   {
    "duration": 151,
    "start_time": "2023-01-24T18:27:31.110Z"
   },
   {
    "duration": 149,
    "start_time": "2023-01-24T18:27:31.443Z"
   },
   {
    "duration": 8,
    "start_time": "2023-01-24T18:27:31.865Z"
   },
   {
    "duration": 7,
    "start_time": "2023-01-24T18:27:32.778Z"
   },
   {
    "duration": 72,
    "start_time": "2023-01-24T18:27:42.451Z"
   },
   {
    "duration": 479,
    "start_time": "2023-01-24T18:27:42.914Z"
   },
   {
    "duration": 594,
    "start_time": "2023-01-24T18:27:43.868Z"
   },
   {
    "duration": 504,
    "start_time": "2023-01-24T18:27:44.464Z"
   },
   {
    "duration": 485,
    "start_time": "2023-01-24T18:27:44.970Z"
   },
   {
    "duration": 6,
    "start_time": "2023-01-24T18:27:46.327Z"
   },
   {
    "duration": 145,
    "start_time": "2023-01-24T18:27:46.889Z"
   },
   {
    "duration": 155,
    "start_time": "2023-01-24T18:27:47.708Z"
   },
   {
    "duration": 53,
    "start_time": "2023-01-24T18:27:49.578Z"
   },
   {
    "duration": 19,
    "start_time": "2023-01-24T18:27:50.302Z"
   },
   {
    "duration": 20,
    "start_time": "2023-01-24T18:27:50.965Z"
   },
   {
    "duration": 289,
    "start_time": "2023-01-24T18:38:17.188Z"
   },
   {
    "duration": 795,
    "start_time": "2023-01-24T18:58:19.840Z"
   },
   {
    "duration": 726,
    "start_time": "2023-01-24T18:58:48.464Z"
   },
   {
    "duration": 12,
    "start_time": "2023-01-24T19:02:18.737Z"
   },
   {
    "duration": 9,
    "start_time": "2023-01-24T19:02:31.269Z"
   },
   {
    "duration": 9,
    "start_time": "2023-01-24T19:11:05.084Z"
   },
   {
    "duration": 47,
    "start_time": "2023-01-24T19:11:12.785Z"
   },
   {
    "duration": 10,
    "start_time": "2023-01-24T19:11:21.639Z"
   },
   {
    "duration": 315,
    "start_time": "2023-01-24T19:14:55.519Z"
   },
   {
    "duration": 295,
    "start_time": "2023-01-24T19:16:39.186Z"
   },
   {
    "duration": 10,
    "start_time": "2023-01-24T19:18:48.054Z"
   },
   {
    "duration": 264,
    "start_time": "2023-01-24T19:22:29.130Z"
   },
   {
    "duration": 8,
    "start_time": "2023-01-24T19:24:10.920Z"
   },
   {
    "duration": 16,
    "start_time": "2023-01-24T19:29:31.581Z"
   },
   {
    "duration": 249,
    "start_time": "2023-01-24T19:30:18.380Z"
   },
   {
    "duration": 59,
    "start_time": "2023-01-24T19:43:28.880Z"
   },
   {
    "duration": 49,
    "start_time": "2023-01-24T19:43:43.783Z"
   },
   {
    "duration": 8,
    "start_time": "2023-01-24T19:44:23.225Z"
   },
   {
    "duration": 42,
    "start_time": "2023-01-24T19:45:08.128Z"
   },
   {
    "duration": 62,
    "start_time": "2023-01-24T19:46:17.602Z"
   },
   {
    "duration": 38,
    "start_time": "2023-01-24T19:46:54.796Z"
   },
   {
    "duration": 10,
    "start_time": "2023-01-24T19:47:31.724Z"
   },
   {
    "duration": 50,
    "start_time": "2023-01-24T20:00:39.590Z"
   },
   {
    "duration": 12,
    "start_time": "2023-01-24T20:04:17.157Z"
   },
   {
    "duration": 52,
    "start_time": "2023-01-24T20:04:34.972Z"
   },
   {
    "duration": 56,
    "start_time": "2023-01-24T20:15:39.153Z"
   },
   {
    "duration": 193,
    "start_time": "2023-01-24T20:26:59.775Z"
   },
   {
    "duration": 2,
    "start_time": "2023-01-24T20:28:19.849Z"
   },
   {
    "duration": 49,
    "start_time": "2023-01-24T20:28:20.029Z"
   },
   {
    "duration": 19,
    "start_time": "2023-01-24T20:28:20.198Z"
   },
   {
    "duration": 14,
    "start_time": "2023-01-24T20:28:20.542Z"
   },
   {
    "duration": 6,
    "start_time": "2023-01-24T20:28:20.879Z"
   },
   {
    "duration": 4,
    "start_time": "2023-01-24T20:28:21.061Z"
   },
   {
    "duration": 4,
    "start_time": "2023-01-24T20:28:21.252Z"
   },
   {
    "duration": 5,
    "start_time": "2023-01-24T20:28:21.409Z"
   },
   {
    "duration": 5,
    "start_time": "2023-01-24T20:28:21.595Z"
   },
   {
    "duration": 5,
    "start_time": "2023-01-24T20:28:23.002Z"
   },
   {
    "duration": 3,
    "start_time": "2023-01-24T20:28:23.370Z"
   },
   {
    "duration": 5,
    "start_time": "2023-01-24T20:28:23.873Z"
   },
   {
    "duration": 5,
    "start_time": "2023-01-24T20:28:24.317Z"
   },
   {
    "duration": 4,
    "start_time": "2023-01-24T20:28:24.726Z"
   },
   {
    "duration": 4,
    "start_time": "2023-01-24T20:28:28.822Z"
   },
   {
    "duration": 5,
    "start_time": "2023-01-24T20:28:29.001Z"
   },
   {
    "duration": 18,
    "start_time": "2023-01-24T20:28:29.198Z"
   },
   {
    "duration": 4,
    "start_time": "2023-01-24T20:28:29.749Z"
   },
   {
    "duration": 15,
    "start_time": "2023-01-24T20:28:29.924Z"
   },
   {
    "duration": 260,
    "start_time": "2023-01-24T20:28:30.635Z"
   },
   {
    "duration": 5,
    "start_time": "2023-01-24T20:28:31.141Z"
   },
   {
    "duration": 10,
    "start_time": "2023-01-24T20:28:31.486Z"
   },
   {
    "duration": 7,
    "start_time": "2023-01-24T20:28:31.656Z"
   },
   {
    "duration": 256,
    "start_time": "2023-01-24T20:28:31.989Z"
   },
   {
    "duration": 235,
    "start_time": "2023-01-24T20:28:32.567Z"
   },
   {
    "duration": 13,
    "start_time": "2023-01-24T20:28:33.305Z"
   },
   {
    "duration": 117,
    "start_time": "2023-01-24T20:28:33.875Z"
   },
   {
    "duration": 241,
    "start_time": "2023-01-24T20:28:34.058Z"
   },
   {
    "duration": 141,
    "start_time": "2023-01-24T20:28:34.300Z"
   },
   {
    "duration": 112,
    "start_time": "2023-01-24T20:28:34.462Z"
   },
   {
    "duration": 118,
    "start_time": "2023-01-24T20:28:34.657Z"
   },
   {
    "duration": 236,
    "start_time": "2023-01-24T20:28:35.370Z"
   },
   {
    "duration": 131,
    "start_time": "2023-01-24T20:28:36.359Z"
   },
   {
    "duration": 135,
    "start_time": "2023-01-24T20:28:36.547Z"
   },
   {
    "duration": 7,
    "start_time": "2023-01-24T20:28:36.736Z"
   },
   {
    "duration": 7,
    "start_time": "2023-01-24T20:28:37.117Z"
   },
   {
    "duration": 64,
    "start_time": "2023-01-24T20:28:37.924Z"
   },
   {
    "duration": 432,
    "start_time": "2023-01-24T20:28:38.108Z"
   },
   {
    "duration": 462,
    "start_time": "2023-01-24T20:28:38.541Z"
   },
   {
    "duration": 615,
    "start_time": "2023-01-24T20:28:39.005Z"
   },
   {
    "duration": 472,
    "start_time": "2023-01-24T20:28:39.621Z"
   },
   {
    "duration": 6,
    "start_time": "2023-01-24T20:28:40.095Z"
   },
   {
    "duration": 155,
    "start_time": "2023-01-24T20:28:40.103Z"
   },
   {
    "duration": 13,
    "start_time": "2023-01-24T20:28:40.261Z"
   },
   {
    "duration": 54,
    "start_time": "2023-01-24T20:28:42.057Z"
   },
   {
    "duration": 19,
    "start_time": "2023-01-24T20:28:42.343Z"
   },
   {
    "duration": 18,
    "start_time": "2023-01-24T20:28:42.541Z"
   },
   {
    "duration": 297,
    "start_time": "2023-01-24T20:28:42.977Z"
   },
   {
    "duration": 11,
    "start_time": "2023-01-24T20:28:43.397Z"
   },
   {
    "duration": 293,
    "start_time": "2023-01-24T20:28:43.917Z"
   },
   {
    "duration": 9,
    "start_time": "2023-01-24T20:28:44.546Z"
   },
   {
    "duration": 311,
    "start_time": "2023-01-24T20:28:45.294Z"
   },
   {
    "duration": 10,
    "start_time": "2023-01-24T20:28:46.239Z"
   },
   {
    "duration": 15,
    "start_time": "2023-01-24T20:28:46.977Z"
   },
   {
    "duration": 438,
    "start_time": "2023-01-24T20:28:47.159Z"
   },
   {
    "duration": 182,
    "start_time": "2023-01-24T20:28:47.913Z"
   },
   {
    "duration": 45,
    "start_time": "2023-01-24T20:28:48.115Z"
   },
   {
    "duration": 180,
    "start_time": "2023-01-24T20:35:20.099Z"
   },
   {
    "duration": 176,
    "start_time": "2023-01-24T20:37:22.100Z"
   },
   {
    "duration": 9,
    "start_time": "2023-01-24T20:57:40.243Z"
   },
   {
    "duration": 5,
    "start_time": "2023-01-24T20:59:18.033Z"
   },
   {
    "duration": 12,
    "start_time": "2023-01-24T21:00:16.899Z"
   },
   {
    "duration": 3,
    "start_time": "2023-01-24T21:01:07.145Z"
   },
   {
    "duration": 52,
    "start_time": "2023-01-24T21:01:07.638Z"
   },
   {
    "duration": 20,
    "start_time": "2023-01-24T21:01:07.821Z"
   },
   {
    "duration": 13,
    "start_time": "2023-01-24T21:01:08.145Z"
   },
   {
    "duration": 7,
    "start_time": "2023-01-24T21:01:08.477Z"
   },
   {
    "duration": 5,
    "start_time": "2023-01-24T21:01:08.634Z"
   },
   {
    "duration": 3,
    "start_time": "2023-01-24T21:01:08.835Z"
   },
   {
    "duration": 5,
    "start_time": "2023-01-24T21:01:08.983Z"
   },
   {
    "duration": 4,
    "start_time": "2023-01-24T21:01:09.242Z"
   },
   {
    "duration": 5,
    "start_time": "2023-01-24T21:01:09.306Z"
   },
   {
    "duration": 4,
    "start_time": "2023-01-24T21:01:09.483Z"
   },
   {
    "duration": 5,
    "start_time": "2023-01-24T21:01:09.631Z"
   },
   {
    "duration": 6,
    "start_time": "2023-01-24T21:01:09.788Z"
   },
   {
    "duration": 5,
    "start_time": "2023-01-24T21:01:09.956Z"
   },
   {
    "duration": 6,
    "start_time": "2023-01-24T21:01:10.658Z"
   },
   {
    "duration": 7,
    "start_time": "2023-01-24T21:01:10.834Z"
   },
   {
    "duration": 22,
    "start_time": "2023-01-24T21:01:11.035Z"
   },
   {
    "duration": 5,
    "start_time": "2023-01-24T21:01:11.504Z"
   },
   {
    "duration": 15,
    "start_time": "2023-01-24T21:01:11.684Z"
   },
   {
    "duration": 266,
    "start_time": "2023-01-24T21:01:12.383Z"
   },
   {
    "duration": 6,
    "start_time": "2023-01-24T21:01:12.934Z"
   },
   {
    "duration": 10,
    "start_time": "2023-01-24T21:01:13.288Z"
   },
   {
    "duration": 8,
    "start_time": "2023-01-24T21:01:13.475Z"
   },
   {
    "duration": 253,
    "start_time": "2023-01-24T21:01:13.811Z"
   },
   {
    "duration": 238,
    "start_time": "2023-01-24T21:01:14.340Z"
   },
   {
    "duration": 13,
    "start_time": "2023-01-24T21:01:15.056Z"
   },
   {
    "duration": 171,
    "start_time": "2023-01-24T21:01:15.589Z"
   },
   {
    "duration": 137,
    "start_time": "2023-01-24T21:01:15.778Z"
   },
   {
    "duration": 159,
    "start_time": "2023-01-24T21:01:16.050Z"
   },
   {
    "duration": 153,
    "start_time": "2023-01-24T21:01:16.212Z"
   },
   {
    "duration": 150,
    "start_time": "2023-01-24T21:01:16.367Z"
   },
   {
    "duration": 225,
    "start_time": "2023-01-24T21:01:16.844Z"
   },
   {
    "duration": 293,
    "start_time": "2023-01-24T21:01:17.568Z"
   },
   {
    "duration": 157,
    "start_time": "2023-01-24T21:01:17.862Z"
   },
   {
    "duration": 7,
    "start_time": "2023-01-24T21:01:18.021Z"
   },
   {
    "duration": 7,
    "start_time": "2023-01-24T21:01:18.322Z"
   },
   {
    "duration": 70,
    "start_time": "2023-01-24T21:01:19.034Z"
   },
   {
    "duration": 420,
    "start_time": "2023-01-24T21:01:19.227Z"
   },
   {
    "duration": 473,
    "start_time": "2023-01-24T21:01:20.438Z"
   },
   {
    "duration": 458,
    "start_time": "2023-01-24T21:01:20.913Z"
   },
   {
    "duration": 681,
    "start_time": "2023-01-24T21:01:21.373Z"
   },
   {
    "duration": 6,
    "start_time": "2023-01-24T21:01:22.056Z"
   },
   {
    "duration": 167,
    "start_time": "2023-01-24T21:01:22.063Z"
   },
   {
    "duration": 12,
    "start_time": "2023-01-24T21:01:22.232Z"
   },
   {
    "duration": 59,
    "start_time": "2023-01-24T21:01:23.432Z"
   },
   {
    "duration": 19,
    "start_time": "2023-01-24T21:01:23.632Z"
   },
   {
    "duration": 19,
    "start_time": "2023-01-24T21:01:23.892Z"
   },
   {
    "duration": 279,
    "start_time": "2023-01-24T21:01:24.360Z"
   },
   {
    "duration": 12,
    "start_time": "2023-01-24T21:01:24.837Z"
   },
   {
    "duration": 263,
    "start_time": "2023-01-24T21:01:25.248Z"
   },
   {
    "duration": 9,
    "start_time": "2023-01-24T21:01:25.578Z"
   },
   {
    "duration": 292,
    "start_time": "2023-01-24T21:01:25.967Z"
   },
   {
    "duration": 12,
    "start_time": "2023-01-24T21:01:26.359Z"
   },
   {
    "duration": 15,
    "start_time": "2023-01-24T21:01:26.770Z"
   },
   {
    "duration": 250,
    "start_time": "2023-01-24T21:01:26.975Z"
   },
   {
    "duration": 171,
    "start_time": "2023-01-24T21:01:27.946Z"
   },
   {
    "duration": 178,
    "start_time": "2023-01-24T21:01:28.554Z"
   },
   {
    "duration": 171,
    "start_time": "2023-01-24T21:01:29.250Z"
   },
   {
    "duration": 9,
    "start_time": "2023-01-24T21:01:31.459Z"
   },
   {
    "duration": 6,
    "start_time": "2023-01-24T21:01:32.038Z"
   },
   {
    "duration": 6,
    "start_time": "2023-01-24T21:01:32.971Z"
   },
   {
    "duration": 3,
    "start_time": "2023-01-24T21:12:29.854Z"
   },
   {
    "duration": 8,
    "start_time": "2023-01-24T21:13:41.638Z"
   },
   {
    "duration": 5,
    "start_time": "2023-01-24T21:13:43.600Z"
   },
   {
    "duration": 6,
    "start_time": "2023-01-24T21:13:46.152Z"
   },
   {
    "duration": 9,
    "start_time": "2023-01-24T21:14:44.095Z"
   },
   {
    "duration": 4,
    "start_time": "2023-01-24T21:15:27.363Z"
   },
   {
    "duration": 5,
    "start_time": "2023-01-24T21:16:08.501Z"
   },
   {
    "duration": 9,
    "start_time": "2023-01-24T21:33:06.487Z"
   },
   {
    "duration": 6,
    "start_time": "2023-01-24T21:33:07.269Z"
   },
   {
    "duration": 1243,
    "start_time": "2023-01-25T14:55:09.749Z"
   },
   {
    "duration": 98,
    "start_time": "2023-01-25T14:55:10.994Z"
   },
   {
    "duration": 18,
    "start_time": "2023-01-25T14:55:11.093Z"
   },
   {
    "duration": 15,
    "start_time": "2023-01-25T14:55:11.113Z"
   },
   {
    "duration": 5,
    "start_time": "2023-01-25T14:55:11.130Z"
   },
   {
    "duration": 8,
    "start_time": "2023-01-25T14:55:11.136Z"
   },
   {
    "duration": 5,
    "start_time": "2023-01-25T14:55:11.145Z"
   },
   {
    "duration": 11,
    "start_time": "2023-01-25T14:55:11.152Z"
   },
   {
    "duration": 22,
    "start_time": "2023-01-25T14:55:11.164Z"
   },
   {
    "duration": 12,
    "start_time": "2023-01-25T14:55:11.188Z"
   },
   {
    "duration": 18,
    "start_time": "2023-01-25T14:55:11.202Z"
   },
   {
    "duration": 11,
    "start_time": "2023-01-25T14:55:11.221Z"
   },
   {
    "duration": 10,
    "start_time": "2023-01-25T14:55:11.233Z"
   },
   {
    "duration": 17,
    "start_time": "2023-01-25T14:55:11.245Z"
   },
   {
    "duration": 18,
    "start_time": "2023-01-25T14:55:11.263Z"
   },
   {
    "duration": 8,
    "start_time": "2023-01-25T14:55:11.282Z"
   },
   {
    "duration": 19,
    "start_time": "2023-01-25T14:55:11.292Z"
   },
   {
    "duration": 5,
    "start_time": "2023-01-25T14:55:11.313Z"
   },
   {
    "duration": 19,
    "start_time": "2023-01-25T14:55:11.319Z"
   },
   {
    "duration": 277,
    "start_time": "2023-01-25T14:55:11.340Z"
   },
   {
    "duration": 6,
    "start_time": "2023-01-25T14:55:11.619Z"
   },
   {
    "duration": 16,
    "start_time": "2023-01-25T14:55:11.627Z"
   },
   {
    "duration": 7,
    "start_time": "2023-01-25T14:55:11.644Z"
   },
   {
    "duration": 282,
    "start_time": "2023-01-25T14:55:11.652Z"
   },
   {
    "duration": 242,
    "start_time": "2023-01-25T14:55:11.935Z"
   },
   {
    "duration": 17,
    "start_time": "2023-01-25T14:55:12.179Z"
   },
   {
    "duration": 136,
    "start_time": "2023-01-25T14:55:12.197Z"
   },
   {
    "duration": 127,
    "start_time": "2023-01-25T14:55:12.336Z"
   },
   {
    "duration": 202,
    "start_time": "2023-01-25T14:55:12.464Z"
   },
   {
    "duration": 126,
    "start_time": "2023-01-25T14:55:12.668Z"
   },
   {
    "duration": 130,
    "start_time": "2023-01-25T14:55:12.795Z"
   },
   {
    "duration": 255,
    "start_time": "2023-01-25T14:55:12.926Z"
   },
   {
    "duration": 150,
    "start_time": "2023-01-25T14:55:13.185Z"
   },
   {
    "duration": 143,
    "start_time": "2023-01-25T14:55:13.337Z"
   },
   {
    "duration": 9,
    "start_time": "2023-01-25T14:55:13.481Z"
   },
   {
    "duration": 9,
    "start_time": "2023-01-25T14:55:13.491Z"
   },
   {
    "duration": 66,
    "start_time": "2023-01-25T14:55:13.501Z"
   },
   {
    "duration": 457,
    "start_time": "2023-01-25T14:55:13.568Z"
   },
   {
    "duration": 537,
    "start_time": "2023-01-25T14:55:14.027Z"
   },
   {
    "duration": 484,
    "start_time": "2023-01-25T14:55:14.565Z"
   },
   {
    "duration": 472,
    "start_time": "2023-01-25T14:55:15.050Z"
   },
   {
    "duration": 7,
    "start_time": "2023-01-25T14:55:15.524Z"
   },
   {
    "duration": 206,
    "start_time": "2023-01-25T14:55:15.533Z"
   },
   {
    "duration": 152,
    "start_time": "2023-01-25T14:55:15.741Z"
   },
   {
    "duration": 54,
    "start_time": "2023-01-25T14:55:15.894Z"
   },
   {
    "duration": 18,
    "start_time": "2023-01-25T14:55:15.949Z"
   },
   {
    "duration": 34,
    "start_time": "2023-01-25T14:55:15.968Z"
   },
   {
    "duration": 287,
    "start_time": "2023-01-25T14:55:16.004Z"
   },
   {
    "duration": 10,
    "start_time": "2023-01-25T14:55:16.293Z"
   },
   {
    "duration": 283,
    "start_time": "2023-01-25T14:55:16.305Z"
   },
   {
    "duration": 9,
    "start_time": "2023-01-25T14:55:16.590Z"
   },
   {
    "duration": 288,
    "start_time": "2023-01-25T14:55:16.601Z"
   },
   {
    "duration": 11,
    "start_time": "2023-01-25T14:55:16.891Z"
   },
   {
    "duration": 17,
    "start_time": "2023-01-25T14:55:16.903Z"
   },
   {
    "duration": 283,
    "start_time": "2023-01-25T14:55:16.922Z"
   },
   {
    "duration": 194,
    "start_time": "2023-01-25T14:55:17.207Z"
   },
   {
    "duration": 189,
    "start_time": "2023-01-25T14:55:17.403Z"
   },
   {
    "duration": 179,
    "start_time": "2023-01-25T14:55:17.594Z"
   },
   {
    "duration": 14,
    "start_time": "2023-01-25T14:55:17.775Z"
   },
   {
    "duration": 13,
    "start_time": "2023-01-25T14:55:17.791Z"
   },
   {
    "duration": 13,
    "start_time": "2023-01-25T14:55:17.806Z"
   },
   {
    "duration": 23,
    "start_time": "2023-01-25T14:55:17.821Z"
   },
   {
    "duration": 11,
    "start_time": "2023-01-25T14:55:17.846Z"
   },
   {
    "duration": 3,
    "start_time": "2023-01-25T15:09:00.464Z"
   },
   {
    "duration": 88,
    "start_time": "2023-01-25T15:09:00.471Z"
   },
   {
    "duration": 133,
    "start_time": "2023-01-25T15:09:00.561Z"
   },
   {
    "duration": 114,
    "start_time": "2023-01-25T15:09:00.696Z"
   },
   {
    "duration": 30,
    "start_time": "2023-01-25T15:09:00.813Z"
   },
   {
    "duration": 45,
    "start_time": "2023-01-25T15:09:00.844Z"
   },
   {
    "duration": 38,
    "start_time": "2023-01-25T15:09:00.892Z"
   },
   {
    "duration": 33,
    "start_time": "2023-01-25T15:09:00.933Z"
   },
   {
    "duration": 41,
    "start_time": "2023-01-25T15:09:00.968Z"
   },
   {
    "duration": 43,
    "start_time": "2023-01-25T15:09:01.011Z"
   },
   {
    "duration": 52,
    "start_time": "2023-01-25T15:09:01.057Z"
   },
   {
    "duration": 47,
    "start_time": "2023-01-25T15:09:01.111Z"
   },
   {
    "duration": 50,
    "start_time": "2023-01-25T15:09:01.160Z"
   },
   {
    "duration": 61,
    "start_time": "2023-01-25T15:09:01.212Z"
   },
   {
    "duration": 57,
    "start_time": "2023-01-25T15:09:01.275Z"
   },
   {
    "duration": 34,
    "start_time": "2023-01-25T15:09:01.334Z"
   },
   {
    "duration": 62,
    "start_time": "2023-01-25T15:09:01.370Z"
   },
   {
    "duration": 34,
    "start_time": "2023-01-25T15:09:01.433Z"
   },
   {
    "duration": 47,
    "start_time": "2023-01-25T15:09:01.469Z"
   },
   {
    "duration": 404,
    "start_time": "2023-01-25T15:09:01.518Z"
   },
   {
    "duration": 5,
    "start_time": "2023-01-25T15:09:01.923Z"
   },
   {
    "duration": 76,
    "start_time": "2023-01-25T15:09:01.930Z"
   },
   {
    "duration": 31,
    "start_time": "2023-01-25T15:09:02.008Z"
   },
   {
    "duration": 334,
    "start_time": "2023-01-25T15:09:02.041Z"
   },
   {
    "duration": 265,
    "start_time": "2023-01-25T15:09:02.377Z"
   },
   {
    "duration": 15,
    "start_time": "2023-01-25T15:09:02.644Z"
   },
   {
    "duration": 133,
    "start_time": "2023-01-25T15:09:02.661Z"
   },
   {
    "duration": 172,
    "start_time": "2023-01-25T15:09:02.795Z"
   },
   {
    "duration": 162,
    "start_time": "2023-01-25T15:09:02.971Z"
   },
   {
    "duration": 146,
    "start_time": "2023-01-25T15:09:03.135Z"
   },
   {
    "duration": 141,
    "start_time": "2023-01-25T15:09:03.286Z"
   },
   {
    "duration": 365,
    "start_time": "2023-01-25T15:09:03.429Z"
   },
   {
    "duration": 22,
    "start_time": "2023-01-25T15:09:03.796Z"
   },
   {
    "duration": 6,
    "start_time": "2023-01-25T15:09:29.783Z"
   },
   {
    "duration": 1311,
    "start_time": "2023-01-26T18:31:07.919Z"
   },
   {
    "duration": 149,
    "start_time": "2023-01-26T18:31:09.232Z"
   },
   {
    "duration": 33,
    "start_time": "2023-01-26T18:31:09.383Z"
   },
   {
    "duration": 13,
    "start_time": "2023-01-26T18:31:32.262Z"
   },
   {
    "duration": 36,
    "start_time": "2023-01-26T18:32:44.521Z"
   },
   {
    "duration": 44,
    "start_time": "2023-01-26T18:33:01.537Z"
   },
   {
    "duration": 43,
    "start_time": "2023-01-26T18:33:24.530Z"
   },
   {
    "duration": 49,
    "start_time": "2023-01-26T18:34:13.611Z"
   },
   {
    "duration": 43,
    "start_time": "2023-01-26T18:38:38.525Z"
   },
   {
    "duration": 42,
    "start_time": "2023-01-26T18:39:55.325Z"
   },
   {
    "duration": 89,
    "start_time": "2023-01-26T18:41:22.079Z"
   },
   {
    "duration": 97,
    "start_time": "2023-01-26T18:41:47.765Z"
   },
   {
    "duration": 4,
    "start_time": "2023-01-26T18:43:38.610Z"
   },
   {
    "duration": 65,
    "start_time": "2023-01-26T18:43:38.902Z"
   },
   {
    "duration": 22,
    "start_time": "2023-01-26T18:43:39.106Z"
   },
   {
    "duration": 15,
    "start_time": "2023-01-26T18:43:40.222Z"
   },
   {
    "duration": 199,
    "start_time": "2023-01-26T18:43:42.330Z"
   },
   {
    "duration": 7,
    "start_time": "2023-01-26T18:43:43.636Z"
   },
   {
    "duration": 80,
    "start_time": "2023-01-26T18:44:14.661Z"
   },
   {
    "duration": 78,
    "start_time": "2023-01-26T18:44:43.233Z"
   },
   {
    "duration": 6,
    "start_time": "2023-01-26T18:46:20.760Z"
   },
   {
    "duration": 85,
    "start_time": "2023-01-26T18:46:29.986Z"
   },
   {
    "duration": 56,
    "start_time": "2023-01-26T18:47:02.504Z"
   },
   {
    "duration": 47,
    "start_time": "2023-01-26T18:49:38.713Z"
   },
   {
    "duration": 4,
    "start_time": "2023-01-26T18:51:21.812Z"
   },
   {
    "duration": 73,
    "start_time": "2023-01-26T18:51:22.261Z"
   },
   {
    "duration": 27,
    "start_time": "2023-01-26T18:51:22.705Z"
   },
   {
    "duration": 58,
    "start_time": "2023-01-26T18:51:32.213Z"
   },
   {
    "duration": 2,
    "start_time": "2023-01-26T18:52:26.375Z"
   },
   {
    "duration": 81,
    "start_time": "2023-01-26T18:52:26.877Z"
   },
   {
    "duration": 33,
    "start_time": "2023-01-26T18:52:27.384Z"
   },
   {
    "duration": 13,
    "start_time": "2023-01-26T18:52:30.163Z"
   },
   {
    "duration": 49,
    "start_time": "2023-01-26T18:52:33.131Z"
   },
   {
    "duration": 6,
    "start_time": "2023-01-26T18:57:34.665Z"
   },
   {
    "duration": 6,
    "start_time": "2023-01-26T18:57:35.012Z"
   },
   {
    "duration": 4,
    "start_time": "2023-01-26T18:57:35.549Z"
   },
   {
    "duration": 11,
    "start_time": "2023-01-26T18:57:36.581Z"
   },
   {
    "duration": 5,
    "start_time": "2023-01-26T18:57:37.709Z"
   },
   {
    "duration": 8,
    "start_time": "2023-01-26T18:57:38.725Z"
   },
   {
    "duration": 3,
    "start_time": "2023-01-26T18:57:39.424Z"
   },
   {
    "duration": 6,
    "start_time": "2023-01-26T18:57:40.022Z"
   },
   {
    "duration": 5,
    "start_time": "2023-01-26T18:57:40.578Z"
   },
   {
    "duration": 5,
    "start_time": "2023-01-26T18:57:41.170Z"
   },
   {
    "duration": 4,
    "start_time": "2023-01-26T18:58:09.274Z"
   },
   {
    "duration": 7,
    "start_time": "2023-01-26T18:58:50.442Z"
   },
   {
    "duration": 29,
    "start_time": "2023-01-26T18:58:51.103Z"
   },
   {
    "duration": 14,
    "start_time": "2023-01-26T19:08:47.823Z"
   },
   {
    "duration": 10,
    "start_time": "2023-01-26T19:10:10.342Z"
   },
   {
    "duration": 22,
    "start_time": "2023-01-26T19:10:23.671Z"
   },
   {
    "duration": 36,
    "start_time": "2023-01-26T19:16:14.008Z"
   },
   {
    "duration": 8,
    "start_time": "2023-01-26T19:22:02.985Z"
   },
   {
    "duration": 34,
    "start_time": "2023-01-26T19:22:06.977Z"
   },
   {
    "duration": 6,
    "start_time": "2023-01-26T19:37:03.737Z"
   },
   {
    "duration": 10,
    "start_time": "2023-01-26T19:37:09.066Z"
   },
   {
    "duration": 8,
    "start_time": "2023-01-26T19:39:47.745Z"
   },
   {
    "duration": 295,
    "start_time": "2023-01-26T19:39:48.952Z"
   },
   {
    "duration": 274,
    "start_time": "2023-01-26T19:39:51.443Z"
   },
   {
    "duration": 4,
    "start_time": "2023-01-26T19:45:44.759Z"
   },
   {
    "duration": 14,
    "start_time": "2023-01-26T19:46:46.029Z"
   },
   {
    "duration": 5,
    "start_time": "2023-01-26T19:46:49.048Z"
   },
   {
    "duration": 4,
    "start_time": "2023-01-26T19:46:49.580Z"
   },
   {
    "duration": 3,
    "start_time": "2023-01-26T19:46:49.918Z"
   },
   {
    "duration": 5,
    "start_time": "2023-01-26T19:46:50.144Z"
   },
   {
    "duration": 4,
    "start_time": "2023-01-26T19:46:50.352Z"
   },
   {
    "duration": 4,
    "start_time": "2023-01-26T19:46:50.578Z"
   },
   {
    "duration": 3,
    "start_time": "2023-01-26T19:46:50.856Z"
   },
   {
    "duration": 5,
    "start_time": "2023-01-26T19:46:51.211Z"
   },
   {
    "duration": 5,
    "start_time": "2023-01-26T19:46:51.920Z"
   },
   {
    "duration": 4,
    "start_time": "2023-01-26T19:46:52.376Z"
   },
   {
    "duration": 4,
    "start_time": "2023-01-26T19:46:55.448Z"
   },
   {
    "duration": 3,
    "start_time": "2023-01-26T19:46:56.125Z"
   },
   {
    "duration": 16,
    "start_time": "2023-01-26T19:46:56.472Z"
   },
   {
    "duration": 20,
    "start_time": "2023-01-26T19:47:04.263Z"
   },
   {
    "duration": 18,
    "start_time": "2023-01-26T19:47:09.498Z"
   },
   {
    "duration": 6,
    "start_time": "2023-01-26T19:47:25.637Z"
   },
   {
    "duration": 17,
    "start_time": "2023-01-26T19:49:37.279Z"
   },
   {
    "duration": 299,
    "start_time": "2023-01-26T19:49:44.141Z"
   },
   {
    "duration": 286,
    "start_time": "2023-01-26T20:09:53.789Z"
   },
   {
    "duration": 340,
    "start_time": "2023-01-26T20:10:58.145Z"
   },
   {
    "duration": 282,
    "start_time": "2023-01-26T20:11:06.197Z"
   },
   {
    "duration": 265,
    "start_time": "2023-01-26T20:11:29.509Z"
   },
   {
    "duration": 273,
    "start_time": "2023-01-26T20:11:54.015Z"
   },
   {
    "duration": 292,
    "start_time": "2023-01-26T20:12:41.356Z"
   },
   {
    "duration": 370,
    "start_time": "2023-01-26T20:12:46.700Z"
   },
   {
    "duration": 312,
    "start_time": "2023-01-26T20:12:55.760Z"
   },
   {
    "duration": 345,
    "start_time": "2023-01-26T20:13:05.682Z"
   },
   {
    "duration": 274,
    "start_time": "2023-01-26T20:13:29.471Z"
   },
   {
    "duration": 46,
    "start_time": "2023-01-26T20:17:11.839Z"
   },
   {
    "duration": 263,
    "start_time": "2023-01-26T20:17:20.525Z"
   },
   {
    "duration": 45,
    "start_time": "2023-01-26T20:18:34.691Z"
   },
   {
    "duration": 290,
    "start_time": "2023-01-26T20:19:55.847Z"
   },
   {
    "duration": 467,
    "start_time": "2023-01-26T20:28:22.949Z"
   },
   {
    "duration": 285,
    "start_time": "2023-01-26T20:31:29.547Z"
   },
   {
    "duration": 429,
    "start_time": "2023-01-26T20:33:28.457Z"
   },
   {
    "duration": 270,
    "start_time": "2023-01-26T20:33:40.051Z"
   },
   {
    "duration": 402,
    "start_time": "2023-01-26T20:34:41.457Z"
   },
   {
    "duration": 204,
    "start_time": "2023-01-26T20:34:49.884Z"
   },
   {
    "duration": 395,
    "start_time": "2023-01-26T20:35:02.393Z"
   },
   {
    "duration": 473,
    "start_time": "2023-01-26T20:35:11.355Z"
   },
   {
    "duration": 280,
    "start_time": "2023-01-26T20:35:19.233Z"
   },
   {
    "duration": 281,
    "start_time": "2023-01-26T20:35:50.919Z"
   },
   {
    "duration": 269,
    "start_time": "2023-01-26T20:36:32.057Z"
   },
   {
    "duration": 54,
    "start_time": "2023-01-26T20:43:58.463Z"
   },
   {
    "duration": 249,
    "start_time": "2023-01-26T20:44:32.960Z"
   },
   {
    "duration": 444,
    "start_time": "2023-01-26T20:45:23.296Z"
   },
   {
    "duration": 195,
    "start_time": "2023-01-26T20:47:50.215Z"
   },
   {
    "duration": 282,
    "start_time": "2023-01-26T20:48:40.353Z"
   },
   {
    "duration": 6,
    "start_time": "2023-01-26T20:49:09.533Z"
   },
   {
    "duration": 51,
    "start_time": "2023-01-26T20:52:11.069Z"
   },
   {
    "duration": 10,
    "start_time": "2023-01-26T20:52:17.436Z"
   },
   {
    "duration": 11,
    "start_time": "2023-01-26T21:03:31.363Z"
   },
   {
    "duration": 1364,
    "start_time": "2023-01-27T08:33:24.637Z"
   },
   {
    "duration": 101,
    "start_time": "2023-01-27T08:33:26.003Z"
   },
   {
    "duration": 10,
    "start_time": "2023-01-27T08:33:26.106Z"
   },
   {
    "duration": 22,
    "start_time": "2023-01-27T08:33:26.120Z"
   },
   {
    "duration": 6,
    "start_time": "2023-01-27T08:33:26.331Z"
   },
   {
    "duration": 5,
    "start_time": "2023-01-27T08:33:26.535Z"
   },
   {
    "duration": 5,
    "start_time": "2023-01-27T08:33:26.706Z"
   },
   {
    "duration": 6,
    "start_time": "2023-01-27T08:33:26.871Z"
   },
   {
    "duration": 5,
    "start_time": "2023-01-27T08:33:27.063Z"
   },
   {
    "duration": 6,
    "start_time": "2023-01-27T08:33:27.264Z"
   },
   {
    "duration": 4,
    "start_time": "2023-01-27T08:33:27.482Z"
   },
   {
    "duration": 7,
    "start_time": "2023-01-27T08:33:27.908Z"
   },
   {
    "duration": 7,
    "start_time": "2023-01-27T08:33:28.161Z"
   },
   {
    "duration": 6,
    "start_time": "2023-01-27T08:33:28.312Z"
   },
   {
    "duration": 5,
    "start_time": "2023-01-27T08:33:35.421Z"
   },
   {
    "duration": 5,
    "start_time": "2023-01-27T08:33:35.828Z"
   },
   {
    "duration": 15,
    "start_time": "2023-01-27T08:33:47.669Z"
   },
   {
    "duration": 20,
    "start_time": "2023-01-27T08:33:48.238Z"
   },
   {
    "duration": 17,
    "start_time": "2023-01-27T08:33:48.622Z"
   },
   {
    "duration": 7,
    "start_time": "2023-01-27T08:33:49.321Z"
   },
   {
    "duration": 15,
    "start_time": "2023-01-27T08:33:50.952Z"
   },
   {
    "duration": 325,
    "start_time": "2023-01-27T08:34:03.316Z"
   },
   {
    "duration": 6,
    "start_time": "2023-01-27T08:34:08.766Z"
   },
   {
    "duration": 10,
    "start_time": "2023-01-27T08:34:10.969Z"
   },
   {
    "duration": 8,
    "start_time": "2023-01-27T08:34:14.083Z"
   },
   {
    "duration": 298,
    "start_time": "2023-01-27T08:34:18.951Z"
   },
   {
    "duration": 294,
    "start_time": "2023-01-27T08:57:56.435Z"
   },
   {
    "duration": 43,
    "start_time": "2023-01-27T09:24:30.324Z"
   },
   {
    "duration": 18,
    "start_time": "2023-01-27T09:24:43.584Z"
   },
   {
    "duration": 4,
    "start_time": "2023-01-27T09:27:00.358Z"
   },
   {
    "duration": 110,
    "start_time": "2023-01-27T09:27:12.841Z"
   },
   {
    "duration": 18,
    "start_time": "2023-01-27T09:27:16.982Z"
   },
   {
    "duration": 127,
    "start_time": "2023-01-27T09:41:30.597Z"
   },
   {
    "duration": 153,
    "start_time": "2023-01-27T09:43:30.682Z"
   },
   {
    "duration": 184,
    "start_time": "2023-01-27T09:43:48.522Z"
   },
   {
    "duration": 125,
    "start_time": "2023-01-27T09:48:39.537Z"
   },
   {
    "duration": 129,
    "start_time": "2023-01-27T09:51:09.516Z"
   },
   {
    "duration": 130,
    "start_time": "2023-01-27T09:52:15.449Z"
   },
   {
    "duration": 136,
    "start_time": "2023-01-27T09:52:49.521Z"
   },
   {
    "duration": 169,
    "start_time": "2023-01-27T09:54:16.769Z"
   },
   {
    "duration": 139,
    "start_time": "2023-01-27T09:54:45.564Z"
   },
   {
    "duration": 135,
    "start_time": "2023-01-27T09:56:07.226Z"
   },
   {
    "duration": 131,
    "start_time": "2023-01-27T10:45:20.338Z"
   },
   {
    "duration": 163,
    "start_time": "2023-01-27T10:45:46.816Z"
   },
   {
    "duration": 119,
    "start_time": "2023-01-27T10:45:48.391Z"
   },
   {
    "duration": 126,
    "start_time": "2023-01-27T10:45:49.676Z"
   },
   {
    "duration": 123,
    "start_time": "2023-01-27T10:45:50.479Z"
   },
   {
    "duration": 135,
    "start_time": "2023-01-27T10:45:51.355Z"
   },
   {
    "duration": 296,
    "start_time": "2023-01-27T10:47:20.373Z"
   },
   {
    "duration": 239,
    "start_time": "2023-01-27T11:40:57.053Z"
   },
   {
    "duration": 257,
    "start_time": "2023-01-27T11:41:04.932Z"
   },
   {
    "duration": 241,
    "start_time": "2023-01-27T11:41:23.394Z"
   },
   {
    "duration": 141,
    "start_time": "2023-01-27T12:19:05.018Z"
   },
   {
    "duration": 204,
    "start_time": "2023-01-27T12:19:17.073Z"
   },
   {
    "duration": 140,
    "start_time": "2023-01-27T12:19:27.970Z"
   },
   {
    "duration": 44,
    "start_time": "2023-01-27T12:34:17.338Z"
   },
   {
    "duration": 6,
    "start_time": "2023-01-27T12:34:24.865Z"
   },
   {
    "duration": 1175,
    "start_time": "2023-01-27T12:34:57.297Z"
   },
   {
    "duration": 107,
    "start_time": "2023-01-27T12:34:58.474Z"
   },
   {
    "duration": 4,
    "start_time": "2023-01-27T12:34:58.583Z"
   },
   {
    "duration": 73,
    "start_time": "2023-01-27T12:34:58.588Z"
   },
   {
    "duration": 6,
    "start_time": "2023-01-27T12:34:59.030Z"
   },
   {
    "duration": 4,
    "start_time": "2023-01-27T12:34:59.210Z"
   },
   {
    "duration": 4,
    "start_time": "2023-01-27T12:34:59.377Z"
   },
   {
    "duration": 5,
    "start_time": "2023-01-27T12:34:59.547Z"
   },
   {
    "duration": 4,
    "start_time": "2023-01-27T12:34:59.719Z"
   },
   {
    "duration": 4,
    "start_time": "2023-01-27T12:34:59.895Z"
   },
   {
    "duration": 4,
    "start_time": "2023-01-27T12:35:00.093Z"
   },
   {
    "duration": 5,
    "start_time": "2023-01-27T12:35:00.251Z"
   },
   {
    "duration": 4,
    "start_time": "2023-01-27T12:35:00.432Z"
   },
   {
    "duration": 5,
    "start_time": "2023-01-27T12:35:00.610Z"
   },
   {
    "duration": 5,
    "start_time": "2023-01-27T12:35:01.882Z"
   },
   {
    "duration": 4,
    "start_time": "2023-01-27T12:35:02.213Z"
   },
   {
    "duration": 14,
    "start_time": "2023-01-27T12:35:02.393Z"
   },
   {
    "duration": 20,
    "start_time": "2023-01-27T12:35:02.916Z"
   },
   {
    "duration": 16,
    "start_time": "2023-01-27T12:35:03.285Z"
   },
   {
    "duration": 4,
    "start_time": "2023-01-27T12:35:03.820Z"
   },
   {
    "duration": 15,
    "start_time": "2023-01-27T12:35:04.390Z"
   },
   {
    "duration": 348,
    "start_time": "2023-01-27T12:35:05.492Z"
   },
   {
    "duration": 6,
    "start_time": "2023-01-27T12:35:09.690Z"
   },
   {
    "duration": 10,
    "start_time": "2023-01-27T12:35:10.847Z"
   },
   {
    "duration": 9,
    "start_time": "2023-01-27T12:35:12.178Z"
   },
   {
    "duration": 303,
    "start_time": "2023-01-27T12:35:12.945Z"
   },
   {
    "duration": 244,
    "start_time": "2023-01-27T12:35:14.522Z"
   },
   {
    "duration": 4,
    "start_time": "2023-01-27T12:35:24.664Z"
   },
   {
    "duration": 11,
    "start_time": "2023-01-27T12:35:26.266Z"
   },
   {
    "duration": 110,
    "start_time": "2023-01-27T12:35:34.567Z"
   },
   {
    "duration": 112,
    "start_time": "2023-01-27T12:35:37.656Z"
   },
   {
    "duration": 181,
    "start_time": "2023-01-27T12:35:38.926Z"
   },
   {
    "duration": 125,
    "start_time": "2023-01-27T12:35:39.571Z"
   },
   {
    "duration": 120,
    "start_time": "2023-01-27T12:35:40.206Z"
   },
   {
    "duration": 211,
    "start_time": "2023-01-27T12:35:47.653Z"
   },
   {
    "duration": 214,
    "start_time": "2023-01-27T12:35:50.224Z"
   },
   {
    "duration": 128,
    "start_time": "2023-01-27T12:38:10.062Z"
   },
   {
    "duration": 59,
    "start_time": "2023-01-27T12:38:20.017Z"
   },
   {
    "duration": 139,
    "start_time": "2023-01-27T12:38:25.943Z"
   },
   {
    "duration": 135,
    "start_time": "2023-01-27T12:41:38.730Z"
   },
   {
    "duration": 7,
    "start_time": "2023-01-27T12:41:51.183Z"
   },
   {
    "duration": 6,
    "start_time": "2023-01-27T12:42:03.725Z"
   },
   {
    "duration": 157,
    "start_time": "2023-01-27T12:50:35.486Z"
   },
   {
    "duration": 131,
    "start_time": "2023-01-27T12:55:04.780Z"
   },
   {
    "duration": 227,
    "start_time": "2023-01-27T12:55:29.396Z"
   },
   {
    "duration": 137,
    "start_time": "2023-01-27T12:58:45.269Z"
   },
   {
    "duration": 129,
    "start_time": "2023-01-27T12:58:48.669Z"
   },
   {
    "duration": 5,
    "start_time": "2023-01-27T12:58:49.836Z"
   },
   {
    "duration": 7,
    "start_time": "2023-01-27T12:58:51.201Z"
   },
   {
    "duration": 131,
    "start_time": "2023-01-27T12:59:35.887Z"
   },
   {
    "duration": 127,
    "start_time": "2023-01-27T13:07:01.924Z"
   },
   {
    "duration": 133,
    "start_time": "2023-01-27T13:07:03.058Z"
   },
   {
    "duration": 6,
    "start_time": "2023-01-27T13:07:04.696Z"
   },
   {
    "duration": 7,
    "start_time": "2023-01-27T13:07:05.702Z"
   },
   {
    "duration": 35,
    "start_time": "2023-01-27T13:27:59.387Z"
   },
   {
    "duration": 244,
    "start_time": "2023-01-27T13:28:07.373Z"
   },
   {
    "duration": 242,
    "start_time": "2023-01-27T13:29:35.482Z"
   },
   {
    "duration": 249,
    "start_time": "2023-01-27T13:29:46.258Z"
   },
   {
    "duration": 341,
    "start_time": "2023-01-27T13:31:12.159Z"
   },
   {
    "duration": 260,
    "start_time": "2023-01-27T13:33:11.819Z"
   },
   {
    "duration": 247,
    "start_time": "2023-01-27T13:33:40.173Z"
   },
   {
    "duration": 241,
    "start_time": "2023-01-27T13:34:00.062Z"
   },
   {
    "duration": 275,
    "start_time": "2023-01-27T13:35:51.494Z"
   },
   {
    "duration": 345,
    "start_time": "2023-01-27T13:36:08.856Z"
   },
   {
    "duration": 287,
    "start_time": "2023-01-27T13:36:20.804Z"
   },
   {
    "duration": 4,
    "start_time": "2023-01-27T13:37:13.748Z"
   },
   {
    "duration": 157,
    "start_time": "2023-01-27T13:37:19.061Z"
   },
   {
    "duration": 49,
    "start_time": "2023-01-27T18:47:44.780Z"
   },
   {
    "duration": 1399,
    "start_time": "2023-01-27T18:47:53.044Z"
   },
   {
    "duration": 121,
    "start_time": "2023-01-27T18:47:54.446Z"
   },
   {
    "duration": 6,
    "start_time": "2023-01-27T18:47:54.569Z"
   },
   {
    "duration": 20,
    "start_time": "2023-01-27T18:47:54.577Z"
   },
   {
    "duration": 7,
    "start_time": "2023-01-27T18:47:54.736Z"
   },
   {
    "duration": 6,
    "start_time": "2023-01-27T18:47:54.915Z"
   },
   {
    "duration": 5,
    "start_time": "2023-01-27T18:47:55.088Z"
   },
   {
    "duration": 6,
    "start_time": "2023-01-27T18:47:55.263Z"
   },
   {
    "duration": 5,
    "start_time": "2023-01-27T18:47:55.441Z"
   },
   {
    "duration": 5,
    "start_time": "2023-01-27T18:47:55.619Z"
   },
   {
    "duration": 4,
    "start_time": "2023-01-27T18:47:55.786Z"
   },
   {
    "duration": 5,
    "start_time": "2023-01-27T18:47:55.963Z"
   },
   {
    "duration": 5,
    "start_time": "2023-01-27T18:47:56.130Z"
   },
   {
    "duration": 5,
    "start_time": "2023-01-27T18:47:56.296Z"
   },
   {
    "duration": 7,
    "start_time": "2023-01-27T18:47:57.528Z"
   },
   {
    "duration": 5,
    "start_time": "2023-01-27T18:47:57.899Z"
   },
   {
    "duration": 18,
    "start_time": "2023-01-27T18:47:58.075Z"
   },
   {
    "duration": 30,
    "start_time": "2023-01-27T18:47:58.600Z"
   },
   {
    "duration": 18,
    "start_time": "2023-01-27T18:47:58.978Z"
   },
   {
    "duration": 4,
    "start_time": "2023-01-27T18:47:59.510Z"
   },
   {
    "duration": 16,
    "start_time": "2023-01-27T18:48:00.065Z"
   },
   {
    "duration": 357,
    "start_time": "2023-01-27T18:48:01.043Z"
   },
   {
    "duration": 8,
    "start_time": "2023-01-27T18:48:02.779Z"
   },
   {
    "duration": 11,
    "start_time": "2023-01-27T18:48:03.070Z"
   },
   {
    "duration": 8,
    "start_time": "2023-01-27T18:48:03.612Z"
   },
   {
    "duration": 322,
    "start_time": "2023-01-27T18:48:03.978Z"
   },
   {
    "duration": 297,
    "start_time": "2023-01-27T18:48:04.531Z"
   },
   {
    "duration": 5,
    "start_time": "2023-01-27T18:48:06.392Z"
   },
   {
    "duration": 16,
    "start_time": "2023-01-27T18:48:07.667Z"
   },
   {
    "duration": 139,
    "start_time": "2023-01-27T18:48:09.933Z"
   },
   {
    "duration": 137,
    "start_time": "2023-01-27T18:48:10.828Z"
   },
   {
    "duration": 206,
    "start_time": "2023-01-27T18:48:11.041Z"
   },
   {
    "duration": 139,
    "start_time": "2023-01-27T18:48:11.261Z"
   },
   {
    "duration": 148,
    "start_time": "2023-01-27T18:48:11.401Z"
   },
   {
    "duration": 229,
    "start_time": "2023-01-27T18:48:11.967Z"
   },
   {
    "duration": 263,
    "start_time": "2023-01-27T18:48:12.198Z"
   },
   {
    "duration": 146,
    "start_time": "2023-01-27T18:48:14.546Z"
   },
   {
    "duration": 150,
    "start_time": "2023-01-27T18:48:16.667Z"
   },
   {
    "duration": 9,
    "start_time": "2023-01-27T18:48:16.875Z"
   },
   {
    "duration": 5,
    "start_time": "2023-01-27T18:48:17.606Z"
   },
   {
    "duration": 136,
    "start_time": "2023-01-27T18:48:19.082Z"
   },
   {
    "duration": 142,
    "start_time": "2023-01-27T18:48:19.249Z"
   },
   {
    "duration": 6,
    "start_time": "2023-01-27T18:48:19.427Z"
   },
   {
    "duration": 6,
    "start_time": "2023-01-27T18:48:19.622Z"
   },
   {
    "duration": 145,
    "start_time": "2023-01-27T18:48:19.798Z"
   },
   {
    "duration": 263,
    "start_time": "2023-01-27T18:48:19.969Z"
   },
   {
    "duration": 6,
    "start_time": "2023-01-27T18:48:20.895Z"
   },
   {
    "duration": 7,
    "start_time": "2023-01-27T18:48:21.113Z"
   },
   {
    "duration": 33,
    "start_time": "2023-01-27T18:48:22.411Z"
   },
   {
    "duration": 283,
    "start_time": "2023-01-27T18:48:23.785Z"
   },
   {
    "duration": 274,
    "start_time": "2023-01-27T18:48:25.546Z"
   },
   {
    "duration": 297,
    "start_time": "2023-01-27T18:48:25.842Z"
   },
   {
    "duration": 4,
    "start_time": "2023-01-27T18:48:28.997Z"
   },
   {
    "duration": 149,
    "start_time": "2023-01-27T18:48:30.379Z"
   },
   {
    "duration": 50,
    "start_time": "2023-01-27T18:48:46.850Z"
   },
   {
    "duration": 12,
    "start_time": "2023-01-27T18:53:01.275Z"
   },
   {
    "duration": 54,
    "start_time": "2023-01-27T18:59:24.636Z"
   },
   {
    "duration": 46,
    "start_time": "2023-01-27T19:03:28.495Z"
   },
   {
    "duration": 9,
    "start_time": "2023-01-27T19:06:17.289Z"
   },
   {
    "duration": 10,
    "start_time": "2023-01-27T19:06:54.609Z"
   },
   {
    "duration": 9,
    "start_time": "2023-01-27T19:06:55.207Z"
   },
   {
    "duration": 11,
    "start_time": "2023-01-27T19:06:55.865Z"
   },
   {
    "duration": 34,
    "start_time": "2023-01-27T19:06:58.003Z"
   },
   {
    "duration": 19,
    "start_time": "2023-01-27T19:07:14.088Z"
   },
   {
    "duration": 31,
    "start_time": "2023-01-27T19:07:15.151Z"
   },
   {
    "duration": 220,
    "start_time": "2023-01-27T19:08:13.474Z"
   },
   {
    "duration": 9,
    "start_time": "2023-01-27T19:09:15.571Z"
   },
   {
    "duration": 222,
    "start_time": "2023-01-27T19:11:44.042Z"
   },
   {
    "duration": 10,
    "start_time": "2023-01-27T19:13:07.080Z"
   },
   {
    "duration": 288,
    "start_time": "2023-01-27T19:13:51.198Z"
   },
   {
    "duration": 19,
    "start_time": "2023-01-27T19:14:35.150Z"
   },
   {
    "duration": 11,
    "start_time": "2023-01-27T19:15:46.784Z"
   },
   {
    "duration": 275,
    "start_time": "2023-01-27T19:15:51.907Z"
   },
   {
    "duration": 162,
    "start_time": "2023-01-27T19:24:19.908Z"
   },
   {
    "duration": 208,
    "start_time": "2023-01-27T19:27:00.818Z"
   },
   {
    "duration": 213,
    "start_time": "2023-01-27T19:27:39.979Z"
   },
   {
    "duration": 5,
    "start_time": "2023-01-27T19:38:14.669Z"
   },
   {
    "duration": 6,
    "start_time": "2023-01-27T19:38:16.079Z"
   },
   {
    "duration": 8,
    "start_time": "2023-01-27T19:38:26.829Z"
   },
   {
    "duration": 5,
    "start_time": "2023-01-27T19:38:27.319Z"
   },
   {
    "duration": 6,
    "start_time": "2023-01-27T19:38:44.225Z"
   },
   {
    "duration": 5,
    "start_time": "2023-01-27T19:38:44.702Z"
   },
   {
    "duration": 2,
    "start_time": "2023-01-27T19:39:27.228Z"
   },
   {
    "duration": 3,
    "start_time": "2023-01-27T19:39:42.016Z"
   },
   {
    "duration": 52,
    "start_time": "2023-01-27T19:39:42.700Z"
   },
   {
    "duration": 5,
    "start_time": "2023-01-27T19:39:42.884Z"
   },
   {
    "duration": 14,
    "start_time": "2023-01-27T19:39:43.555Z"
   },
   {
    "duration": 7,
    "start_time": "2023-01-27T19:39:44.207Z"
   },
   {
    "duration": 5,
    "start_time": "2023-01-27T19:39:44.368Z"
   },
   {
    "duration": 5,
    "start_time": "2023-01-27T19:39:44.517Z"
   },
   {
    "duration": 5,
    "start_time": "2023-01-27T19:39:44.680Z"
   },
   {
    "duration": 5,
    "start_time": "2023-01-27T19:39:44.853Z"
   },
   {
    "duration": 6,
    "start_time": "2023-01-27T19:39:45.012Z"
   },
   {
    "duration": 4,
    "start_time": "2023-01-27T19:39:45.173Z"
   },
   {
    "duration": 5,
    "start_time": "2023-01-27T19:39:45.357Z"
   },
   {
    "duration": 5,
    "start_time": "2023-01-27T19:39:45.517Z"
   },
   {
    "duration": 4,
    "start_time": "2023-01-27T19:39:45.684Z"
   },
   {
    "duration": 5,
    "start_time": "2023-01-27T19:39:46.857Z"
   },
   {
    "duration": 5,
    "start_time": "2023-01-27T19:39:47.213Z"
   },
   {
    "duration": 18,
    "start_time": "2023-01-27T19:39:47.384Z"
   },
   {
    "duration": 20,
    "start_time": "2023-01-27T19:39:47.911Z"
   },
   {
    "duration": 18,
    "start_time": "2023-01-27T19:39:48.245Z"
   },
   {
    "duration": 5,
    "start_time": "2023-01-27T19:39:48.775Z"
   },
   {
    "duration": 17,
    "start_time": "2023-01-27T19:39:49.330Z"
   },
   {
    "duration": 287,
    "start_time": "2023-01-27T19:39:50.370Z"
   },
   {
    "duration": 6,
    "start_time": "2023-01-27T19:39:51.772Z"
   },
   {
    "duration": 11,
    "start_time": "2023-01-27T19:39:52.309Z"
   },
   {
    "duration": 8,
    "start_time": "2023-01-27T19:39:52.847Z"
   },
   {
    "duration": 282,
    "start_time": "2023-01-27T19:39:53.213Z"
   },
   {
    "duration": 377,
    "start_time": "2023-01-27T19:39:53.744Z"
   },
   {
    "duration": 6,
    "start_time": "2023-01-27T19:39:55.563Z"
   },
   {
    "duration": 13,
    "start_time": "2023-01-27T19:39:55.746Z"
   },
   {
    "duration": 129,
    "start_time": "2023-01-27T19:39:57.057Z"
   },
   {
    "duration": 151,
    "start_time": "2023-01-27T19:39:57.585Z"
   },
   {
    "duration": 136,
    "start_time": "2023-01-27T19:39:57.781Z"
   },
   {
    "duration": 135,
    "start_time": "2023-01-27T19:39:57.945Z"
   },
   {
    "duration": 123,
    "start_time": "2023-01-27T19:39:58.135Z"
   },
   {
    "duration": 234,
    "start_time": "2023-01-27T19:39:58.662Z"
   },
   {
    "duration": 248,
    "start_time": "2023-01-27T19:39:58.898Z"
   },
   {
    "duration": 135,
    "start_time": "2023-01-27T19:40:00.189Z"
   },
   {
    "duration": 156,
    "start_time": "2023-01-27T19:40:01.521Z"
   },
   {
    "duration": 7,
    "start_time": "2023-01-27T19:40:01.889Z"
   },
   {
    "duration": 6,
    "start_time": "2023-01-27T19:40:03.513Z"
   },
   {
    "duration": 137,
    "start_time": "2023-01-27T19:40:04.696Z"
   },
   {
    "duration": 130,
    "start_time": "2023-01-27T19:40:04.913Z"
   },
   {
    "duration": 6,
    "start_time": "2023-01-27T19:40:05.273Z"
   },
   {
    "duration": 6,
    "start_time": "2023-01-27T19:40:05.949Z"
   },
   {
    "duration": 143,
    "start_time": "2023-01-27T19:40:06.428Z"
   },
   {
    "duration": 140,
    "start_time": "2023-01-27T19:40:06.839Z"
   },
   {
    "duration": 8,
    "start_time": "2023-01-27T19:40:07.355Z"
   },
   {
    "duration": 7,
    "start_time": "2023-01-27T19:40:11.086Z"
   },
   {
    "duration": 35,
    "start_time": "2023-01-27T19:40:11.811Z"
   },
   {
    "duration": 364,
    "start_time": "2023-01-27T19:40:11.980Z"
   },
   {
    "duration": 250,
    "start_time": "2023-01-27T19:40:12.353Z"
   },
   {
    "duration": 256,
    "start_time": "2023-01-27T19:40:12.604Z"
   },
   {
    "duration": 4,
    "start_time": "2023-01-27T19:40:13.067Z"
   },
   {
    "duration": 154,
    "start_time": "2023-01-27T19:40:13.250Z"
   },
   {
    "duration": 12,
    "start_time": "2023-01-27T19:40:13.627Z"
   },
   {
    "duration": 13,
    "start_time": "2023-01-27T19:40:14.411Z"
   },
   {
    "duration": 10,
    "start_time": "2023-01-27T19:40:18.591Z"
   },
   {
    "duration": 10,
    "start_time": "2023-01-27T19:40:18.788Z"
   },
   {
    "duration": 9,
    "start_time": "2023-01-27T19:40:18.978Z"
   },
   {
    "duration": 35,
    "start_time": "2023-01-27T19:40:19.162Z"
   },
   {
    "duration": 20,
    "start_time": "2023-01-27T19:40:19.735Z"
   },
   {
    "duration": 22,
    "start_time": "2023-01-27T19:40:19.938Z"
   },
   {
    "duration": 188,
    "start_time": "2023-01-27T19:40:21.222Z"
   },
   {
    "duration": 10,
    "start_time": "2023-01-27T19:40:22.686Z"
   },
   {
    "duration": 201,
    "start_time": "2023-01-27T19:40:23.844Z"
   },
   {
    "duration": 10,
    "start_time": "2023-01-27T19:40:25.066Z"
   },
   {
    "duration": 204,
    "start_time": "2023-01-27T19:40:26.193Z"
   },
   {
    "duration": 9,
    "start_time": "2023-01-27T19:40:27.068Z"
   },
   {
    "duration": 15,
    "start_time": "2023-01-27T19:40:27.450Z"
   },
   {
    "duration": 265,
    "start_time": "2023-01-27T19:40:27.888Z"
   },
   {
    "duration": 163,
    "start_time": "2023-01-27T19:40:31.306Z"
   },
   {
    "duration": 160,
    "start_time": "2023-01-27T19:40:33.052Z"
   },
   {
    "duration": 342,
    "start_time": "2023-01-27T19:40:34.924Z"
   },
   {
    "duration": 5,
    "start_time": "2023-01-27T19:40:43.043Z"
   },
   {
    "duration": 6,
    "start_time": "2023-01-27T19:40:44.002Z"
   },
   {
    "duration": 5,
    "start_time": "2023-01-27T19:41:24.054Z"
   },
   {
    "duration": 4,
    "start_time": "2023-01-27T19:41:42.326Z"
   },
   {
    "duration": 6,
    "start_time": "2023-01-27T19:44:37.783Z"
   },
   {
    "duration": 5,
    "start_time": "2023-01-27T19:44:39.704Z"
   },
   {
    "duration": 7,
    "start_time": "2023-01-27T19:45:43.977Z"
   },
   {
    "duration": 41,
    "start_time": "2023-01-27T20:15:59.673Z"
   },
   {
    "duration": 1421,
    "start_time": "2023-01-28T10:09:41.075Z"
   },
   {
    "duration": 95,
    "start_time": "2023-01-28T10:09:42.499Z"
   },
   {
    "duration": 12,
    "start_time": "2023-01-28T10:09:42.598Z"
   },
   {
    "duration": 28,
    "start_time": "2023-01-28T10:09:42.612Z"
   },
   {
    "duration": 21,
    "start_time": "2023-01-28T10:09:42.642Z"
   },
   {
    "duration": 45,
    "start_time": "2023-01-28T10:09:42.667Z"
   },
   {
    "duration": 7,
    "start_time": "2023-01-28T10:09:42.714Z"
   },
   {
    "duration": 23,
    "start_time": "2023-01-28T10:09:42.723Z"
   },
   {
    "duration": 19,
    "start_time": "2023-01-28T10:09:42.751Z"
   },
   {
    "duration": 32,
    "start_time": "2023-01-28T10:09:42.772Z"
   },
   {
    "duration": 11,
    "start_time": "2023-01-28T10:09:42.806Z"
   },
   {
    "duration": 10,
    "start_time": "2023-01-28T10:09:42.819Z"
   },
   {
    "duration": 11,
    "start_time": "2023-01-28T10:09:42.831Z"
   },
   {
    "duration": 51,
    "start_time": "2023-01-28T10:09:42.845Z"
   },
   {
    "duration": 8,
    "start_time": "2023-01-28T10:09:42.898Z"
   },
   {
    "duration": 7,
    "start_time": "2023-01-28T10:09:42.909Z"
   },
   {
    "duration": 43,
    "start_time": "2023-01-28T10:09:42.918Z"
   },
   {
    "duration": 61,
    "start_time": "2023-01-28T10:09:42.963Z"
   }
  ],
  "kernelspec": {
   "display_name": "Python 3 (ipykernel)",
   "language": "python",
   "name": "python3"
  },
  "language_info": {
   "codemirror_mode": {
    "name": "ipython",
    "version": 3
   },
   "file_extension": ".py",
   "mimetype": "text/x-python",
   "name": "python",
   "nbconvert_exporter": "python",
   "pygments_lexer": "ipython3",
   "version": "3.9.5"
  },
  "toc": {
   "base_numbering": 1,
   "nav_menu": {},
   "number_sections": true,
   "sideBar": true,
   "skip_h1_title": true,
   "title_cell": "Table of Contents",
   "title_sidebar": "Contents",
   "toc_cell": false,
   "toc_position": {
    "height": "calc(100% - 180px)",
    "left": "10px",
    "top": "150px",
    "width": "165px"
   },
   "toc_section_display": true,
   "toc_window_display": true
  }
 },
 "nbformat": 4,
 "nbformat_minor": 2
}
