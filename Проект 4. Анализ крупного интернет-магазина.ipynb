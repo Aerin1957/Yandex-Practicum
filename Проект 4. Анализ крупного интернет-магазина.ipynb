{
 "cells": [
  {
   "cell_type": "markdown",
   "metadata": {},
   "source": [
    "# Описание проекта"
   ]
  },
  {
   "cell_type": "markdown",
   "metadata": {},
   "source": [
    "Вы — аналитик крупного интернет-магазина. Вместе с отделом маркетинга вы подготовили список гипотез для увеличения выручки.\n",
    "Приоритизируйте гипотезы, запустите A/B-тест и проанализируйте результаты. "
   ]
  },
  {
   "cell_type": "markdown",
   "metadata": {},
   "source": [
    "## Описание данных\n",
    "### Данные для первой части\n",
    "Файл /datasets/hypothesis.csv. \n",
    "\n",
    "Hypothesis — краткое описание гипотезы;\n",
    "\n",
    "Reach — охват пользователей по 10-балльной шкале;\n",
    "\n",
    "Impact — влияние на пользователей по 10-балльной шкале;\n",
    "\n",
    "Confidence — уверенность в гипотезе по 10-балльной шкале;\n",
    "\n",
    "Efforts — затраты ресурсов на проверку гипотезы по 10-балльной шкале. Чем больше значение Efforts, тем дороже проверка гипотезы.\n",
    "\n",
    "### Данные для второй части\n",
    "Файл /datasets/orders.csv\n",
    "\n",
    "transactionId — идентификатор заказа;\n",
    "\n",
    "visitorId — идентификатор пользователя, совершившего заказ;\n",
    "\n",
    "date — дата, когда был совершён заказ;\n",
    "\n",
    "revenue — выручка заказа;\n",
    "\n",
    "group — группа A/B-теста, в которую попал заказ.\n",
    "\n",
    "Файл /datasets/visitors.csv\n",
    "\n",
    "date — дата;\n",
    "\n",
    "group — группа A/B-теста;\n",
    "\n",
    "visitors — количество пользователей в указанную дату в указанной группе A/B-теста"
   ]
  },
  {
   "cell_type": "markdown",
   "metadata": {},
   "source": [
    "# СТРУКТУРА РАБОТЫ"
   ]
  },
  {
   "cell_type": "markdown",
   "metadata": {},
   "source": [
    "## Часть 1. Приоритизация гипотез.\n",
    "\n",
    "В файле /datasets/hypothesis.csv 9 гипотез по увеличению выручки интернет-магазина с указанными параметрами Reach, Impact, Confidence, Effort.\n",
    "\n",
    "Задача\n",
    "\n",
    "Примените фреймворк ICE для приоритизации гипотез. Отсортируйте их по убыванию приоритета.\n",
    "\n",
    "Примените фреймворк RICE для приоритизации гипотез. Отсортируйте их по убыванию приоритета.\n",
    "\n",
    "Укажите, как изменилась приоритизация гипотез при применении RICE вместо ICE. Объясните, почему так произошло."
   ]
  },
  {
   "cell_type": "markdown",
   "metadata": {},
   "source": [
    "## Часть 2. Анализ A/B-теста\n",
    "\n",
    "Вы провели A/B-тест и получили результаты, которые описаны в файлах /datasets/orders.csv и /datasets/visitors.csv.\n",
    "\n",
    "Задача\n",
    "\n",
    "Проанализируйте A/B-тест:\n",
    "\n",
    "Постройте график кумулятивной выручки по группам. Сделайте выводы и предположения.\n",
    "\n",
    "Постройте график кумулятивного среднего чека по группам. Сделайте выводы и предположения.\n",
    "\n",
    "Постройте график относительного изменения кумулятивного среднего чека группы B к группе A. Сделайте \n",
    "выводы и предположения.\n",
    "\n",
    "Постройте график кумулятивного среднего количества заказов на посетителя по группам. Сделайте выводы и предположения.\n",
    "\n",
    "Постройте график относительного изменения кумулятивного среднего количества заказов на посетителя группы B к группе A. Сделайте выводы и предположения.\n",
    "\n",
    "Постройте точечный график количества заказов по пользователям. Сделайте выводы и предположения.\n",
    "\n",
    "Посчитайте 95-й и 99-й перцентили количества заказов на пользователя. Выберите границу для определения аномальных пользователей.\n",
    "\n",
    "Постройте точечный график стоимостей заказов. Сделайте выводы и предположения.\n",
    "\n",
    "Посчитайте 95-й и 99-й перцентили стоимости заказов. Выберите границу для определения аномальных заказов.\n",
    "\n",
    "Посчитайте статистическую значимость различий в среднем количестве заказов на посетителя между группами по «сырым» данным. Сделайте выводы и предположения.\n",
    "\n",
    "Посчитайте статистическую значимость различий в среднем чеке заказа между группами по «сырым» данным. \n",
    "\n",
    "Сделайте выводы и предположения.\n",
    "\n",
    "Посчитайте статистическую значимость различий в среднем количестве заказов на посетителя между группами по «очищенным» данным. Сделайте выводы и предположения.\n",
    "\n",
    "Посчитайте статистическую значимость различий в среднем чеке заказа между группами по «очищенным» данным. Сделайте выводы и предположения.\n",
    "\n",
    "Примите решение по результатам теста и объясните его. "
   ]
  },
  {
   "cell_type": "markdown",
   "metadata": {},
   "source": [
    "## 1. Предобработка данных"
   ]
  },
  {
   "cell_type": "code",
   "execution_count": 1,
   "metadata": {},
   "outputs": [
    {
     "data": {
      "text/html": [
       "        <script type=\"text/javascript\">\n",
       "        window.PlotlyConfig = {MathJaxConfig: 'local'};\n",
       "        if (window.MathJax) {MathJax.Hub.Config({SVG: {font: \"STIX-Web\"}});}\n",
       "        if (typeof require !== 'undefined') {\n",
       "        require.undef(\"plotly\");\n",
       "        requirejs.config({\n",
       "            paths: {\n",
       "                'plotly': ['https://cdn.plot.ly/plotly-2.6.3.min']\n",
       "            }\n",
       "        });\n",
       "        require(['plotly'], function(Plotly) {\n",
       "            window._Plotly = Plotly;\n",
       "        });\n",
       "        }\n",
       "        </script>\n",
       "        "
      ]
     },
     "metadata": {},
     "output_type": "display_data"
    }
   ],
   "source": [
    "#импортируем библиотеки:\n",
    "import pandas as pd\n",
    "import matplotlib.pyplot as plt\n",
    "import seaborn as sns\n",
    "import matplotlib.ticker as ticker\n",
    "import numpy as np\n",
    "import datetime as dt\n",
    "\n",
    "from scipy import stats as st\n",
    "from datetime import datetime, timedelta\n",
    "from plotly.offline import download_plotlyjs, init_notebook_mode, plot, iplot\n",
    "import plotly\n",
    "import plotly.graph_objs as go\n",
    "\n",
    "init_notebook_mode(connected=True)"
   ]
  },
  {
   "cell_type": "code",
   "execution_count": 2,
   "metadata": {},
   "outputs": [],
   "source": [
    "hypothesis = pd.read_csv('/datasets/hypothesis.csv')\n",
    "orders = pd.read_csv('/datasets/orders.csv')\n",
    "visitors = pd.read_csv('/datasets/visitors.csv')"
   ]
  },
  {
   "cell_type": "code",
   "execution_count": 3,
   "metadata": {},
   "outputs": [],
   "source": [
    "#установим отображение строчек без усечений:\n",
    "pd.options.display.max_colwidth = 150"
   ]
  },
  {
   "cell_type": "code",
   "execution_count": 4,
   "metadata": {},
   "outputs": [
    {
     "name": "stdout",
     "output_type": "stream",
     "text": [
      "<class 'pandas.core.frame.DataFrame'>\n",
      "RangeIndex: 9 entries, 0 to 8\n",
      "Data columns (total 5 columns):\n",
      " #   Column      Non-Null Count  Dtype \n",
      "---  ------      --------------  ----- \n",
      " 0   Hypothesis  9 non-null      object\n",
      " 1   Reach       9 non-null      int64 \n",
      " 2   Impact      9 non-null      int64 \n",
      " 3   Confidence  9 non-null      int64 \n",
      " 4   Efforts     9 non-null      int64 \n",
      "dtypes: int64(4), object(1)\n",
      "memory usage: 488.0+ bytes\n"
     ]
    }
   ],
   "source": [
    "hypothesis.info()"
   ]
  },
  {
   "cell_type": "code",
   "execution_count": 5,
   "metadata": {},
   "outputs": [
    {
     "data": {
      "text/html": [
       "<div>\n",
       "<style scoped>\n",
       "    .dataframe tbody tr th:only-of-type {\n",
       "        vertical-align: middle;\n",
       "    }\n",
       "\n",
       "    .dataframe tbody tr th {\n",
       "        vertical-align: top;\n",
       "    }\n",
       "\n",
       "    .dataframe thead th {\n",
       "        text-align: right;\n",
       "    }\n",
       "</style>\n",
       "<table border=\"1\" class=\"dataframe\">\n",
       "  <thead>\n",
       "    <tr style=\"text-align: right;\">\n",
       "      <th></th>\n",
       "      <th>hypothesis</th>\n",
       "      <th>reach</th>\n",
       "      <th>impact</th>\n",
       "      <th>confidence</th>\n",
       "      <th>efforts</th>\n",
       "    </tr>\n",
       "  </thead>\n",
       "  <tbody>\n",
       "    <tr>\n",
       "      <th>0</th>\n",
       "      <td>Добавить два новых канала привлечения трафика, что позволит привлекать на 30% больше пользователей</td>\n",
       "      <td>3</td>\n",
       "      <td>10</td>\n",
       "      <td>8</td>\n",
       "      <td>6</td>\n",
       "    </tr>\n",
       "    <tr>\n",
       "      <th>1</th>\n",
       "      <td>Запустить собственную службу доставки, что сократит срок доставки заказов</td>\n",
       "      <td>2</td>\n",
       "      <td>5</td>\n",
       "      <td>4</td>\n",
       "      <td>10</td>\n",
       "    </tr>\n",
       "    <tr>\n",
       "      <th>2</th>\n",
       "      <td>Добавить блоки рекомендаций товаров на сайт интернет магазина, чтобы повысить конверсию и средний чек заказа</td>\n",
       "      <td>8</td>\n",
       "      <td>3</td>\n",
       "      <td>7</td>\n",
       "      <td>3</td>\n",
       "    </tr>\n",
       "    <tr>\n",
       "      <th>3</th>\n",
       "      <td>Изменить структура категорий, что увеличит конверсию, т.к. пользователи быстрее найдут нужный товар</td>\n",
       "      <td>8</td>\n",
       "      <td>3</td>\n",
       "      <td>3</td>\n",
       "      <td>8</td>\n",
       "    </tr>\n",
       "    <tr>\n",
       "      <th>4</th>\n",
       "      <td>Изменить цвет фона главной страницы, чтобы увеличить вовлеченность пользователей</td>\n",
       "      <td>3</td>\n",
       "      <td>1</td>\n",
       "      <td>1</td>\n",
       "      <td>1</td>\n",
       "    </tr>\n",
       "    <tr>\n",
       "      <th>5</th>\n",
       "      <td>Добавить страницу отзывов клиентов о магазине, что позволит увеличить количество заказов</td>\n",
       "      <td>3</td>\n",
       "      <td>2</td>\n",
       "      <td>2</td>\n",
       "      <td>3</td>\n",
       "    </tr>\n",
       "    <tr>\n",
       "      <th>6</th>\n",
       "      <td>Показать на главной странице баннеры с актуальными акциями и распродажами, чтобы увеличить конверсию</td>\n",
       "      <td>5</td>\n",
       "      <td>3</td>\n",
       "      <td>8</td>\n",
       "      <td>3</td>\n",
       "    </tr>\n",
       "    <tr>\n",
       "      <th>7</th>\n",
       "      <td>Добавить форму подписки на все основные страницы, чтобы собрать базу клиентов для email-рассылок</td>\n",
       "      <td>10</td>\n",
       "      <td>7</td>\n",
       "      <td>8</td>\n",
       "      <td>5</td>\n",
       "    </tr>\n",
       "    <tr>\n",
       "      <th>8</th>\n",
       "      <td>Запустить акцию, дающую скидку на товар в день рождения</td>\n",
       "      <td>1</td>\n",
       "      <td>9</td>\n",
       "      <td>9</td>\n",
       "      <td>5</td>\n",
       "    </tr>\n",
       "  </tbody>\n",
       "</table>\n",
       "</div>"
      ],
      "text/plain": [
       "                                                                                                     hypothesis  \\\n",
       "0            Добавить два новых канала привлечения трафика, что позволит привлекать на 30% больше пользователей   \n",
       "1                                     Запустить собственную службу доставки, что сократит срок доставки заказов   \n",
       "2  Добавить блоки рекомендаций товаров на сайт интернет магазина, чтобы повысить конверсию и средний чек заказа   \n",
       "3           Изменить структура категорий, что увеличит конверсию, т.к. пользователи быстрее найдут нужный товар   \n",
       "4                              Изменить цвет фона главной страницы, чтобы увеличить вовлеченность пользователей   \n",
       "5                      Добавить страницу отзывов клиентов о магазине, что позволит увеличить количество заказов   \n",
       "6          Показать на главной странице баннеры с актуальными акциями и распродажами, чтобы увеличить конверсию   \n",
       "7              Добавить форму подписки на все основные страницы, чтобы собрать базу клиентов для email-рассылок   \n",
       "8                                                       Запустить акцию, дающую скидку на товар в день рождения   \n",
       "\n",
       "   reach  impact  confidence  efforts  \n",
       "0      3      10           8        6  \n",
       "1      2       5           4       10  \n",
       "2      8       3           7        3  \n",
       "3      8       3           3        8  \n",
       "4      3       1           1        1  \n",
       "5      3       2           2        3  \n",
       "6      5       3           8        3  \n",
       "7     10       7           8        5  \n",
       "8      1       9           9        5  "
      ]
     },
     "execution_count": 5,
     "metadata": {},
     "output_type": "execute_result"
    }
   ],
   "source": [
    "#приведем колонки к нижнему регистру:\n",
    "hypothesis.columns= hypothesis.columns.str.lower()\n",
    "hypothesis"
   ]
  },
  {
   "cell_type": "markdown",
   "metadata": {},
   "source": [
    "В hypothesis представлено 9 гипотез по увеличению выручки интернет-магазина:\n",
    "\n",
    "Reach — охват пользователей по 10-балльной шкале;\n",
    "Impact — влияние на пользователей по 10-балльной шкале;\n",
    "Confidence — уверенность в гипотезе по 10-балльной шкале;\n",
    "Efforts — затраты ресурсов на проверку гипотезы по 10-балльной шкале. Чем больше значение Efforts, тем дороже проверка гипотезы."
   ]
  },
  {
   "cell_type": "code",
   "execution_count": 6,
   "metadata": {},
   "outputs": [
    {
     "name": "stdout",
     "output_type": "stream",
     "text": [
      "<class 'pandas.core.frame.DataFrame'>\n",
      "RangeIndex: 1197 entries, 0 to 1196\n",
      "Data columns (total 5 columns):\n",
      " #   Column         Non-Null Count  Dtype \n",
      "---  ------         --------------  ----- \n",
      " 0   transactionId  1197 non-null   int64 \n",
      " 1   visitorId      1197 non-null   int64 \n",
      " 2   date           1197 non-null   object\n",
      " 3   revenue        1197 non-null   int64 \n",
      " 4   group          1197 non-null   object\n",
      "dtypes: int64(3), object(2)\n",
      "memory usage: 46.9+ KB\n"
     ]
    }
   ],
   "source": [
    "orders.info()"
   ]
  },
  {
   "cell_type": "code",
   "execution_count": 7,
   "metadata": {},
   "outputs": [
    {
     "data": {
      "text/plain": [
       "transactionId    0\n",
       "visitorId        0\n",
       "date             0\n",
       "revenue          0\n",
       "group            0\n",
       "dtype: int64"
      ]
     },
     "execution_count": 7,
     "metadata": {},
     "output_type": "execute_result"
    }
   ],
   "source": [
    "orders.isna().sum()"
   ]
  },
  {
   "cell_type": "code",
   "execution_count": 8,
   "metadata": {},
   "outputs": [
    {
     "data": {
      "text/html": [
       "<div>\n",
       "<style scoped>\n",
       "    .dataframe tbody tr th:only-of-type {\n",
       "        vertical-align: middle;\n",
       "    }\n",
       "\n",
       "    .dataframe tbody tr th {\n",
       "        vertical-align: top;\n",
       "    }\n",
       "\n",
       "    .dataframe thead th {\n",
       "        text-align: right;\n",
       "    }\n",
       "</style>\n",
       "<table border=\"1\" class=\"dataframe\">\n",
       "  <thead>\n",
       "    <tr style=\"text-align: right;\">\n",
       "      <th></th>\n",
       "      <th>transaction_id</th>\n",
       "      <th>visitor_id</th>\n",
       "      <th>date</th>\n",
       "      <th>revenue</th>\n",
       "      <th>group</th>\n",
       "    </tr>\n",
       "  </thead>\n",
       "  <tbody>\n",
       "    <tr>\n",
       "      <th>0</th>\n",
       "      <td>3667963787</td>\n",
       "      <td>3312258926</td>\n",
       "      <td>2019-08-15</td>\n",
       "      <td>1650</td>\n",
       "      <td>B</td>\n",
       "    </tr>\n",
       "    <tr>\n",
       "      <th>1</th>\n",
       "      <td>2804400009</td>\n",
       "      <td>3642806036</td>\n",
       "      <td>2019-08-15</td>\n",
       "      <td>730</td>\n",
       "      <td>B</td>\n",
       "    </tr>\n",
       "    <tr>\n",
       "      <th>2</th>\n",
       "      <td>2961555356</td>\n",
       "      <td>4069496402</td>\n",
       "      <td>2019-08-15</td>\n",
       "      <td>400</td>\n",
       "      <td>A</td>\n",
       "    </tr>\n",
       "    <tr>\n",
       "      <th>3</th>\n",
       "      <td>3797467345</td>\n",
       "      <td>1196621759</td>\n",
       "      <td>2019-08-15</td>\n",
       "      <td>9759</td>\n",
       "      <td>B</td>\n",
       "    </tr>\n",
       "    <tr>\n",
       "      <th>4</th>\n",
       "      <td>2282983706</td>\n",
       "      <td>2322279887</td>\n",
       "      <td>2019-08-15</td>\n",
       "      <td>2308</td>\n",
       "      <td>B</td>\n",
       "    </tr>\n",
       "    <tr>\n",
       "      <th>...</th>\n",
       "      <td>...</td>\n",
       "      <td>...</td>\n",
       "      <td>...</td>\n",
       "      <td>...</td>\n",
       "      <td>...</td>\n",
       "    </tr>\n",
       "    <tr>\n",
       "      <th>1192</th>\n",
       "      <td>2662137336</td>\n",
       "      <td>3733762160</td>\n",
       "      <td>2019-08-14</td>\n",
       "      <td>6490</td>\n",
       "      <td>B</td>\n",
       "    </tr>\n",
       "    <tr>\n",
       "      <th>1193</th>\n",
       "      <td>2203539145</td>\n",
       "      <td>370388673</td>\n",
       "      <td>2019-08-14</td>\n",
       "      <td>3190</td>\n",
       "      <td>A</td>\n",
       "    </tr>\n",
       "    <tr>\n",
       "      <th>1194</th>\n",
       "      <td>1807773912</td>\n",
       "      <td>573423106</td>\n",
       "      <td>2019-08-14</td>\n",
       "      <td>10550</td>\n",
       "      <td>A</td>\n",
       "    </tr>\n",
       "    <tr>\n",
       "      <th>1195</th>\n",
       "      <td>1947021204</td>\n",
       "      <td>1614305549</td>\n",
       "      <td>2019-08-14</td>\n",
       "      <td>100</td>\n",
       "      <td>A</td>\n",
       "    </tr>\n",
       "    <tr>\n",
       "      <th>1196</th>\n",
       "      <td>3936777065</td>\n",
       "      <td>2108080724</td>\n",
       "      <td>2019-08-15</td>\n",
       "      <td>202740</td>\n",
       "      <td>B</td>\n",
       "    </tr>\n",
       "  </tbody>\n",
       "</table>\n",
       "<p>1197 rows × 5 columns</p>\n",
       "</div>"
      ],
      "text/plain": [
       "      transaction_id  visitor_id        date  revenue group\n",
       "0         3667963787  3312258926  2019-08-15     1650     B\n",
       "1         2804400009  3642806036  2019-08-15      730     B\n",
       "2         2961555356  4069496402  2019-08-15      400     A\n",
       "3         3797467345  1196621759  2019-08-15     9759     B\n",
       "4         2282983706  2322279887  2019-08-15     2308     B\n",
       "...              ...         ...         ...      ...   ...\n",
       "1192      2662137336  3733762160  2019-08-14     6490     B\n",
       "1193      2203539145   370388673  2019-08-14     3190     A\n",
       "1194      1807773912   573423106  2019-08-14    10550     A\n",
       "1195      1947021204  1614305549  2019-08-14      100     A\n",
       "1196      3936777065  2108080724  2019-08-15   202740     B\n",
       "\n",
       "[1197 rows x 5 columns]"
      ]
     },
     "execution_count": 8,
     "metadata": {},
     "output_type": "execute_result"
    }
   ],
   "source": [
    "#переименуем названия столбцов:\n",
    "orders = orders.rename(columns = {'transactionId': 'transaction_id', 'visitorId': 'visitor_id'})\n",
    "orders"
   ]
  },
  {
   "cell_type": "code",
   "execution_count": 9,
   "metadata": {},
   "outputs": [
    {
     "data": {
      "text/plain": [
       "0"
      ]
     },
     "execution_count": 9,
     "metadata": {},
     "output_type": "execute_result"
    }
   ],
   "source": [
    "#проведем проверку на дубликаты:\n",
    "orders.duplicated().sum()"
   ]
  },
  {
   "cell_type": "code",
   "execution_count": 10,
   "metadata": {},
   "outputs": [
    {
     "data": {
      "text/html": [
       "<div>\n",
       "<style scoped>\n",
       "    .dataframe tbody tr th:only-of-type {\n",
       "        vertical-align: middle;\n",
       "    }\n",
       "\n",
       "    .dataframe tbody tr th {\n",
       "        vertical-align: top;\n",
       "    }\n",
       "\n",
       "    .dataframe thead th {\n",
       "        text-align: right;\n",
       "    }\n",
       "</style>\n",
       "<table border=\"1\" class=\"dataframe\">\n",
       "  <thead>\n",
       "    <tr style=\"text-align: right;\">\n",
       "      <th></th>\n",
       "      <th>transaction_id</th>\n",
       "      <th>visitor_id</th>\n",
       "      <th>date</th>\n",
       "      <th>revenue</th>\n",
       "      <th>group</th>\n",
       "    </tr>\n",
       "  </thead>\n",
       "  <tbody>\n",
       "    <tr>\n",
       "      <th>91</th>\n",
       "      <td>3176574859</td>\n",
       "      <td>2742574263</td>\n",
       "      <td>2019-08-22</td>\n",
       "      <td>17868</td>\n",
       "      <td>B</td>\n",
       "    </tr>\n",
       "    <tr>\n",
       "      <th>95</th>\n",
       "      <td>372616894</td>\n",
       "      <td>457167155</td>\n",
       "      <td>2019-08-22</td>\n",
       "      <td>987</td>\n",
       "      <td>B</td>\n",
       "    </tr>\n",
       "    <tr>\n",
       "      <th>98</th>\n",
       "      <td>1962247337</td>\n",
       "      <td>2706377257</td>\n",
       "      <td>2019-08-01</td>\n",
       "      <td>7129</td>\n",
       "      <td>A</td>\n",
       "    </tr>\n",
       "    <tr>\n",
       "      <th>112</th>\n",
       "      <td>1638982251</td>\n",
       "      <td>3062433592</td>\n",
       "      <td>2019-08-01</td>\n",
       "      <td>8470</td>\n",
       "      <td>B</td>\n",
       "    </tr>\n",
       "    <tr>\n",
       "      <th>118</th>\n",
       "      <td>4233533907</td>\n",
       "      <td>2378935119</td>\n",
       "      <td>2019-08-22</td>\n",
       "      <td>3390</td>\n",
       "      <td>A</td>\n",
       "    </tr>\n",
       "    <tr>\n",
       "      <th>...</th>\n",
       "      <td>...</td>\n",
       "      <td>...</td>\n",
       "      <td>...</td>\n",
       "      <td>...</td>\n",
       "      <td>...</td>\n",
       "    </tr>\n",
       "    <tr>\n",
       "      <th>1172</th>\n",
       "      <td>3898641900</td>\n",
       "      <td>3803269165</td>\n",
       "      <td>2019-08-14</td>\n",
       "      <td>790</td>\n",
       "      <td>B</td>\n",
       "    </tr>\n",
       "    <tr>\n",
       "      <th>1175</th>\n",
       "      <td>1373388206</td>\n",
       "      <td>3717692402</td>\n",
       "      <td>2019-08-14</td>\n",
       "      <td>2400</td>\n",
       "      <td>B</td>\n",
       "    </tr>\n",
       "    <tr>\n",
       "      <th>1182</th>\n",
       "      <td>2682156369</td>\n",
       "      <td>1668030113</td>\n",
       "      <td>2019-08-14</td>\n",
       "      <td>1290</td>\n",
       "      <td>B</td>\n",
       "    </tr>\n",
       "    <tr>\n",
       "      <th>1189</th>\n",
       "      <td>4082620617</td>\n",
       "      <td>393266494</td>\n",
       "      <td>2019-08-14</td>\n",
       "      <td>31550</td>\n",
       "      <td>B</td>\n",
       "    </tr>\n",
       "    <tr>\n",
       "      <th>1195</th>\n",
       "      <td>1947021204</td>\n",
       "      <td>1614305549</td>\n",
       "      <td>2019-08-14</td>\n",
       "      <td>100</td>\n",
       "      <td>A</td>\n",
       "    </tr>\n",
       "  </tbody>\n",
       "</table>\n",
       "<p>108 rows × 5 columns</p>\n",
       "</div>"
      ],
      "text/plain": [
       "      transaction_id  visitor_id        date  revenue group\n",
       "91        3176574859  2742574263  2019-08-22    17868     B\n",
       "95         372616894   457167155  2019-08-22      987     B\n",
       "98        1962247337  2706377257  2019-08-01     7129     A\n",
       "112       1638982251  3062433592  2019-08-01     8470     B\n",
       "118       4233533907  2378935119  2019-08-22     3390     A\n",
       "...              ...         ...         ...      ...   ...\n",
       "1172      3898641900  3803269165  2019-08-14      790     B\n",
       "1175      1373388206  3717692402  2019-08-14     2400     B\n",
       "1182      2682156369  1668030113  2019-08-14     1290     B\n",
       "1189      4082620617   393266494  2019-08-14    31550     B\n",
       "1195      1947021204  1614305549  2019-08-14      100     A\n",
       "\n",
       "[108 rows x 5 columns]"
      ]
     },
     "execution_count": 10,
     "metadata": {},
     "output_type": "execute_result"
    }
   ],
   "source": [
    "#и на неявные дубликаты:\n",
    "orders_dup = orders[orders.duplicated(subset=['visitor_id','group'])==True]\n",
    "orders_dup"
   ]
  },
  {
   "cell_type": "code",
   "execution_count": 11,
   "metadata": {},
   "outputs": [],
   "source": [
    "#приведем данные к нужному формату:\n",
    "orders['date'] = orders['date'].map(lambda x: dt.datetime.strptime(x, '%Y-%m-%d'))"
   ]
  },
  {
   "cell_type": "code",
   "execution_count": 12,
   "metadata": {},
   "outputs": [
    {
     "name": "stdout",
     "output_type": "stream",
     "text": [
      "<class 'pandas.core.frame.DataFrame'>\n",
      "RangeIndex: 62 entries, 0 to 61\n",
      "Data columns (total 3 columns):\n",
      " #   Column    Non-Null Count  Dtype \n",
      "---  ------    --------------  ----- \n",
      " 0   date      62 non-null     object\n",
      " 1   group     62 non-null     object\n",
      " 2   visitors  62 non-null     int64 \n",
      "dtypes: int64(1), object(2)\n",
      "memory usage: 1.6+ KB\n"
     ]
    }
   ],
   "source": [
    "visitors.info()"
   ]
  },
  {
   "cell_type": "code",
   "execution_count": 13,
   "metadata": {},
   "outputs": [
    {
     "data": {
      "text/html": [
       "<div>\n",
       "<style scoped>\n",
       "    .dataframe tbody tr th:only-of-type {\n",
       "        vertical-align: middle;\n",
       "    }\n",
       "\n",
       "    .dataframe tbody tr th {\n",
       "        vertical-align: top;\n",
       "    }\n",
       "\n",
       "    .dataframe thead th {\n",
       "        text-align: right;\n",
       "    }\n",
       "</style>\n",
       "<table border=\"1\" class=\"dataframe\">\n",
       "  <thead>\n",
       "    <tr style=\"text-align: right;\">\n",
       "      <th></th>\n",
       "      <th>date</th>\n",
       "      <th>group</th>\n",
       "      <th>visitors</th>\n",
       "    </tr>\n",
       "  </thead>\n",
       "  <tbody>\n",
       "    <tr>\n",
       "      <th>0</th>\n",
       "      <td>2019-08-01</td>\n",
       "      <td>A</td>\n",
       "      <td>719</td>\n",
       "    </tr>\n",
       "    <tr>\n",
       "      <th>1</th>\n",
       "      <td>2019-08-02</td>\n",
       "      <td>A</td>\n",
       "      <td>619</td>\n",
       "    </tr>\n",
       "    <tr>\n",
       "      <th>2</th>\n",
       "      <td>2019-08-03</td>\n",
       "      <td>A</td>\n",
       "      <td>507</td>\n",
       "    </tr>\n",
       "    <tr>\n",
       "      <th>3</th>\n",
       "      <td>2019-08-04</td>\n",
       "      <td>A</td>\n",
       "      <td>717</td>\n",
       "    </tr>\n",
       "    <tr>\n",
       "      <th>4</th>\n",
       "      <td>2019-08-05</td>\n",
       "      <td>A</td>\n",
       "      <td>756</td>\n",
       "    </tr>\n",
       "    <tr>\n",
       "      <th>...</th>\n",
       "      <td>...</td>\n",
       "      <td>...</td>\n",
       "      <td>...</td>\n",
       "    </tr>\n",
       "    <tr>\n",
       "      <th>57</th>\n",
       "      <td>2019-08-27</td>\n",
       "      <td>B</td>\n",
       "      <td>720</td>\n",
       "    </tr>\n",
       "    <tr>\n",
       "      <th>58</th>\n",
       "      <td>2019-08-28</td>\n",
       "      <td>B</td>\n",
       "      <td>654</td>\n",
       "    </tr>\n",
       "    <tr>\n",
       "      <th>59</th>\n",
       "      <td>2019-08-29</td>\n",
       "      <td>B</td>\n",
       "      <td>531</td>\n",
       "    </tr>\n",
       "    <tr>\n",
       "      <th>60</th>\n",
       "      <td>2019-08-30</td>\n",
       "      <td>B</td>\n",
       "      <td>490</td>\n",
       "    </tr>\n",
       "    <tr>\n",
       "      <th>61</th>\n",
       "      <td>2019-08-31</td>\n",
       "      <td>B</td>\n",
       "      <td>718</td>\n",
       "    </tr>\n",
       "  </tbody>\n",
       "</table>\n",
       "<p>62 rows × 3 columns</p>\n",
       "</div>"
      ],
      "text/plain": [
       "          date group  visitors\n",
       "0   2019-08-01     A       719\n",
       "1   2019-08-02     A       619\n",
       "2   2019-08-03     A       507\n",
       "3   2019-08-04     A       717\n",
       "4   2019-08-05     A       756\n",
       "..         ...   ...       ...\n",
       "57  2019-08-27     B       720\n",
       "58  2019-08-28     B       654\n",
       "59  2019-08-29     B       531\n",
       "60  2019-08-30     B       490\n",
       "61  2019-08-31     B       718\n",
       "\n",
       "[62 rows x 3 columns]"
      ]
     },
     "execution_count": 13,
     "metadata": {},
     "output_type": "execute_result"
    }
   ],
   "source": [
    "visitors"
   ]
  },
  {
   "cell_type": "code",
   "execution_count": 14,
   "metadata": {},
   "outputs": [
    {
     "data": {
      "text/plain": [
       "date        0\n",
       "group       0\n",
       "visitors    0\n",
       "dtype: int64"
      ]
     },
     "execution_count": 14,
     "metadata": {},
     "output_type": "execute_result"
    }
   ],
   "source": [
    "visitors.isna().sum()"
   ]
  },
  {
   "cell_type": "code",
   "execution_count": 15,
   "metadata": {},
   "outputs": [
    {
     "data": {
      "text/plain": [
       "0"
      ]
     },
     "execution_count": 15,
     "metadata": {},
     "output_type": "execute_result"
    }
   ],
   "source": [
    "#проведем проверку на дубликаты:\n",
    "visitors.duplicated().sum()"
   ]
  },
  {
   "cell_type": "code",
   "execution_count": 16,
   "metadata": {},
   "outputs": [
    {
     "data": {
      "text/html": [
       "<div>\n",
       "<style scoped>\n",
       "    .dataframe tbody tr th:only-of-type {\n",
       "        vertical-align: middle;\n",
       "    }\n",
       "\n",
       "    .dataframe tbody tr th {\n",
       "        vertical-align: top;\n",
       "    }\n",
       "\n",
       "    .dataframe thead th {\n",
       "        text-align: right;\n",
       "    }\n",
       "</style>\n",
       "<table border=\"1\" class=\"dataframe\">\n",
       "  <thead>\n",
       "    <tr style=\"text-align: right;\">\n",
       "      <th></th>\n",
       "      <th>date</th>\n",
       "      <th>group</th>\n",
       "      <th>visitors</th>\n",
       "    </tr>\n",
       "  </thead>\n",
       "  <tbody>\n",
       "    <tr>\n",
       "      <th>58</th>\n",
       "      <td>2019-08-28</td>\n",
       "      <td>B</td>\n",
       "      <td>654</td>\n",
       "    </tr>\n",
       "  </tbody>\n",
       "</table>\n",
       "</div>"
      ],
      "text/plain": [
       "          date group  visitors\n",
       "58  2019-08-28     B       654"
      ]
     },
     "execution_count": 16,
     "metadata": {},
     "output_type": "execute_result"
    }
   ],
   "source": [
    "#и на неявные дубликаты:\n",
    "visitors_dup = visitors[visitors.duplicated(subset=['visitors','group'])==True]\n",
    "visitors_dup"
   ]
  },
  {
   "cell_type": "code",
   "execution_count": 17,
   "metadata": {},
   "outputs": [],
   "source": [
    "#приведем данные к нужному формату:\n",
    "visitors['date'] = visitors['date'].map(lambda x: dt.datetime.strptime(x, '%Y-%m-%d')) "
   ]
  },
  {
   "cell_type": "markdown",
   "metadata": {},
   "source": [
    "В данном блоке были загружены 3 датасета, проведена проверка на дубликаты, переименованы столбцы, преобразованы типы данных."
   ]
  },
  {
   "cell_type": "markdown",
   "metadata": {},
   "source": [
    "## 2. Часть 1. Приоритизация гипотез."
   ]
  },
  {
   "cell_type": "markdown",
   "metadata": {},
   "source": [
    "Прежде чем переходить непосредственно к приоритизации, вследует вспомнить термины RICE и ICE. Собственно, обе этих аббревиатуры скрывают под собой методы, с помощью которых можно расставить приоритеты при выполнении задач. \n",
    "\n",
    "RICE - четыре фактора, из которых высчитывается оценка важности задачи:\n",
    "R – Reach: охват. Это количество людей, которых коснется продукт. \n",
    "I – Impact: влияние. Это значение ценности обновления. \n",
    "C – Confidence: уверенность в оценке. Это процентное значение того, насколько вы убеждены в ценности продукта. \n",
    "E – Effort: трудозатраты. Это оценка того, сколько времени и сил уйдет на реализацию проекта. \n",
    "\n",
    "ICE расшифровывается следующим образом:\n",
    "\n",
    "I – Impact: влияние. Насколько положительно нововведение повлияет на клиентов.\n",
    "C – Confidence: уверенность. Насколько вы уверены в стратегии.\n",
    "E – Easy: легкость. Насколько легко ввести стратегию в производство."
   ]
  },
  {
   "cell_type": "code",
   "execution_count": 18,
   "metadata": {
    "scrolled": true
   },
   "outputs": [
    {
     "data": {
      "text/html": [
       "<div>\n",
       "<style scoped>\n",
       "    .dataframe tbody tr th:only-of-type {\n",
       "        vertical-align: middle;\n",
       "    }\n",
       "\n",
       "    .dataframe tbody tr th {\n",
       "        vertical-align: top;\n",
       "    }\n",
       "\n",
       "    .dataframe thead th {\n",
       "        text-align: right;\n",
       "    }\n",
       "</style>\n",
       "<table border=\"1\" class=\"dataframe\">\n",
       "  <thead>\n",
       "    <tr style=\"text-align: right;\">\n",
       "      <th></th>\n",
       "      <th>hypothesis</th>\n",
       "      <th>ICE</th>\n",
       "    </tr>\n",
       "  </thead>\n",
       "  <tbody>\n",
       "    <tr>\n",
       "      <th>8</th>\n",
       "      <td>Запустить акцию, дающую скидку на товар в день рождения</td>\n",
       "      <td>16.20</td>\n",
       "    </tr>\n",
       "    <tr>\n",
       "      <th>0</th>\n",
       "      <td>Добавить два новых канала привлечения трафика, что позволит привлекать на 30% больше пользователей</td>\n",
       "      <td>13.33</td>\n",
       "    </tr>\n",
       "    <tr>\n",
       "      <th>7</th>\n",
       "      <td>Добавить форму подписки на все основные страницы, чтобы собрать базу клиентов для email-рассылок</td>\n",
       "      <td>11.20</td>\n",
       "    </tr>\n",
       "    <tr>\n",
       "      <th>6</th>\n",
       "      <td>Показать на главной странице баннеры с актуальными акциями и распродажами, чтобы увеличить конверсию</td>\n",
       "      <td>8.00</td>\n",
       "    </tr>\n",
       "    <tr>\n",
       "      <th>2</th>\n",
       "      <td>Добавить блоки рекомендаций товаров на сайт интернет магазина, чтобы повысить конверсию и средний чек заказа</td>\n",
       "      <td>7.00</td>\n",
       "    </tr>\n",
       "    <tr>\n",
       "      <th>1</th>\n",
       "      <td>Запустить собственную службу доставки, что сократит срок доставки заказов</td>\n",
       "      <td>2.00</td>\n",
       "    </tr>\n",
       "    <tr>\n",
       "      <th>5</th>\n",
       "      <td>Добавить страницу отзывов клиентов о магазине, что позволит увеличить количество заказов</td>\n",
       "      <td>1.33</td>\n",
       "    </tr>\n",
       "    <tr>\n",
       "      <th>3</th>\n",
       "      <td>Изменить структура категорий, что увеличит конверсию, т.к. пользователи быстрее найдут нужный товар</td>\n",
       "      <td>1.12</td>\n",
       "    </tr>\n",
       "    <tr>\n",
       "      <th>4</th>\n",
       "      <td>Изменить цвет фона главной страницы, чтобы увеличить вовлеченность пользователей</td>\n",
       "      <td>1.00</td>\n",
       "    </tr>\n",
       "  </tbody>\n",
       "</table>\n",
       "</div>"
      ],
      "text/plain": [
       "                                                                                                     hypothesis  \\\n",
       "8                                                       Запустить акцию, дающую скидку на товар в день рождения   \n",
       "0            Добавить два новых канала привлечения трафика, что позволит привлекать на 30% больше пользователей   \n",
       "7              Добавить форму подписки на все основные страницы, чтобы собрать базу клиентов для email-рассылок   \n",
       "6          Показать на главной странице баннеры с актуальными акциями и распродажами, чтобы увеличить конверсию   \n",
       "2  Добавить блоки рекомендаций товаров на сайт интернет магазина, чтобы повысить конверсию и средний чек заказа   \n",
       "1                                     Запустить собственную службу доставки, что сократит срок доставки заказов   \n",
       "5                      Добавить страницу отзывов клиентов о магазине, что позволит увеличить количество заказов   \n",
       "3           Изменить структура категорий, что увеличит конверсию, т.к. пользователи быстрее найдут нужный товар   \n",
       "4                              Изменить цвет фона главной страницы, чтобы увеличить вовлеченность пользователей   \n",
       "\n",
       "     ICE  \n",
       "8  16.20  \n",
       "0  13.33  \n",
       "7  11.20  \n",
       "6   8.00  \n",
       "2   7.00  \n",
       "1   2.00  \n",
       "5   1.33  \n",
       "3   1.12  \n",
       "4   1.00  "
      ]
     },
     "execution_count": 18,
     "metadata": {},
     "output_type": "execute_result"
    }
   ],
   "source": [
    "#посчитаем ICE для гипотез и отсортируем по убыванию ICE:\n",
    "hypothesis['ICE'] = hypothesis['impact'] * hypothesis['confidence']/hypothesis['efforts']\n",
    "hypothesis.loc[:,['hypothesis', 'ICE']].sort_values(by='ICE', ascending=False).round(2)"
   ]
  },
  {
   "cell_type": "markdown",
   "metadata": {},
   "source": [
    "Приоритетными являются гипотезы 8 (запустить акцию, дающую скидку на товар в день рождения), 0 (добавить два новых канала привлечения трафика, что позволит привлекать на 30% больше пользователей), и 7 (добавить форму подписки на все основные страницы, чтобы собрать базу клиентов для email-рассылок). "
   ]
  },
  {
   "cell_type": "code",
   "execution_count": 19,
   "metadata": {},
   "outputs": [
    {
     "data": {
      "text/html": [
       "<div>\n",
       "<style scoped>\n",
       "    .dataframe tbody tr th:only-of-type {\n",
       "        vertical-align: middle;\n",
       "    }\n",
       "\n",
       "    .dataframe tbody tr th {\n",
       "        vertical-align: top;\n",
       "    }\n",
       "\n",
       "    .dataframe thead th {\n",
       "        text-align: right;\n",
       "    }\n",
       "</style>\n",
       "<table border=\"1\" class=\"dataframe\">\n",
       "  <thead>\n",
       "    <tr style=\"text-align: right;\">\n",
       "      <th></th>\n",
       "      <th>hypothesis</th>\n",
       "      <th>RICE</th>\n",
       "    </tr>\n",
       "  </thead>\n",
       "  <tbody>\n",
       "    <tr>\n",
       "      <th>7</th>\n",
       "      <td>Добавить форму подписки на все основные страницы, чтобы собрать базу клиентов для email-рассылок</td>\n",
       "      <td>112.0</td>\n",
       "    </tr>\n",
       "    <tr>\n",
       "      <th>2</th>\n",
       "      <td>Добавить блоки рекомендаций товаров на сайт интернет магазина, чтобы повысить конверсию и средний чек заказа</td>\n",
       "      <td>56.0</td>\n",
       "    </tr>\n",
       "    <tr>\n",
       "      <th>0</th>\n",
       "      <td>Добавить два новых канала привлечения трафика, что позволит привлекать на 30% больше пользователей</td>\n",
       "      <td>40.0</td>\n",
       "    </tr>\n",
       "    <tr>\n",
       "      <th>6</th>\n",
       "      <td>Показать на главной странице баннеры с актуальными акциями и распродажами, чтобы увеличить конверсию</td>\n",
       "      <td>40.0</td>\n",
       "    </tr>\n",
       "    <tr>\n",
       "      <th>8</th>\n",
       "      <td>Запустить акцию, дающую скидку на товар в день рождения</td>\n",
       "      <td>16.2</td>\n",
       "    </tr>\n",
       "    <tr>\n",
       "      <th>3</th>\n",
       "      <td>Изменить структура категорий, что увеличит конверсию, т.к. пользователи быстрее найдут нужный товар</td>\n",
       "      <td>9.0</td>\n",
       "    </tr>\n",
       "    <tr>\n",
       "      <th>1</th>\n",
       "      <td>Запустить собственную службу доставки, что сократит срок доставки заказов</td>\n",
       "      <td>4.0</td>\n",
       "    </tr>\n",
       "    <tr>\n",
       "      <th>5</th>\n",
       "      <td>Добавить страницу отзывов клиентов о магазине, что позволит увеличить количество заказов</td>\n",
       "      <td>4.0</td>\n",
       "    </tr>\n",
       "    <tr>\n",
       "      <th>4</th>\n",
       "      <td>Изменить цвет фона главной страницы, чтобы увеличить вовлеченность пользователей</td>\n",
       "      <td>3.0</td>\n",
       "    </tr>\n",
       "  </tbody>\n",
       "</table>\n",
       "</div>"
      ],
      "text/plain": [
       "                                                                                                     hypothesis  \\\n",
       "7              Добавить форму подписки на все основные страницы, чтобы собрать базу клиентов для email-рассылок   \n",
       "2  Добавить блоки рекомендаций товаров на сайт интернет магазина, чтобы повысить конверсию и средний чек заказа   \n",
       "0            Добавить два новых канала привлечения трафика, что позволит привлекать на 30% больше пользователей   \n",
       "6          Показать на главной странице баннеры с актуальными акциями и распродажами, чтобы увеличить конверсию   \n",
       "8                                                       Запустить акцию, дающую скидку на товар в день рождения   \n",
       "3           Изменить структура категорий, что увеличит конверсию, т.к. пользователи быстрее найдут нужный товар   \n",
       "1                                     Запустить собственную службу доставки, что сократит срок доставки заказов   \n",
       "5                      Добавить страницу отзывов клиентов о магазине, что позволит увеличить количество заказов   \n",
       "4                              Изменить цвет фона главной страницы, чтобы увеличить вовлеченность пользователей   \n",
       "\n",
       "    RICE  \n",
       "7  112.0  \n",
       "2   56.0  \n",
       "0   40.0  \n",
       "6   40.0  \n",
       "8   16.2  \n",
       "3    9.0  \n",
       "1    4.0  \n",
       "5    4.0  \n",
       "4    3.0  "
      ]
     },
     "execution_count": 19,
     "metadata": {},
     "output_type": "execute_result"
    }
   ],
   "source": [
    "#теперь посчитаем RICE для гипотез и отсортируем по убыванию RICE:\n",
    "hypothesis['RICE'] = hypothesis['reach']*hypothesis['impact']*hypothesis['confidence']/hypothesis['efforts']\n",
    "hypothesis.loc[:,['hypothesis','RICE']].sort_values(by=['RICE'], ascending=False)"
   ]
  },
  {
   "cell_type": "markdown",
   "metadata": {},
   "source": [
    "Приоритетными являются гипотезы 7 (добавить форму подписки на все основные страницы, чтобы собрать базу клиентов для email-рассылок), 2 (добавить блоки рекомендаций товаров на сайт интернет магазина, чтобы повысить конверсию и средний чек заказа), 0 (добавить два новых канала привлечения трафика, что позволит привлекать на 30% больше пользователей). "
   ]
  },
  {
   "cell_type": "markdown",
   "metadata": {},
   "source": [
    "Таким образом, в сумме приоритетными являются гипотезы 7 (добавить форму подписки на все основные страницы, чтобы собрать базу клиентов для email-рассылок) и 0 (добавить два новых канала привлечения трафика, что позволит привлекать на 30% больше пользователей)."
   ]
  },
  {
   "cell_type": "markdown",
   "metadata": {},
   "source": [
    "Однако при определении приоритета гипотезы стоит учитывать не только влияние на пользователей, затраты и степень уверенности в самой гипотезе, но и число пользователей, которых она затронет. А т.к. гипотеза 7 затрагивает максимальное количество пользователей, то оставим ее."
   ]
  },
  {
   "cell_type": "markdown",
   "metadata": {},
   "source": [
    "## 3. Часть 2. Анализ A/B-теста"
   ]
  },
  {
   "cell_type": "markdown",
   "metadata": {},
   "source": [
    "### Подготовка к анализу A/B-теста"
   ]
  },
  {
   "cell_type": "code",
   "execution_count": 20,
   "metadata": {},
   "outputs": [
    {
     "data": {
      "text/plain": [
       "array(['A', 'B'], dtype=object)"
      ]
     },
     "execution_count": 20,
     "metadata": {},
     "output_type": "execute_result"
    }
   ],
   "source": [
    "visitors['group'].unique()"
   ]
  },
  {
   "cell_type": "code",
   "execution_count": 21,
   "metadata": {},
   "outputs": [
    {
     "name": "stdout",
     "output_type": "stream",
     "text": [
      "Кол-во посетителей в группе А: 18736\n",
      "Кол-во посетителей в группе B: 18916\n",
      "Разница в количестве посетителей в группах A и B статистически не значима\n"
     ]
    }
   ],
   "source": [
    "#для начала посчитаем количество посетителей по группам и статистическую значимость:\n",
    "print('Кол-во посетителей в группе А: {}\\n'\n",
    "      'Кол-во посетителей в группе B: {}'.format(visitors[visitors['group']=='A']['visitors'].sum(), \n",
    "                                                 visitors[visitors['group']=='B']['visitors'].sum()))\n",
    "results = st.mannwhitneyu(visitors[visitors['group']=='A']['visitors'], visitors[visitors['group']=='B']['visitors'])\n",
    "alpha = 0.05\n",
    "\n",
    "if results.pvalue < alpha:\n",
    "    print('Разница в количестве посетителей в группах A и B статистически значима')\n",
    "else:\n",
    "    print('Разница в количестве посетителей в группах A и B статистически не значима')"
   ]
  },
  {
   "cell_type": "code",
   "execution_count": 22,
   "metadata": {},
   "outputs": [
    {
     "name": "stdout",
     "output_type": "stream",
     "text": [
      "Количество покупок в группе A: 557\n",
      "Количество покупок в группе B: 640\n"
     ]
    }
   ],
   "source": [
    "print('Количество покупок в группе A: {}'.format(len(orders[orders['group']=='A'])))\n",
    "print('Количество покупок в группе B: {}'.format(len(orders[orders['group']=='B'])))"
   ]
  },
  {
   "cell_type": "code",
   "execution_count": 23,
   "metadata": {},
   "outputs": [
    {
     "name": "stdout",
     "output_type": "stream",
     "text": [
      "2019-08-01 00:00:00\n",
      "2019-08-31 00:00:00\n"
     ]
    }
   ],
   "source": [
    "#также определим дату начала и конца исследования:\n",
    "print(orders['date'].min())\n",
    "print(orders['date'].max())"
   ]
  },
  {
   "cell_type": "code",
   "execution_count": 24,
   "metadata": {},
   "outputs": [
    {
     "data": {
      "text/html": [
       "<div>\n",
       "<style scoped>\n",
       "    .dataframe tbody tr th:only-of-type {\n",
       "        vertical-align: middle;\n",
       "    }\n",
       "\n",
       "    .dataframe tbody tr th {\n",
       "        vertical-align: top;\n",
       "    }\n",
       "\n",
       "    .dataframe thead th {\n",
       "        text-align: right;\n",
       "    }\n",
       "</style>\n",
       "<table border=\"1\" class=\"dataframe\">\n",
       "  <thead>\n",
       "    <tr style=\"text-align: right;\">\n",
       "      <th></th>\n",
       "      <th>visitor_id</th>\n",
       "      <th>group</th>\n",
       "      <th>count</th>\n",
       "    </tr>\n",
       "  </thead>\n",
       "  <tbody>\n",
       "    <tr>\n",
       "      <th>45</th>\n",
       "      <td>199603092</td>\n",
       "      <td>A</td>\n",
       "      <td>4</td>\n",
       "    </tr>\n",
       "    <tr>\n",
       "      <th>58</th>\n",
       "      <td>237748145</td>\n",
       "      <td>A</td>\n",
       "      <td>4</td>\n",
       "    </tr>\n",
       "    <tr>\n",
       "      <th>63</th>\n",
       "      <td>249864742</td>\n",
       "      <td>B</td>\n",
       "      <td>3</td>\n",
       "    </tr>\n",
       "    <tr>\n",
       "      <th>94</th>\n",
       "      <td>366673373</td>\n",
       "      <td>A</td>\n",
       "      <td>2</td>\n",
       "    </tr>\n",
       "    <tr>\n",
       "      <th>104</th>\n",
       "      <td>393266494</td>\n",
       "      <td>B</td>\n",
       "      <td>2</td>\n",
       "    </tr>\n",
       "    <tr>\n",
       "      <th>...</th>\n",
       "      <td>...</td>\n",
       "      <td>...</td>\n",
       "      <td>...</td>\n",
       "    </tr>\n",
       "    <tr>\n",
       "      <th>1045</th>\n",
       "      <td>4109358064</td>\n",
       "      <td>A</td>\n",
       "      <td>2</td>\n",
       "    </tr>\n",
       "    <tr>\n",
       "      <th>1050</th>\n",
       "      <td>4134830387</td>\n",
       "      <td>B</td>\n",
       "      <td>2</td>\n",
       "    </tr>\n",
       "    <tr>\n",
       "      <th>1065</th>\n",
       "      <td>4186807279</td>\n",
       "      <td>B</td>\n",
       "      <td>2</td>\n",
       "    </tr>\n",
       "    <tr>\n",
       "      <th>1079</th>\n",
       "      <td>4256040402</td>\n",
       "      <td>A</td>\n",
       "      <td>7</td>\n",
       "    </tr>\n",
       "    <tr>\n",
       "      <th>1080</th>\n",
       "      <td>4256040402</td>\n",
       "      <td>B</td>\n",
       "      <td>4</td>\n",
       "    </tr>\n",
       "  </tbody>\n",
       "</table>\n",
       "<p>64 rows × 3 columns</p>\n",
       "</div>"
      ],
      "text/plain": [
       "      visitor_id group  count\n",
       "45     199603092     A      4\n",
       "58     237748145     A      4\n",
       "63     249864742     B      3\n",
       "94     366673373     A      2\n",
       "104    393266494     B      2\n",
       "...          ...   ...    ...\n",
       "1045  4109358064     A      2\n",
       "1050  4134830387     B      2\n",
       "1065  4186807279     B      2\n",
       "1079  4256040402     A      7\n",
       "1080  4256040402     B      4\n",
       "\n",
       "[64 rows x 3 columns]"
      ]
     },
     "execution_count": 24,
     "metadata": {},
     "output_type": "execute_result"
    }
   ],
   "source": [
    "#сгруппируем данные по пользователям и группам:\n",
    "group_sizes = orders.groupby(['visitor_id', 'group']).size().reset_index()\n",
    "group_sizes.columns = ['visitor_id', 'group', 'count']\n",
    "group_sizes = group_sizes.query('count > 1').sort_values(by='visitor_id')\n",
    "group_sizes"
   ]
  },
  {
   "cell_type": "code",
   "execution_count": 25,
   "metadata": {},
   "outputs": [
    {
     "name": "stdout",
     "output_type": "stream",
     "text": [
      "Повторы: 58\n",
      "Пользователи в обеих группах: [4069496402, 199603092, 3803269165, 2378935119, 237748145, 4256040402, 2038680547, 1738359350, 2458001652, 3891541246, 2716752286, 3656415546, 2686716486, 2954449915, 2927087541, 3234906277, 457167155, 2579882178, 3957174400, 1648269707, 2780786433, 818047933, 2044997962, 1959144690, 3202540741, 1333886533, 351125977, 3951559397, 393266494, 3984495233, 4120364173, 4266935830, 1230306981, 1294878855, 1614305549, 8300375, 477780734, 1668030113, 3717692402, 3766097110, 3941795274, 471551937, 1316129916, 1801183820, 1602967004, 2587333274, 2600415354, 232979603, 3972127743, 1404934699, 276558944, 3062433592, 2654030115, 3963646447, 4186807279, 2712142231, 2949041841, 963407295]\n"
     ]
    }
   ],
   "source": [
    "#посмотрим, есть ли пользователи, которые попали в обе группы:\n",
    "both_gr = []\n",
    "for x in orders[orders['group']=='A']['visitor_id'].unique():\n",
    "    if x in orders[orders['group']=='B']['visitor_id'].unique():        \n",
    "        both_gr.append(x)\n",
    "print('Повторы:', len(both_gr))\n",
    "print('Пользователи в обеих группах:', both_gr)"
   ]
  },
  {
   "cell_type": "markdown",
   "metadata": {},
   "source": [
    "Получается, что 58 пользователей попали в обе группы. Удалим их."
   ]
  },
  {
   "cell_type": "code",
   "execution_count": 26,
   "metadata": {},
   "outputs": [
    {
     "name": "stdout",
     "output_type": "stream",
     "text": [
      "<class 'pandas.core.frame.DataFrame'>\n",
      "Int64Index: 1016 entries, 0 to 1196\n",
      "Data columns (total 5 columns):\n",
      " #   Column          Non-Null Count  Dtype         \n",
      "---  ------          --------------  -----         \n",
      " 0   transaction_id  1016 non-null   int64         \n",
      " 1   visitor_id      1016 non-null   int64         \n",
      " 2   date            1016 non-null   datetime64[ns]\n",
      " 3   revenue         1016 non-null   int64         \n",
      " 4   group           1016 non-null   object        \n",
      "dtypes: datetime64[ns](1), int64(3), object(1)\n",
      "memory usage: 47.6+ KB\n"
     ]
    }
   ],
   "source": [
    "orders = orders[~orders['visitor_id'].isin(both_gr)]\n",
    "orders.info()"
   ]
  },
  {
   "cell_type": "code",
   "execution_count": 27,
   "metadata": {},
   "outputs": [
    {
     "data": {
      "text/html": [
       "<div>\n",
       "<style scoped>\n",
       "    .dataframe tbody tr th:only-of-type {\n",
       "        vertical-align: middle;\n",
       "    }\n",
       "\n",
       "    .dataframe tbody tr th {\n",
       "        vertical-align: top;\n",
       "    }\n",
       "\n",
       "    .dataframe thead th {\n",
       "        text-align: right;\n",
       "    }\n",
       "</style>\n",
       "<table border=\"1\" class=\"dataframe\">\n",
       "  <thead>\n",
       "    <tr style=\"text-align: right;\">\n",
       "      <th></th>\n",
       "      <th>transaction_id</th>\n",
       "      <th>visitor_id</th>\n",
       "      <th>date</th>\n",
       "      <th>revenue</th>\n",
       "      <th>group</th>\n",
       "    </tr>\n",
       "  </thead>\n",
       "  <tbody>\n",
       "    <tr>\n",
       "      <th>0</th>\n",
       "      <td>3667963787</td>\n",
       "      <td>3312258926</td>\n",
       "      <td>2019-08-15</td>\n",
       "      <td>1650</td>\n",
       "      <td>B</td>\n",
       "    </tr>\n",
       "    <tr>\n",
       "      <th>1</th>\n",
       "      <td>2804400009</td>\n",
       "      <td>3642806036</td>\n",
       "      <td>2019-08-15</td>\n",
       "      <td>730</td>\n",
       "      <td>B</td>\n",
       "    </tr>\n",
       "    <tr>\n",
       "      <th>3</th>\n",
       "      <td>3797467345</td>\n",
       "      <td>1196621759</td>\n",
       "      <td>2019-08-15</td>\n",
       "      <td>9759</td>\n",
       "      <td>B</td>\n",
       "    </tr>\n",
       "    <tr>\n",
       "      <th>4</th>\n",
       "      <td>2282983706</td>\n",
       "      <td>2322279887</td>\n",
       "      <td>2019-08-15</td>\n",
       "      <td>2308</td>\n",
       "      <td>B</td>\n",
       "    </tr>\n",
       "    <tr>\n",
       "      <th>5</th>\n",
       "      <td>182168103</td>\n",
       "      <td>935554773</td>\n",
       "      <td>2019-08-15</td>\n",
       "      <td>2210</td>\n",
       "      <td>B</td>\n",
       "    </tr>\n",
       "    <tr>\n",
       "      <th>...</th>\n",
       "      <td>...</td>\n",
       "      <td>...</td>\n",
       "      <td>...</td>\n",
       "      <td>...</td>\n",
       "      <td>...</td>\n",
       "    </tr>\n",
       "    <tr>\n",
       "      <th>1191</th>\n",
       "      <td>3592955527</td>\n",
       "      <td>608641596</td>\n",
       "      <td>2019-08-14</td>\n",
       "      <td>16490</td>\n",
       "      <td>B</td>\n",
       "    </tr>\n",
       "    <tr>\n",
       "      <th>1192</th>\n",
       "      <td>2662137336</td>\n",
       "      <td>3733762160</td>\n",
       "      <td>2019-08-14</td>\n",
       "      <td>6490</td>\n",
       "      <td>B</td>\n",
       "    </tr>\n",
       "    <tr>\n",
       "      <th>1193</th>\n",
       "      <td>2203539145</td>\n",
       "      <td>370388673</td>\n",
       "      <td>2019-08-14</td>\n",
       "      <td>3190</td>\n",
       "      <td>A</td>\n",
       "    </tr>\n",
       "    <tr>\n",
       "      <th>1194</th>\n",
       "      <td>1807773912</td>\n",
       "      <td>573423106</td>\n",
       "      <td>2019-08-14</td>\n",
       "      <td>10550</td>\n",
       "      <td>A</td>\n",
       "    </tr>\n",
       "    <tr>\n",
       "      <th>1196</th>\n",
       "      <td>3936777065</td>\n",
       "      <td>2108080724</td>\n",
       "      <td>2019-08-15</td>\n",
       "      <td>202740</td>\n",
       "      <td>B</td>\n",
       "    </tr>\n",
       "  </tbody>\n",
       "</table>\n",
       "<p>1016 rows × 5 columns</p>\n",
       "</div>"
      ],
      "text/plain": [
       "      transaction_id  visitor_id       date  revenue group\n",
       "0         3667963787  3312258926 2019-08-15     1650     B\n",
       "1         2804400009  3642806036 2019-08-15      730     B\n",
       "3         3797467345  1196621759 2019-08-15     9759     B\n",
       "4         2282983706  2322279887 2019-08-15     2308     B\n",
       "5          182168103   935554773 2019-08-15     2210     B\n",
       "...              ...         ...        ...      ...   ...\n",
       "1191      3592955527   608641596 2019-08-14    16490     B\n",
       "1192      2662137336  3733762160 2019-08-14     6490     B\n",
       "1193      2203539145   370388673 2019-08-14     3190     A\n",
       "1194      1807773912   573423106 2019-08-14    10550     A\n",
       "1196      3936777065  2108080724 2019-08-15   202740     B\n",
       "\n",
       "[1016 rows x 5 columns]"
      ]
     },
     "execution_count": 27,
     "metadata": {},
     "output_type": "execute_result"
    }
   ],
   "source": [
    "orders.drop_duplicates()"
   ]
  },
  {
   "cell_type": "markdown",
   "metadata": {},
   "source": [
    "Итак, для исследования имеются две группы - А и В. Разница в количестве посетителей в группах статистически не значима. \n",
    "Период исследования: 31 день."
   ]
  },
  {
   "cell_type": "markdown",
   "metadata": {},
   "source": [
    "### Кумулятивная выручка"
   ]
  },
  {
   "cell_type": "markdown",
   "metadata": {},
   "source": [
    "Построим график кумулятивной выручки по группам."
   ]
  },
  {
   "cell_type": "code",
   "execution_count": 28,
   "metadata": {},
   "outputs": [
    {
     "data": {
      "text/html": [
       "<div>\n",
       "<style scoped>\n",
       "    .dataframe tbody tr th:only-of-type {\n",
       "        vertical-align: middle;\n",
       "    }\n",
       "\n",
       "    .dataframe tbody tr th {\n",
       "        vertical-align: top;\n",
       "    }\n",
       "\n",
       "    .dataframe thead th {\n",
       "        text-align: right;\n",
       "    }\n",
       "</style>\n",
       "<table border=\"1\" class=\"dataframe\">\n",
       "  <thead>\n",
       "    <tr style=\"text-align: right;\">\n",
       "      <th></th>\n",
       "      <th>date</th>\n",
       "      <th>group</th>\n",
       "      <th>transaction_id</th>\n",
       "      <th>visitor_id</th>\n",
       "      <th>revenue</th>\n",
       "    </tr>\n",
       "  </thead>\n",
       "  <tbody>\n",
       "    <tr>\n",
       "      <th>55</th>\n",
       "      <td>2019-08-01</td>\n",
       "      <td>A</td>\n",
       "      <td>23</td>\n",
       "      <td>19</td>\n",
       "      <td>142779</td>\n",
       "    </tr>\n",
       "    <tr>\n",
       "      <th>66</th>\n",
       "      <td>2019-08-01</td>\n",
       "      <td>B</td>\n",
       "      <td>17</td>\n",
       "      <td>17</td>\n",
       "      <td>59758</td>\n",
       "    </tr>\n",
       "    <tr>\n",
       "      <th>175</th>\n",
       "      <td>2019-08-02</td>\n",
       "      <td>A</td>\n",
       "      <td>42</td>\n",
       "      <td>36</td>\n",
       "      <td>234381</td>\n",
       "    </tr>\n",
       "    <tr>\n",
       "      <th>173</th>\n",
       "      <td>2019-08-02</td>\n",
       "      <td>B</td>\n",
       "      <td>40</td>\n",
       "      <td>39</td>\n",
       "      <td>221801</td>\n",
       "    </tr>\n",
       "    <tr>\n",
       "      <th>291</th>\n",
       "      <td>2019-08-03</td>\n",
       "      <td>A</td>\n",
       "      <td>66</td>\n",
       "      <td>60</td>\n",
       "      <td>346854</td>\n",
       "    </tr>\n",
       "    <tr>\n",
       "      <th>...</th>\n",
       "      <td>...</td>\n",
       "      <td>...</td>\n",
       "      <td>...</td>\n",
       "      <td>...</td>\n",
       "      <td>...</td>\n",
       "    </tr>\n",
       "    <tr>\n",
       "      <th>533</th>\n",
       "      <td>2019-08-29</td>\n",
       "      <td>B</td>\n",
       "      <td>510</td>\n",
       "      <td>490</td>\n",
       "      <td>4746610</td>\n",
       "    </tr>\n",
       "    <tr>\n",
       "      <th>757</th>\n",
       "      <td>2019-08-30</td>\n",
       "      <td>A</td>\n",
       "      <td>460</td>\n",
       "      <td>437</td>\n",
       "      <td>3311413</td>\n",
       "    </tr>\n",
       "    <tr>\n",
       "      <th>690</th>\n",
       "      <td>2019-08-30</td>\n",
       "      <td>B</td>\n",
       "      <td>531</td>\n",
       "      <td>511</td>\n",
       "      <td>4955833</td>\n",
       "    </tr>\n",
       "    <tr>\n",
       "      <th>958</th>\n",
       "      <td>2019-08-31</td>\n",
       "      <td>A</td>\n",
       "      <td>468</td>\n",
       "      <td>445</td>\n",
       "      <td>3364656</td>\n",
       "    </tr>\n",
       "    <tr>\n",
       "      <th>930</th>\n",
       "      <td>2019-08-31</td>\n",
       "      <td>B</td>\n",
       "      <td>548</td>\n",
       "      <td>528</td>\n",
       "      <td>5068972</td>\n",
       "    </tr>\n",
       "  </tbody>\n",
       "</table>\n",
       "<p>62 rows × 5 columns</p>\n",
       "</div>"
      ],
      "text/plain": [
       "          date group  transaction_id  visitor_id  revenue\n",
       "55  2019-08-01     A              23          19   142779\n",
       "66  2019-08-01     B              17          17    59758\n",
       "175 2019-08-02     A              42          36   234381\n",
       "173 2019-08-02     B              40          39   221801\n",
       "291 2019-08-03     A              66          60   346854\n",
       "..         ...   ...             ...         ...      ...\n",
       "533 2019-08-29     B             510         490  4746610\n",
       "757 2019-08-30     A             460         437  3311413\n",
       "690 2019-08-30     B             531         511  4955833\n",
       "958 2019-08-31     A             468         445  3364656\n",
       "930 2019-08-31     B             548         528  5068972\n",
       "\n",
       "[62 rows x 5 columns]"
      ]
     },
     "metadata": {},
     "output_type": "display_data"
    }
   ],
   "source": [
    "#для начала создадим массив уникальных пар значений дат и групп теста:\n",
    "datesGroups = orders[['date', 'group']].drop_duplicates()\n",
    "\n",
    "#затем соберем кумулятивные данные о заказах:\n",
    "ordersAggregated = (datesGroups\n",
    "                    .apply(lambda x: orders[(orders['date'] <= x['date']) & (orders['group'] == x['group'])]\n",
    "                        .agg({'date':'max', 'group':'max', 'transaction_id':pd.Series.nunique, 'visitor_id':pd.Series.nunique, 'revenue':'sum'}), axis=1)\n",
    "                    .sort_values(by=['date','group']) \n",
    "                   )\n",
    "display(ordersAggregated)"
   ]
  },
  {
   "cell_type": "code",
   "execution_count": 29,
   "metadata": {},
   "outputs": [
    {
     "data": {
      "text/html": [
       "<div>\n",
       "<style scoped>\n",
       "    .dataframe tbody tr th:only-of-type {\n",
       "        vertical-align: middle;\n",
       "    }\n",
       "\n",
       "    .dataframe tbody tr th {\n",
       "        vertical-align: top;\n",
       "    }\n",
       "\n",
       "    .dataframe thead th {\n",
       "        text-align: right;\n",
       "    }\n",
       "</style>\n",
       "<table border=\"1\" class=\"dataframe\">\n",
       "  <thead>\n",
       "    <tr style=\"text-align: right;\">\n",
       "      <th></th>\n",
       "      <th>date</th>\n",
       "      <th>group</th>\n",
       "      <th>visitors</th>\n",
       "    </tr>\n",
       "  </thead>\n",
       "  <tbody>\n",
       "    <tr>\n",
       "      <th>55</th>\n",
       "      <td>2019-08-01</td>\n",
       "      <td>A</td>\n",
       "      <td>719</td>\n",
       "    </tr>\n",
       "    <tr>\n",
       "      <th>66</th>\n",
       "      <td>2019-08-01</td>\n",
       "      <td>B</td>\n",
       "      <td>713</td>\n",
       "    </tr>\n",
       "    <tr>\n",
       "      <th>175</th>\n",
       "      <td>2019-08-02</td>\n",
       "      <td>A</td>\n",
       "      <td>1338</td>\n",
       "    </tr>\n",
       "    <tr>\n",
       "      <th>173</th>\n",
       "      <td>2019-08-02</td>\n",
       "      <td>B</td>\n",
       "      <td>1294</td>\n",
       "    </tr>\n",
       "    <tr>\n",
       "      <th>291</th>\n",
       "      <td>2019-08-03</td>\n",
       "      <td>A</td>\n",
       "      <td>1845</td>\n",
       "    </tr>\n",
       "    <tr>\n",
       "      <th>...</th>\n",
       "      <td>...</td>\n",
       "      <td>...</td>\n",
       "      <td>...</td>\n",
       "    </tr>\n",
       "    <tr>\n",
       "      <th>533</th>\n",
       "      <td>2019-08-29</td>\n",
       "      <td>B</td>\n",
       "      <td>17708</td>\n",
       "    </tr>\n",
       "    <tr>\n",
       "      <th>757</th>\n",
       "      <td>2019-08-30</td>\n",
       "      <td>A</td>\n",
       "      <td>18037</td>\n",
       "    </tr>\n",
       "    <tr>\n",
       "      <th>690</th>\n",
       "      <td>2019-08-30</td>\n",
       "      <td>B</td>\n",
       "      <td>18198</td>\n",
       "    </tr>\n",
       "    <tr>\n",
       "      <th>958</th>\n",
       "      <td>2019-08-31</td>\n",
       "      <td>A</td>\n",
       "      <td>18736</td>\n",
       "    </tr>\n",
       "    <tr>\n",
       "      <th>930</th>\n",
       "      <td>2019-08-31</td>\n",
       "      <td>B</td>\n",
       "      <td>18916</td>\n",
       "    </tr>\n",
       "  </tbody>\n",
       "</table>\n",
       "<p>62 rows × 3 columns</p>\n",
       "</div>"
      ],
      "text/plain": [
       "          date group  visitors\n",
       "55  2019-08-01     A       719\n",
       "66  2019-08-01     B       713\n",
       "175 2019-08-02     A      1338\n",
       "173 2019-08-02     B      1294\n",
       "291 2019-08-03     A      1845\n",
       "..         ...   ...       ...\n",
       "533 2019-08-29     B     17708\n",
       "757 2019-08-30     A     18037\n",
       "690 2019-08-30     B     18198\n",
       "958 2019-08-31     A     18736\n",
       "930 2019-08-31     B     18916\n",
       "\n",
       "[62 rows x 3 columns]"
      ]
     },
     "metadata": {},
     "output_type": "display_data"
    }
   ],
   "source": [
    "#далее соберем агрегированные кумулятивные по дням данные о посетителях:\n",
    "visitorsAggregated = (datesGroups\n",
    "                      .apply(lambda x: visitors[(visitors['date'] <= x['date']) & (visitors['group'] == x['group'])]\n",
    "                          .agg({'date' : 'max', 'group' : 'max', 'visitors' : 'sum'}), axis=1)\n",
    "                      .sort_values(by=['date','group'])\n",
    "                     )\n",
    "display(visitorsAggregated)"
   ]
  },
  {
   "cell_type": "code",
   "execution_count": 30,
   "metadata": {},
   "outputs": [
    {
     "data": {
      "text/html": [
       "<div>\n",
       "<style scoped>\n",
       "    .dataframe tbody tr th:only-of-type {\n",
       "        vertical-align: middle;\n",
       "    }\n",
       "\n",
       "    .dataframe tbody tr th {\n",
       "        vertical-align: top;\n",
       "    }\n",
       "\n",
       "    .dataframe thead th {\n",
       "        text-align: right;\n",
       "    }\n",
       "</style>\n",
       "<table border=\"1\" class=\"dataframe\">\n",
       "  <thead>\n",
       "    <tr style=\"text-align: right;\">\n",
       "      <th></th>\n",
       "      <th>date</th>\n",
       "      <th>group</th>\n",
       "      <th>orders</th>\n",
       "      <th>buyers</th>\n",
       "      <th>revenue</th>\n",
       "      <th>visitors</th>\n",
       "    </tr>\n",
       "  </thead>\n",
       "  <tbody>\n",
       "    <tr>\n",
       "      <th>0</th>\n",
       "      <td>2019-08-01</td>\n",
       "      <td>A</td>\n",
       "      <td>23</td>\n",
       "      <td>19</td>\n",
       "      <td>142779</td>\n",
       "      <td>719</td>\n",
       "    </tr>\n",
       "    <tr>\n",
       "      <th>1</th>\n",
       "      <td>2019-08-01</td>\n",
       "      <td>B</td>\n",
       "      <td>17</td>\n",
       "      <td>17</td>\n",
       "      <td>59758</td>\n",
       "      <td>713</td>\n",
       "    </tr>\n",
       "    <tr>\n",
       "      <th>2</th>\n",
       "      <td>2019-08-02</td>\n",
       "      <td>A</td>\n",
       "      <td>42</td>\n",
       "      <td>36</td>\n",
       "      <td>234381</td>\n",
       "      <td>1338</td>\n",
       "    </tr>\n",
       "    <tr>\n",
       "      <th>3</th>\n",
       "      <td>2019-08-02</td>\n",
       "      <td>B</td>\n",
       "      <td>40</td>\n",
       "      <td>39</td>\n",
       "      <td>221801</td>\n",
       "      <td>1294</td>\n",
       "    </tr>\n",
       "    <tr>\n",
       "      <th>4</th>\n",
       "      <td>2019-08-03</td>\n",
       "      <td>A</td>\n",
       "      <td>66</td>\n",
       "      <td>60</td>\n",
       "      <td>346854</td>\n",
       "      <td>1845</td>\n",
       "    </tr>\n",
       "    <tr>\n",
       "      <th>...</th>\n",
       "      <td>...</td>\n",
       "      <td>...</td>\n",
       "      <td>...</td>\n",
       "      <td>...</td>\n",
       "      <td>...</td>\n",
       "      <td>...</td>\n",
       "    </tr>\n",
       "    <tr>\n",
       "      <th>57</th>\n",
       "      <td>2019-08-29</td>\n",
       "      <td>B</td>\n",
       "      <td>510</td>\n",
       "      <td>490</td>\n",
       "      <td>4746610</td>\n",
       "      <td>17708</td>\n",
       "    </tr>\n",
       "    <tr>\n",
       "      <th>58</th>\n",
       "      <td>2019-08-30</td>\n",
       "      <td>A</td>\n",
       "      <td>460</td>\n",
       "      <td>437</td>\n",
       "      <td>3311413</td>\n",
       "      <td>18037</td>\n",
       "    </tr>\n",
       "    <tr>\n",
       "      <th>59</th>\n",
       "      <td>2019-08-30</td>\n",
       "      <td>B</td>\n",
       "      <td>531</td>\n",
       "      <td>511</td>\n",
       "      <td>4955833</td>\n",
       "      <td>18198</td>\n",
       "    </tr>\n",
       "    <tr>\n",
       "      <th>60</th>\n",
       "      <td>2019-08-31</td>\n",
       "      <td>A</td>\n",
       "      <td>468</td>\n",
       "      <td>445</td>\n",
       "      <td>3364656</td>\n",
       "      <td>18736</td>\n",
       "    </tr>\n",
       "    <tr>\n",
       "      <th>61</th>\n",
       "      <td>2019-08-31</td>\n",
       "      <td>B</td>\n",
       "      <td>548</td>\n",
       "      <td>528</td>\n",
       "      <td>5068972</td>\n",
       "      <td>18916</td>\n",
       "    </tr>\n",
       "  </tbody>\n",
       "</table>\n",
       "<p>62 rows × 6 columns</p>\n",
       "</div>"
      ],
      "text/plain": [
       "         date group  orders  buyers  revenue  visitors\n",
       "0  2019-08-01     A      23      19   142779       719\n",
       "1  2019-08-01     B      17      17    59758       713\n",
       "2  2019-08-02     A      42      36   234381      1338\n",
       "3  2019-08-02     B      40      39   221801      1294\n",
       "4  2019-08-03     A      66      60   346854      1845\n",
       "..        ...   ...     ...     ...      ...       ...\n",
       "57 2019-08-29     B     510     490  4746610     17708\n",
       "58 2019-08-30     A     460     437  3311413     18037\n",
       "59 2019-08-30     B     531     511  4955833     18198\n",
       "60 2019-08-31     A     468     445  3364656     18736\n",
       "61 2019-08-31     B     548     528  5068972     18916\n",
       "\n",
       "[62 rows x 6 columns]"
      ]
     },
     "metadata": {},
     "output_type": "display_data"
    }
   ],
   "source": [
    "#еще стоит объединить полученные данные в одной таблице:\n",
    "cumulativeData = ordersAggregated.merge(visitorsAggregated, left_on=['date', 'group'], right_on=['date', 'group'])\n",
    "cumulativeData.columns = ['date', 'group', 'orders', 'buyers', 'revenue', 'visitors']\n",
    "\n",
    "display(cumulativeData)"
   ]
  },
  {
   "cell_type": "code",
   "execution_count": 31,
   "metadata": {
    "scrolled": true
   },
   "outputs": [
    {
     "data": {
      "text/plain": [
       "True"
      ]
     },
     "execution_count": 31,
     "metadata": {},
     "output_type": "execute_result"
    }
   ],
   "source": [
    "#проведем проверку,совпадает ли минимальная дата в cumulativeData с минимальной датой в исходных данных:\n",
    "cumulativeData['date'].min() == orders['date'].min() == visitors['date'].min()"
   ]
  },
  {
   "cell_type": "code",
   "execution_count": 32,
   "metadata": {},
   "outputs": [
    {
     "data": {
      "text/plain": [
       "True"
      ]
     },
     "execution_count": 32,
     "metadata": {},
     "output_type": "execute_result"
    }
   ],
   "source": [
    "#и максимальная:\n",
    "cumulativeData['date'].max() == orders['date'].max() == visitors['date'].max()"
   ]
  },
  {
   "cell_type": "code",
   "execution_count": 33,
   "metadata": {},
   "outputs": [
    {
     "data": {
      "image/png": "[encoded data removed]",
      "text/plain": [
       "<Figure size 1080x360 with 1 Axes>"
      ]
     },
     "metadata": {
      "needs_background": "light"
     },
     "output_type": "display_data"
    }
   ],
   "source": [
    "#построим собственно графики:\n",
    "#используем датафрейм с кумулятивным количеством заказов и кумулятивной выручкой по дням в группе А:\n",
    "cumulativeRevenueA = cumulativeData[cumulativeData['group']=='A'][['date', 'revenue', 'orders']]\n",
    "\n",
    "#и в группе B:\n",
    "cumulativeRevenueB =cumulativeData[cumulativeData['group']=='B'][['date', 'revenue', 'orders']]\n",
    "\n",
    "plt.figure(figsize=(15,5))\n",
    "plt.plot(cumulativeRevenueA['date'], cumulativeRevenueA['revenue'], label='A')\n",
    "plt.plot(cumulativeRevenueB['date'], cumulativeRevenueB['revenue'], label='B')\n",
    "plt.title('Кумулятивная выручка по дням в группах А и В', fontsize=12)\n",
    "plt.xlabel('Дата', fontsize=15)\n",
    "plt.ylabel('Кумулятивная выручка', fontsize=15)\n",
    "plt.xticks(rotation=30)\n",
    "plt.legend() \n",
    "plt.show()"
   ]
  },
  {
   "cell_type": "markdown",
   "metadata": {},
   "source": [
    "А/В-тест длился весь август 2019 г. Выручка увеличивается в течении всего теста. Однако график выручки группы В после 17 числа резко растет. Это может говорить о резком увеличении числа заказов или появлении дорогих заказов."
   ]
  },
  {
   "cell_type": "markdown",
   "metadata": {},
   "source": [
    "### График кумулятивного среднего чека по группам"
   ]
  },
  {
   "cell_type": "code",
   "execution_count": 34,
   "metadata": {},
   "outputs": [
    {
     "data": {
      "image/png": "[encoded data removed]",
      "text/plain": [
       "<Figure size 1080x360 with 1 Axes>"
      ]
     },
     "metadata": {
      "needs_background": "light"
     },
     "output_type": "display_data"
    }
   ],
   "source": [
    "#построим график:\n",
    "plt.figure(figsize=(15,5))\n",
    "plt.plot(cumulativeRevenueA['date'], cumulativeRevenueA['revenue']/cumulativeRevenueA['orders'], label='A')\n",
    "plt.plot(cumulativeRevenueB['date'], cumulativeRevenueB['revenue']/cumulativeRevenueB['orders'], label='B')\n",
    "plt.title('Кумулятивный средний чек по дням в группах А и В', fontsize=12)\n",
    "plt.xlabel('Дата', fontsize=12)\n",
    "plt.ylabel('Кумулятивный средний чек', fontsize=12)\n",
    "plt.xticks(rotation=30)\n",
    "plt.legend() \n",
    "plt.show()"
   ]
  },
  {
   "cell_type": "markdown",
   "metadata": {},
   "source": [
    "Средний чек группы А становится равномерным в середине теста, для группы B примерно 17-18 числа виден резкий скачок, а затем постепенное снижение. Возможно, в группу B попали крупные заказы."
   ]
  },
  {
   "cell_type": "markdown",
   "metadata": {},
   "source": [
    "### График относительного изменения кумулятивного среднего чека группы B к группе A"
   ]
  },
  {
   "cell_type": "code",
   "execution_count": 35,
   "metadata": {},
   "outputs": [
    {
     "data": {
      "image/png": "[encoded data removed]",
      "text/plain": [
       "<Figure size 1080x360 with 1 Axes>"
      ]
     },
     "metadata": {
      "needs_background": "light"
     },
     "output_type": "display_data"
    }
   ],
   "source": [
    "#соберем данные в одном датафрейме:\n",
    "mergedCumulativeRevenue = cumulativeRevenueA.merge(cumulativeRevenueB, left_on='date', right_on='date', how='left', suffixes=['A', 'B'])\n",
    "\n",
    "plt.figure(figsize=(15,5))\n",
    "#и поcтроим отношение средних чеков:\n",
    "plt.plot(mergedCumulativeRevenue['date'], (mergedCumulativeRevenue['revenueB']/mergedCumulativeRevenue['ordersB'])/(mergedCumulativeRevenue['revenueA']/mergedCumulativeRevenue['ordersA'])-1)\n",
    "plt.axhline(y=0, color='black', linestyle='--') \n",
    "plt.title('Относительное изменение кумулятивного среднего чека группы B к группе A', fontsize=12, fontweight='bold')\n",
    "plt.xlabel('Дата', fontsize=12)\n",
    "plt.ylabel('(средний чек В/средний чек А) -1', fontsize=12)\n",
    "plt.xticks(rotation=30)\n",
    "plt.show()"
   ]
  },
  {
   "cell_type": "markdown",
   "metadata": {},
   "source": [
    "Судя по графику, за исследуемый период имело два пика, когда средний чек группы B значительно превосходил группу А, но быстро снижался после пика. "
   ]
  },
  {
   "cell_type": "markdown",
   "metadata": {},
   "source": [
    "### График кумулятивного среднего количества заказов на посетителя по группам"
   ]
  },
  {
   "cell_type": "code",
   "execution_count": 36,
   "metadata": {},
   "outputs": [
    {
     "data": {
      "image/png": "[encoded data removed]",
      "text/plain": [
       "<Figure size 1080x360 with 1 Axes>"
      ]
     },
     "metadata": {
      "needs_background": "light"
     },
     "output_type": "display_data"
    }
   ],
   "source": [
    "#будем строить график:\n",
    "cumulativeData['conversion'] = cumulativeData['orders']/cumulativeData['visitors']\n",
    "\n",
    "# Данные по группе A:\n",
    "cumulativeDataA = cumulativeData[cumulativeData['group']=='A'].reset_index(drop=True)\n",
    "\n",
    "# Данные по группе B:\n",
    "cumulativeDataB = cumulativeData[cumulativeData['group']=='B'].reset_index(drop=True)\n",
    "\n",
    "plt.figure(figsize=(15,5))\n",
    "plt.plot(cumulativeDataA['date'], cumulativeDataA['conversion'], label='A')\n",
    "plt.plot(cumulativeDataB['date'], cumulativeDataB['conversion'], label='B')\n",
    "plt.legend()\n",
    "plt.title('Кумулятивное среднее количество заказов на посетителя по группам', fontsize=12, fontweight='bold')\n",
    "plt.xlabel('Дата', fontsize=12)\n",
    "plt.ylabel('Среднее количество заказов на посетителя', fontsize=12)\n",
    "plt.xticks(rotation=30)\n",
    "plt.show()"
   ]
  },
  {
   "cell_type": "markdown",
   "metadata": {},
   "source": [
    "В начале сегмент А имел большее среднее количество заказов на посетителя, но потом сегмент В выровнялся и зафиксировался выше значения А."
   ]
  },
  {
   "cell_type": "markdown",
   "metadata": {},
   "source": [
    "### График относительного изменения кумулятивного среднего количества заказов на посетителя группы B к группе A"
   ]
  },
  {
   "cell_type": "code",
   "execution_count": 37,
   "metadata": {},
   "outputs": [
    {
     "data": {
      "image/png": "[encoded data removed]",
      "text/plain": [
       "<Figure size 1080x360 with 1 Axes>"
      ]
     },
     "metadata": {
      "needs_background": "light"
     },
     "output_type": "display_data"
    }
   ],
   "source": [
    "#соберем данные:\n",
    "plt.figure(figsize=(15,5))\n",
    "plt.plot(cumulativeDataB['date'], (cumulativeDataB['conversion']/cumulativeDataA['conversion'])-1)\n",
    "\n",
    "plt.axhline(y=0, color='black', linestyle='--') \n",
    "plt.title('Относительное изменение кумулятивного среднего количества заказов на посетителя группы B к группе A')\n",
    "plt.xlabel('Дата')\n",
    "plt.ylabel('Относительное изменение')\n",
    "plt.xticks(rotation=90)\n",
    "plt.show()"
   ]
  },
  {
   "cell_type": "markdown",
   "metadata": {},
   "source": [
    "В самом начале наблюдаются колебания прироста, но почти с самого начала лидирует группа В."
   ]
  },
  {
   "cell_type": "markdown",
   "metadata": {},
   "source": [
    "### Точечный график количества заказов по пользователям"
   ]
  },
  {
   "cell_type": "code",
   "execution_count": 38,
   "metadata": {},
   "outputs": [
    {
     "data": {
      "text/plain": [
       "count    973.000000\n",
       "mean       1.044193\n",
       "std        0.238090\n",
       "min        1.000000\n",
       "25%        1.000000\n",
       "50%        1.000000\n",
       "75%        1.000000\n",
       "max        3.000000\n",
       "Name: orders, dtype: float64"
      ]
     },
     "metadata": {},
     "output_type": "display_data"
    },
    {
     "data": {
      "image/png": "[encoded data removed]",
      "text/plain": [
       "<Figure size 1080x360 with 1 Axes>"
      ]
     },
     "metadata": {
      "needs_background": "light"
     },
     "output_type": "display_data"
    }
   ],
   "source": [
    "ordersByUsers = orders.drop(['group', 'revenue', 'date'], axis=1).groupby('visitor_id', as_index=False).agg({'transaction_id' : pd.Series.nunique})\n",
    "ordersByUsers.columns = ['visitor_id','orders']\n",
    "#display(ordersByUsers.sort_values(by='orders',ascending=False).head(10)) \n",
    "display(ordersByUsers['orders'].describe())\n",
    "\n",
    "plt.figure(figsize=(15,5))\n",
    "plt.hist(ordersByUsers['orders']) \n",
    "plt.title('Количество заказов по пользователям', fontsize=12, fontweight='bold')\n",
    "plt.xlabel('Заказы', fontsize=12)\n",
    "plt.ylabel('Количество пользователей', fontsize=12)\n",
    "plt.show()"
   ]
  },
  {
   "cell_type": "markdown",
   "metadata": {},
   "source": [
    "В основном у пользователей по 1, иногда по 2 заказа, больше - сильно реже."
   ]
  },
  {
   "cell_type": "code",
   "execution_count": 39,
   "metadata": {},
   "outputs": [
    {
     "data": {
      "image/png": "[encoded data removed]",
      "text/plain": [
       "<Figure size 1080x360 with 1 Axes>"
      ]
     },
     "metadata": {
      "needs_background": "light"
     },
     "output_type": "display_data"
    }
   ],
   "source": [
    "#построим точечную диаграмму числа заказов на одного пользователя:\n",
    "x_values = pd.Series(range(0,len(ordersByUsers)))\n",
    "\n",
    "plt.figure(figsize=(15,5))\n",
    "plt.title('Количество заказов по пользователям', fontsize=12, fontweight='bold')\n",
    "plt.xlabel('Оценка')\n",
    "plt.ylabel('Заказы')\n",
    "plt.scatter(x_values, ordersByUsers['orders']) \n",
    "plt.show()"
   ]
  },
  {
   "cell_type": "markdown",
   "metadata": {},
   "source": [
    "В целом, все то же самое."
   ]
  },
  {
   "cell_type": "markdown",
   "metadata": {},
   "source": [
    "### Граница определения аномальных пользователей"
   ]
  },
  {
   "cell_type": "code",
   "execution_count": 40,
   "metadata": {},
   "outputs": [
    {
     "name": "stdout",
     "output_type": "stream",
     "text": [
      "[1. 1. 2.]\n"
     ]
    }
   ],
   "source": [
    "print(np.percentile(ordersByUsers['orders'], [90, 95, 99])) "
   ]
  },
  {
   "cell_type": "markdown",
   "metadata": {},
   "source": [
    "Определяем, что не более 5% пользователей совершили более 2 заказов и не более 1% больше 4 заказов."
   ]
  },
  {
   "cell_type": "markdown",
   "metadata": {},
   "source": [
    "### Точечный график стоимостей заказов"
   ]
  },
  {
   "cell_type": "code",
   "execution_count": 41,
   "metadata": {},
   "outputs": [
    {
     "data": {
      "text/plain": [
       "count    1.016000e+03\n",
       "mean     8.300815e+03\n",
       "std      4.212199e+04\n",
       "min      5.000000e+01\n",
       "25%      1.190000e+03\n",
       "50%      2.955000e+03\n",
       "75%      8.134250e+03\n",
       "max      1.294500e+06\n",
       "Name: revenue, dtype: float64"
      ]
     },
     "metadata": {},
     "output_type": "display_data"
    },
    {
     "data": {
      "image/png": "[encoded data removed]",
      "text/plain": [
       "<Figure size 1080x360 with 1 Axes>"
      ]
     },
     "metadata": {
      "needs_background": "light"
     },
     "output_type": "display_data"
    }
   ],
   "source": [
    "display(orders['revenue'].describe())\n",
    "\n",
    "x_values = pd.Series(range(0,len(orders['revenue'])))\n",
    "plt.figure(figsize=(15,5))\n",
    "plt.scatter(x_values, orders['revenue']) \n",
    "plt.title('Стоимость заказов', fontsize=12, fontweight='bold')\n",
    "plt.xlabel('Стоимость')\n",
    "plt.ylabel('Оценка')\n",
    "plt.show()"
   ]
  },
  {
   "cell_type": "markdown",
   "metadata": {},
   "source": [
    "Видны выбросы в районе 200 тыс. рублей и 1.2 млн рублей."
   ]
  },
  {
   "cell_type": "code",
   "execution_count": 42,
   "metadata": {},
   "outputs": [
    {
     "data": {
      "image/png": "[encoded data removed]",
      "text/plain": [
       "<Figure size 1080x360 with 1 Axes>"
      ]
     },
     "metadata": {
      "needs_background": "light"
     },
     "output_type": "display_data"
    }
   ],
   "source": [
    "#построим более наглядный график, уберем выбросы:\n",
    "x_values = pd.Series(range(0,len(orders[orders['revenue']<=200000]['revenue'])))\n",
    "plt.figure(figsize=(15,5))\n",
    "plt.scatter(x_values, orders[orders['revenue']<=150000]['revenue']) \n",
    "plt.title('Стоимость заказов', fontsize=12, fontweight='bold')\n",
    "plt.xlabel('Стоимость')\n",
    "plt.ylabel('Оценка')\n",
    "plt.show()"
   ]
  },
  {
   "cell_type": "markdown",
   "metadata": {},
   "source": [
    "Согласно графику, большая часть покупок находится в пределах 30 тыс. рублей."
   ]
  },
  {
   "cell_type": "markdown",
   "metadata": {},
   "source": [
    "### 95-й и 99-й перцентили стоимости заказов"
   ]
  },
  {
   "cell_type": "code",
   "execution_count": 43,
   "metadata": {},
   "outputs": [
    {
     "data": {
      "text/plain": [
       "array([17990., 26785., 53904.])"
      ]
     },
     "execution_count": 43,
     "metadata": {},
     "output_type": "execute_result"
    }
   ],
   "source": [
    "#посчитаем перцентили по стоимости:\n",
    "np.percentile(orders['revenue'], [90, 95, 99])"
   ]
  },
  {
   "cell_type": "markdown",
   "metadata": {},
   "source": [
    "Не более 5% пользователей заказывают свыше 26785 рублей и не более 1% свыше 53904 рублей.\n",
    "Логично взять пользователей, которые совершили не более 2 заказов и с чеками не более 27 тыс. рублей."
   ]
  },
  {
   "cell_type": "markdown",
   "metadata": {},
   "source": [
    "### Статистическая значимость различий в среднем количестве заказов на посетителя между группами по «сырым» данным"
   ]
  },
  {
   "cell_type": "markdown",
   "metadata": {},
   "source": [
    "Сформулируем нулевую и альтернативные гипотезы:\n",
    "\n",
    "H0 - статистически значимых различий в среднем количестве заказов на посетителя между группами по \"сырым\" данным нет.\n",
    "\n",
    "H1 - статистически значимые различия в среднем количестве заказов на посетителя между группами по \"сырым\" данным есть.\n",
    "\n",
    "Критический уровень значимости равен 0.05.\n",
    "\n",
    "Метод проверки гипотез - критерий Манна-Уитни, используемый для оценки различий между двумя независимыми выборками по уровню какого-либо признака, измеренного количественно."
   ]
  },
  {
   "cell_type": "code",
   "execution_count": 44,
   "metadata": {},
   "outputs": [],
   "source": [
    "#создадим переменные ordersByUsersA и ordersByUsersB:\n",
    "ordersByUsersA = (\n",
    "    orders[orders['group'] == 'A']\n",
    "    .groupby('visitor_id', as_index=False)\n",
    "    .agg({'transaction_id': pd.Series.nunique})\n",
    ")\n",
    "ordersByUsersA.columns = ['visitor_id', 'orders']\n",
    "\n",
    "ordersByUsersB = (\n",
    "    orders[orders['group'] == 'B']\n",
    "    .groupby('visitor_id', as_index=False)\n",
    "    .agg({'transaction_id': pd.Series.nunique})\n",
    ")\n",
    "ordersByUsersB.columns = ['visitor_id', 'orders']"
   ]
  },
  {
   "cell_type": "code",
   "execution_count": 45,
   "metadata": {},
   "outputs": [
    {
     "name": "stdout",
     "output_type": "stream",
     "text": [
      "p-value: 0.01102\n",
      "Относительное изменение: 0.160\n"
     ]
    }
   ],
   "source": [
    "#и переменные sampleA и sampleB:\n",
    "sampleA = pd.concat([ordersByUsersA['orders'],pd.Series(0, index=np.arange(visitors[visitors['group']=='A']['visitors'].sum() - len(ordersByUsersA['orders'])), name='orders')],axis=0)\n",
    "\n",
    "sampleB = pd.concat([ordersByUsersB['orders'],pd.Series(0, index=np.arange(visitors[visitors['group']=='B']['visitors'].sum() - len(ordersByUsersB['orders'])), name='orders')],axis=0)\n",
    "\n",
    "\n",
    "\n",
    "print('p-value:', \"{0:.5f}\".format(st.mannwhitneyu(sampleA, sampleB)[1]))\n",
    "\n",
    "print('Относительное изменение:', \"{0:.3f}\".format(sampleB.mean() / sampleA.mean() - 1))"
   ]
  },
  {
   "cell_type": "markdown",
   "metadata": {},
   "source": [
    "Р-value = 0.01102, что значительно меньше 0.05. Следовательно, отвергаем нулевую гипотезу о том, что статистически значимых различий между группами нет, между группами есть разница. \n",
    "Относительный выигрыш группы B к группе А составляет 16%."
   ]
  },
  {
   "cell_type": "markdown",
   "metadata": {},
   "source": [
    "### Статистическая значимость различий в среднем чеке заказа между группами по «сырым» данным"
   ]
  },
  {
   "cell_type": "markdown",
   "metadata": {},
   "source": [
    "Сформулируем нулевую и альтернативные гипотезы:\n",
    "\n",
    "H0 - статистически значимых различий в среднем чеке заказа между группами по \"сырым\" данным нет.\n",
    "\n",
    "H1 - статистически значимые различия в среднем чеке заказа на посетителя между группами по \"сырым\" данным есть."
   ]
  },
  {
   "cell_type": "code",
   "execution_count": 46,
   "metadata": {},
   "outputs": [
    {
     "name": "stdout",
     "output_type": "stream",
     "text": [
      "p-value: 0.829\n",
      "Относительное изменение: 0.287\n"
     ]
    }
   ],
   "source": [
    "print('p-value:', '{0:.3f}'.format(st.mannwhitneyu(orders[orders['group']=='A']['revenue'], orders[orders['group']=='B']['revenue'])[1]))\n",
    "print('Относительное изменение:', '{0:.3f}'.format(orders[orders['group']=='B']['revenue'].mean()/orders[orders['group']=='A']['revenue'].mean()-1))"
   ]
  },
  {
   "cell_type": "markdown",
   "metadata": {},
   "source": [
    "P-value больше 0.05. Следовательно не отвергаем нулевую гипотезу. Средний чек группы B выше среднего чека группы A на 28,7%."
   ]
  },
  {
   "cell_type": "markdown",
   "metadata": {},
   "source": [
    "### Статистическая значимость различий в среднем количестве заказов на посетителя между группами по «очищенным» данным"
   ]
  },
  {
   "cell_type": "code",
   "execution_count": 47,
   "metadata": {},
   "outputs": [
    {
     "name": "stdout",
     "output_type": "stream",
     "text": [
      "568     113298937\n",
      "1099    148427295\n",
      "928     204675465\n",
      "33      249864742\n",
      "684     358944393\n",
      "Name: visitor_id, dtype: int64\n",
      "\n",
      "Количество аномальных пользователей (абсолютные потери) составило 86, что соответствует 8.84% относительно общего числа пользователей (относительные потери)\n"
     ]
    }
   ],
   "source": [
    "#для начала выделим из базы \"аномальных\" пользователей (совершивших более 2-го заказов или сумма заказа которых > 26785):\n",
    "\n",
    "usersWithManyOrders = pd.concat(\n",
    "    [\n",
    "        ordersByUsersA[ordersByUsersA['orders'] > np.percentile(ordersByUsers['orders'], 95)]['visitor_id'],\n",
    "        ordersByUsersB[ordersByUsersB['orders'] > np.percentile(ordersByUsers['orders'], 95)]['visitor_id'],\n",
    "    ],\n",
    "    axis=0,\n",
    ")\n",
    "usersWithExpensiveOrders = orders[orders['revenue'] > np.percentile(orders['revenue'], 95)]['visitor_id']\n",
    "abnormalUsers = (\n",
    "    pd.concat([usersWithManyOrders, usersWithExpensiveOrders], axis=0)\n",
    "    .drop_duplicates()\n",
    "    .sort_values()\n",
    ")\n",
    "#по рекомендации изучим относительные и абсолютные потери:\n",
    "relative_losses = abnormalUsers.shape[0]/orders['visitor_id'].nunique()\n",
    "absolute_losses = abnormalUsers.shape[0]\n",
    "print(abnormalUsers.head(5))\n",
    "print()\n",
    "print(f'Количество аномальных пользователей (абсолютные потери) составило {absolute_losses}, что соответствует {relative_losses:.2%} относительно общего числа пользователей (относительные потери)')"
   ]
  },
  {
   "cell_type": "markdown",
   "metadata": {},
   "source": [
    "Сформулируем нулевую и альтернативные гипотезы:\n",
    "\n",
    "H0 - по \"очищенным\" данным статистически значимых различий в среднем количестве заказов на посетителя между группами нет.\n",
    "\n",
    "H1 - по \"очищенным\" данным статистически значимые различия в среднем количестве заказов на посетителя между группами есть."
   ]
  },
  {
   "cell_type": "code",
   "execution_count": 48,
   "metadata": {},
   "outputs": [
    {
     "name": "stdout",
     "output_type": "stream",
     "text": [
      "p-value: 0.01593\n",
      "Относительное изменение: 0.174\n"
     ]
    }
   ],
   "source": [
    "#изучим, как повлияли 86 \"аномальных\" пользователей на результаты теста:\n",
    "sampleAFiltered = pd.concat(\n",
    "    [\n",
    "        ordersByUsersA[\n",
    "            np.logical_not(ordersByUsersA['visitor_id'].isin(abnormalUsers))\n",
    "        ]['orders'],\n",
    "        pd.Series(\n",
    "            0,\n",
    "            index=np.arange(\n",
    "                visitors[visitors['group']=='A']['visitors'].sum() - len(ordersByUsersA['orders'])\n",
    "            ),\n",
    "            name='orders',\n",
    "        ),\n",
    "    ],\n",
    "    axis=0,\n",
    ")\n",
    "\n",
    "sampleBFiltered = pd.concat(\n",
    "    [\n",
    "        ordersByUsersB[\n",
    "            np.logical_not(ordersByUsersB['visitor_id'].isin(abnormalUsers))\n",
    "        ]['orders'],\n",
    "        pd.Series(\n",
    "            0,\n",
    "            index=np.arange(\n",
    "                visitors[visitors['group']=='B']['visitors'].sum() - len(ordersByUsersB['orders'])\n",
    "            ),\n",
    "            name='orders',\n",
    "        ),\n",
    "    ],\n",
    "    axis=0,\n",
    ")\n",
    "print('p-value:','{0:.5f}'.format(st.mannwhitneyu(sampleAFiltered, sampleBFiltered)[1]))\n",
    "print('Относительное изменение:', '{0:.3f}'.format(sampleBFiltered.mean()/sampleAFiltered.mean()-1))"
   ]
  },
  {
   "cell_type": "markdown",
   "metadata": {},
   "source": [
    "По очищенным данным в среднем количестве заказов на посетителя между группами А и В по-прежнему есть статистически значимая разница. \n",
    "Относительный выигрыш группы В по сравнению с \"сырыми\" данными стал немного больше."
   ]
  },
  {
   "cell_type": "markdown",
   "metadata": {},
   "source": [
    "### Статистическая значимость различий в среднем чеке заказа между группами по «очищенным» данным"
   ]
  },
  {
   "cell_type": "markdown",
   "metadata": {},
   "source": [
    "Сформулируем нулевую и альтернативные гипотезы:\n",
    "\n",
    "H0 - статистически значимых различий в среднем чеке пользователей между группами по \"очищенным\" данным нет.\n",
    "\n",
    "H1 - статистически значимые различия в среднем чеке пользователей между группами по \"очищенным\" данным есть."
   ]
  },
  {
   "cell_type": "code",
   "execution_count": 49,
   "metadata": {},
   "outputs": [
    {
     "name": "stdout",
     "output_type": "stream",
     "text": [
      "p-value: 0.72713\n",
      "Относительное изменение: -0.03373\n"
     ]
    }
   ],
   "source": [
    "print('p-value:',\n",
    "    '{0:.5f}'.format(\n",
    "        st.mannwhitneyu(\n",
    "            orders[\n",
    "                np.logical_and(\n",
    "                    orders['group'] == 'A',\n",
    "                    np.logical_not(orders['visitor_id'].isin(abnormalUsers)),\n",
    "                )\n",
    "            ]['revenue'],\n",
    "            orders[\n",
    "                np.logical_and(\n",
    "                    orders['group'] == 'B',\n",
    "                    np.logical_not(orders['visitor_id'].isin(abnormalUsers)),\n",
    "                )\n",
    "            ]['revenue'],\n",
    "        )[1]\n",
    "    )\n",
    ")\n",
    "\n",
    "print('Относительное изменение:',\n",
    "    \"{0:.5f}\".format(\n",
    "        orders[\n",
    "            np.logical_and(\n",
    "                orders['group'] == 'B',\n",
    "                np.logical_not(orders['visitor_id'].isin(abnormalUsers)),\n",
    "            )\n",
    "        ]['revenue'].mean()\n",
    "        / orders[\n",
    "            np.logical_and(\n",
    "                orders['group'] == 'A',\n",
    "                np.logical_not(orders['visitor_id'].isin(abnormalUsers)),\n",
    "            )\n",
    "        ]['revenue'].mean()\n",
    "        - 1\n",
    "    )\n",
    ")"
   ]
  },
  {
   "cell_type": "markdown",
   "metadata": {},
   "source": [
    "Р-value стал выше, по среднему чеку проигрыш группы В составляет 0.03373."
   ]
  },
  {
   "cell_type": "markdown",
   "metadata": {},
   "source": [
    "## Результат теста и принятие решения"
   ]
  },
  {
   "cell_type": "markdown",
   "metadata": {},
   "source": [
    "Есть статистически значимые различия по среднему количеству заказов на посетителя между группами по «сырым», и по \"очищенным\" данным.\n",
    "Нет статистически значимого различия по среднему чеку между группами ни по «сырым», ни по \"очищенным\" данным.\n",
    "Согласно среднему количеству заказов на посетителя между группам, результаты группы B лучше группы A, а также есть значительная тенденция к улучшению.\n",
    "График различия среднего чека говорит о том, что результаты группы B лучше."
   ]
  },
  {
   "cell_type": "markdown",
   "metadata": {},
   "source": [
    "Принято решение остановить тест и зафиксировать победу группы В."
   ]
  }
 ],
 "metadata": {
  "ExecuteTimeLog": [
   {
    "duration": 1110,
    "start_time": "2023-03-19T11:38:46.237Z"
   },
   {
    "duration": 227,
    "start_time": "2023-03-19T11:42:28.120Z"
   },
   {
    "duration": 11,
    "start_time": "2023-03-19T11:55:50.988Z"
   },
   {
    "duration": 4,
    "start_time": "2023-03-19T11:56:16.419Z"
   },
   {
    "duration": 12,
    "start_time": "2023-03-19T11:56:29.265Z"
   },
   {
    "duration": 11,
    "start_time": "2023-03-19T11:57:47.511Z"
   },
   {
    "duration": 12,
    "start_time": "2023-03-19T11:58:04.118Z"
   },
   {
    "duration": 5,
    "start_time": "2023-03-19T12:13:18.747Z"
   },
   {
    "duration": 83,
    "start_time": "2023-03-19T12:13:55.034Z"
   },
   {
    "duration": 9,
    "start_time": "2023-03-19T12:21:20.929Z"
   },
   {
    "duration": 7,
    "start_time": "2023-03-19T12:22:13.404Z"
   },
   {
    "duration": 13,
    "start_time": "2023-03-19T12:22:32.559Z"
   },
   {
    "duration": 13,
    "start_time": "2023-03-19T12:37:18.995Z"
   },
   {
    "duration": 8,
    "start_time": "2023-03-19T12:38:21.162Z"
   },
   {
    "duration": 171,
    "start_time": "2023-03-19T12:39:22.519Z"
   },
   {
    "duration": 162,
    "start_time": "2023-03-19T12:39:45.985Z"
   },
   {
    "duration": 5,
    "start_time": "2023-03-19T12:40:17.515Z"
   },
   {
    "duration": 51,
    "start_time": "2023-03-19T12:41:11.147Z"
   },
   {
    "duration": 8,
    "start_time": "2023-03-19T12:41:36.589Z"
   },
   {
    "duration": 3,
    "start_time": "2023-03-19T12:43:01.362Z"
   },
   {
    "duration": 11,
    "start_time": "2023-03-19T12:43:08.549Z"
   },
   {
    "duration": 9,
    "start_time": "2023-03-19T12:43:14.021Z"
   },
   {
    "duration": 9,
    "start_time": "2023-03-19T12:43:14.480Z"
   },
   {
    "duration": 5,
    "start_time": "2023-03-19T12:43:14.785Z"
   },
   {
    "duration": 8,
    "start_time": "2023-03-19T12:43:15.719Z"
   },
   {
    "duration": 3,
    "start_time": "2023-03-19T12:43:16.472Z"
   },
   {
    "duration": 15,
    "start_time": "2023-03-19T13:00:08.880Z"
   },
   {
    "duration": 3,
    "start_time": "2023-03-19T13:01:04.594Z"
   },
   {
    "duration": 9,
    "start_time": "2023-03-19T13:01:05.761Z"
   },
   {
    "duration": 8,
    "start_time": "2023-03-19T13:01:06.164Z"
   },
   {
    "duration": 10,
    "start_time": "2023-03-19T13:01:07.959Z"
   },
   {
    "duration": 14,
    "start_time": "2023-03-19T13:01:09.223Z"
   },
   {
    "duration": 5,
    "start_time": "2023-03-19T13:01:14.862Z"
   },
   {
    "duration": 19,
    "start_time": "2023-03-19T13:01:15.023Z"
   },
   {
    "duration": 181,
    "start_time": "2023-03-19T13:01:15.185Z"
   },
   {
    "duration": 0,
    "start_time": "2023-03-19T13:01:15.368Z"
   },
   {
    "duration": 9,
    "start_time": "2023-03-19T13:01:15.534Z"
   },
   {
    "duration": 5,
    "start_time": "2023-03-19T13:01:15.708Z"
   },
   {
    "duration": 9,
    "start_time": "2023-03-19T13:01:15.954Z"
   },
   {
    "duration": 183,
    "start_time": "2023-03-19T13:01:16.249Z"
   },
   {
    "duration": 9,
    "start_time": "2023-03-19T13:01:17.609Z"
   },
   {
    "duration": 17,
    "start_time": "2023-03-19T13:25:36.435Z"
   },
   {
    "duration": 687,
    "start_time": "2023-03-19T13:34:28.825Z"
   },
   {
    "duration": 190,
    "start_time": "2023-03-19T13:34:57.124Z"
   },
   {
    "duration": 126,
    "start_time": "2023-03-19T13:39:40.032Z"
   },
   {
    "duration": 76,
    "start_time": "2023-03-19T13:39:40.955Z"
   },
   {
    "duration": 3,
    "start_time": "2023-03-19T13:39:41.123Z"
   },
   {
    "duration": 10,
    "start_time": "2023-03-19T13:39:41.317Z"
   },
   {
    "duration": 7,
    "start_time": "2023-03-19T13:39:41.514Z"
   },
   {
    "duration": 9,
    "start_time": "2023-03-19T13:39:42.987Z"
   },
   {
    "duration": 11,
    "start_time": "2023-03-19T13:39:44.688Z"
   },
   {
    "duration": 9,
    "start_time": "2023-03-19T13:39:45.224Z"
   },
   {
    "duration": 12,
    "start_time": "2023-03-19T13:39:45.795Z"
   },
   {
    "duration": 10,
    "start_time": "2023-03-19T13:39:46.591Z"
   },
   {
    "duration": 8,
    "start_time": "2023-03-19T13:39:50.066Z"
   },
   {
    "duration": 8,
    "start_time": "2023-03-19T13:39:50.812Z"
   },
   {
    "duration": 10,
    "start_time": "2023-03-19T13:39:51.537Z"
   },
   {
    "duration": 8,
    "start_time": "2023-03-19T13:39:51.959Z"
   },
   {
    "duration": 5,
    "start_time": "2023-03-19T13:39:52.243Z"
   },
   {
    "duration": 9,
    "start_time": "2023-03-19T13:39:54.359Z"
   },
   {
    "duration": 10,
    "start_time": "2023-03-19T13:39:54.749Z"
   },
   {
    "duration": 4,
    "start_time": "2023-03-19T13:57:20.606Z"
   },
   {
    "duration": 8,
    "start_time": "2023-03-19T13:58:08.702Z"
   },
   {
    "duration": 9,
    "start_time": "2023-03-19T13:58:22.638Z"
   },
   {
    "duration": 7,
    "start_time": "2023-03-19T14:02:25.400Z"
   },
   {
    "duration": 6,
    "start_time": "2023-03-19T14:04:21.431Z"
   },
   {
    "duration": 5,
    "start_time": "2023-03-19T14:16:59.508Z"
   },
   {
    "duration": 14,
    "start_time": "2023-03-19T14:17:32.578Z"
   },
   {
    "duration": 7,
    "start_time": "2023-03-19T14:18:08.495Z"
   },
   {
    "duration": 1390,
    "start_time": "2023-03-20T17:19:47.460Z"
   },
   {
    "duration": 242,
    "start_time": "2023-03-20T17:19:48.852Z"
   },
   {
    "duration": 3,
    "start_time": "2023-03-20T17:19:49.096Z"
   },
   {
    "duration": 18,
    "start_time": "2023-03-20T17:19:49.101Z"
   },
   {
    "duration": 14,
    "start_time": "2023-03-20T17:19:49.121Z"
   },
   {
    "duration": 12,
    "start_time": "2023-03-20T17:19:49.137Z"
   },
   {
    "duration": 26,
    "start_time": "2023-03-20T17:19:49.150Z"
   },
   {
    "duration": 19,
    "start_time": "2023-03-20T17:19:49.177Z"
   },
   {
    "duration": 13,
    "start_time": "2023-03-20T17:19:49.211Z"
   },
   {
    "duration": 12,
    "start_time": "2023-03-20T17:19:49.413Z"
   },
   {
    "duration": 10,
    "start_time": "2023-03-20T17:19:49.632Z"
   },
   {
    "duration": 11,
    "start_time": "2023-03-20T17:19:49.823Z"
   },
   {
    "duration": 5,
    "start_time": "2023-03-20T17:19:50.062Z"
   },
   {
    "duration": 9,
    "start_time": "2023-03-20T17:19:50.858Z"
   },
   {
    "duration": 4,
    "start_time": "2023-03-20T17:19:51.138Z"
   },
   {
    "duration": 12,
    "start_time": "2023-03-20T17:19:52.384Z"
   },
   {
    "duration": 13,
    "start_time": "2023-03-20T17:19:53.680Z"
   },
   {
    "duration": 5,
    "start_time": "2023-03-20T17:19:57.526Z"
   },
   {
    "duration": 10,
    "start_time": "2023-03-20T17:19:58.181Z"
   },
   {
    "duration": 9,
    "start_time": "2023-03-20T17:19:58.844Z"
   },
   {
    "duration": 6,
    "start_time": "2023-03-20T17:19:59.418Z"
   },
   {
    "duration": 4,
    "start_time": "2023-03-20T17:19:59.948Z"
   },
   {
    "duration": 16,
    "start_time": "2023-03-20T17:20:00.481Z"
   },
   {
    "duration": 8,
    "start_time": "2023-03-20T17:20:01.078Z"
   },
   {
    "duration": 50,
    "start_time": "2023-03-20T17:20:09.079Z"
   },
   {
    "duration": 109,
    "start_time": "2023-03-20T17:21:46.983Z"
   },
   {
    "duration": 759,
    "start_time": "2023-03-20T17:22:04.008Z"
   },
   {
    "duration": 10,
    "start_time": "2023-03-20T17:22:15.082Z"
   },
   {
    "duration": 10,
    "start_time": "2023-03-20T17:22:21.911Z"
   },
   {
    "duration": 6,
    "start_time": "2023-03-20T17:22:47.748Z"
   },
   {
    "duration": 772,
    "start_time": "2023-03-20T17:23:55.742Z"
   },
   {
    "duration": 44,
    "start_time": "2023-03-20T17:24:16.943Z"
   },
   {
    "duration": 8,
    "start_time": "2023-03-20T17:24:48.345Z"
   },
   {
    "duration": 47,
    "start_time": "2023-03-20T17:25:43.160Z"
   },
   {
    "duration": 262,
    "start_time": "2023-03-20T17:26:32.726Z"
   },
   {
    "duration": 15,
    "start_time": "2023-03-20T17:28:21.411Z"
   },
   {
    "duration": 264,
    "start_time": "2023-03-20T17:28:35.511Z"
   },
   {
    "duration": 7,
    "start_time": "2023-03-20T17:28:48.826Z"
   },
   {
    "duration": 7,
    "start_time": "2023-03-20T17:29:03.720Z"
   },
   {
    "duration": 4,
    "start_time": "2023-03-20T17:29:10.691Z"
   },
   {
    "duration": 7,
    "start_time": "2023-03-20T17:29:18.119Z"
   },
   {
    "duration": 268,
    "start_time": "2023-03-20T17:29:31.397Z"
   },
   {
    "duration": 6,
    "start_time": "2023-03-20T17:29:41.496Z"
   },
   {
    "duration": 4,
    "start_time": "2023-03-20T17:32:33.279Z"
   },
   {
    "duration": 75,
    "start_time": "2023-03-20T17:32:33.441Z"
   },
   {
    "duration": 2,
    "start_time": "2023-03-20T17:32:33.638Z"
   },
   {
    "duration": 11,
    "start_time": "2023-03-20T17:32:33.837Z"
   },
   {
    "duration": 10,
    "start_time": "2023-03-20T17:32:34.042Z"
   },
   {
    "duration": 12,
    "start_time": "2023-03-20T17:32:35.899Z"
   },
   {
    "duration": 13,
    "start_time": "2023-03-20T17:32:36.342Z"
   },
   {
    "duration": 6,
    "start_time": "2023-03-20T17:32:36.561Z"
   },
   {
    "duration": 14,
    "start_time": "2023-03-20T17:32:37.188Z"
   },
   {
    "duration": 10,
    "start_time": "2023-03-20T17:32:37.663Z"
   },
   {
    "duration": 10,
    "start_time": "2023-03-20T17:32:38.147Z"
   },
   {
    "duration": 11,
    "start_time": "2023-03-20T17:32:38.638Z"
   },
   {
    "duration": 5,
    "start_time": "2023-03-20T17:32:39.019Z"
   },
   {
    "duration": 8,
    "start_time": "2023-03-20T17:32:39.596Z"
   },
   {
    "duration": 4,
    "start_time": "2023-03-20T17:32:40.119Z"
   },
   {
    "duration": 10,
    "start_time": "2023-03-20T17:32:43.908Z"
   },
   {
    "duration": 12,
    "start_time": "2023-03-20T17:32:44.692Z"
   },
   {
    "duration": 4,
    "start_time": "2023-03-20T17:32:47.636Z"
   },
   {
    "duration": 9,
    "start_time": "2023-03-20T17:32:48.024Z"
   },
   {
    "duration": 9,
    "start_time": "2023-03-20T17:32:48.586Z"
   },
   {
    "duration": 5,
    "start_time": "2023-03-20T17:32:50.606Z"
   },
   {
    "duration": 4,
    "start_time": "2023-03-20T17:32:52.100Z"
   },
   {
    "duration": 16,
    "start_time": "2023-03-20T17:32:53.514Z"
   },
   {
    "duration": 11,
    "start_time": "2023-03-20T17:32:54.072Z"
   },
   {
    "duration": 9,
    "start_time": "2023-03-20T17:45:06.839Z"
   },
   {
    "duration": 16,
    "start_time": "2023-03-20T17:45:15.789Z"
   },
   {
    "duration": 14,
    "start_time": "2023-03-20T17:46:35.989Z"
   },
   {
    "duration": 12,
    "start_time": "2023-03-20T17:46:41.516Z"
   },
   {
    "duration": 12,
    "start_time": "2023-03-20T17:46:58.042Z"
   },
   {
    "duration": 8,
    "start_time": "2023-03-20T17:49:00.715Z"
   },
   {
    "duration": 8,
    "start_time": "2023-03-20T17:49:00.916Z"
   },
   {
    "duration": 7,
    "start_time": "2023-03-20T17:49:47.577Z"
   },
   {
    "duration": 8,
    "start_time": "2023-03-20T17:50:38.310Z"
   },
   {
    "duration": 11,
    "start_time": "2023-03-20T17:52:25.079Z"
   },
   {
    "duration": 9,
    "start_time": "2023-03-20T17:53:05.926Z"
   },
   {
    "duration": 13,
    "start_time": "2023-03-20T17:53:36.571Z"
   },
   {
    "duration": 15,
    "start_time": "2023-03-20T17:53:46.017Z"
   },
   {
    "duration": 7,
    "start_time": "2023-03-20T17:53:50.415Z"
   },
   {
    "duration": 13,
    "start_time": "2023-03-20T17:53:52.443Z"
   },
   {
    "duration": 7,
    "start_time": "2023-03-20T17:55:23.287Z"
   },
   {
    "duration": 6,
    "start_time": "2023-03-20T17:55:24.500Z"
   },
   {
    "duration": 26,
    "start_time": "2023-03-20T18:02:47.241Z"
   },
   {
    "duration": 172,
    "start_time": "2023-03-20T18:03:14.353Z"
   },
   {
    "duration": 45,
    "start_time": "2023-03-21T17:07:39.566Z"
   },
   {
    "duration": 1445,
    "start_time": "2023-03-21T17:07:45.298Z"
   },
   {
    "duration": 225,
    "start_time": "2023-03-21T17:07:46.745Z"
   },
   {
    "duration": 2,
    "start_time": "2023-03-21T17:07:46.972Z"
   },
   {
    "duration": 13,
    "start_time": "2023-03-21T17:07:46.976Z"
   },
   {
    "duration": 15,
    "start_time": "2023-03-21T17:07:46.992Z"
   },
   {
    "duration": 9,
    "start_time": "2023-03-21T17:07:47.009Z"
   },
   {
    "duration": 37,
    "start_time": "2023-03-21T17:07:47.020Z"
   },
   {
    "duration": 22,
    "start_time": "2023-03-21T17:07:47.059Z"
   },
   {
    "duration": 15,
    "start_time": "2023-03-21T17:07:47.082Z"
   },
   {
    "duration": 12,
    "start_time": "2023-03-21T17:07:47.098Z"
   },
   {
    "duration": 22,
    "start_time": "2023-03-21T17:07:47.113Z"
   },
   {
    "duration": 13,
    "start_time": "2023-03-21T17:07:49.638Z"
   },
   {
    "duration": 7,
    "start_time": "2023-03-21T17:07:49.654Z"
   },
   {
    "duration": 8,
    "start_time": "2023-03-21T17:07:49.663Z"
   },
   {
    "duration": 5,
    "start_time": "2023-03-21T17:07:49.673Z"
   },
   {
    "duration": 12,
    "start_time": "2023-03-21T17:07:49.680Z"
   },
   {
    "duration": 10,
    "start_time": "2023-03-21T17:07:49.694Z"
   },
   {
    "duration": 4,
    "start_time": "2023-03-21T17:07:49.869Z"
   },
   {
    "duration": 11,
    "start_time": "2023-03-21T17:07:50.054Z"
   },
   {
    "duration": 8,
    "start_time": "2023-03-21T17:07:50.791Z"
   },
   {
    "duration": 13,
    "start_time": "2023-03-21T17:07:50.801Z"
   },
   {
    "duration": 16,
    "start_time": "2023-03-21T17:07:50.815Z"
   },
   {
    "duration": 16,
    "start_time": "2023-03-21T17:07:51.038Z"
   },
   {
    "duration": 9,
    "start_time": "2023-03-21T17:07:51.250Z"
   },
   {
    "duration": 9,
    "start_time": "2023-03-21T17:07:51.635Z"
   },
   {
    "duration": 7,
    "start_time": "2023-03-21T17:07:51.837Z"
   },
   {
    "duration": 182,
    "start_time": "2023-03-21T17:07:52.964Z"
   },
   {
    "duration": 72,
    "start_time": "2023-03-21T17:07:53.379Z"
   },
   {
    "duration": 97,
    "start_time": "2023-03-21T17:09:24.432Z"
   },
   {
    "duration": 13,
    "start_time": "2023-03-21T17:09:56.246Z"
   },
   {
    "duration": 4,
    "start_time": "2023-03-21T17:10:08.902Z"
   },
   {
    "duration": 4,
    "start_time": "2023-03-21T17:10:29.298Z"
   },
   {
    "duration": 5,
    "start_time": "2023-03-21T17:10:49.529Z"
   },
   {
    "duration": 263,
    "start_time": "2023-03-21T17:17:30.819Z"
   },
   {
    "duration": 179,
    "start_time": "2023-03-21T17:26:29.009Z"
   },
   {
    "duration": 156,
    "start_time": "2023-03-21T17:27:06.613Z"
   },
   {
    "duration": 203,
    "start_time": "2023-03-21T17:27:18.404Z"
   },
   {
    "duration": 174,
    "start_time": "2023-03-21T17:27:37.216Z"
   },
   {
    "duration": 334,
    "start_time": "2023-03-21T17:57:55.209Z"
   },
   {
    "duration": 256,
    "start_time": "2023-03-21T17:59:16.769Z"
   },
   {
    "duration": 311,
    "start_time": "2023-03-21T18:07:58.198Z"
   },
   {
    "duration": 1370,
    "start_time": "2023-03-22T17:31:36.773Z"
   },
   {
    "duration": 219,
    "start_time": "2023-03-22T17:31:38.144Z"
   },
   {
    "duration": 2,
    "start_time": "2023-03-22T17:31:38.365Z"
   },
   {
    "duration": 14,
    "start_time": "2023-03-22T17:31:38.369Z"
   },
   {
    "duration": 14,
    "start_time": "2023-03-22T17:31:38.384Z"
   },
   {
    "duration": 9,
    "start_time": "2023-03-22T17:31:38.399Z"
   },
   {
    "duration": 13,
    "start_time": "2023-03-22T17:31:38.410Z"
   },
   {
    "duration": 8,
    "start_time": "2023-03-22T17:31:38.424Z"
   },
   {
    "duration": 49,
    "start_time": "2023-03-22T17:31:38.434Z"
   },
   {
    "duration": 12,
    "start_time": "2023-03-22T17:31:38.555Z"
   },
   {
    "duration": 12,
    "start_time": "2023-03-22T17:31:38.731Z"
   },
   {
    "duration": 10,
    "start_time": "2023-03-22T17:31:38.898Z"
   },
   {
    "duration": 5,
    "start_time": "2023-03-22T17:31:39.084Z"
   },
   {
    "duration": 9,
    "start_time": "2023-03-22T17:31:39.277Z"
   },
   {
    "duration": 5,
    "start_time": "2023-03-22T17:31:39.594Z"
   },
   {
    "duration": 12,
    "start_time": "2023-03-22T17:31:40.135Z"
   },
   {
    "duration": 11,
    "start_time": "2023-03-22T17:31:40.534Z"
   },
   {
    "duration": 4,
    "start_time": "2023-03-22T17:31:41.589Z"
   },
   {
    "duration": 12,
    "start_time": "2023-03-22T17:31:41.792Z"
   },
   {
    "duration": 9,
    "start_time": "2023-03-22T17:31:41.979Z"
   },
   {
    "duration": 6,
    "start_time": "2023-03-22T17:31:42.177Z"
   },
   {
    "duration": 5,
    "start_time": "2023-03-22T17:31:42.352Z"
   },
   {
    "duration": 16,
    "start_time": "2023-03-22T17:31:42.551Z"
   },
   {
    "duration": 9,
    "start_time": "2023-03-22T17:31:42.751Z"
   },
   {
    "duration": 9,
    "start_time": "2023-03-22T17:31:43.130Z"
   },
   {
    "duration": 7,
    "start_time": "2023-03-22T17:31:43.333Z"
   },
   {
    "duration": 178,
    "start_time": "2023-03-22T17:31:44.073Z"
   },
   {
    "duration": 127,
    "start_time": "2023-03-22T17:31:44.280Z"
   },
   {
    "duration": 17,
    "start_time": "2023-03-22T17:31:44.477Z"
   },
   {
    "duration": 4,
    "start_time": "2023-03-22T17:31:44.646Z"
   },
   {
    "duration": 4,
    "start_time": "2023-03-22T17:31:44.855Z"
   },
   {
    "duration": 309,
    "start_time": "2023-03-22T17:31:45.097Z"
   },
   {
    "duration": 221,
    "start_time": "2023-03-22T17:31:45.676Z"
   },
   {
    "duration": 379,
    "start_time": "2023-03-22T17:31:46.277Z"
   },
   {
    "duration": 302,
    "start_time": "2023-03-22T17:36:48.329Z"
   },
   {
    "duration": 184,
    "start_time": "2023-03-22T17:37:00.840Z"
   },
   {
    "duration": 392,
    "start_time": "2023-03-22T17:40:32.584Z"
   },
   {
    "duration": 126,
    "start_time": "2023-03-22T17:42:53.920Z"
   },
   {
    "duration": 0,
    "start_time": "2023-03-22T17:45:40.028Z"
   },
   {
    "duration": 16,
    "start_time": "2023-03-22T17:47:23.389Z"
   },
   {
    "duration": 280,
    "start_time": "2023-03-22T17:47:36.738Z"
   },
   {
    "duration": 127,
    "start_time": "2023-03-22T17:49:23.356Z"
   },
   {
    "duration": 4,
    "start_time": "2023-03-22T17:50:13.289Z"
   },
   {
    "duration": 5,
    "start_time": "2023-03-22T18:02:48.549Z"
   },
   {
    "duration": 156,
    "start_time": "2023-03-22T18:03:57.787Z"
   },
   {
    "duration": 139,
    "start_time": "2023-03-22T18:05:18.479Z"
   },
   {
    "duration": 5,
    "start_time": "2023-03-22T18:16:41.297Z"
   },
   {
    "duration": 224,
    "start_time": "2023-03-22T18:29:26.595Z"
   },
   {
    "duration": 1300,
    "start_time": "2023-03-24T17:55:48.361Z"
   },
   {
    "duration": 297,
    "start_time": "2023-03-24T17:55:49.663Z"
   },
   {
    "duration": 3,
    "start_time": "2023-03-24T17:55:49.962Z"
   },
   {
    "duration": 14,
    "start_time": "2023-03-24T17:55:49.967Z"
   },
   {
    "duration": 15,
    "start_time": "2023-03-24T17:55:49.983Z"
   },
   {
    "duration": 11,
    "start_time": "2023-03-24T17:55:50.000Z"
   },
   {
    "duration": 16,
    "start_time": "2023-03-24T17:55:50.012Z"
   },
   {
    "duration": 33,
    "start_time": "2023-03-24T17:55:50.030Z"
   },
   {
    "duration": 18,
    "start_time": "2023-03-24T17:55:50.163Z"
   },
   {
    "duration": 24,
    "start_time": "2023-03-24T17:55:50.335Z"
   },
   {
    "duration": 9,
    "start_time": "2023-03-24T17:55:50.507Z"
   },
   {
    "duration": 9,
    "start_time": "2023-03-24T17:55:50.720Z"
   },
   {
    "duration": 5,
    "start_time": "2023-03-24T17:55:51.129Z"
   },
   {
    "duration": 11,
    "start_time": "2023-03-24T17:55:51.265Z"
   },
   {
    "duration": 7,
    "start_time": "2023-03-24T17:55:51.461Z"
   },
   {
    "duration": 9,
    "start_time": "2023-03-24T17:55:52.071Z"
   },
   {
    "duration": 10,
    "start_time": "2023-03-24T17:55:52.462Z"
   },
   {
    "duration": 5,
    "start_time": "2023-03-24T17:55:53.561Z"
   },
   {
    "duration": 11,
    "start_time": "2023-03-24T17:55:53.762Z"
   },
   {
    "duration": 8,
    "start_time": "2023-03-24T17:55:53.962Z"
   },
   {
    "duration": 5,
    "start_time": "2023-03-24T17:55:54.131Z"
   },
   {
    "duration": 4,
    "start_time": "2023-03-24T17:55:54.331Z"
   },
   {
    "duration": 14,
    "start_time": "2023-03-24T17:55:54.517Z"
   },
   {
    "duration": 8,
    "start_time": "2023-03-24T17:55:54.704Z"
   },
   {
    "duration": 7,
    "start_time": "2023-03-24T17:55:55.117Z"
   },
   {
    "duration": 6,
    "start_time": "2023-03-24T17:55:55.290Z"
   },
   {
    "duration": 155,
    "start_time": "2023-03-24T17:55:56.063Z"
   },
   {
    "duration": 100,
    "start_time": "2023-03-24T17:55:56.267Z"
   },
   {
    "duration": 25,
    "start_time": "2023-03-24T17:55:56.449Z"
   },
   {
    "duration": 5,
    "start_time": "2023-03-24T17:55:56.707Z"
   },
   {
    "duration": 4,
    "start_time": "2023-03-24T17:55:56.825Z"
   },
   {
    "duration": 269,
    "start_time": "2023-03-24T17:55:57.031Z"
   },
   {
    "duration": 186,
    "start_time": "2023-03-24T17:55:57.825Z"
   },
   {
    "duration": 321,
    "start_time": "2023-03-24T17:55:58.181Z"
   },
   {
    "duration": 163,
    "start_time": "2023-03-24T17:55:58.741Z"
   },
   {
    "duration": 367,
    "start_time": "2023-03-24T17:55:59.267Z"
   },
   {
    "duration": 276,
    "start_time": "2023-03-24T17:55:59.814Z"
   },
   {
    "duration": 119,
    "start_time": "2023-03-24T17:56:00.172Z"
   },
   {
    "duration": 4,
    "start_time": "2023-03-24T17:56:00.732Z"
   },
   {
    "duration": 160,
    "start_time": "2023-03-24T17:56:01.909Z"
   },
   {
    "duration": 5,
    "start_time": "2023-03-24T17:56:02.779Z"
   },
   {
    "duration": 181,
    "start_time": "2023-03-24T17:56:03.591Z"
   },
   {
    "duration": 114,
    "start_time": "2023-03-24T18:39:39.877Z"
   },
   {
    "duration": 6,
    "start_time": "2023-03-24T18:40:06.318Z"
   },
   {
    "duration": 3,
    "start_time": "2023-03-24T18:40:26.404Z"
   },
   {
    "duration": 107,
    "start_time": "2023-03-24T18:41:51.715Z"
   },
   {
    "duration": 3,
    "start_time": "2023-03-24T18:44:10.208Z"
   },
   {
    "duration": 10,
    "start_time": "2023-03-24T18:45:19.332Z"
   },
   {
    "duration": 120,
    "start_time": "2023-03-24T18:53:23.246Z"
   },
   {
    "duration": 5,
    "start_time": "2023-03-24T18:53:37.136Z"
   },
   {
    "duration": 3,
    "start_time": "2023-03-24T18:53:41.798Z"
   },
   {
    "duration": 14,
    "start_time": "2023-03-24T18:53:44.833Z"
   },
   {
    "duration": 4,
    "start_time": "2023-03-24T18:54:41.461Z"
   },
   {
    "duration": 16,
    "start_time": "2023-03-24T18:54:42.575Z"
   },
   {
    "duration": 3,
    "start_time": "2023-03-24T18:55:32.043Z"
   },
   {
    "duration": 11,
    "start_time": "2023-03-24T18:55:34.976Z"
   },
   {
    "duration": 4,
    "start_time": "2023-03-24T18:56:45.936Z"
   },
   {
    "duration": 75,
    "start_time": "2023-03-24T18:56:47.122Z"
   },
   {
    "duration": 2,
    "start_time": "2023-03-24T18:56:47.288Z"
   },
   {
    "duration": 9,
    "start_time": "2023-03-24T18:56:47.469Z"
   },
   {
    "duration": 8,
    "start_time": "2023-03-24T18:56:47.739Z"
   },
   {
    "duration": 10,
    "start_time": "2023-03-24T18:56:47.987Z"
   },
   {
    "duration": 11,
    "start_time": "2023-03-24T18:56:48.176Z"
   },
   {
    "duration": 8,
    "start_time": "2023-03-24T18:56:48.369Z"
   },
   {
    "duration": 14,
    "start_time": "2023-03-24T18:56:48.525Z"
   },
   {
    "duration": 10,
    "start_time": "2023-03-24T18:56:48.693Z"
   },
   {
    "duration": 10,
    "start_time": "2023-03-24T18:56:48.866Z"
   },
   {
    "duration": 8,
    "start_time": "2023-03-24T18:56:49.288Z"
   },
   {
    "duration": 26,
    "start_time": "2023-03-24T18:56:49.298Z"
   },
   {
    "duration": 7,
    "start_time": "2023-03-24T18:56:49.426Z"
   },
   {
    "duration": 3,
    "start_time": "2023-03-24T18:56:49.603Z"
   },
   {
    "duration": 10,
    "start_time": "2023-03-24T18:56:50.162Z"
   },
   {
    "duration": 10,
    "start_time": "2023-03-24T18:56:50.526Z"
   },
   {
    "duration": 4,
    "start_time": "2023-03-24T18:56:51.629Z"
   },
   {
    "duration": 8,
    "start_time": "2023-03-24T18:56:51.823Z"
   },
   {
    "duration": 9,
    "start_time": "2023-03-24T18:56:52.008Z"
   },
   {
    "duration": 5,
    "start_time": "2023-03-24T18:56:52.196Z"
   },
   {
    "duration": 4,
    "start_time": "2023-03-24T18:56:52.384Z"
   },
   {
    "duration": 14,
    "start_time": "2023-03-24T18:56:52.578Z"
   },
   {
    "duration": 8,
    "start_time": "2023-03-24T18:56:52.760Z"
   },
   {
    "duration": 7,
    "start_time": "2023-03-24T18:56:53.164Z"
   },
   {
    "duration": 7,
    "start_time": "2023-03-24T18:56:53.362Z"
   },
   {
    "duration": 176,
    "start_time": "2023-03-24T18:56:54.693Z"
   },
   {
    "duration": 108,
    "start_time": "2023-03-24T18:56:55.005Z"
   },
   {
    "duration": 20,
    "start_time": "2023-03-24T18:56:55.541Z"
   },
   {
    "duration": 4,
    "start_time": "2023-03-24T18:56:56.008Z"
   },
   {
    "duration": 4,
    "start_time": "2023-03-24T18:56:56.624Z"
   },
   {
    "duration": 186,
    "start_time": "2023-03-24T18:56:57.161Z"
   },
   {
    "duration": 195,
    "start_time": "2023-03-24T18:56:58.617Z"
   },
   {
    "duration": 251,
    "start_time": "2023-03-24T18:57:00.096Z"
   },
   {
    "duration": 166,
    "start_time": "2023-03-24T18:57:01.597Z"
   },
   {
    "duration": 236,
    "start_time": "2023-03-24T18:57:03.190Z"
   },
   {
    "duration": 247,
    "start_time": "2023-03-24T18:57:05.143Z"
   },
   {
    "duration": 126,
    "start_time": "2023-03-24T18:57:06.368Z"
   },
   {
    "duration": 5,
    "start_time": "2023-03-24T18:57:07.991Z"
   },
   {
    "duration": 226,
    "start_time": "2023-03-24T18:57:09.861Z"
   },
   {
    "duration": 4,
    "start_time": "2023-03-24T18:57:11.539Z"
   },
   {
    "duration": 185,
    "start_time": "2023-03-24T18:57:12.831Z"
   },
   {
    "duration": 119,
    "start_time": "2023-03-24T18:57:13.570Z"
   },
   {
    "duration": 14,
    "start_time": "2023-03-24T18:57:14.145Z"
   },
   {
    "duration": 4,
    "start_time": "2023-03-24T18:57:14.689Z"
   },
   {
    "duration": 18,
    "start_time": "2023-03-24T18:57:16.120Z"
   },
   {
    "duration": 8,
    "start_time": "2023-03-24T19:08:34.286Z"
   },
   {
    "duration": 10,
    "start_time": "2023-03-24T19:22:37.886Z"
   },
   {
    "duration": 9,
    "start_time": "2023-03-24T19:23:19.375Z"
   },
   {
    "duration": 8,
    "start_time": "2023-03-24T19:23:48.990Z"
   },
   {
    "duration": 97,
    "start_time": "2023-03-24T19:35:35.647Z"
   },
   {
    "duration": 69,
    "start_time": "2023-03-24T19:37:21.961Z"
   },
   {
    "duration": 11,
    "start_time": "2023-03-24T19:38:54.648Z"
   },
   {
    "duration": 10,
    "start_time": "2023-03-24T19:40:25.112Z"
   },
   {
    "duration": 9,
    "start_time": "2023-03-24T19:41:21.471Z"
   },
   {
    "duration": 1281,
    "start_time": "2023-03-24T19:43:10.406Z"
   },
   {
    "duration": 10,
    "start_time": "2023-03-24T19:44:00.129Z"
   },
   {
    "duration": 8,
    "start_time": "2023-03-24T19:44:44.731Z"
   },
   {
    "duration": 20,
    "start_time": "2023-03-24T19:46:07.360Z"
   },
   {
    "duration": 11,
    "start_time": "2023-03-24T19:48:50.861Z"
   },
   {
    "duration": 2588,
    "start_time": "2023-03-24T19:53:47.125Z"
   },
   {
    "duration": 12,
    "start_time": "2023-03-24T19:54:14.887Z"
   },
   {
    "duration": 14,
    "start_time": "2023-03-24T19:55:42.876Z"
   },
   {
    "duration": 26,
    "start_time": "2023-03-24T19:56:17.379Z"
   },
   {
    "duration": 34,
    "start_time": "2023-03-24T19:56:42.657Z"
   },
   {
    "duration": 24,
    "start_time": "2023-03-24T19:56:50.990Z"
   },
   {
    "duration": 12,
    "start_time": "2023-03-24T19:57:39.509Z"
   },
   {
    "duration": 10,
    "start_time": "2023-03-24T19:57:46.878Z"
   },
   {
    "duration": 10,
    "start_time": "2023-03-24T19:58:25.579Z"
   },
   {
    "duration": 13,
    "start_time": "2023-03-24T19:58:42.262Z"
   },
   {
    "duration": 160,
    "start_time": "2023-03-24T20:00:53.663Z"
   },
   {
    "duration": 129,
    "start_time": "2023-03-24T20:01:27.911Z"
   },
   {
    "duration": 31,
    "start_time": "2023-03-24T20:02:21.448Z"
   },
   {
    "duration": 12,
    "start_time": "2023-03-24T20:03:04.778Z"
   },
   {
    "duration": 14,
    "start_time": "2023-03-24T20:03:11.761Z"
   },
   {
    "duration": 34,
    "start_time": "2023-03-24T20:03:13.432Z"
   },
   {
    "duration": 13,
    "start_time": "2023-03-24T20:03:30.308Z"
   },
   {
    "duration": 125,
    "start_time": "2023-03-24T20:15:55.637Z"
   },
   {
    "duration": 1454,
    "start_time": "2023-03-25T20:29:41.832Z"
   },
   {
    "duration": 79,
    "start_time": "2023-03-25T20:29:43.289Z"
   },
   {
    "duration": 4,
    "start_time": "2023-03-25T20:29:43.370Z"
   },
   {
    "duration": 211,
    "start_time": "2023-03-25T20:29:43.376Z"
   },
   {
    "duration": 62,
    "start_time": "2023-03-25T20:29:43.589Z"
   },
   {
    "duration": 36,
    "start_time": "2023-03-25T20:29:43.653Z"
   },
   {
    "duration": 41,
    "start_time": "2023-03-25T20:29:43.691Z"
   },
   {
    "duration": 28,
    "start_time": "2023-03-25T20:29:43.734Z"
   },
   {
    "duration": 40,
    "start_time": "2023-03-25T20:29:43.765Z"
   },
   {
    "duration": 56,
    "start_time": "2023-03-25T20:29:43.809Z"
   },
   {
    "duration": 51,
    "start_time": "2023-03-25T20:29:43.867Z"
   },
   {
    "duration": 41,
    "start_time": "2023-03-25T20:29:43.920Z"
   },
   {
    "duration": 51,
    "start_time": "2023-03-25T20:29:43.963Z"
   },
   {
    "duration": 47,
    "start_time": "2023-03-25T20:29:44.016Z"
   },
   {
    "duration": 30,
    "start_time": "2023-03-25T20:29:44.065Z"
   },
   {
    "duration": 48,
    "start_time": "2023-03-25T20:29:44.097Z"
   },
   {
    "duration": 51,
    "start_time": "2023-03-25T20:29:44.147Z"
   },
   {
    "duration": 34,
    "start_time": "2023-03-25T20:29:44.200Z"
   },
   {
    "duration": 230,
    "start_time": "2023-03-25T20:29:44.236Z"
   },
   {
    "duration": 0,
    "start_time": "2023-03-25T20:29:44.469Z"
   },
   {
    "duration": 0,
    "start_time": "2023-03-25T20:29:44.471Z"
   },
   {
    "duration": 0,
    "start_time": "2023-03-25T20:29:44.473Z"
   },
   {
    "duration": 0,
    "start_time": "2023-03-25T20:29:44.474Z"
   },
   {
    "duration": 0,
    "start_time": "2023-03-25T20:29:44.475Z"
   },
   {
    "duration": 0,
    "start_time": "2023-03-25T20:29:44.477Z"
   },
   {
    "duration": 0,
    "start_time": "2023-03-25T20:29:44.478Z"
   },
   {
    "duration": 0,
    "start_time": "2023-03-25T20:29:44.479Z"
   },
   {
    "duration": 0,
    "start_time": "2023-03-25T20:29:44.480Z"
   },
   {
    "duration": 0,
    "start_time": "2023-03-25T20:29:44.482Z"
   },
   {
    "duration": 0,
    "start_time": "2023-03-25T20:29:44.483Z"
   },
   {
    "duration": 0,
    "start_time": "2023-03-25T20:29:44.485Z"
   },
   {
    "duration": 0,
    "start_time": "2023-03-25T20:29:44.518Z"
   },
   {
    "duration": 0,
    "start_time": "2023-03-25T20:29:44.520Z"
   },
   {
    "duration": 0,
    "start_time": "2023-03-25T20:29:44.521Z"
   },
   {
    "duration": 0,
    "start_time": "2023-03-25T20:29:44.523Z"
   },
   {
    "duration": 0,
    "start_time": "2023-03-25T20:29:44.525Z"
   },
   {
    "duration": 0,
    "start_time": "2023-03-25T20:29:44.526Z"
   },
   {
    "duration": 0,
    "start_time": "2023-03-25T20:29:44.527Z"
   },
   {
    "duration": 0,
    "start_time": "2023-03-25T20:29:44.529Z"
   },
   {
    "duration": 0,
    "start_time": "2023-03-25T20:29:44.531Z"
   },
   {
    "duration": 0,
    "start_time": "2023-03-25T20:29:44.532Z"
   },
   {
    "duration": 0,
    "start_time": "2023-03-25T20:29:44.534Z"
   },
   {
    "duration": 0,
    "start_time": "2023-03-25T20:29:44.535Z"
   },
   {
    "duration": 0,
    "start_time": "2023-03-25T20:29:44.537Z"
   },
   {
    "duration": 0,
    "start_time": "2023-03-25T20:29:44.538Z"
   },
   {
    "duration": 0,
    "start_time": "2023-03-25T20:29:44.539Z"
   },
   {
    "duration": 0,
    "start_time": "2023-03-25T20:29:44.540Z"
   },
   {
    "duration": 0,
    "start_time": "2023-03-25T20:29:44.542Z"
   },
   {
    "duration": 1515,
    "start_time": "2023-03-25T20:30:07.233Z"
   },
   {
    "duration": 73,
    "start_time": "2023-03-25T20:30:08.751Z"
   },
   {
    "duration": 4,
    "start_time": "2023-03-25T20:30:08.826Z"
   },
   {
    "duration": 31,
    "start_time": "2023-03-25T20:30:08.832Z"
   },
   {
    "duration": 37,
    "start_time": "2023-03-25T20:30:08.865Z"
   },
   {
    "duration": 27,
    "start_time": "2023-03-25T20:30:08.903Z"
   },
   {
    "duration": 52,
    "start_time": "2023-03-25T20:30:08.932Z"
   },
   {
    "duration": 18,
    "start_time": "2023-03-25T20:30:08.986Z"
   },
   {
    "duration": 28,
    "start_time": "2023-03-25T20:30:09.006Z"
   },
   {
    "duration": 12,
    "start_time": "2023-03-25T20:30:09.037Z"
   },
   {
    "duration": 30,
    "start_time": "2023-03-25T20:30:09.051Z"
   },
   {
    "duration": 22,
    "start_time": "2023-03-25T20:30:09.083Z"
   },
   {
    "duration": 16,
    "start_time": "2023-03-25T20:30:09.107Z"
   },
   {
    "duration": 19,
    "start_time": "2023-03-25T20:30:09.124Z"
   },
   {
    "duration": 12,
    "start_time": "2023-03-25T20:30:09.144Z"
   },
   {
    "duration": 23,
    "start_time": "2023-03-25T20:30:09.158Z"
   },
   {
    "duration": 34,
    "start_time": "2023-03-25T20:30:09.184Z"
   },
   {
    "duration": 26,
    "start_time": "2023-03-25T20:30:09.221Z"
   },
   {
    "duration": 28,
    "start_time": "2023-03-25T20:30:09.249Z"
   },
   {
    "duration": 27,
    "start_time": "2023-03-25T20:30:09.279Z"
   },
   {
    "duration": 16,
    "start_time": "2023-03-25T20:30:09.307Z"
   },
   {
    "duration": 12,
    "start_time": "2023-03-25T20:30:09.327Z"
   },
   {
    "duration": 30,
    "start_time": "2023-03-25T20:30:09.340Z"
   },
   {
    "duration": 10,
    "start_time": "2023-03-25T20:30:09.374Z"
   },
   {
    "duration": 24,
    "start_time": "2023-03-25T20:30:09.386Z"
   },
   {
    "duration": 18,
    "start_time": "2023-03-25T20:30:09.412Z"
   },
   {
    "duration": 204,
    "start_time": "2023-03-25T20:30:09.432Z"
   },
   {
    "duration": 139,
    "start_time": "2023-03-25T20:30:09.640Z"
   },
   {
    "duration": 39,
    "start_time": "2023-03-25T20:30:09.781Z"
   },
   {
    "duration": 7,
    "start_time": "2023-03-25T20:30:09.822Z"
   },
   {
    "duration": 14,
    "start_time": "2023-03-25T20:30:09.831Z"
   },
   {
    "duration": 333,
    "start_time": "2023-03-25T20:30:09.847Z"
   },
   {
    "duration": 244,
    "start_time": "2023-03-25T20:30:10.183Z"
   },
   {
    "duration": 338,
    "start_time": "2023-03-25T20:30:10.430Z"
   },
   {
    "duration": 263,
    "start_time": "2023-03-25T20:30:10.770Z"
   },
   {
    "duration": 408,
    "start_time": "2023-03-25T20:30:11.035Z"
   },
   {
    "duration": 470,
    "start_time": "2023-03-25T20:30:11.444Z"
   },
   {
    "duration": 163,
    "start_time": "2023-03-25T20:30:11.918Z"
   },
   {
    "duration": 6,
    "start_time": "2023-03-25T20:30:12.083Z"
   },
   {
    "duration": 179,
    "start_time": "2023-03-25T20:30:12.091Z"
   },
   {
    "duration": 5,
    "start_time": "2023-03-25T20:30:12.272Z"
   },
   {
    "duration": 279,
    "start_time": "2023-03-25T20:30:12.279Z"
   },
   {
    "duration": 214,
    "start_time": "2023-03-25T20:30:12.562Z"
   },
   {
    "duration": 54,
    "start_time": "2023-03-25T20:30:12.779Z"
   },
   {
    "duration": 13,
    "start_time": "2023-03-25T20:30:12.836Z"
   },
   {
    "duration": 21,
    "start_time": "2023-03-25T20:30:12.851Z"
   },
   {
    "duration": 54,
    "start_time": "2023-03-25T20:30:12.874Z"
   },
   {
    "duration": 18,
    "start_time": "2023-03-25T20:30:12.929Z"
   },
   {
    "duration": 57,
    "start_time": "2023-03-27T17:52:17.031Z"
   },
   {
    "duration": 7,
    "start_time": "2023-03-27T17:52:32.735Z"
   },
   {
    "duration": 1565,
    "start_time": "2023-03-27T17:52:50.881Z"
   },
   {
    "duration": 226,
    "start_time": "2023-03-27T17:52:52.448Z"
   },
   {
    "duration": 3,
    "start_time": "2023-03-27T17:52:52.675Z"
   },
   {
    "duration": 45,
    "start_time": "2023-03-27T17:52:52.680Z"
   },
   {
    "duration": 34,
    "start_time": "2023-03-27T17:52:52.727Z"
   },
   {
    "duration": 39,
    "start_time": "2023-03-27T17:52:52.763Z"
   },
   {
    "duration": 14,
    "start_time": "2023-03-27T17:52:52.894Z"
   },
   {
    "duration": 6,
    "start_time": "2023-03-27T17:52:53.094Z"
   },
   {
    "duration": 28,
    "start_time": "2023-03-27T17:52:53.747Z"
   },
   {
    "duration": 6,
    "start_time": "2023-03-27T17:53:16.478Z"
   },
   {
    "duration": 14,
    "start_time": "2023-03-27T17:53:20.183Z"
   },
   {
    "duration": 6,
    "start_time": "2023-03-27T17:53:20.581Z"
   },
   {
    "duration": 15,
    "start_time": "2023-03-27T17:53:21.071Z"
   },
   {
    "duration": 13,
    "start_time": "2023-03-27T17:53:21.979Z"
   },
   {
    "duration": 11,
    "start_time": "2023-03-27T17:53:23.989Z"
   },
   {
    "duration": 11,
    "start_time": "2023-03-27T17:53:24.835Z"
   },
   {
    "duration": 7,
    "start_time": "2023-03-27T17:53:25.578Z"
   },
   {
    "duration": 5,
    "start_time": "2023-03-27T17:53:27.383Z"
   },
   {
    "duration": 10,
    "start_time": "2023-03-27T17:53:28.111Z"
   },
   {
    "duration": 4,
    "start_time": "2023-03-27T17:53:28.786Z"
   },
   {
    "duration": 11,
    "start_time": "2023-03-27T17:55:21.488Z"
   },
   {
    "duration": 32,
    "start_time": "2023-03-27T18:06:31.539Z"
   },
   {
    "duration": 55,
    "start_time": "2023-03-27T18:07:04.501Z"
   },
   {
    "duration": 51,
    "start_time": "2023-03-27T18:35:44.361Z"
   },
   {
    "duration": 52,
    "start_time": "2023-03-27T18:42:14.586Z"
   },
   {
    "duration": 59,
    "start_time": "2023-03-27T18:51:11.963Z"
   },
   {
    "duration": 5,
    "start_time": "2023-03-27T18:51:22.866Z"
   },
   {
    "duration": 13,
    "start_time": "2023-03-27T18:51:23.851Z"
   },
   {
    "duration": 6,
    "start_time": "2023-03-27T18:51:26.765Z"
   },
   {
    "duration": 6,
    "start_time": "2023-03-27T18:51:27.481Z"
   },
   {
    "duration": 18,
    "start_time": "2023-03-27T18:51:28.664Z"
   },
   {
    "duration": 43,
    "start_time": "2023-03-27T18:51:29.589Z"
   },
   {
    "duration": 57,
    "start_time": "2023-03-27T18:51:51.404Z"
   },
   {
    "duration": 342,
    "start_time": "2023-03-27T18:52:27.982Z"
   },
   {
    "duration": 1995,
    "start_time": "2023-03-27T18:56:19.130Z"
   },
   {
    "duration": 14,
    "start_time": "2023-03-27T18:56:30.289Z"
   },
   {
    "duration": 15,
    "start_time": "2023-03-27T18:57:05.800Z"
   },
   {
    "duration": 11,
    "start_time": "2023-03-27T19:03:20.746Z"
   },
   {
    "duration": 5,
    "start_time": "2023-03-27T19:05:18.638Z"
   },
   {
    "duration": 74,
    "start_time": "2023-03-27T19:05:19.356Z"
   },
   {
    "duration": 3,
    "start_time": "2023-03-27T19:05:19.683Z"
   },
   {
    "duration": 15,
    "start_time": "2023-03-27T19:05:19.850Z"
   },
   {
    "duration": 9,
    "start_time": "2023-03-27T19:05:20.026Z"
   },
   {
    "duration": 14,
    "start_time": "2023-03-27T19:05:20.363Z"
   },
   {
    "duration": 13,
    "start_time": "2023-03-27T19:05:20.550Z"
   },
   {
    "duration": 14,
    "start_time": "2023-03-27T19:05:20.711Z"
   },
   {
    "duration": 6,
    "start_time": "2023-03-27T19:05:20.891Z"
   },
   {
    "duration": 14,
    "start_time": "2023-03-27T19:05:21.192Z"
   },
   {
    "duration": 14,
    "start_time": "2023-03-27T19:05:21.263Z"
   },
   {
    "duration": 16,
    "start_time": "2023-03-27T19:05:21.438Z"
   },
   {
    "duration": 11,
    "start_time": "2023-03-27T19:05:21.626Z"
   },
   {
    "duration": 6,
    "start_time": "2023-03-27T19:05:21.811Z"
   },
   {
    "duration": 5,
    "start_time": "2023-03-27T19:05:21.981Z"
   },
   {
    "duration": 12,
    "start_time": "2023-03-27T19:05:22.158Z"
   },
   {
    "duration": 5,
    "start_time": "2023-03-27T19:05:22.344Z"
   },
   {
    "duration": 16,
    "start_time": "2023-03-27T19:05:23.654Z"
   },
   {
    "duration": 16,
    "start_time": "2023-03-27T19:05:24.748Z"
   },
   {
    "duration": 5,
    "start_time": "2023-03-27T19:05:27.328Z"
   },
   {
    "duration": 13,
    "start_time": "2023-03-27T19:05:28.992Z"
   },
   {
    "duration": 8,
    "start_time": "2023-03-27T19:05:32.560Z"
   },
   {
    "duration": 5,
    "start_time": "2023-03-27T19:05:33.018Z"
   },
   {
    "duration": 21,
    "start_time": "2023-03-27T19:05:33.558Z"
   },
   {
    "duration": 366,
    "start_time": "2023-03-27T19:05:33.995Z"
   },
   {
    "duration": 13,
    "start_time": "2023-03-27T19:05:34.988Z"
   },
   {
    "duration": 15,
    "start_time": "2023-03-27T19:05:35.585Z"
   },
   {
    "duration": 279,
    "start_time": "2023-03-27T19:05:39.142Z"
   },
   {
    "duration": 135,
    "start_time": "2023-03-27T19:05:39.598Z"
   },
   {
    "duration": 17,
    "start_time": "2023-03-27T19:05:45.211Z"
   },
   {
    "duration": 5,
    "start_time": "2023-03-27T19:05:45.619Z"
   },
   {
    "duration": 5,
    "start_time": "2023-03-27T19:05:46.133Z"
   },
   {
    "duration": 387,
    "start_time": "2023-03-27T19:05:47.138Z"
   },
   {
    "duration": 324,
    "start_time": "2023-03-27T19:05:49.294Z"
   },
   {
    "duration": 386,
    "start_time": "2023-03-27T19:05:52.392Z"
   },
   {
    "duration": 273,
    "start_time": "2023-03-27T19:06:04.029Z"
   },
   {
    "duration": 278,
    "start_time": "2023-03-27T19:13:34.171Z"
   },
   {
    "duration": 437,
    "start_time": "2023-03-27T19:16:28.775Z"
   },
   {
    "duration": 322,
    "start_time": "2023-03-27T19:17:06.137Z"
   },
   {
    "duration": 365,
    "start_time": "2023-03-27T19:21:46.036Z"
   },
   {
    "duration": 314,
    "start_time": "2023-03-27T19:39:03.491Z"
   },
   {
    "duration": 183,
    "start_time": "2023-03-27T19:39:11.692Z"
   },
   {
    "duration": 149,
    "start_time": "2023-03-27T19:41:04.243Z"
   },
   {
    "duration": 170,
    "start_time": "2023-03-27T19:41:58.380Z"
   },
   {
    "duration": 6,
    "start_time": "2023-03-27T19:42:39.398Z"
   },
   {
    "duration": 171,
    "start_time": "2023-03-27T19:44:11.654Z"
   },
   {
    "duration": 156,
    "start_time": "2023-03-27T19:46:33.241Z"
   },
   {
    "duration": 5,
    "start_time": "2023-03-27T19:48:54.902Z"
   },
   {
    "duration": 218,
    "start_time": "2023-03-27T19:49:26.704Z"
   },
   {
    "duration": 130,
    "start_time": "2023-03-27T19:56:00.161Z"
   },
   {
    "duration": 30,
    "start_time": "2023-03-27T19:56:01.396Z"
   },
   {
    "duration": 140,
    "start_time": "2023-03-27T20:20:05.350Z"
   },
   {
    "duration": 116,
    "start_time": "2023-03-27T20:21:00.263Z"
   },
   {
    "duration": 30,
    "start_time": "2023-03-27T20:21:00.909Z"
   },
   {
    "duration": 12,
    "start_time": "2023-03-27T20:26:26.033Z"
   },
   {
    "duration": 14,
    "start_time": "2023-03-27T20:28:10.011Z"
   },
   {
    "duration": 35,
    "start_time": "2023-03-27T20:28:28.694Z"
   },
   {
    "duration": 1392,
    "start_time": "2023-03-28T12:45:55.825Z"
   },
   {
    "duration": 180,
    "start_time": "2023-03-28T12:46:15.656Z"
   },
   {
    "duration": 3,
    "start_time": "2023-03-28T12:46:17.281Z"
   },
   {
    "duration": 12,
    "start_time": "2023-03-28T12:46:17.825Z"
   },
   {
    "duration": 12,
    "start_time": "2023-03-28T12:46:18.776Z"
   },
   {
    "duration": 11,
    "start_time": "2023-03-28T12:46:20.225Z"
   },
   {
    "duration": 6,
    "start_time": "2023-03-28T12:46:20.950Z"
   },
   {
    "duration": 16,
    "start_time": "2023-03-28T12:46:21.736Z"
   },
   {
    "duration": 8,
    "start_time": "2023-03-28T12:46:22.681Z"
   },
   {
    "duration": 15,
    "start_time": "2023-03-28T12:46:23.320Z"
   },
   {
    "duration": 12,
    "start_time": "2023-03-28T12:46:23.951Z"
   },
   {
    "duration": 11,
    "start_time": "2023-03-28T12:46:24.438Z"
   },
   {
    "duration": 9,
    "start_time": "2023-03-28T12:46:24.896Z"
   },
   {
    "duration": 6,
    "start_time": "2023-03-28T12:46:25.147Z"
   },
   {
    "duration": 5,
    "start_time": "2023-03-28T12:46:25.815Z"
   },
   {
    "duration": 8,
    "start_time": "2023-03-28T12:46:26.280Z"
   },
   {
    "duration": 5,
    "start_time": "2023-03-28T12:46:26.489Z"
   },
   {
    "duration": 14,
    "start_time": "2023-03-28T12:46:28.841Z"
   },
   {
    "duration": 11,
    "start_time": "2023-03-28T12:47:14.518Z"
   },
   {
    "duration": 4,
    "start_time": "2023-03-28T12:47:44.600Z"
   },
   {
    "duration": 11,
    "start_time": "2023-03-28T12:47:45.364Z"
   },
   {
    "duration": 7,
    "start_time": "2023-03-28T12:47:57.888Z"
   },
   {
    "duration": 5,
    "start_time": "2023-03-28T12:47:58.849Z"
   },
   {
    "duration": 17,
    "start_time": "2023-03-28T12:47:59.499Z"
   },
   {
    "duration": 350,
    "start_time": "2023-03-28T12:48:00.634Z"
   },
   {
    "duration": 13,
    "start_time": "2023-03-28T12:48:02.906Z"
   },
   {
    "duration": 15,
    "start_time": "2023-03-28T12:48:04.275Z"
   },
   {
    "duration": 196,
    "start_time": "2023-03-28T12:48:10.796Z"
   },
   {
    "duration": 130,
    "start_time": "2023-03-28T12:48:16.429Z"
   },
   {
    "duration": 18,
    "start_time": "2023-03-28T12:48:18.077Z"
   },
   {
    "duration": 5,
    "start_time": "2023-03-28T12:48:19.497Z"
   },
   {
    "duration": 5,
    "start_time": "2023-03-28T12:48:23.570Z"
   },
   {
    "duration": 291,
    "start_time": "2023-03-28T12:48:25.276Z"
   },
   {
    "duration": 219,
    "start_time": "2023-03-28T12:48:28.733Z"
   },
   {
    "duration": 363,
    "start_time": "2023-03-28T12:48:32.328Z"
   },
   {
    "duration": 229,
    "start_time": "2023-03-28T12:48:36.593Z"
   },
   {
    "duration": 326,
    "start_time": "2023-03-28T12:48:39.907Z"
   },
   {
    "duration": 353,
    "start_time": "2023-03-28T12:48:43.637Z"
   },
   {
    "duration": 166,
    "start_time": "2023-03-28T12:48:48.130Z"
   },
   {
    "duration": 5,
    "start_time": "2023-03-28T12:48:57.069Z"
   },
   {
    "duration": 223,
    "start_time": "2023-03-28T12:49:00.227Z"
   },
   {
    "duration": 148,
    "start_time": "2023-03-28T12:49:06.836Z"
   },
   {
    "duration": 5,
    "start_time": "2023-03-28T12:49:14.324Z"
   },
   {
    "duration": 131,
    "start_time": "2023-03-28T12:49:45.679Z"
   },
   {
    "duration": 28,
    "start_time": "2023-03-28T12:49:47.100Z"
   },
   {
    "duration": 11,
    "start_time": "2023-03-28T12:50:02.960Z"
   },
   {
    "duration": 13,
    "start_time": "2023-03-28T12:50:12.931Z"
   },
   {
    "duration": 110,
    "start_time": "2023-03-28T12:50:18.577Z"
   },
   {
    "duration": 18,
    "start_time": "2023-03-28T12:51:20.563Z"
   },
   {
    "duration": 11,
    "start_time": "2023-03-28T12:51:44.133Z"
   },
   {
    "duration": 11,
    "start_time": "2023-03-28T13:02:21.847Z"
   },
   {
    "duration": 159,
    "start_time": "2023-03-28T13:06:59.210Z"
   },
   {
    "duration": 12,
    "start_time": "2023-03-28T13:07:12.641Z"
   },
   {
    "duration": 17,
    "start_time": "2023-03-28T13:09:25.354Z"
   },
   {
    "duration": 56,
    "start_time": "2023-03-28T13:09:40.616Z"
   },
   {
    "duration": 11,
    "start_time": "2023-03-28T13:09:58.323Z"
   },
   {
    "duration": 10,
    "start_time": "2023-03-28T13:20:58.628Z"
   },
   {
    "duration": 729,
    "start_time": "2023-03-28T13:22:12.156Z"
   },
   {
    "duration": 20,
    "start_time": "2023-03-28T13:22:32.895Z"
   },
   {
    "duration": 16,
    "start_time": "2023-03-28T13:22:54.680Z"
   },
   {
    "duration": 12,
    "start_time": "2023-03-28T13:25:15.188Z"
   },
   {
    "duration": 12,
    "start_time": "2023-03-28T13:26:43.295Z"
   },
   {
    "duration": 9,
    "start_time": "2023-03-28T13:29:44.925Z"
   },
   {
    "duration": 5,
    "start_time": "2023-03-28T13:29:56.292Z"
   },
   {
    "duration": 6,
    "start_time": "2023-03-28T13:30:01.610Z"
   },
   {
    "duration": 5,
    "start_time": "2023-03-28T13:30:35.901Z"
   },
   {
    "duration": 6,
    "start_time": "2023-03-28T13:30:56.839Z"
   },
   {
    "duration": 7,
    "start_time": "2023-03-28T13:32:32.329Z"
   },
   {
    "duration": 29,
    "start_time": "2023-03-28T13:33:11.013Z"
   },
   {
    "duration": 30,
    "start_time": "2023-03-28T13:36:33.258Z"
   },
   {
    "duration": 18,
    "start_time": "2023-03-28T14:29:41.815Z"
   },
   {
    "duration": 37,
    "start_time": "2023-03-28T14:31:59.123Z"
   },
   {
    "duration": 14,
    "start_time": "2023-03-28T14:33:34.179Z"
   },
   {
    "duration": 88,
    "start_time": "2023-03-28T15:05:08.801Z"
   },
   {
    "duration": 1228,
    "start_time": "2023-03-28T15:06:06.257Z"
   },
   {
    "duration": 70,
    "start_time": "2023-03-28T15:06:07.487Z"
   },
   {
    "duration": 3,
    "start_time": "2023-03-28T15:06:07.558Z"
   },
   {
    "duration": 36,
    "start_time": "2023-03-28T15:06:07.563Z"
   },
   {
    "duration": 22,
    "start_time": "2023-03-28T15:06:07.601Z"
   },
   {
    "duration": 13,
    "start_time": "2023-03-28T15:06:07.627Z"
   },
   {
    "duration": 17,
    "start_time": "2023-03-28T15:06:07.642Z"
   },
   {
    "duration": 15,
    "start_time": "2023-03-28T15:06:07.661Z"
   },
   {
    "duration": 8,
    "start_time": "2023-03-28T15:06:07.678Z"
   },
   {
    "duration": 26,
    "start_time": "2023-03-28T15:06:07.689Z"
   },
   {
    "duration": 23,
    "start_time": "2023-03-28T15:06:07.717Z"
   },
   {
    "duration": 11,
    "start_time": "2023-03-28T15:06:07.742Z"
   },
   {
    "duration": 16,
    "start_time": "2023-03-28T15:06:07.754Z"
   },
   {
    "duration": 25,
    "start_time": "2023-03-28T15:06:07.771Z"
   },
   {
    "duration": 6,
    "start_time": "2023-03-28T15:06:07.798Z"
   },
   {
    "duration": 26,
    "start_time": "2023-03-28T15:06:07.806Z"
   },
   {
    "duration": 13,
    "start_time": "2023-03-28T15:06:07.834Z"
   },
   {
    "duration": 15,
    "start_time": "2023-03-28T15:06:07.851Z"
   },
   {
    "duration": 18,
    "start_time": "2023-03-28T15:06:07.868Z"
   },
   {
    "duration": 11,
    "start_time": "2023-03-28T15:06:07.888Z"
   },
   {
    "duration": 18,
    "start_time": "2023-03-28T15:06:07.901Z"
   },
   {
    "duration": 19,
    "start_time": "2023-03-28T15:06:07.920Z"
   },
   {
    "duration": 5,
    "start_time": "2023-03-28T15:06:07.940Z"
   },
   {
    "duration": 17,
    "start_time": "2023-03-28T15:06:07.946Z"
   },
   {
    "duration": 323,
    "start_time": "2023-03-28T15:06:07.965Z"
   },
   {
    "duration": 10,
    "start_time": "2023-03-28T15:06:08.290Z"
   },
   {
    "duration": 34,
    "start_time": "2023-03-28T15:06:08.302Z"
   },
   {
    "duration": 175,
    "start_time": "2023-03-28T15:06:08.340Z"
   },
   {
    "duration": 128,
    "start_time": "2023-03-28T15:06:08.517Z"
   },
   {
    "duration": 16,
    "start_time": "2023-03-28T15:06:08.646Z"
   },
   {
    "duration": 5,
    "start_time": "2023-03-28T15:06:08.664Z"
   },
   {
    "duration": 7,
    "start_time": "2023-03-28T15:06:08.670Z"
   },
   {
    "duration": 335,
    "start_time": "2023-03-28T15:06:08.678Z"
   },
   {
    "duration": 260,
    "start_time": "2023-03-28T15:06:09.015Z"
   },
   {
    "duration": 362,
    "start_time": "2023-03-28T15:06:09.277Z"
   },
   {
    "duration": 231,
    "start_time": "2023-03-28T15:06:09.640Z"
   },
   {
    "duration": 286,
    "start_time": "2023-03-28T15:06:09.873Z"
   },
   {
    "duration": 436,
    "start_time": "2023-03-28T15:06:10.160Z"
   },
   {
    "duration": 216,
    "start_time": "2023-03-28T15:06:10.598Z"
   },
   {
    "duration": 12,
    "start_time": "2023-03-28T15:06:10.816Z"
   },
   {
    "duration": 172,
    "start_time": "2023-03-28T15:06:10.829Z"
   },
   {
    "duration": 182,
    "start_time": "2023-03-28T15:06:11.003Z"
   },
   {
    "duration": 6,
    "start_time": "2023-03-28T15:06:11.186Z"
   },
   {
    "duration": 159,
    "start_time": "2023-03-28T15:06:11.194Z"
   },
   {
    "duration": 27,
    "start_time": "2023-03-28T15:06:11.355Z"
   },
   {
    "duration": 12,
    "start_time": "2023-03-28T15:06:11.384Z"
   },
   {
    "duration": 131,
    "start_time": "2023-03-28T15:06:11.397Z"
   },
   {
    "duration": 0,
    "start_time": "2023-03-28T15:06:11.530Z"
   },
   {
    "duration": 0,
    "start_time": "2023-03-28T15:06:11.530Z"
   },
   {
    "duration": 4,
    "start_time": "2023-03-28T15:06:49.591Z"
   },
   {
    "duration": 10,
    "start_time": "2023-03-28T15:09:10.226Z"
   },
   {
    "duration": 1254,
    "start_time": "2023-03-28T15:09:38.198Z"
   },
   {
    "duration": 62,
    "start_time": "2023-03-28T15:09:39.454Z"
   },
   {
    "duration": 2,
    "start_time": "2023-03-28T15:09:39.518Z"
   },
   {
    "duration": 19,
    "start_time": "2023-03-28T15:09:39.524Z"
   },
   {
    "duration": 11,
    "start_time": "2023-03-28T15:09:39.545Z"
   },
   {
    "duration": 10,
    "start_time": "2023-03-28T15:09:39.558Z"
   },
   {
    "duration": 5,
    "start_time": "2023-03-28T15:09:39.570Z"
   },
   {
    "duration": 16,
    "start_time": "2023-03-28T15:09:39.576Z"
   },
   {
    "duration": 43,
    "start_time": "2023-03-28T15:09:39.593Z"
   },
   {
    "duration": 16,
    "start_time": "2023-03-28T15:09:39.638Z"
   },
   {
    "duration": 11,
    "start_time": "2023-03-28T15:09:39.656Z"
   },
   {
    "duration": 11,
    "start_time": "2023-03-28T15:09:39.669Z"
   },
   {
    "duration": 10,
    "start_time": "2023-03-28T15:09:39.682Z"
   },
   {
    "duration": 29,
    "start_time": "2023-03-28T15:09:39.695Z"
   },
   {
    "duration": 17,
    "start_time": "2023-03-28T15:09:39.725Z"
   },
   {
    "duration": 11,
    "start_time": "2023-03-28T15:09:39.744Z"
   },
   {
    "duration": 5,
    "start_time": "2023-03-28T15:09:39.756Z"
   },
   {
    "duration": 14,
    "start_time": "2023-03-28T15:09:39.762Z"
   },
   {
    "duration": 12,
    "start_time": "2023-03-28T15:09:39.777Z"
   },
   {
    "duration": 9,
    "start_time": "2023-03-28T15:09:39.791Z"
   },
   {
    "duration": 38,
    "start_time": "2023-03-28T15:09:39.801Z"
   },
   {
    "duration": 14,
    "start_time": "2023-03-28T15:09:39.841Z"
   },
   {
    "duration": 5,
    "start_time": "2023-03-28T15:09:39.857Z"
   },
   {
    "duration": 21,
    "start_time": "2023-03-28T15:09:39.863Z"
   },
   {
    "duration": 331,
    "start_time": "2023-03-28T15:09:39.885Z"
   },
   {
    "duration": 21,
    "start_time": "2023-03-28T15:09:40.217Z"
   },
   {
    "duration": 17,
    "start_time": "2023-03-28T15:09:40.240Z"
   },
   {
    "duration": 201,
    "start_time": "2023-03-28T15:09:40.259Z"
   },
   {
    "duration": 135,
    "start_time": "2023-03-28T15:09:40.462Z"
   },
   {
    "duration": 14,
    "start_time": "2023-03-28T15:09:40.599Z"
   },
   {
    "duration": 25,
    "start_time": "2023-03-28T15:09:40.615Z"
   },
   {
    "duration": 16,
    "start_time": "2023-03-28T15:09:40.642Z"
   },
   {
    "duration": 375,
    "start_time": "2023-03-28T15:09:40.660Z"
   },
   {
    "duration": 241,
    "start_time": "2023-03-28T15:09:41.037Z"
   },
   {
    "duration": 317,
    "start_time": "2023-03-28T15:09:41.279Z"
   },
   {
    "duration": 272,
    "start_time": "2023-03-28T15:09:41.598Z"
   },
   {
    "duration": 301,
    "start_time": "2023-03-28T15:09:41.871Z"
   },
   {
    "duration": 396,
    "start_time": "2023-03-28T15:09:42.174Z"
   },
   {
    "duration": 179,
    "start_time": "2023-03-28T15:09:42.571Z"
   },
   {
    "duration": 5,
    "start_time": "2023-03-28T15:09:42.751Z"
   },
   {
    "duration": 193,
    "start_time": "2023-03-28T15:09:42.760Z"
   },
   {
    "duration": 187,
    "start_time": "2023-03-28T15:09:42.955Z"
   },
   {
    "duration": 7,
    "start_time": "2023-03-28T15:09:43.144Z"
   },
   {
    "duration": 163,
    "start_time": "2023-03-28T15:09:43.153Z"
   },
   {
    "duration": 40,
    "start_time": "2023-03-28T15:09:43.318Z"
   },
   {
    "duration": 11,
    "start_time": "2023-03-28T15:09:43.360Z"
   },
   {
    "duration": 127,
    "start_time": "2023-03-28T15:09:43.373Z"
   },
   {
    "duration": 0,
    "start_time": "2023-03-28T15:09:43.501Z"
   },
   {
    "duration": 0,
    "start_time": "2023-03-28T15:09:43.503Z"
   },
   {
    "duration": 5,
    "start_time": "2023-03-28T15:10:13.694Z"
   },
   {
    "duration": 70,
    "start_time": "2023-03-28T15:10:16.605Z"
   },
   {
    "duration": 3,
    "start_time": "2023-03-28T15:10:20.047Z"
   },
   {
    "duration": 17,
    "start_time": "2023-03-28T15:10:20.740Z"
   },
   {
    "duration": 9,
    "start_time": "2023-03-28T15:10:21.502Z"
   },
   {
    "duration": 12,
    "start_time": "2023-03-28T15:11:01.893Z"
   },
   {
    "duration": 7,
    "start_time": "2023-03-28T15:11:02.398Z"
   },
   {
    "duration": 14,
    "start_time": "2023-03-28T15:11:02.862Z"
   },
   {
    "duration": 7,
    "start_time": "2023-03-28T15:11:03.355Z"
   },
   {
    "duration": 17,
    "start_time": "2023-03-28T15:11:03.814Z"
   },
   {
    "duration": 11,
    "start_time": "2023-03-28T15:11:04.295Z"
   },
   {
    "duration": 12,
    "start_time": "2023-03-28T15:11:04.655Z"
   },
   {
    "duration": 13,
    "start_time": "2023-03-28T15:11:05.147Z"
   },
   {
    "duration": 6,
    "start_time": "2023-03-28T15:11:05.840Z"
   },
   {
    "duration": 5,
    "start_time": "2023-03-28T15:11:06.462Z"
   },
   {
    "duration": 9,
    "start_time": "2023-03-28T15:11:06.995Z"
   },
   {
    "duration": 4,
    "start_time": "2023-03-28T15:11:07.503Z"
   },
   {
    "duration": 13,
    "start_time": "2023-03-28T15:11:20.102Z"
   },
   {
    "duration": 12,
    "start_time": "2023-03-28T15:11:25.336Z"
   },
   {
    "duration": 4,
    "start_time": "2023-03-28T15:11:31.996Z"
   },
   {
    "duration": 16,
    "start_time": "2023-03-28T15:11:32.734Z"
   },
   {
    "duration": 8,
    "start_time": "2023-03-28T15:11:37.895Z"
   },
   {
    "duration": 5,
    "start_time": "2023-03-28T15:11:38.441Z"
   },
   {
    "duration": 19,
    "start_time": "2023-03-28T15:11:39.195Z"
   },
   {
    "duration": 324,
    "start_time": "2023-03-28T15:11:39.719Z"
   },
   {
    "duration": 22,
    "start_time": "2023-03-28T15:11:42.341Z"
   },
   {
    "duration": 18,
    "start_time": "2023-03-28T15:11:46.041Z"
   },
   {
    "duration": 211,
    "start_time": "2023-03-28T15:11:49.292Z"
   },
   {
    "duration": 125,
    "start_time": "2023-03-28T15:11:50.730Z"
   },
   {
    "duration": 16,
    "start_time": "2023-03-28T15:11:51.792Z"
   },
   {
    "duration": 5,
    "start_time": "2023-03-28T15:11:55.454Z"
   },
   {
    "duration": 5,
    "start_time": "2023-03-28T15:11:56.078Z"
   },
   {
    "duration": 215,
    "start_time": "2023-03-28T15:15:29.250Z"
   },
   {
    "duration": 215,
    "start_time": "2023-03-28T15:15:33.281Z"
   },
   {
    "duration": 291,
    "start_time": "2023-03-28T15:15:36.844Z"
   },
   {
    "duration": 280,
    "start_time": "2023-03-28T15:15:40.292Z"
   },
   {
    "duration": 296,
    "start_time": "2023-03-28T15:15:46.093Z"
   },
   {
    "duration": 293,
    "start_time": "2023-03-28T15:15:51.481Z"
   },
   {
    "duration": 159,
    "start_time": "2023-03-28T15:15:56.494Z"
   },
   {
    "duration": 5,
    "start_time": "2023-03-28T15:16:04.877Z"
   },
   {
    "duration": 245,
    "start_time": "2023-03-28T15:16:07.717Z"
   },
   {
    "duration": 142,
    "start_time": "2023-03-28T15:16:11.544Z"
   },
   {
    "duration": 4,
    "start_time": "2023-03-28T15:16:15.096Z"
   },
   {
    "duration": 4,
    "start_time": "2023-03-28T15:16:21.417Z"
   },
   {
    "duration": 5,
    "start_time": "2023-03-28T15:16:31.510Z"
   },
   {
    "duration": 5,
    "start_time": "2023-03-28T15:16:35.504Z"
   },
   {
    "duration": 145,
    "start_time": "2023-03-28T15:16:51.778Z"
   },
   {
    "duration": 25,
    "start_time": "2023-03-28T15:16:52.779Z"
   },
   {
    "duration": 11,
    "start_time": "2023-03-28T15:16:59.853Z"
   },
   {
    "duration": 9,
    "start_time": "2023-03-28T15:17:07.215Z"
   },
   {
    "duration": 43,
    "start_time": "2023-03-28T15:34:53.152Z"
   },
   {
    "duration": 12,
    "start_time": "2023-03-28T15:34:59.610Z"
   },
   {
    "duration": 6,
    "start_time": "2023-03-28T15:35:04.384Z"
   },
   {
    "duration": 7,
    "start_time": "2023-03-28T15:39:14.526Z"
   },
   {
    "duration": 6,
    "start_time": "2023-03-28T15:39:21.084Z"
   },
   {
    "duration": 51,
    "start_time": "2023-03-28T15:44:06.297Z"
   },
   {
    "duration": 51,
    "start_time": "2023-03-28T15:44:20.561Z"
   },
   {
    "duration": 5,
    "start_time": "2023-03-28T15:44:40.170Z"
   },
   {
    "duration": 6,
    "start_time": "2023-03-28T15:45:02.017Z"
   },
   {
    "duration": 796,
    "start_time": "2023-03-28T15:45:38.179Z"
   },
   {
    "duration": 753,
    "start_time": "2023-03-28T15:46:01.723Z"
   },
   {
    "duration": 13,
    "start_time": "2023-03-28T15:46:17.204Z"
   },
   {
    "duration": 13,
    "start_time": "2023-03-28T15:46:24.439Z"
   },
   {
    "duration": 11,
    "start_time": "2023-03-28T15:46:51.422Z"
   },
   {
    "duration": 26,
    "start_time": "2023-03-28T15:47:19.961Z"
   },
   {
    "duration": 16,
    "start_time": "2023-03-28T15:47:24.664Z"
   },
   {
    "duration": 1396,
    "start_time": "2023-03-28T23:48:48.738Z"
   },
   {
    "duration": 150,
    "start_time": "2023-03-28T23:48:50.137Z"
   },
   {
    "duration": 3,
    "start_time": "2023-03-28T23:48:50.289Z"
   },
   {
    "duration": 48,
    "start_time": "2023-03-28T23:48:50.295Z"
   },
   {
    "duration": 65,
    "start_time": "2023-03-28T23:48:50.345Z"
   },
   {
    "duration": 19,
    "start_time": "2023-03-28T23:48:50.412Z"
   },
   {
    "duration": 52,
    "start_time": "2023-03-28T23:48:50.433Z"
   },
   {
    "duration": 27,
    "start_time": "2023-03-28T23:48:50.486Z"
   },
   {
    "duration": 22,
    "start_time": "2023-03-28T23:48:50.515Z"
   },
   {
    "duration": 32,
    "start_time": "2023-03-28T23:48:50.539Z"
   },
   {
    "duration": 53,
    "start_time": "2023-03-28T23:48:50.572Z"
   },
   {
    "duration": 67,
    "start_time": "2023-03-28T23:48:50.626Z"
   },
   {
    "duration": 27,
    "start_time": "2023-03-28T23:48:50.694Z"
   },
   {
    "duration": 15,
    "start_time": "2023-03-28T23:48:50.723Z"
   },
   {
    "duration": 43,
    "start_time": "2023-03-28T23:48:50.740Z"
   },
   {
    "duration": 21,
    "start_time": "2023-03-28T23:48:50.785Z"
   },
   {
    "duration": 17,
    "start_time": "2023-03-28T23:48:50.808Z"
   },
   {
    "duration": 44,
    "start_time": "2023-03-28T23:48:50.827Z"
   },
   {
    "duration": 20,
    "start_time": "2023-03-28T23:48:50.880Z"
   },
   {
    "duration": 7,
    "start_time": "2023-03-28T23:48:50.901Z"
   },
   {
    "duration": 18,
    "start_time": "2023-03-28T23:48:50.910Z"
   },
   {
    "duration": 54,
    "start_time": "2023-03-28T23:48:50.929Z"
   },
   {
    "duration": 18,
    "start_time": "2023-03-28T23:48:50.985Z"
   },
   {
    "duration": 31,
    "start_time": "2023-03-28T23:48:51.004Z"
   },
   {
    "duration": 302,
    "start_time": "2023-03-28T23:48:51.036Z"
   },
   {
    "duration": 22,
    "start_time": "2023-03-28T23:48:51.340Z"
   },
   {
    "duration": 57,
    "start_time": "2023-03-28T23:48:51.364Z"
   },
   {
    "duration": 362,
    "start_time": "2023-03-28T23:48:51.425Z"
   },
   {
    "duration": 477,
    "start_time": "2023-03-28T23:48:51.790Z"
   },
   {
    "duration": 73,
    "start_time": "2023-03-28T23:48:52.284Z"
   },
   {
    "duration": 20,
    "start_time": "2023-03-28T23:48:52.359Z"
   },
   {
    "duration": 77,
    "start_time": "2023-03-28T23:48:52.381Z"
   },
   {
    "duration": 632,
    "start_time": "2023-03-28T23:48:52.460Z"
   },
   {
    "duration": 410,
    "start_time": "2023-03-28T23:48:53.094Z"
   },
   {
    "duration": 302,
    "start_time": "2023-03-28T23:48:53.505Z"
   },
   {
    "duration": 225,
    "start_time": "2023-03-28T23:48:53.809Z"
   },
   {
    "duration": 361,
    "start_time": "2023-03-28T23:48:54.035Z"
   },
   {
    "duration": 411,
    "start_time": "2023-03-28T23:48:54.397Z"
   },
   {
    "duration": 140,
    "start_time": "2023-03-28T23:48:54.809Z"
   },
   {
    "duration": 8,
    "start_time": "2023-03-28T23:48:54.950Z"
   },
   {
    "duration": 186,
    "start_time": "2023-03-28T23:48:54.960Z"
   },
   {
    "duration": 150,
    "start_time": "2023-03-28T23:48:55.147Z"
   },
   {
    "duration": 5,
    "start_time": "2023-03-28T23:48:55.299Z"
   },
   {
    "duration": 175,
    "start_time": "2023-03-28T23:48:55.306Z"
   },
   {
    "duration": 38,
    "start_time": "2023-03-28T23:48:55.482Z"
   },
   {
    "duration": 15,
    "start_time": "2023-03-28T23:48:55.521Z"
   },
   {
    "duration": 65,
    "start_time": "2023-03-28T23:48:55.537Z"
   },
   {
    "duration": 84,
    "start_time": "2023-03-28T23:48:55.603Z"
   },
   {
    "duration": 27,
    "start_time": "2023-03-28T23:48:55.689Z"
   },
   {
    "duration": 1475,
    "start_time": "2023-03-28T23:51:27.725Z"
   },
   {
    "duration": 121,
    "start_time": "2023-03-28T23:51:29.202Z"
   },
   {
    "duration": 3,
    "start_time": "2023-03-28T23:51:29.325Z"
   },
   {
    "duration": 14,
    "start_time": "2023-03-28T23:51:29.330Z"
   },
   {
    "duration": 30,
    "start_time": "2023-03-28T23:51:29.355Z"
   },
   {
    "duration": 15,
    "start_time": "2023-03-28T23:51:29.387Z"
   },
   {
    "duration": 9,
    "start_time": "2023-03-28T23:51:29.405Z"
   },
   {
    "duration": 17,
    "start_time": "2023-03-28T23:51:29.416Z"
   },
   {
    "duration": 44,
    "start_time": "2023-03-28T23:51:29.435Z"
   },
   {
    "duration": 25,
    "start_time": "2023-03-28T23:51:29.485Z"
   },
   {
    "duration": 15,
    "start_time": "2023-03-28T23:51:29.511Z"
   },
   {
    "duration": 48,
    "start_time": "2023-03-28T23:51:29.527Z"
   },
   {
    "duration": 36,
    "start_time": "2023-03-28T23:51:29.576Z"
   },
   {
    "duration": 7,
    "start_time": "2023-03-28T23:51:29.616Z"
   },
   {
    "duration": 8,
    "start_time": "2023-03-28T23:51:29.625Z"
   },
   {
    "duration": 10,
    "start_time": "2023-03-28T23:51:29.635Z"
   },
   {
    "duration": 45,
    "start_time": "2023-03-28T23:51:29.646Z"
   },
   {
    "duration": 22,
    "start_time": "2023-03-28T23:51:29.693Z"
   },
   {
    "duration": 19,
    "start_time": "2023-03-28T23:51:29.717Z"
   },
   {
    "duration": 11,
    "start_time": "2023-03-28T23:51:29.739Z"
   },
   {
    "duration": 56,
    "start_time": "2023-03-28T23:51:29.751Z"
   },
   {
    "duration": 16,
    "start_time": "2023-03-28T23:51:29.809Z"
   },
   {
    "duration": 19,
    "start_time": "2023-03-28T23:51:29.827Z"
   },
   {
    "duration": 64,
    "start_time": "2023-03-28T23:51:29.849Z"
   },
   {
    "duration": 318,
    "start_time": "2023-03-28T23:51:29.915Z"
   },
   {
    "duration": 23,
    "start_time": "2023-03-28T23:51:30.235Z"
   },
   {
    "duration": 248,
    "start_time": "2023-03-28T23:51:30.263Z"
   },
   {
    "duration": 278,
    "start_time": "2023-03-28T23:51:30.513Z"
   },
   {
    "duration": 136,
    "start_time": "2023-03-28T23:51:30.793Z"
   },
   {
    "duration": 28,
    "start_time": "2023-03-28T23:51:30.931Z"
   },
   {
    "duration": 37,
    "start_time": "2023-03-28T23:51:30.976Z"
   },
   {
    "duration": 31,
    "start_time": "2023-03-28T23:51:31.015Z"
   },
   {
    "duration": 466,
    "start_time": "2023-03-28T23:51:31.049Z"
   },
   {
    "duration": 276,
    "start_time": "2023-03-28T23:51:31.516Z"
   },
   {
    "duration": 309,
    "start_time": "2023-03-28T23:51:31.794Z"
   },
   {
    "duration": 275,
    "start_time": "2023-03-28T23:51:32.104Z"
   },
   {
    "duration": 290,
    "start_time": "2023-03-28T23:51:32.389Z"
   },
   {
    "duration": 400,
    "start_time": "2023-03-28T23:51:32.681Z"
   },
   {
    "duration": 200,
    "start_time": "2023-03-28T23:51:33.083Z"
   },
   {
    "duration": 5,
    "start_time": "2023-03-28T23:51:33.288Z"
   },
   {
    "duration": 193,
    "start_time": "2023-03-28T23:51:33.299Z"
   },
   {
    "duration": 189,
    "start_time": "2023-03-28T23:51:33.494Z"
   },
   {
    "duration": 6,
    "start_time": "2023-03-28T23:51:33.685Z"
   },
   {
    "duration": 165,
    "start_time": "2023-03-28T23:51:33.694Z"
   },
   {
    "duration": 51,
    "start_time": "2023-03-28T23:51:33.872Z"
   },
   {
    "duration": 13,
    "start_time": "2023-03-28T23:51:33.924Z"
   },
   {
    "duration": 30,
    "start_time": "2023-03-28T23:51:33.939Z"
   },
   {
    "duration": 34,
    "start_time": "2023-03-28T23:51:33.976Z"
   },
   {
    "duration": 15,
    "start_time": "2023-03-28T23:51:34.012Z"
   },
   {
    "duration": 38,
    "start_time": "2023-03-28T23:51:44.841Z"
   },
   {
    "duration": 10,
    "start_time": "2023-03-28T23:51:50.478Z"
   },
   {
    "duration": 11,
    "start_time": "2023-03-28T23:52:02.544Z"
   },
   {
    "duration": 8,
    "start_time": "2023-03-28T23:52:06.437Z"
   },
   {
    "duration": 9,
    "start_time": "2023-03-28T23:52:09.585Z"
   },
   {
    "duration": 5,
    "start_time": "2023-03-28T23:52:22.302Z"
   },
   {
    "duration": 6,
    "start_time": "2023-03-28T23:52:28.692Z"
   },
   {
    "duration": 4,
    "start_time": "2023-03-28T23:53:11.517Z"
   },
   {
    "duration": 5,
    "start_time": "2023-03-28T23:53:14.027Z"
   },
   {
    "duration": 6,
    "start_time": "2023-03-28T23:53:18.534Z"
   },
   {
    "duration": 8,
    "start_time": "2023-03-28T23:53:19.477Z"
   },
   {
    "duration": 6,
    "start_time": "2023-03-28T23:53:26.199Z"
   },
   {
    "duration": 287,
    "start_time": "2023-03-28T23:53:45.778Z"
   },
   {
    "duration": 7,
    "start_time": "2023-03-28T23:53:48.284Z"
   },
   {
    "duration": 320,
    "start_time": "2023-03-28T23:54:00.279Z"
   },
   {
    "duration": 306,
    "start_time": "2023-03-28T23:54:07.808Z"
   },
   {
    "duration": 376,
    "start_time": "2023-03-28T23:55:22.137Z"
   },
   {
    "duration": 45,
    "start_time": "2023-03-28T23:57:05.017Z"
   },
   {
    "duration": 1483,
    "start_time": "2023-03-28T23:58:11.876Z"
   },
   {
    "duration": 118,
    "start_time": "2023-03-28T23:58:13.361Z"
   },
   {
    "duration": 3,
    "start_time": "2023-03-28T23:58:13.483Z"
   },
   {
    "duration": 17,
    "start_time": "2023-03-28T23:58:13.488Z"
   },
   {
    "duration": 15,
    "start_time": "2023-03-28T23:58:13.508Z"
   },
   {
    "duration": 13,
    "start_time": "2023-03-28T23:58:13.525Z"
   },
   {
    "duration": 36,
    "start_time": "2023-03-28T23:58:13.539Z"
   },
   {
    "duration": 27,
    "start_time": "2023-03-28T23:58:13.577Z"
   },
   {
    "duration": 8,
    "start_time": "2023-03-28T23:58:13.606Z"
   },
   {
    "duration": 19,
    "start_time": "2023-03-28T23:58:13.619Z"
   },
   {
    "duration": 26,
    "start_time": "2023-03-28T23:58:13.640Z"
   },
   {
    "duration": 30,
    "start_time": "2023-03-28T23:58:13.672Z"
   },
   {
    "duration": 14,
    "start_time": "2023-03-28T23:58:13.704Z"
   },
   {
    "duration": 9,
    "start_time": "2023-03-28T23:58:13.720Z"
   },
   {
    "duration": 10,
    "start_time": "2023-03-28T23:58:13.731Z"
   },
   {
    "duration": 38,
    "start_time": "2023-03-28T23:58:13.743Z"
   },
   {
    "duration": 15,
    "start_time": "2023-03-28T23:58:13.783Z"
   },
   {
    "duration": 19,
    "start_time": "2023-03-28T23:58:13.800Z"
   },
   {
    "duration": 19,
    "start_time": "2023-03-28T23:58:13.821Z"
   },
   {
    "duration": 19,
    "start_time": "2023-03-28T23:58:13.842Z"
   },
   {
    "duration": 32,
    "start_time": "2023-03-28T23:58:13.864Z"
   },
   {
    "duration": 9,
    "start_time": "2023-03-28T23:58:13.898Z"
   },
   {
    "duration": 8,
    "start_time": "2023-03-28T23:58:13.909Z"
   },
   {
    "duration": 35,
    "start_time": "2023-03-28T23:58:13.919Z"
   },
   {
    "duration": 307,
    "start_time": "2023-03-28T23:58:13.956Z"
   },
   {
    "duration": 14,
    "start_time": "2023-03-28T23:58:14.264Z"
   },
   {
    "duration": 23,
    "start_time": "2023-03-28T23:58:14.289Z"
   },
   {
    "duration": 272,
    "start_time": "2023-03-28T23:58:14.317Z"
   },
   {
    "duration": 144,
    "start_time": "2023-03-28T23:58:14.591Z"
   },
   {
    "duration": 46,
    "start_time": "2023-03-28T23:58:14.737Z"
   },
   {
    "duration": 10,
    "start_time": "2023-03-28T23:58:14.788Z"
   },
   {
    "duration": 6,
    "start_time": "2023-03-28T23:58:14.801Z"
   },
   {
    "duration": 338,
    "start_time": "2023-03-28T23:58:14.809Z"
   },
   {
    "duration": 242,
    "start_time": "2023-03-28T23:58:15.158Z"
   },
   {
    "duration": 317,
    "start_time": "2023-03-28T23:58:15.401Z"
   },
   {
    "duration": 288,
    "start_time": "2023-03-28T23:58:15.720Z"
   },
   {
    "duration": 319,
    "start_time": "2023-03-28T23:58:16.010Z"
   },
   {
    "duration": 436,
    "start_time": "2023-03-28T23:58:16.331Z"
   },
   {
    "duration": 199,
    "start_time": "2023-03-28T23:58:16.780Z"
   },
   {
    "duration": 4,
    "start_time": "2023-03-28T23:58:16.984Z"
   },
   {
    "duration": 198,
    "start_time": "2023-03-28T23:58:16.990Z"
   },
   {
    "duration": 162,
    "start_time": "2023-03-28T23:58:17.190Z"
   },
   {
    "duration": 12,
    "start_time": "2023-03-28T23:58:17.353Z"
   },
   {
    "duration": 167,
    "start_time": "2023-03-28T23:58:17.366Z"
   },
   {
    "duration": 47,
    "start_time": "2023-03-28T23:58:17.534Z"
   },
   {
    "duration": 13,
    "start_time": "2023-03-28T23:58:17.583Z"
   },
   {
    "duration": 17,
    "start_time": "2023-03-28T23:58:17.598Z"
   },
   {
    "duration": 82,
    "start_time": "2023-03-28T23:58:17.617Z"
   },
   {
    "duration": 21,
    "start_time": "2023-03-28T23:58:17.702Z"
   }
  ],
  "kernelspec": {
   "display_name": "Python 3 (ipykernel)",
   "language": "python",
   "name": "python3"
  },
  "language_info": {
   "codemirror_mode": {
    "name": "ipython",
    "version": 3
   },
   "file_extension": ".py",
   "mimetype": "text/x-python",
   "name": "python",
   "nbconvert_exporter": "python",
   "pygments_lexer": "ipython3",
   "version": "3.9.5"
  },
  "toc": {
   "base_numbering": 1,
   "nav_menu": {},
   "number_sections": true,
   "sideBar": true,
   "skip_h1_title": true,
   "title_cell": "Table of Contents",
   "title_sidebar": "Contents",
   "toc_cell": false,
   "toc_position": {
    "height": "calc(100% - 180px)",
    "left": "10px",
    "top": "150px",
    "width": "165px"
   },
   "toc_section_display": true,
   "toc_window_display": true
  }
 },
 "nbformat": 4,
 "nbformat_minor": 2
}
