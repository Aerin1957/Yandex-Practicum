{
 "cells": [
  {
   "cell_type": "markdown",
   "metadata": {},
   "source": [
    "# Исследование объявлений о продаже квартир\n",
    "\n",
    "В вашем распоряжении данные сервиса Яндекс.Недвижимость — архив объявлений о продаже квартир в Санкт-Петербурге и соседних населённых пунктов за несколько лет. Нужно научиться определять рыночную стоимость объектов недвижимости. Ваша задача — установить параметры. Это позволит построить автоматизированную систему: она отследит аномалии и мошенническую деятельность. \n",
    "\n",
    "По каждой квартире на продажу доступны два вида данных. Первые вписаны пользователем, вторые — получены автоматически на основе картографических данных. Например, расстояние до центра, аэропорта, ближайшего парка и водоёма. "
   ]
  },
  {
   "cell_type": "markdown",
   "metadata": {},
   "source": [
    "### Изучение общей информации. "
   ]
  },
  {
   "cell_type": "code",
   "execution_count": 1,
   "metadata": {},
   "outputs": [],
   "source": [
    "import pandas as pd\n",
    "import warnings\n",
    "warnings.filterwarnings(\"ignore\")\n",
    "import seaborn as sns\n",
    "import matplotlib.pyplot as plt "
   ]
  },
  {
   "cell_type": "code",
   "execution_count": 5,
   "metadata": {},
   "outputs": [],
   "source": [
    "df = pd.read_csv('/datasets/real_estate_data.csv')"
   ]
  },
  {
   "cell_type": "code",
   "execution_count": 6,
   "metadata": {},
   "outputs": [
    {
     "name": "stdout",
     "output_type": "stream",
     "text": [
      "<class 'pandas.core.frame.DataFrame'>\n",
      "RangeIndex: 23699 entries, 0 to 23698\n",
      "Data columns (total 1 columns):\n",
      " #   Column                                                                                                                                                                                                                                                                                           Non-Null Count  Dtype \n",
      "---  ------                                                                                                                                                                                                                                                                                           --------------  ----- \n",
      " 0   total_images\tlast_price\ttotal_area\tfirst_day_exposition\trooms\tceiling_height\tfloors_total\tliving_area\tfloor\tis_apartment\tstudio\topen_plan\tkitchen_area\tbalcony\tlocality_name\tairports_nearest\tcityCenters_nearest\tparks_around3000\tparks_nearest\tponds_around3000\tponds_nearest\tdays_exposition  23699 non-null  object\n",
      "dtypes: object(1)\n",
      "memory usage: 185.3+ KB\n"
     ]
    }
   ],
   "source": [
    "df.info()"
   ]
  },
  {
   "cell_type": "code",
   "execution_count": 7,
   "metadata": {},
   "outputs": [],
   "source": [
    "data=pd.read_csv('/datasets/real_estate_data.csv',sep='\\t')"
   ]
  },
  {
   "cell_type": "code",
   "execution_count": 8,
   "metadata": {},
   "outputs": [],
   "source": [
    "pd.set_option('display.max_columns', None)"
   ]
  },
  {
   "cell_type": "code",
   "execution_count": 9,
   "metadata": {},
   "outputs": [
    {
     "data": {
      "text/html": [
       "<div>\n",
       "<style scoped>\n",
       "    .dataframe tbody tr th:only-of-type {\n",
       "        vertical-align: middle;\n",
       "    }\n",
       "\n",
       "    .dataframe tbody tr th {\n",
       "        vertical-align: top;\n",
       "    }\n",
       "\n",
       "    .dataframe thead th {\n",
       "        text-align: right;\n",
       "    }\n",
       "</style>\n",
       "<table border=\"1\" class=\"dataframe\">\n",
       "  <thead>\n",
       "    <tr style=\"text-align: right;\">\n",
       "      <th></th>\n",
       "      <th>total_images</th>\n",
       "      <th>last_price</th>\n",
       "      <th>total_area</th>\n",
       "      <th>first_day_exposition</th>\n",
       "      <th>rooms</th>\n",
       "      <th>ceiling_height</th>\n",
       "      <th>floors_total</th>\n",
       "      <th>living_area</th>\n",
       "      <th>floor</th>\n",
       "      <th>is_apartment</th>\n",
       "      <th>studio</th>\n",
       "      <th>open_plan</th>\n",
       "      <th>kitchen_area</th>\n",
       "      <th>balcony</th>\n",
       "      <th>locality_name</th>\n",
       "      <th>airports_nearest</th>\n",
       "      <th>cityCenters_nearest</th>\n",
       "      <th>parks_around3000</th>\n",
       "      <th>parks_nearest</th>\n",
       "      <th>ponds_around3000</th>\n",
       "      <th>ponds_nearest</th>\n",
       "      <th>days_exposition</th>\n",
       "    </tr>\n",
       "  </thead>\n",
       "  <tbody>\n",
       "    <tr>\n",
       "      <th>0</th>\n",
       "      <td>20</td>\n",
       "      <td>13000000.0</td>\n",
       "      <td>108.0</td>\n",
       "      <td>2019-03-07T00:00:00</td>\n",
       "      <td>3</td>\n",
       "      <td>2.70</td>\n",
       "      <td>16.0</td>\n",
       "      <td>51.0</td>\n",
       "      <td>8</td>\n",
       "      <td>NaN</td>\n",
       "      <td>False</td>\n",
       "      <td>False</td>\n",
       "      <td>25.0</td>\n",
       "      <td>NaN</td>\n",
       "      <td>Санкт-Петербург</td>\n",
       "      <td>18863.0</td>\n",
       "      <td>16028.0</td>\n",
       "      <td>1.0</td>\n",
       "      <td>482.0</td>\n",
       "      <td>2.0</td>\n",
       "      <td>755.0</td>\n",
       "      <td>NaN</td>\n",
       "    </tr>\n",
       "    <tr>\n",
       "      <th>1</th>\n",
       "      <td>7</td>\n",
       "      <td>3350000.0</td>\n",
       "      <td>40.4</td>\n",
       "      <td>2018-12-04T00:00:00</td>\n",
       "      <td>1</td>\n",
       "      <td>NaN</td>\n",
       "      <td>11.0</td>\n",
       "      <td>18.6</td>\n",
       "      <td>1</td>\n",
       "      <td>NaN</td>\n",
       "      <td>False</td>\n",
       "      <td>False</td>\n",
       "      <td>11.0</td>\n",
       "      <td>2.0</td>\n",
       "      <td>посёлок Шушары</td>\n",
       "      <td>12817.0</td>\n",
       "      <td>18603.0</td>\n",
       "      <td>0.0</td>\n",
       "      <td>NaN</td>\n",
       "      <td>0.0</td>\n",
       "      <td>NaN</td>\n",
       "      <td>81.0</td>\n",
       "    </tr>\n",
       "    <tr>\n",
       "      <th>2</th>\n",
       "      <td>10</td>\n",
       "      <td>5196000.0</td>\n",
       "      <td>56.0</td>\n",
       "      <td>2015-08-20T00:00:00</td>\n",
       "      <td>2</td>\n",
       "      <td>NaN</td>\n",
       "      <td>5.0</td>\n",
       "      <td>34.3</td>\n",
       "      <td>4</td>\n",
       "      <td>NaN</td>\n",
       "      <td>False</td>\n",
       "      <td>False</td>\n",
       "      <td>8.3</td>\n",
       "      <td>0.0</td>\n",
       "      <td>Санкт-Петербург</td>\n",
       "      <td>21741.0</td>\n",
       "      <td>13933.0</td>\n",
       "      <td>1.0</td>\n",
       "      <td>90.0</td>\n",
       "      <td>2.0</td>\n",
       "      <td>574.0</td>\n",
       "      <td>558.0</td>\n",
       "    </tr>\n",
       "    <tr>\n",
       "      <th>3</th>\n",
       "      <td>0</td>\n",
       "      <td>64900000.0</td>\n",
       "      <td>159.0</td>\n",
       "      <td>2015-07-24T00:00:00</td>\n",
       "      <td>3</td>\n",
       "      <td>NaN</td>\n",
       "      <td>14.0</td>\n",
       "      <td>NaN</td>\n",
       "      <td>9</td>\n",
       "      <td>NaN</td>\n",
       "      <td>False</td>\n",
       "      <td>False</td>\n",
       "      <td>NaN</td>\n",
       "      <td>0.0</td>\n",
       "      <td>Санкт-Петербург</td>\n",
       "      <td>28098.0</td>\n",
       "      <td>6800.0</td>\n",
       "      <td>2.0</td>\n",
       "      <td>84.0</td>\n",
       "      <td>3.0</td>\n",
       "      <td>234.0</td>\n",
       "      <td>424.0</td>\n",
       "    </tr>\n",
       "    <tr>\n",
       "      <th>4</th>\n",
       "      <td>2</td>\n",
       "      <td>10000000.0</td>\n",
       "      <td>100.0</td>\n",
       "      <td>2018-06-19T00:00:00</td>\n",
       "      <td>2</td>\n",
       "      <td>3.03</td>\n",
       "      <td>14.0</td>\n",
       "      <td>32.0</td>\n",
       "      <td>13</td>\n",
       "      <td>NaN</td>\n",
       "      <td>False</td>\n",
       "      <td>False</td>\n",
       "      <td>41.0</td>\n",
       "      <td>NaN</td>\n",
       "      <td>Санкт-Петербург</td>\n",
       "      <td>31856.0</td>\n",
       "      <td>8098.0</td>\n",
       "      <td>2.0</td>\n",
       "      <td>112.0</td>\n",
       "      <td>1.0</td>\n",
       "      <td>48.0</td>\n",
       "      <td>121.0</td>\n",
       "    </tr>\n",
       "  </tbody>\n",
       "</table>\n",
       "</div>"
      ],
      "text/plain": [
       "   total_images  last_price  total_area first_day_exposition  rooms  \\\n",
       "0            20  13000000.0       108.0  2019-03-07T00:00:00      3   \n",
       "1             7   3350000.0        40.4  2018-12-04T00:00:00      1   \n",
       "2            10   5196000.0        56.0  2015-08-20T00:00:00      2   \n",
       "3             0  64900000.0       159.0  2015-07-24T00:00:00      3   \n",
       "4             2  10000000.0       100.0  2018-06-19T00:00:00      2   \n",
       "\n",
       "   ceiling_height  floors_total  living_area  floor is_apartment  studio  \\\n",
       "0            2.70          16.0         51.0      8          NaN   False   \n",
       "1             NaN          11.0         18.6      1          NaN   False   \n",
       "2             NaN           5.0         34.3      4          NaN   False   \n",
       "3             NaN          14.0          NaN      9          NaN   False   \n",
       "4            3.03          14.0         32.0     13          NaN   False   \n",
       "\n",
       "   open_plan  kitchen_area  balcony    locality_name  airports_nearest  \\\n",
       "0      False          25.0      NaN  Санкт-Петербург           18863.0   \n",
       "1      False          11.0      2.0   посёлок Шушары           12817.0   \n",
       "2      False           8.3      0.0  Санкт-Петербург           21741.0   \n",
       "3      False           NaN      0.0  Санкт-Петербург           28098.0   \n",
       "4      False          41.0      NaN  Санкт-Петербург           31856.0   \n",
       "\n",
       "   cityCenters_nearest  parks_around3000  parks_nearest  ponds_around3000  \\\n",
       "0              16028.0               1.0          482.0               2.0   \n",
       "1              18603.0               0.0            NaN               0.0   \n",
       "2              13933.0               1.0           90.0               2.0   \n",
       "3               6800.0               2.0           84.0               3.0   \n",
       "4               8098.0               2.0          112.0               1.0   \n",
       "\n",
       "   ponds_nearest  days_exposition  \n",
       "0          755.0              NaN  \n",
       "1            NaN             81.0  \n",
       "2          574.0            558.0  \n",
       "3          234.0            424.0  \n",
       "4           48.0            121.0  "
      ]
     },
     "execution_count": 9,
     "metadata": {},
     "output_type": "execute_result"
    }
   ],
   "source": [
    "data.head()"
   ]
  },
  {
   "cell_type": "markdown",
   "metadata": {},
   "source": [
    "Т.к. данные отобразились в одну строку вместо колонок, стоит прочитать файл real_estate_data.csv из папки datasets, используя в качестве разделителя знак табуляции \\t."
   ]
  },
  {
   "cell_type": "code",
   "execution_count": 10,
   "metadata": {},
   "outputs": [],
   "source": [
    "data.rename(columns = {'cityCenters_nearest':'city_centers_nearest'}, inplace=True)"
   ]
  },
  {
   "cell_type": "code",
   "execution_count": 11,
   "metadata": {},
   "outputs": [
    {
     "data": {
      "text/html": [
       "<div>\n",
       "<style scoped>\n",
       "    .dataframe tbody tr th:only-of-type {\n",
       "        vertical-align: middle;\n",
       "    }\n",
       "\n",
       "    .dataframe tbody tr th {\n",
       "        vertical-align: top;\n",
       "    }\n",
       "\n",
       "    .dataframe thead th {\n",
       "        text-align: right;\n",
       "    }\n",
       "</style>\n",
       "<table border=\"1\" class=\"dataframe\">\n",
       "  <thead>\n",
       "    <tr style=\"text-align: right;\">\n",
       "      <th></th>\n",
       "      <th>total_images</th>\n",
       "      <th>last_price</th>\n",
       "      <th>total_area</th>\n",
       "      <th>first_day_exposition</th>\n",
       "      <th>rooms</th>\n",
       "      <th>ceiling_height</th>\n",
       "      <th>floors_total</th>\n",
       "      <th>living_area</th>\n",
       "      <th>floor</th>\n",
       "      <th>is_apartment</th>\n",
       "      <th>studio</th>\n",
       "      <th>open_plan</th>\n",
       "      <th>kitchen_area</th>\n",
       "      <th>balcony</th>\n",
       "      <th>locality_name</th>\n",
       "      <th>airports_nearest</th>\n",
       "      <th>city_centers_nearest</th>\n",
       "      <th>parks_around3000</th>\n",
       "      <th>parks_nearest</th>\n",
       "      <th>ponds_around3000</th>\n",
       "      <th>ponds_nearest</th>\n",
       "      <th>days_exposition</th>\n",
       "    </tr>\n",
       "  </thead>\n",
       "  <tbody>\n",
       "    <tr>\n",
       "      <th>0</th>\n",
       "      <td>20</td>\n",
       "      <td>13000000.0</td>\n",
       "      <td>108.0</td>\n",
       "      <td>2019-03-07T00:00:00</td>\n",
       "      <td>3</td>\n",
       "      <td>2.70</td>\n",
       "      <td>16.0</td>\n",
       "      <td>51.0</td>\n",
       "      <td>8</td>\n",
       "      <td>NaN</td>\n",
       "      <td>False</td>\n",
       "      <td>False</td>\n",
       "      <td>25.0</td>\n",
       "      <td>NaN</td>\n",
       "      <td>Санкт-Петербург</td>\n",
       "      <td>18863.0</td>\n",
       "      <td>16028.0</td>\n",
       "      <td>1.0</td>\n",
       "      <td>482.0</td>\n",
       "      <td>2.0</td>\n",
       "      <td>755.0</td>\n",
       "      <td>NaN</td>\n",
       "    </tr>\n",
       "    <tr>\n",
       "      <th>1</th>\n",
       "      <td>7</td>\n",
       "      <td>3350000.0</td>\n",
       "      <td>40.4</td>\n",
       "      <td>2018-12-04T00:00:00</td>\n",
       "      <td>1</td>\n",
       "      <td>NaN</td>\n",
       "      <td>11.0</td>\n",
       "      <td>18.6</td>\n",
       "      <td>1</td>\n",
       "      <td>NaN</td>\n",
       "      <td>False</td>\n",
       "      <td>False</td>\n",
       "      <td>11.0</td>\n",
       "      <td>2.0</td>\n",
       "      <td>посёлок Шушары</td>\n",
       "      <td>12817.0</td>\n",
       "      <td>18603.0</td>\n",
       "      <td>0.0</td>\n",
       "      <td>NaN</td>\n",
       "      <td>0.0</td>\n",
       "      <td>NaN</td>\n",
       "      <td>81.0</td>\n",
       "    </tr>\n",
       "    <tr>\n",
       "      <th>2</th>\n",
       "      <td>10</td>\n",
       "      <td>5196000.0</td>\n",
       "      <td>56.0</td>\n",
       "      <td>2015-08-20T00:00:00</td>\n",
       "      <td>2</td>\n",
       "      <td>NaN</td>\n",
       "      <td>5.0</td>\n",
       "      <td>34.3</td>\n",
       "      <td>4</td>\n",
       "      <td>NaN</td>\n",
       "      <td>False</td>\n",
       "      <td>False</td>\n",
       "      <td>8.3</td>\n",
       "      <td>0.0</td>\n",
       "      <td>Санкт-Петербург</td>\n",
       "      <td>21741.0</td>\n",
       "      <td>13933.0</td>\n",
       "      <td>1.0</td>\n",
       "      <td>90.0</td>\n",
       "      <td>2.0</td>\n",
       "      <td>574.0</td>\n",
       "      <td>558.0</td>\n",
       "    </tr>\n",
       "    <tr>\n",
       "      <th>3</th>\n",
       "      <td>0</td>\n",
       "      <td>64900000.0</td>\n",
       "      <td>159.0</td>\n",
       "      <td>2015-07-24T00:00:00</td>\n",
       "      <td>3</td>\n",
       "      <td>NaN</td>\n",
       "      <td>14.0</td>\n",
       "      <td>NaN</td>\n",
       "      <td>9</td>\n",
       "      <td>NaN</td>\n",
       "      <td>False</td>\n",
       "      <td>False</td>\n",
       "      <td>NaN</td>\n",
       "      <td>0.0</td>\n",
       "      <td>Санкт-Петербург</td>\n",
       "      <td>28098.0</td>\n",
       "      <td>6800.0</td>\n",
       "      <td>2.0</td>\n",
       "      <td>84.0</td>\n",
       "      <td>3.0</td>\n",
       "      <td>234.0</td>\n",
       "      <td>424.0</td>\n",
       "    </tr>\n",
       "    <tr>\n",
       "      <th>4</th>\n",
       "      <td>2</td>\n",
       "      <td>10000000.0</td>\n",
       "      <td>100.0</td>\n",
       "      <td>2018-06-19T00:00:00</td>\n",
       "      <td>2</td>\n",
       "      <td>3.03</td>\n",
       "      <td>14.0</td>\n",
       "      <td>32.0</td>\n",
       "      <td>13</td>\n",
       "      <td>NaN</td>\n",
       "      <td>False</td>\n",
       "      <td>False</td>\n",
       "      <td>41.0</td>\n",
       "      <td>NaN</td>\n",
       "      <td>Санкт-Петербург</td>\n",
       "      <td>31856.0</td>\n",
       "      <td>8098.0</td>\n",
       "      <td>2.0</td>\n",
       "      <td>112.0</td>\n",
       "      <td>1.0</td>\n",
       "      <td>48.0</td>\n",
       "      <td>121.0</td>\n",
       "    </tr>\n",
       "  </tbody>\n",
       "</table>\n",
       "</div>"
      ],
      "text/plain": [
       "   total_images  last_price  total_area first_day_exposition  rooms  \\\n",
       "0            20  13000000.0       108.0  2019-03-07T00:00:00      3   \n",
       "1             7   3350000.0        40.4  2018-12-04T00:00:00      1   \n",
       "2            10   5196000.0        56.0  2015-08-20T00:00:00      2   \n",
       "3             0  64900000.0       159.0  2015-07-24T00:00:00      3   \n",
       "4             2  10000000.0       100.0  2018-06-19T00:00:00      2   \n",
       "\n",
       "   ceiling_height  floors_total  living_area  floor is_apartment  studio  \\\n",
       "0            2.70          16.0         51.0      8          NaN   False   \n",
       "1             NaN          11.0         18.6      1          NaN   False   \n",
       "2             NaN           5.0         34.3      4          NaN   False   \n",
       "3             NaN          14.0          NaN      9          NaN   False   \n",
       "4            3.03          14.0         32.0     13          NaN   False   \n",
       "\n",
       "   open_plan  kitchen_area  balcony    locality_name  airports_nearest  \\\n",
       "0      False          25.0      NaN  Санкт-Петербург           18863.0   \n",
       "1      False          11.0      2.0   посёлок Шушары           12817.0   \n",
       "2      False           8.3      0.0  Санкт-Петербург           21741.0   \n",
       "3      False           NaN      0.0  Санкт-Петербург           28098.0   \n",
       "4      False          41.0      NaN  Санкт-Петербург           31856.0   \n",
       "\n",
       "   city_centers_nearest  parks_around3000  parks_nearest  ponds_around3000  \\\n",
       "0               16028.0               1.0          482.0               2.0   \n",
       "1               18603.0               0.0            NaN               0.0   \n",
       "2               13933.0               1.0           90.0               2.0   \n",
       "3                6800.0               2.0           84.0               3.0   \n",
       "4                8098.0               2.0          112.0               1.0   \n",
       "\n",
       "   ponds_nearest  days_exposition  \n",
       "0          755.0              NaN  \n",
       "1            NaN             81.0  \n",
       "2          574.0            558.0  \n",
       "3          234.0            424.0  \n",
       "4           48.0            121.0  "
      ]
     },
     "execution_count": 11,
     "metadata": {},
     "output_type": "execute_result"
    }
   ],
   "source": [
    "data.head()"
   ]
  },
  {
   "cell_type": "markdown",
   "metadata": {},
   "source": [
    "Приведем к правильному стилю название CityCentres"
   ]
  },
  {
   "cell_type": "code",
   "execution_count": 12,
   "metadata": {
    "scrolled": true
   },
   "outputs": [
    {
     "data": {
      "text/plain": [
       "array([[<AxesSubplot:title={'center':'total_images'}>,\n",
       "        <AxesSubplot:title={'center':'last_price'}>,\n",
       "        <AxesSubplot:title={'center':'total_area'}>,\n",
       "        <AxesSubplot:title={'center':'rooms'}>],\n",
       "       [<AxesSubplot:title={'center':'ceiling_height'}>,\n",
       "        <AxesSubplot:title={'center':'floors_total'}>,\n",
       "        <AxesSubplot:title={'center':'living_area'}>,\n",
       "        <AxesSubplot:title={'center':'floor'}>],\n",
       "       [<AxesSubplot:title={'center':'kitchen_area'}>,\n",
       "        <AxesSubplot:title={'center':'balcony'}>,\n",
       "        <AxesSubplot:title={'center':'airports_nearest'}>,\n",
       "        <AxesSubplot:title={'center':'city_centers_nearest'}>],\n",
       "       [<AxesSubplot:title={'center':'parks_around3000'}>,\n",
       "        <AxesSubplot:title={'center':'parks_nearest'}>,\n",
       "        <AxesSubplot:title={'center':'ponds_around3000'}>,\n",
       "        <AxesSubplot:title={'center':'ponds_nearest'}>],\n",
       "       [<AxesSubplot:title={'center':'days_exposition'}>, <AxesSubplot:>,\n",
       "        <AxesSubplot:>, <AxesSubplot:>]], dtype=object)"
      ]
     },
     "execution_count": 12,
     "metadata": {},
     "output_type": "execute_result"
    },
    {
     "data": {
      "image/png": "[encoded data removed]",
      "text/plain": [
       "<Figure size 1080x1440 with 20 Axes>"
      ]
     },
     "metadata": {
      "needs_background": "light"
     },
     "output_type": "display_data"
    }
   ],
   "source": [
    "data.hist(figsize=(15, 20))"
   ]
  },
  {
   "cell_type": "markdown",
   "metadata": {},
   "source": [
    "### Предобработка данных"
   ]
  },
  {
   "cell_type": "code",
   "execution_count": 13,
   "metadata": {},
   "outputs": [
    {
     "name": "stdout",
     "output_type": "stream",
     "text": [
      "<class 'pandas.core.frame.DataFrame'>\n",
      "RangeIndex: 23699 entries, 0 to 23698\n",
      "Data columns (total 22 columns):\n",
      " #   Column                Non-Null Count  Dtype  \n",
      "---  ------                --------------  -----  \n",
      " 0   total_images          23699 non-null  int64  \n",
      " 1   last_price            23699 non-null  float64\n",
      " 2   total_area            23699 non-null  float64\n",
      " 3   first_day_exposition  23699 non-null  object \n",
      " 4   rooms                 23699 non-null  int64  \n",
      " 5   ceiling_height        14504 non-null  float64\n",
      " 6   floors_total          23613 non-null  float64\n",
      " 7   living_area           21796 non-null  float64\n",
      " 8   floor                 23699 non-null  int64  \n",
      " 9   is_apartment          2775 non-null   object \n",
      " 10  studio                23699 non-null  bool   \n",
      " 11  open_plan             23699 non-null  bool   \n",
      " 12  kitchen_area          21421 non-null  float64\n",
      " 13  balcony               12180 non-null  float64\n",
      " 14  locality_name         23650 non-null  object \n",
      " 15  airports_nearest      18157 non-null  float64\n",
      " 16  city_centers_nearest  18180 non-null  float64\n",
      " 17  parks_around3000      18181 non-null  float64\n",
      " 18  parks_nearest         8079 non-null   float64\n",
      " 19  ponds_around3000      18181 non-null  float64\n",
      " 20  ponds_nearest         9110 non-null   float64\n",
      " 21  days_exposition       20518 non-null  float64\n",
      "dtypes: bool(2), float64(14), int64(3), object(3)\n",
      "memory usage: 3.7+ MB\n"
     ]
    }
   ],
   "source": [
    "data.info()"
   ]
  },
  {
   "cell_type": "markdown",
   "metadata": {},
   "source": [
    "Согласно полученной информации в таблице 22 колонки и 23 699 записей. Мы видимо, что во многих колонка есть пропуски, притом как в тех, которые заполняют сами пользователи (что говорит о человеческом факторе), так и в картографических колонках."
   ]
  },
  {
   "cell_type": "code",
   "execution_count": 14,
   "metadata": {},
   "outputs": [
    {
     "data": {
      "text/plain": [
       "array([20,  7, 10,  0,  2,  6,  5, 18,  9,  1, 16, 11,  8, 12, 13,  3, 15,\n",
       "       17, 14, 19, 32,  4, 35, 39, 23, 21, 27, 30, 24, 25, 28, 31, 22, 29,\n",
       "       26, 50, 42, 37])"
      ]
     },
     "execution_count": 14,
     "metadata": {},
     "output_type": "execute_result"
    }
   ],
   "source": [
    "data['total_images'].unique()"
   ]
  },
  {
   "cell_type": "code",
   "execution_count": 15,
   "metadata": {},
   "outputs": [
    {
     "data": {
      "text/plain": [
       "array([13000000.,  3350000.,  5196000., ...,  6151120., 21400000.,\n",
       "       11475000.])"
      ]
     },
     "execution_count": 15,
     "metadata": {},
     "output_type": "execute_result"
    }
   ],
   "source": [
    "data['last_price'].unique()"
   ]
  },
  {
   "cell_type": "code",
   "execution_count": 16,
   "metadata": {},
   "outputs": [
    {
     "data": {
      "text/plain": [
       "array([108.  ,  40.4 ,  56.  , ...,  66.86, 133.81,  76.75])"
      ]
     },
     "execution_count": 16,
     "metadata": {},
     "output_type": "execute_result"
    }
   ],
   "source": [
    "data['total_area'].unique()"
   ]
  },
  {
   "cell_type": "code",
   "execution_count": 17,
   "metadata": {},
   "outputs": [
    {
     "data": {
      "text/plain": [
       "array(['2019-03-07T00:00:00', '2018-12-04T00:00:00',\n",
       "       '2015-08-20T00:00:00', ..., '2014-12-29T00:00:00',\n",
       "       '2016-09-12T00:00:00', '2015-07-19T00:00:00'], dtype=object)"
      ]
     },
     "execution_count": 17,
     "metadata": {},
     "output_type": "execute_result"
    }
   ],
   "source": [
    "data['first_day_exposition'].unique()"
   ]
  },
  {
   "cell_type": "code",
   "execution_count": 18,
   "metadata": {},
   "outputs": [],
   "source": [
    "data['first_day_exposition'] = pd.to_datetime(data['first_day_exposition'])"
   ]
  },
  {
   "cell_type": "markdown",
   "metadata": {},
   "source": [
    "Переведем значения в столбце first_day_exposition в привычный формат даты."
   ]
  },
  {
   "cell_type": "code",
   "execution_count": 19,
   "metadata": {},
   "outputs": [
    {
     "data": {
      "text/plain": [
       "array([ 3,  1,  2,  4,  5,  6,  0,  7, 11,  8, 14, 10, 15,  9, 19, 16, 12])"
      ]
     },
     "execution_count": 19,
     "metadata": {},
     "output_type": "execute_result"
    }
   ],
   "source": [
    "data['rooms'].unique()"
   ]
  },
  {
   "cell_type": "code",
   "execution_count": 20,
   "metadata": {},
   "outputs": [],
   "source": [
    "data =  data[(data['rooms'] != 11) & (data['rooms'] != 14) & (data['rooms'] != 15)& (data['rooms'] != 19) & (data['rooms'] != 16) & (data['rooms'] != 12)]"
   ]
  },
  {
   "cell_type": "code",
   "execution_count": 21,
   "metadata": {},
   "outputs": [
    {
     "data": {
      "text/plain": [
       "array([ 3,  1,  2,  4,  5,  6,  0,  7,  8, 10,  9])"
      ]
     },
     "execution_count": 21,
     "metadata": {},
     "output_type": "execute_result"
    }
   ],
   "source": [
    "data['rooms'].unique()"
   ]
  },
  {
   "cell_type": "markdown",
   "metadata": {},
   "source": [
    "На мой взгляд, комнаты больше 10 это крайне редкие случаи, аномальные, и их можно просто удалить."
   ]
  },
  {
   "cell_type": "code",
   "execution_count": 22,
   "metadata": {},
   "outputs": [
    {
     "data": {
      "text/plain": [
       "array([16., 11.,  5., 14., 12., 26., 24., 27.,  9.,  6., 17., 25.,  3.,\n",
       "       23., 19., 18.,  4., 22.,  8.,  2., 10.,  7., 13., 15., nan, 20.,\n",
       "       28., 36., 21., 35., 34., 60.,  1., 29., 33., 52., 37.])"
      ]
     },
     "execution_count": 22,
     "metadata": {},
     "output_type": "execute_result"
    }
   ],
   "source": [
    "data['floors_total'].unique()"
   ]
  },
  {
   "cell_type": "code",
   "execution_count": 23,
   "metadata": {},
   "outputs": [],
   "source": [
    "data.dropna(subset=['floors_total'], inplace=True)"
   ]
  },
  {
   "cell_type": "markdown",
   "metadata": {},
   "source": [
    "Удалила строки без этажей, но не стала трогать номера этажей, т.к. самое высокое здание в Спб имеет 87 этажей (Лахта-центр) и кто знает?"
   ]
  },
  {
   "cell_type": "code",
   "execution_count": 24,
   "metadata": {},
   "outputs": [
    {
     "data": {
      "text/plain": [
       "array([  2.7 ,    nan,   3.03,   2.5 ,   2.67,   2.56,   3.05,   2.75,\n",
       "         2.6 ,   2.9 ,   2.8 ,   2.55,   3.  ,   2.65,   3.2 ,   2.61,\n",
       "         3.25,   3.45,   2.77,   2.85,   2.64,   2.57,   4.15,   3.5 ,\n",
       "         3.3 ,   2.71,   4.  ,   2.47,   2.73,   2.84,   3.1 ,   2.34,\n",
       "         3.4 ,   3.06,   2.72,   2.54,   2.51,   2.78,   2.76,  25.  ,\n",
       "         2.58,   3.7 ,   2.52,   5.2 ,   2.87,   2.66,   2.59,   2.  ,\n",
       "         2.45,   3.6 ,   2.92,   3.11,   3.13,   3.8 ,   3.15,   3.55,\n",
       "         3.62,   3.12,   2.53,   2.74,   2.96,   2.46,   5.3 ,   5.  ,\n",
       "         2.79,   2.95,   4.06,   2.94,   3.82,   3.54,   3.53,   2.83,\n",
       "         4.7 ,   2.4 ,   3.38,   3.01,   5.6 ,   3.65,   3.9 ,   3.18,\n",
       "         3.35,   2.3 ,   3.57,   2.48,   2.62,   2.82,   3.98,   2.63,\n",
       "         3.83,   3.52,   3.95,   3.75,   2.88,   3.67,   3.87,   3.66,\n",
       "         3.85,   3.86,   4.19,   3.24,   4.8 ,   4.5 ,   4.2 ,   3.36,\n",
       "        32.  ,   3.08,   3.68,   3.07,   3.37,   3.09,   8.  ,   3.16,\n",
       "         3.26,   3.34,   2.81,   3.44,   2.97,   3.14,   4.37,   2.68,\n",
       "         3.22,   3.27,  27.  ,   4.1 ,   2.93,   3.46,  24.  ,   3.47,\n",
       "         3.33,   3.63,   3.32,  26.  ,   1.2 ,   8.3 ,   2.98,   2.86,\n",
       "         3.17,   4.4 ,   3.28,   3.04,   4.45,   5.5 ,   3.84,   3.23,\n",
       "         3.02,   3.21,   3.78,   4.3 ,   3.39,   2.69,   3.31,   4.65,\n",
       "         3.56,   2.2 ,   3.51,   3.93,   3.42,   2.99,   3.49,  14.  ,\n",
       "         4.14,   2.91,   3.88,   1.75,   4.25,   3.29,  20.  ,   2.25,\n",
       "         3.76,   3.69,   6.  ,  22.6 ,   2.89,   3.58,   5.8 ,  27.5 ,\n",
       "         2.49,   4.9 ,   3.48,  10.3 ,   1.  , 100.  ,   3.59])"
      ]
     },
     "execution_count": 24,
     "metadata": {},
     "output_type": "execute_result"
    }
   ],
   "source": [
    "data['ceiling_height'].unique()"
   ]
  },
  {
   "cell_type": "code",
   "execution_count": 25,
   "metadata": {},
   "outputs": [],
   "source": [
    "data = data.loc[data['ceiling_height'] > 2.4]"
   ]
  },
  {
   "cell_type": "code",
   "execution_count": 26,
   "metadata": {},
   "outputs": [
    {
     "data": {
      "text/plain": [
       "array([  2.7 ,   3.03,   2.5 ,   2.67,   2.56,   3.05,   2.75,   2.6 ,\n",
       "         2.9 ,   2.8 ,   2.55,   3.  ,   2.65,   3.2 ,   2.61,   3.25,\n",
       "         3.45,   2.77,   2.85,   2.64,   2.57,   4.15,   3.5 ,   3.3 ,\n",
       "         2.71,   4.  ,   2.47,   2.73,   2.84,   3.1 ,   3.4 ,   3.06,\n",
       "         2.72,   2.54,   2.51,   2.78,   2.76,  25.  ,   2.58,   3.7 ,\n",
       "         2.52,   5.2 ,   2.87,   2.66,   2.59,   2.45,   3.6 ,   2.92,\n",
       "         3.11,   3.13,   3.8 ,   3.15,   3.55,   3.62,   3.12,   2.53,\n",
       "         2.74,   2.96,   2.46,   5.3 ,   5.  ,   2.79,   2.95,   4.06,\n",
       "         2.94,   3.82,   3.54,   3.53,   2.83,   4.7 ,   3.38,   3.01,\n",
       "         5.6 ,   3.65,   3.9 ,   3.18,   3.35,   3.57,   2.48,   2.62,\n",
       "         2.82,   3.98,   2.63,   3.83,   3.52,   3.95,   3.75,   2.88,\n",
       "         3.67,   3.87,   3.66,   3.85,   3.86,   4.19,   3.24,   4.8 ,\n",
       "         4.5 ,   4.2 ,   3.36,  32.  ,   3.08,   3.68,   3.07,   3.37,\n",
       "         3.09,   8.  ,   3.16,   3.26,   3.34,   2.81,   3.44,   2.97,\n",
       "         3.14,   4.37,   2.68,   3.22,   3.27,  27.  ,   4.1 ,   2.93,\n",
       "         3.46,  24.  ,   3.47,   3.33,   3.63,   3.32,  26.  ,   8.3 ,\n",
       "         2.98,   2.86,   3.17,   4.4 ,   3.28,   3.04,   4.45,   5.5 ,\n",
       "         3.84,   3.23,   3.02,   3.21,   3.78,   4.3 ,   3.39,   2.69,\n",
       "         3.31,   4.65,   3.56,   3.51,   3.93,   3.42,   2.99,   3.49,\n",
       "        14.  ,   4.14,   2.91,   3.88,   4.25,   3.29,  20.  ,   3.76,\n",
       "         3.69,   6.  ,  22.6 ,   2.89,   3.58,   5.8 ,  27.5 ,   2.49,\n",
       "         4.9 ,   3.48,  10.3 , 100.  ,   3.59])"
      ]
     },
     "execution_count": 26,
     "metadata": {},
     "output_type": "execute_result"
    }
   ],
   "source": [
    "data['ceiling_height'].unique()"
   ]
  },
  {
   "cell_type": "markdown",
   "metadata": {},
   "source": [
    "Т.к. согласно интернету, минимальное значение высоты потолков в РФ = 2.4 м, остальные удалила. Вероятно, можно было их \"дорастить\", но сочла, что в имеющихся данных это несущественно."
   ]
  },
  {
   "cell_type": "code",
   "execution_count": 27,
   "metadata": {},
   "outputs": [],
   "source": [
    "data = data.replace({'ceiling_height':{25:2.5, 32:3.2, 26:2.6, 27:2.7, 24:2.4, 20:2.4, 14:2.4, 27.5:2.75, 22.6:2.26}})"
   ]
  },
  {
   "cell_type": "code",
   "execution_count": 28,
   "metadata": {},
   "outputs": [
    {
     "data": {
      "text/plain": [
       "array([  2.7 ,   3.03,   2.5 ,   2.67,   2.56,   3.05,   2.75,   2.6 ,\n",
       "         2.9 ,   2.8 ,   2.55,   3.  ,   2.65,   3.2 ,   2.61,   3.25,\n",
       "         3.45,   2.77,   2.85,   2.64,   2.57,   4.15,   3.5 ,   3.3 ,\n",
       "         2.71,   4.  ,   2.47,   2.73,   2.84,   3.1 ,   3.4 ,   3.06,\n",
       "         2.72,   2.54,   2.51,   2.78,   2.76,   2.58,   3.7 ,   2.52,\n",
       "         5.2 ,   2.87,   2.66,   2.59,   2.45,   3.6 ,   2.92,   3.11,\n",
       "         3.13,   3.8 ,   3.15,   3.55,   3.62,   3.12,   2.53,   2.74,\n",
       "         2.96,   2.46,   5.3 ,   5.  ,   2.79,   2.95,   4.06,   2.94,\n",
       "         3.82,   3.54,   3.53,   2.83,   4.7 ,   3.38,   3.01,   5.6 ,\n",
       "         3.65,   3.9 ,   3.18,   3.35,   3.57,   2.48,   2.62,   2.82,\n",
       "         3.98,   2.63,   3.83,   3.52,   3.95,   3.75,   2.88,   3.67,\n",
       "         3.87,   3.66,   3.85,   3.86,   4.19,   3.24,   4.8 ,   4.5 ,\n",
       "         4.2 ,   3.36,   3.08,   3.68,   3.07,   3.37,   3.09,   8.  ,\n",
       "         3.16,   3.26,   3.34,   2.81,   3.44,   2.97,   3.14,   4.37,\n",
       "         2.68,   3.22,   3.27,   4.1 ,   2.93,   3.46,   2.4 ,   3.47,\n",
       "         3.33,   3.63,   3.32,   8.3 ,   2.98,   2.86,   3.17,   4.4 ,\n",
       "         3.28,   3.04,   4.45,   5.5 ,   3.84,   3.23,   3.02,   3.21,\n",
       "         3.78,   4.3 ,   3.39,   2.69,   3.31,   4.65,   3.56,   3.51,\n",
       "         3.93,   3.42,   2.99,   3.49,   4.14,   2.91,   3.88,   4.25,\n",
       "         3.29,   3.76,   3.69,   6.  ,   2.26,   2.89,   3.58,   5.8 ,\n",
       "         2.49,   4.9 ,   3.48,  10.3 , 100.  ,   3.59])"
      ]
     },
     "execution_count": 28,
     "metadata": {},
     "output_type": "execute_result"
    }
   ],
   "source": [
    "data['ceiling_height'].unique()"
   ]
  },
  {
   "cell_type": "markdown",
   "metadata": {},
   "source": [
    "Привела явные аномалии типа 25 м высоты к более правдоподобным 2.5 м."
   ]
  },
  {
   "cell_type": "code",
   "execution_count": 29,
   "metadata": {},
   "outputs": [],
   "source": [
    "data = data.loc[data['ceiling_height'] < 5.9]"
   ]
  },
  {
   "cell_type": "code",
   "execution_count": 30,
   "metadata": {},
   "outputs": [
    {
     "data": {
      "text/plain": [
       "array([2.7 , 3.03, 2.5 , 2.67, 2.56, 3.05, 2.75, 2.6 , 2.9 , 2.8 , 2.55,\n",
       "       3.  , 2.65, 3.2 , 2.61, 3.25, 3.45, 2.77, 2.85, 2.64, 2.57, 4.15,\n",
       "       3.5 , 3.3 , 2.71, 4.  , 2.47, 2.73, 2.84, 3.1 , 3.4 , 3.06, 2.72,\n",
       "       2.54, 2.51, 2.78, 2.76, 2.58, 3.7 , 2.52, 5.2 , 2.87, 2.66, 2.59,\n",
       "       2.45, 3.6 , 2.92, 3.11, 3.13, 3.8 , 3.15, 3.55, 3.62, 3.12, 2.53,\n",
       "       2.74, 2.96, 2.46, 5.3 , 5.  , 2.79, 2.95, 4.06, 2.94, 3.82, 3.54,\n",
       "       3.53, 2.83, 4.7 , 3.38, 3.01, 5.6 , 3.65, 3.9 , 3.18, 3.35, 3.57,\n",
       "       2.48, 2.62, 2.82, 3.98, 2.63, 3.83, 3.52, 3.95, 3.75, 2.88, 3.67,\n",
       "       3.87, 3.66, 3.85, 3.86, 4.19, 3.24, 4.8 , 4.5 , 4.2 , 3.36, 3.08,\n",
       "       3.68, 3.07, 3.37, 3.09, 3.16, 3.26, 3.34, 2.81, 3.44, 2.97, 3.14,\n",
       "       4.37, 2.68, 3.22, 3.27, 4.1 , 2.93, 3.46, 2.4 , 3.47, 3.33, 3.63,\n",
       "       3.32, 2.98, 2.86, 3.17, 4.4 , 3.28, 3.04, 4.45, 5.5 , 3.84, 3.23,\n",
       "       3.02, 3.21, 3.78, 4.3 , 3.39, 2.69, 3.31, 4.65, 3.56, 3.51, 3.93,\n",
       "       3.42, 2.99, 3.49, 4.14, 2.91, 3.88, 4.25, 3.29, 3.76, 3.69, 2.26,\n",
       "       2.89, 3.58, 5.8 , 2.49, 4.9 , 3.48, 3.59])"
      ]
     },
     "execution_count": 30,
     "metadata": {},
     "output_type": "execute_result"
    }
   ],
   "source": [
    "data['ceiling_height'].unique()"
   ]
  },
  {
   "cell_type": "markdown",
   "metadata": {},
   "source": [
    "Также убрала высоту потолков от 6 м, как неправдоподобную."
   ]
  },
  {
   "cell_type": "code",
   "execution_count": 31,
   "metadata": {},
   "outputs": [
    {
     "data": {
      "text/plain": [
       "array([51.  , 32.  , 43.6 , ..., 13.59,  3.  , 12.6 ])"
      ]
     },
     "execution_count": 31,
     "metadata": {},
     "output_type": "execute_result"
    }
   ],
   "source": [
    "data['living_area'].unique()"
   ]
  },
  {
   "cell_type": "code",
   "execution_count": 32,
   "metadata": {},
   "outputs": [],
   "source": [
    "data = data.loc[data['living_area'] > 3]"
   ]
  },
  {
   "cell_type": "code",
   "execution_count": 33,
   "metadata": {},
   "outputs": [
    {
     "data": {
      "text/plain": [
       "array([51.  , 32.  , 43.6 , ..., 30.75, 13.59, 12.6 ])"
      ]
     },
     "execution_count": 33,
     "metadata": {},
     "output_type": "execute_result"
    }
   ],
   "source": [
    "data['living_area'].unique()"
   ]
  },
  {
   "cell_type": "markdown",
   "metadata": {},
   "source": [
    "3 метра - что за собачья конура? Удаляем."
   ]
  },
  {
   "cell_type": "code",
   "execution_count": 34,
   "metadata": {},
   "outputs": [
    {
     "data": {
      "text/plain": [
       "array([ 8, 13,  7,  3,  5,  1,  2, 11, 15,  9, 18,  4, 22, 19, 20,  6, 10,\n",
       "       25, 17, 14, 12, 21, 24, 16, 23, 30, 26, 27, 29])"
      ]
     },
     "execution_count": 34,
     "metadata": {},
     "output_type": "execute_result"
    }
   ],
   "source": [
    "data['floor'].unique()"
   ]
  },
  {
   "cell_type": "code",
   "execution_count": 35,
   "metadata": {},
   "outputs": [
    {
     "data": {
      "text/plain": [
       "array([nan, False, True], dtype=object)"
      ]
     },
     "execution_count": 35,
     "metadata": {},
     "output_type": "execute_result"
    }
   ],
   "source": [
    "data['is_apartment'].unique()"
   ]
  },
  {
   "cell_type": "code",
   "execution_count": 36,
   "metadata": {},
   "outputs": [],
   "source": [
    "data['is_apartment']=data['is_apartment'].fillna(False)"
   ]
  },
  {
   "cell_type": "markdown",
   "metadata": {},
   "source": [
    "В колонке is_apartment не везде было указано, что это апартаменты. Заменим пропуски на False."
   ]
  },
  {
   "cell_type": "code",
   "execution_count": 37,
   "metadata": {},
   "outputs": [
    {
     "data": {
      "text/plain": [
       "array([False,  True])"
      ]
     },
     "execution_count": 37,
     "metadata": {},
     "output_type": "execute_result"
    }
   ],
   "source": [
    "data['is_apartment'].unique()"
   ]
  },
  {
   "cell_type": "code",
   "execution_count": 38,
   "metadata": {},
   "outputs": [
    {
     "data": {
      "text/plain": [
       "array([False,  True])"
      ]
     },
     "execution_count": 38,
     "metadata": {},
     "output_type": "execute_result"
    }
   ],
   "source": [
    "data['studio'].unique()"
   ]
  },
  {
   "cell_type": "code",
   "execution_count": 39,
   "metadata": {},
   "outputs": [
    {
     "data": {
      "text/plain": [
       "array([False,  True])"
      ]
     },
     "execution_count": 39,
     "metadata": {},
     "output_type": "execute_result"
    }
   ],
   "source": [
    "data['open_plan'].unique()"
   ]
  },
  {
   "cell_type": "code",
   "execution_count": 40,
   "metadata": {
    "scrolled": true
   },
   "outputs": [
    {
     "data": {
      "text/plain": [
       "array([25.  , 41.  ,  6.5 ,  8.5 ,  5.2 ,  9.  ,  5.6 , 12.  , 11.  ,\n",
       "        6.1 , 15.  ,  9.2 , 11.7 , 13.4 ,  8.  , 11.6 ,  8.8 , 10.  ,\n",
       "       17.6 ,  7.5 ,  7.  ,  8.3 ,  6.  , 50.  , 10.7 , 11.1 , 11.9 ,\n",
       "       16.  ,  5.3 , 11.5 ,  7.2 ,  6.2 ,  7.1 ,  4.9 ,  7.3 , 11.95,\n",
       "       10.2 ,  5.5 , 13.  , 20.  ,  6.3 ,  8.4 ,  5.  , 24.  , 17.  ,\n",
       "       26.85, 15.4 ,  7.8 , 33.8 ,  7.6 , 12.72, 12.2 ,   nan, 19.  ,\n",
       "        7.9 , 10.3 ,  9.8 , 17.5 , 14.7 , 21.3 , 10.6 ,  7.7 , 12.5 ,\n",
       "       10.4 ,  5.7 , 11.4 ,  8.6 , 14.1 , 10.9 , 12.9 , 21.5 , 35.  ,\n",
       "       10.5 ,  8.2 ,  9.5 ,  8.7 , 49.2 ,  9.6 , 14.2 ,  8.1 , 10.44,\n",
       "       14.4 ,  5.4 , 16.3 ,  6.4 ,  7.4 , 11.3 ,  9.4 , 13.1 ,  8.9 ,\n",
       "       11.2 , 22.  , 30.  , 36.  , 10.8 ,  9.9 , 18.  , 19.4 ,  4.5 ,\n",
       "       11.8 ,  9.7 , 17.7 ,  5.1 , 21.1 , 14.  , 13.5 , 16.5 , 13.2 ,\n",
       "       17.2 , 77.  , 12.3 ,  9.3 ,  9.28, 13.8 , 16.1 , 14.5 , 15.5 ,\n",
       "       23.1 , 10.1 , 23.  , 16.2 , 19.2 , 15.1 , 26.4 , 10.59,  9.57,\n",
       "       23.43, 15.2 ,  8.07, 13.39, 36.6 , 15.3 , 18.5 , 23.9 , 19.9 ,\n",
       "       16.9 ,  5.49, 31.2 ,  6.8 ,  6.7 , 13.6 , 10.75, 18.8 , 17.8 ,\n",
       "        2.  ,  5.8 , 11.06, 12.6 , 11.35, 63.  ,  6.6 , 21.  , 20.6 ,\n",
       "       11.78, 20.52,  5.75, 66.  ,  9.1 , 13.3 , 23.5 , 24.3 ,  6.9 ,\n",
       "       14.8 , 19.5 ,  8.87,  8.71, 12.7 ,  9.95,  9.36, 15.7 ,  9.67,\n",
       "       32.  ,  5.9 , 16.7 , 16.4 ,  6.36, 27.  , 12.4 , 17.1 , 20.5 ,\n",
       "        9.18, 15.61, 40.  , 11.24, 22.31,  9.45, 14.49,  5.35, 29.9 ,\n",
       "       25.1 ,  8.08,  6.25, 26.  , 35.35, 12.8 , 30.2 , 46.  , 14.56,\n",
       "       13.67, 16.72, 11.14, 14.9 , 17.9 ,  4.  ,  8.21, 12.18, 25.34,\n",
       "        9.25, 13.9 , 22.1 ,  9.39, 15.9 , 24.7 , 20.8 , 27.4 ,  7.17,\n",
       "        3.  ,  8.23,  9.17, 43.  , 13.7 , 11.39, 18.3 , 19.92, 18.6 ,\n",
       "       11.81, 18.45, 39.  , 10.91, 37.8 ,  4.8 ,  5.78, 21.2 ,  9.68,\n",
       "        8.25, 18.9 ,  4.7 , 17.4 , 18.1 , 17.3 ,  6.35, 23.3 , 14.6 ,\n",
       "       12.1 , 10.88,  6.76, 10.29, 25.6 , 21.87,  3.2 , 10.39, 10.89,\n",
       "       10.55,  3.8 , 36.2 , 10.51,  5.62, 38.  , 21.9 , 19.1 , 12.17,\n",
       "       19.8 ,  4.2 ,  7.89, 15.6 , 31.7 , 24.4 , 19.7 , 30.9 , 60.  ,\n",
       "       12.05, 15.33,  6.58,  9.93, 25.3 , 13.05, 36.5 , 15.8 , 13.53,\n",
       "       15.69, 42.  , 29.  , 48.  , 14.3 , 30.5 , 29.3 , 45.  , 44.  ,\n",
       "       13.38, 26.6 ,  6.55,  6.72, 13.02, 11.17, 28.  , 25.2 , 56.2 ,\n",
       "       28.2 , 12.29, 11.59,  8.38,  5.47, 10.64, 10.09, 12.92, 23.53,\n",
       "       37.7 , 13.42, 32.8 , 20.16, 10.12,  7.12, 17.64, 11.41, 40.4 ,\n",
       "       31.47, 13.55, 13.28,  8.32, 11.55, 13.81, 24.1 ,  7.65,  9.91,\n",
       "       10.84, 34.19, 18.7 , 20.1 ,  7.18, 16.6 , 23.8 , 19.3 ,  8.05,\n",
       "        8.06, 12.96, 21.4 , 44.9 ,  9.72, 10.78, 11.18, 51.  , 18.2 ,\n",
       "       21.8 , 11.85, 10.94, 13.49, 42.4 , 28.8 , 25.7 ,  5.86,  7.63,\n",
       "       29.4 , 11.47, 20.9 , 13.25, 19.35, 17.28, 39.9 , 23.4 ,  8.19,\n",
       "       28.4 , 11.12, 31.  , 25.11, 14.02, 13.06,  8.01,  8.65, 20.38,\n",
       "        5.53, 17.85, 20.7 ,  9.46,  6.31, 11.57, 14.46, 43.4 , 24.5 ,\n",
       "        7.95, 12.23, 21.7 , 11.37, 19.51, 20.3 , 41.9 ,  6.82, 11.36,\n",
       "       10.08, 37.  , 14.95,  8.76, 10.03,  9.35, 45.5 , 22.7 ,  7.36,\n",
       "        9.85, 33.9 , 42.8 ,  5.25, 11.11, 12.85,  9.51, 58.4 , 10.34,\n",
       "       23.71,  6.83, 11.92, 11.84, 12.56, 53.1 , 41.3 ,  9.01,  5.82,\n",
       "        3.7 ,  2.4 , 31.8 , 42.7 , 40.5 , 12.02, 18.4 , 12.76,  8.66,\n",
       "       15.83, 18.59, 14.04, 11.31, 13.93,  7.54, 13.69, 13.64,  5.61,\n",
       "       19.45, 17.59, 29.1 , 15.42, 11.09, 15.72,  7.85,  9.27, 13.41,\n",
       "        5.23,  9.09, 14.64, 16.66, 12.55, 32.55,  6.62, 16.8 , 13.26,\n",
       "       32.3 , 14.14,  9.62, 15.85,  7.78, 34.7 ,  8.45, 15.62, 10.18,\n",
       "        9.16, 22.3 , 14.17, 15.39,  8.84, 27.9 , 33.  , 32.1 ,  9.52,\n",
       "       34.  , 28.1 ,  4.6 , 10.49, 15.07, 22.5 , 20.31,  9.98, 37.9 ,\n",
       "       47.  , 51.8 , 14.27, 19.61,  9.44, 27.76, 25.86, 26.2 ,  8.35,\n",
       "       19.6 , 10.27, 29.5 , 10.73, 13.84,  6.19, 28.5 , 22.4 , 16.25,\n",
       "       23.6 ,  4.4 , 27.5 ,  6.28, 12.01, 13.35,  3.4 ,  8.96, 27.3 ,\n",
       "       10.35, 35.5 , 22.2 ,  4.1 , 10.15,  7.19, 62.  , 34.3 , 48.5 ,\n",
       "       30.6 , 10.74, 13.24,  5.91,  9.43, 20.92, 33.1 , 10.37,  6.27,\n",
       "       26.8 ,  8.31, 12.37, 22.6 , 33.6 , 15.54,  6.23, 15.35, 37.5 ,\n",
       "       34.1 , 13.47, 56.  , 43.8 ,  3.5 , 29.09,  6.33, 24.8 ,  5.64,\n",
       "       10.52, 22.43, 32.7 ,  5.44,  6.22,  7.41, 75.  , 34.51, 31.73,\n",
       "       35.6 , 54.3 , 28.7 ,  3.3 , 62.5 ,  9.65, 11.25,  5.42, 13.31,\n",
       "       13.52, 26.9 , 35.4 , 13.95, 70.  ,  9.34, 64.  , 37.78, 29.8 ,\n",
       "        6.95, 16.05, 11.65, 38.1 , 10.86,  8.85, 16.45,  7.84, 93.2 ,\n",
       "       11.05, 10.19, 17.12,  5.28, 12.53, 14.51,  9.31, 31.6 , 72.  ,\n",
       "       36.4 , 10.05,  6.93, 15.15, 32.9 , 55.7 , 24.89, 22.78, 16.47,\n",
       "       38.86, 22.46, 13.74, 31.5 , 11.53, 12.11, 10.17, 10.63, 12.71,\n",
       "        9.42, 20.77, 28.64, 11.67, 13.86, 24.2 , 12.87, 39.7 , 10.54,\n",
       "        5.06, 14.29,  8.52, 13.32, 35.9 , 31.4 ,  6.61, 20.4 ,  6.65,\n",
       "       20.24, 13.77, 28.3 , 14.58,  9.19,  8.67, 21.22, 12.57, 12.03,\n",
       "       10.24, 19.28, 12.24, 10.26, 11.64, 26.1 ,  1.3 , 55.5 , 48.3 ,\n",
       "        8.77, 36.3 , 53.  ,  9.08, 50.2 , 15.03, 16.38, 12.43, 58.  ,\n",
       "       24.6 , 11.33, 49.4 , 12.83, 10.72, 12.25,  8.48, 28.56, 18.34,\n",
       "       14.85, 15.18, 10.69,  8.02,  7.71,  8.95,  9.73, 26.7 ,  8.18,\n",
       "       11.07,  7.09,  7.03, 10.43, 10.79, 10.56, 10.33, 14.98,  5.14,\n",
       "       65.  ,  5.59, 22.9 , 35.1 , 10.95, 40.1 ,  5.85,  6.24, 30.8 ,\n",
       "       10.22, 18.55, 17.87, 11.44, 13.83])"
      ]
     },
     "execution_count": 40,
     "metadata": {},
     "output_type": "execute_result"
    }
   ],
   "source": [
    "data['kitchen_area'].unique()"
   ]
  },
  {
   "cell_type": "code",
   "execution_count": 41,
   "metadata": {},
   "outputs": [],
   "source": [
    "data = data.loc[data['kitchen_area'] < 21]"
   ]
  },
  {
   "cell_type": "markdown",
   "metadata": {},
   "source": [
    "Тк максимальная площадь квартиры у нас 138 м, кухня более 20 м кажется невозможной."
   ]
  },
  {
   "cell_type": "code",
   "execution_count": 42,
   "metadata": {},
   "outputs": [
    {
     "data": {
      "text/plain": [
       "array([ 6.5 ,  8.5 ,  5.2 ,  9.  ,  5.6 , 12.  , 11.  ,  6.1 , 15.  ,\n",
       "        9.2 , 11.7 , 13.4 ,  8.  , 11.6 ,  8.8 , 10.  , 17.6 ,  7.5 ,\n",
       "        7.  ,  8.3 ,  6.  , 10.7 , 11.1 , 11.9 , 16.  ,  5.3 , 11.5 ,\n",
       "        7.2 ,  6.2 ,  7.1 ,  4.9 ,  7.3 , 11.95, 10.2 ,  5.5 , 13.  ,\n",
       "       20.  ,  6.3 ,  8.4 ,  5.  , 17.  , 15.4 ,  7.8 ,  7.6 , 12.72,\n",
       "       12.2 , 19.  ,  7.9 , 10.3 ,  9.8 , 17.5 , 14.7 , 10.6 ,  7.7 ,\n",
       "       12.5 , 10.4 ,  5.7 , 11.4 ,  8.6 , 14.1 , 10.9 , 12.9 , 10.5 ,\n",
       "        8.2 ,  9.5 ,  8.7 ,  9.6 , 14.2 ,  8.1 , 10.44, 14.4 ,  5.4 ,\n",
       "       16.3 ,  6.4 ,  7.4 , 11.3 ,  9.4 , 13.1 ,  8.9 , 11.2 , 10.8 ,\n",
       "        9.9 , 18.  , 19.4 ,  4.5 , 11.8 ,  9.7 , 17.7 ,  5.1 , 14.  ,\n",
       "       13.5 , 16.5 , 13.2 , 17.2 , 12.3 ,  9.3 ,  9.28, 13.8 , 16.1 ,\n",
       "       14.5 , 15.5 , 10.1 , 16.2 , 19.2 , 15.1 , 10.59,  9.57, 15.2 ,\n",
       "        8.07, 13.39, 15.3 , 18.5 , 19.9 , 16.9 ,  5.49,  6.8 ,  6.7 ,\n",
       "       13.6 , 10.75, 18.8 , 17.8 ,  2.  ,  5.8 , 11.06, 12.6 , 11.35,\n",
       "        6.6 , 20.6 , 11.78, 20.52,  5.75,  9.1 , 13.3 ,  6.9 , 14.8 ,\n",
       "       19.5 ,  8.87,  8.71, 12.7 ,  9.95,  9.36, 15.7 ,  9.67,  5.9 ,\n",
       "       16.7 , 16.4 ,  6.36, 12.4 , 17.1 , 20.5 ,  9.18, 15.61, 11.24,\n",
       "        9.45, 14.49,  5.35,  8.08,  6.25, 12.8 , 14.56, 13.67, 16.72,\n",
       "       11.14, 14.9 , 17.9 ,  4.  ,  8.21, 12.18,  9.25, 13.9 ,  9.39,\n",
       "       15.9 , 20.8 ,  7.17,  3.  ,  8.23,  9.17, 13.7 , 11.39, 18.3 ,\n",
       "       19.92, 18.6 , 11.81, 18.45, 10.91,  4.8 ,  5.78,  9.68,  8.25,\n",
       "       18.9 ,  4.7 , 17.4 , 18.1 , 17.3 ,  6.35, 14.6 , 12.1 , 10.88,\n",
       "        6.76, 10.29,  3.2 , 10.39, 10.89, 10.55,  3.8 , 10.51,  5.62,\n",
       "       19.1 , 12.17, 19.8 ,  4.2 ,  7.89, 15.6 , 19.7 , 12.05, 15.33,\n",
       "        6.58,  9.93, 13.05, 15.8 , 13.53, 15.69, 14.3 , 13.38,  6.55,\n",
       "        6.72, 13.02, 11.17, 12.29, 11.59,  8.38,  5.47, 10.64, 10.09,\n",
       "       12.92, 13.42, 20.16, 10.12,  7.12, 17.64, 11.41, 13.55, 13.28,\n",
       "        8.32, 11.55, 13.81,  7.65,  9.91, 10.84, 18.7 , 20.1 ,  7.18,\n",
       "       16.6 , 19.3 ,  8.05,  8.06, 12.96,  9.72, 10.78, 11.18, 18.2 ,\n",
       "       11.85, 10.94, 13.49,  5.86,  7.63, 11.47, 20.9 , 13.25, 19.35,\n",
       "       17.28,  8.19, 11.12, 14.02, 13.06,  8.01,  8.65, 20.38,  5.53,\n",
       "       17.85, 20.7 ,  9.46,  6.31, 11.57, 14.46,  7.95, 12.23, 11.37,\n",
       "       19.51, 20.3 ,  6.82, 11.36, 10.08, 14.95,  8.76, 10.03,  9.35,\n",
       "        7.36,  9.85,  5.25, 11.11, 12.85,  9.51, 10.34,  6.83, 11.92,\n",
       "       11.84, 12.56,  9.01,  5.82,  3.7 ,  2.4 , 12.02, 18.4 , 12.76,\n",
       "        8.66, 15.83, 18.59, 14.04, 11.31, 13.93,  7.54, 13.69, 13.64,\n",
       "        5.61, 19.45, 17.59, 15.42, 11.09, 15.72,  7.85,  9.27, 13.41,\n",
       "        5.23,  9.09, 14.64, 16.66, 12.55,  6.62, 16.8 , 13.26, 14.14,\n",
       "        9.62, 15.85,  7.78,  8.45, 15.62, 10.18,  9.16, 14.17, 15.39,\n",
       "        8.84,  9.52,  4.6 , 10.49, 15.07, 20.31,  9.98, 14.27, 19.61,\n",
       "        9.44,  8.35, 19.6 , 10.27, 10.73, 13.84,  6.19, 16.25,  4.4 ,\n",
       "        6.28, 12.01, 13.35,  3.4 ,  8.96, 10.35,  4.1 , 10.15,  7.19,\n",
       "       10.74, 13.24,  5.91,  9.43, 20.92, 10.37,  6.27,  8.31, 12.37,\n",
       "       15.54,  6.23, 15.35, 13.47,  3.5 ,  6.33,  5.64, 10.52,  5.44,\n",
       "        6.22,  7.41,  3.3 ,  9.65, 11.25,  5.42, 13.31, 13.52, 13.95,\n",
       "        9.34,  6.95, 16.05, 11.65, 10.86,  8.85, 16.45,  7.84, 11.05,\n",
       "       10.19, 17.12,  5.28, 12.53, 14.51,  9.31, 10.05,  6.93, 15.15,\n",
       "       16.47, 13.74, 11.53, 12.11, 10.17, 10.63, 12.71,  9.42, 20.77,\n",
       "       11.67, 13.86, 12.87, 10.54,  5.06, 14.29,  8.52, 13.32,  6.61,\n",
       "       20.4 ,  6.65, 20.24, 13.77, 14.58,  9.19,  8.67, 12.57, 12.03,\n",
       "       10.24, 19.28, 12.24, 10.26, 11.64,  1.3 ,  8.77,  9.08, 15.03,\n",
       "       16.38, 12.43, 11.33, 12.83, 10.72, 12.25,  8.48, 18.34, 14.85,\n",
       "       15.18, 10.69,  8.02,  7.71,  8.95,  9.73,  8.18, 11.07,  7.09,\n",
       "        7.03, 10.43, 10.79, 10.56, 10.33, 14.98,  5.14,  5.59, 10.95,\n",
       "        5.85,  6.24, 10.22, 18.55, 17.87, 11.44, 13.83])"
      ]
     },
     "execution_count": 42,
     "metadata": {},
     "output_type": "execute_result"
    }
   ],
   "source": [
    "data['kitchen_area'].unique()"
   ]
  },
  {
   "cell_type": "code",
   "execution_count": 43,
   "metadata": {},
   "outputs": [
    {
     "data": {
      "text/plain": [
       "array([ 2., nan,  1.,  0.,  5.,  4.,  3.])"
      ]
     },
     "execution_count": 43,
     "metadata": {},
     "output_type": "execute_result"
    }
   ],
   "source": [
    "data['balcony'].unique()"
   ]
  },
  {
   "cell_type": "code",
   "execution_count": 44,
   "metadata": {},
   "outputs": [],
   "source": [
    "data['balcony']=data['balcony'].fillna(0)\n",
    "data['balcony']=data['balcony'].astype(int)"
   ]
  },
  {
   "cell_type": "markdown",
   "metadata": {},
   "source": [
    "В колонке balcony заменим пропуски на 0, а затем заменим значения на целочисленный тип"
   ]
  },
  {
   "cell_type": "code",
   "execution_count": 45,
   "metadata": {},
   "outputs": [
    {
     "data": {
      "text/plain": [
       "array([2, 0, 1, 5, 4, 3])"
      ]
     },
     "execution_count": 45,
     "metadata": {},
     "output_type": "execute_result"
    }
   ],
   "source": [
    "data['balcony'].unique()"
   ]
  },
  {
   "cell_type": "code",
   "execution_count": 46,
   "metadata": {},
   "outputs": [
    {
     "data": {
      "text/plain": [
       "array(['Санкт-Петербург', 'Петергоф', 'посёлок Парголово',\n",
       "       'деревня Кудрово', 'Пушкин', 'посёлок Мурино', 'Сертолово',\n",
       "       'Гатчина', 'поселок Мурино', 'Ломоносов', 'деревня Фёдоровское',\n",
       "       'Выборг', 'Кронштадт', 'Колпино', 'Кировск',\n",
       "       'деревня Новое Девяткино', 'посёлок городского типа Сиверский',\n",
       "       'садовое товарищество Новая Ропша', 'Павловск', 'Всеволожск',\n",
       "       'Волхов', 'Кингисепп', 'Приозерск', 'Сестрорецк',\n",
       "       'поселок городского типа Кузьмоловский', 'деревня Куттузи',\n",
       "       'поселок Торковичи', 'посёлок Шушары', 'поселок Первомайское',\n",
       "       'Красное Село', 'посёлок Понтонный', 'деревня Старая',\n",
       "       'деревня Лесколово', 'село Путилово', 'Ивангород', 'Сланцы',\n",
       "       'Шлиссельбург', 'Никольское', 'Зеленогорск', 'Сосновый Бор',\n",
       "       'деревня Оржицы', 'деревня Кальтино', 'Кудрово',\n",
       "       'поселок городского типа Рощино', 'Сясьстрой', 'Кириши', 'Луга',\n",
       "       'Волосово', 'поселок Оредеж',\n",
       "       'посёлок городского типа Красный Бор', 'поселок Бугры',\n",
       "       'посёлок Металлострой', 'посёлок Молодёжное', 'деревня Нурма',\n",
       "       'поселок городского типа Синявино',\n",
       "       'посёлок городского типа Кузьмоловский', 'поселок Романовка',\n",
       "       'посёлок Александровская', 'деревня Лопухинка',\n",
       "       'поселок городского типа Советский', 'посёлок Петровское',\n",
       "       'посёлок городского типа Токсово', 'Тосно', 'деревня Келози',\n",
       "       'деревня Вартемяги', 'Подпорожье', 'посёлок Тельмана',\n",
       "       'городской поселок Большая Ижора', nan,\n",
       "       'городской посёлок Янино-1', 'деревня Агалатово',\n",
       "       'поселок Цвелодубово', 'поселок городского типа Рахья',\n",
       "       'поселок городского типа Вырица', 'деревня Белогорка',\n",
       "       'поселок Заводской', 'деревня Горбунки', 'Мурино',\n",
       "       'деревня Заневка', 'городской посёлок Фёдоровское',\n",
       "       'деревня Мистолово', 'поселок Зимитицы', 'поселок Барышево',\n",
       "       'деревня Разметелево', 'поселок городского типа имени Свердлова',\n",
       "       'деревня Пеники', 'поселок Рябово', 'Отрадное', 'деревня Бегуницы',\n",
       "       'посёлок Поляны', 'посёлок Аннино', 'посёлок Стрельна',\n",
       "       'поселок Елизаветино', 'посёлок городского типа Кузнечное',\n",
       "       'поселок Запорожское', 'посёлок городского типа Рощино',\n",
       "       'поселок Молодцово', 'деревня Гостилицы', 'Коммунар',\n",
       "       'посёлок городского типа имени Морозова', 'посёлок Песочный',\n",
       "       'поселок Ильичёво', 'деревня Колтуши',\n",
       "       'посёлок городского типа Тайцы', 'поселок станции Вещево',\n",
       "       'деревня Калитино', 'поселок городского типа Дубровка',\n",
       "       'посёлок городского типа имени Свердлова', 'деревня Коркино',\n",
       "       'посёлок Ропша', 'поселок городского типа Приладожский',\n",
       "       'посёлок Щеглово', 'посёлок Гаврилово', 'Пикалёво',\n",
       "       'деревня Рабитицы', 'деревня Большие Колпаны',\n",
       "       'посёлок городского типа Лебяжье', 'деревня Кузьмолово',\n",
       "       'деревня Малые Колпаны', 'поселок Тельмана', 'деревня Лаголово',\n",
       "       'городской посёлок Назия', 'село Павлово',\n",
       "       'городской посёлок Павлово', 'посёлок Ильичёво', 'поселок Углово',\n",
       "       'Приморск', 'садовое товарищество Рахья',\n",
       "       'посёлок городского типа Ульяновка', 'поселок Победа',\n",
       "       'деревня Меньково', 'городской посёлок Новоселье',\n",
       "       'посёлок Сапёрный', 'посёлок Бугры', 'деревня Гарболово',\n",
       "       'деревня Юкки', 'поселок Терволово', 'поселок Поляны',\n",
       "       'посёлок Новый Свет', 'посёлок Плодовое', 'посёлок Пудость',\n",
       "       'Светогорск', 'городской посёлок Мга', 'посёлок Победа', 'Любань',\n",
       "       'деревня Кривко', 'поселок Войсковицы', 'поселок Жилпосёлок',\n",
       "       'посёлок Войскорово', 'Тихвин', 'поселок Сельцо',\n",
       "       'поселок Стеклянный', 'село Русско-Высоцкое',\n",
       "       'посёлок Новогорелово', 'городской поселок Янино-1',\n",
       "       'поселок городского типа Красный Бор', 'городской посёлок Виллози',\n",
       "       'деревня Шпаньково', 'деревня Кипень', 'посёлок Терволово',\n",
       "       'деревня Мины', 'посёлок Сумино', 'посёлок Сосново',\n",
       "       'деревня Старосиверская', 'посёлок Кикерино', 'деревня Низино',\n",
       "       'поселок Возрождение', 'посёлок Пригородный', 'посёлок Торфяное',\n",
       "       'поселок Суходолье', 'поселок Красная Долина', 'деревня Хапо-Ое',\n",
       "       'поселок городского типа Дружная Горка', 'поселок Лисий Нос',\n",
       "       'Новая Ладога', 'деревня Яльгелево', 'Каменногорск',\n",
       "       'поселок Семрино', 'деревня Камышовка',\n",
       "       'посёлок городского типа Павлово', 'деревня Ялгино',\n",
       "       'деревня Батово', 'поселок Гончарово', 'поселок Почап',\n",
       "       'посёлок Сапёрное', 'посёлок Платформа 69-й километр',\n",
       "       'посёлок городского типа Важины', 'посёлок городского типа Мга',\n",
       "       'поселок Лукаши', 'посёлок Мичуринское', 'Лодейное Поле',\n",
       "       'поселок Петровское', 'городской посёлок Рощино',\n",
       "       'поселок городского типа Никольский', 'поселок Аннино',\n",
       "       'посёлок при железнодорожной станции Вещево', 'деревня Извара',\n",
       "       'поселок Ушаки', 'деревня Котлы', 'деревня Новолисино',\n",
       "       'посёлок станции Громово', 'поселок городского типа Ефимовский',\n",
       "       'деревня Глинка', 'поселок Глажево', 'деревня Старая Пустошь',\n",
       "       'поселок Коммунары', 'поселок Починок', 'посёлок Репино',\n",
       "       'деревня Разбегаево', 'посёлок городского типа Рябово',\n",
       "       'деревня Фалилеево', 'поселок Гладкое',\n",
       "       'посёлок при железнодорожной станции Приветнинское',\n",
       "       'посёлок Жилгородок', 'деревня Бор', 'посёлок Коробицыно',\n",
       "       'деревня Большая Вруда', 'деревня Лампово',\n",
       "       'городской посёлок Лесогорский', 'посёлок Лисий Нос',\n",
       "       'поселок Серебрянский', 'городской посёлок Советский',\n",
       "       'деревня Малое Карлино', 'посёлок Кобралово', 'поселок Кобралово',\n",
       "       'поселок городского типа Кондратьево', 'поселок Мельниково',\n",
       "       'поселок Любань', 'городской посёлок Будогощь',\n",
       "       'поселок городского типа Лебяжье', 'деревня Зимитицы',\n",
       "       'деревня Тойворово', 'поселок Лесное', 'поселок Совхозный',\n",
       "       'деревня Парицы', 'посёлок Суйда',\n",
       "       'посёлок городского типа Форносово', 'поселок Новый Свет',\n",
       "       'деревня Сяськелево', 'поселок Перово',\n",
       "       'посёлок городского типа Вырица', 'Высоцк', 'деревня Малое Верево',\n",
       "       'поселок Гарболово', 'село Копорье', 'поселок Мичуринское',\n",
       "       'поселок Котельский', 'посёлок Стеклянный', 'посёлок Ленинское',\n",
       "       'деревня Пудомяги', 'деревня Большая Пустомержа',\n",
       "       'коттеджный поселок Кивеннапа Север', 'поселок Коробицыно',\n",
       "       'поселок Ромашки', 'поселок Сумино', 'поселок Новый Учхоз',\n",
       "       'деревня Ваганово', 'поселок Пушное',\n",
       "       'поселок станции Приветнинское', 'деревня Кисельня',\n",
       "       'посёлок Старая Малукса', 'деревня Торосово', 'деревня Ненимяки',\n",
       "       'поселок Пансионат Зелёный Бор', 'поселок Громово',\n",
       "       'деревня Рапполово', 'посёлок Мельниково', 'поселок Житково',\n",
       "       'поселок Рабитицы', 'деревня Суоранда', 'поселок Дружноселье',\n",
       "       'деревня Нижняя', 'деревня Борисова Грива', 'посёлок Возрождение',\n",
       "       'поселок Глебычево', 'посёлок Дзержинского'], dtype=object)"
      ]
     },
     "execution_count": 46,
     "metadata": {},
     "output_type": "execute_result"
    }
   ],
   "source": [
    "data['locality_name'].unique()"
   ]
  },
  {
   "cell_type": "code",
   "execution_count": 47,
   "metadata": {},
   "outputs": [],
   "source": [
    "data['locality_name']=data['locality_name'].fillna('неизвестный адрес')"
   ]
  },
  {
   "cell_type": "code",
   "execution_count": 48,
   "metadata": {},
   "outputs": [],
   "source": [
    "data['locality_name'] = data['locality_name'].str.replace('посёлок', 'поселок')"
   ]
  },
  {
   "cell_type": "code",
   "execution_count": 49,
   "metadata": {},
   "outputs": [],
   "source": [
    "data['locality_name'] = data['locality_name'].str.replace('поселок городского типа', 'поселок')"
   ]
  },
  {
   "cell_type": "code",
   "execution_count": 50,
   "metadata": {},
   "outputs": [],
   "source": [
    "data['locality_name'] = data['locality_name'].str.replace('городской поселок', 'поселок')"
   ]
  },
  {
   "cell_type": "code",
   "execution_count": 51,
   "metadata": {},
   "outputs": [],
   "source": [
    "data['locality_name'] = data['locality_name'].str.replace('село', 'поселок')"
   ]
  },
  {
   "cell_type": "code",
   "execution_count": 52,
   "metadata": {},
   "outputs": [],
   "source": [
    "data['locality_name'] = data['locality_name'].str.replace('поселок железнодорожной станции', 'поселок')"
   ]
  },
  {
   "cell_type": "code",
   "execution_count": 53,
   "metadata": {},
   "outputs": [],
   "source": [
    "data['locality_name'] = data['locality_name'].str.replace('попоселокк', 'поселок')"
   ]
  },
  {
   "cell_type": "code",
   "execution_count": 54,
   "metadata": {},
   "outputs": [],
   "source": [
    "data['locality_name'] = data['locality_name'].str.replace('садовое товарищество', 'поселок')"
   ]
  },
  {
   "cell_type": "code",
   "execution_count": 55,
   "metadata": {},
   "outputs": [],
   "source": [
    "data['locality_name'] = data['locality_name'].str.replace('поселок при железнодорожной станции', 'поселок')"
   ]
  },
  {
   "cell_type": "code",
   "execution_count": 56,
   "metadata": {
    "scrolled": true
   },
   "outputs": [
    {
     "data": {
      "text/plain": [
       "array(['Санкт-Петербург', 'Петергоф', 'поселок Парголово',\n",
       "       'деревня Кудрово', 'Пушкин', 'поселок Мурино', 'Сертолово',\n",
       "       'Гатчина', 'Ломоносов', 'деревня Фёдоровское', 'Выборг',\n",
       "       'Кронштадт', 'Колпино', 'Кировск', 'деревня Новое Девяткино',\n",
       "       'поселок Сиверский', 'поселок Новая Ропша', 'Павловск',\n",
       "       'Всеволожск', 'Волхов', 'Кингисепп', 'Приозерск', 'Сестрорецк',\n",
       "       'поселок Кузьмоловский', 'деревня Куттузи', 'поселок Торковичи',\n",
       "       'поселок Шушары', 'поселок Первомайское', 'Красное Село',\n",
       "       'поселок Понтонный', 'деревня Старая', 'деревня Лесколово',\n",
       "       'поселок Путилово', 'Ивангород', 'Сланцы', 'Шлиссельбург',\n",
       "       'Никольское', 'Зеленогорск', 'Сосновый Бор', 'деревня Оржицы',\n",
       "       'деревня Кальтино', 'Кудрово', 'поселок Рощино', 'Сясьстрой',\n",
       "       'Кириши', 'Луга', 'Волосово', 'поселок Оредеж',\n",
       "       'поселок Красный Бор', 'поселок Бугры', 'поселок Металлострой',\n",
       "       'поселок Молодёжное', 'деревня Нурма', 'поселок Синявино',\n",
       "       'поселок Романовка', 'поселок Александровская',\n",
       "       'деревня Лопухинка', 'поселок Советский', 'поселок Петровское',\n",
       "       'поселок Токсово', 'Тосно', 'деревня Келози', 'деревня Вартемяги',\n",
       "       'Подпорожье', 'поселок Тельмана', 'поселок Большая Ижора',\n",
       "       'неизвестный адрес', 'поселок Янино-1', 'деревня Агалатово',\n",
       "       'поселок Цвелодубово', 'поселок Рахья', 'поселок Вырица',\n",
       "       'деревня Белогорка', 'поселок Заводской', 'деревня Горбунки',\n",
       "       'Мурино', 'деревня Заневка', 'поселок Фёдоровское',\n",
       "       'деревня Мистолово', 'поселок Зимитицы', 'поселок Барышево',\n",
       "       'деревня Разметелево', 'поселок имени Свердлова', 'деревня Пеники',\n",
       "       'поселок Рябово', 'Отрадное', 'деревня Бегуницы', 'поселок Поляны',\n",
       "       'поселок Аннино', 'поселок Стрельна', 'поселок Елизаветино',\n",
       "       'поселок Кузнечное', 'поселок Запорожское', 'поселок Молодцово',\n",
       "       'деревня Гостилицы', 'Коммунар', 'поселок имени Морозова',\n",
       "       'поселок Песочный', 'поселок Ильичёво', 'деревня Колтуши',\n",
       "       'поселок Тайцы', 'поселок станции Вещево', 'деревня Калитино',\n",
       "       'поселок Дубровка', 'деревня Коркино', 'поселок Ропша',\n",
       "       'поселок Приладожский', 'поселок Щеглово', 'поселок Гаврилово',\n",
       "       'Пикалёво', 'деревня Рабитицы', 'деревня Большие Колпаны',\n",
       "       'поселок Лебяжье', 'деревня Кузьмолово', 'деревня Малые Колпаны',\n",
       "       'деревня Лаголово', 'поселок Назия', 'поселок Павлово',\n",
       "       'поселок Углово', 'Приморск', 'поселок Ульяновка',\n",
       "       'поселок Победа', 'деревня Меньково', 'поселок Новоселье',\n",
       "       'поселок Сапёрный', 'деревня Гарболово', 'деревня Юкки',\n",
       "       'поселок Терволово', 'поселок Новый Свет', 'поселок Плодовое',\n",
       "       'поселок Пудость', 'Светогорск', 'поселок Мга', 'Любань',\n",
       "       'деревня Кривко', 'поселок Войсковицы', 'поселок Жилпоселок',\n",
       "       'поселок Войскорово', 'Тихвин', 'поселок Сельцо',\n",
       "       'поселок Стеклянный', 'поселок Русско-Высоцкое',\n",
       "       'поселок Новогорелово', 'поселок Виллози', 'деревня Шпаньково',\n",
       "       'деревня Кипень', 'деревня Мины', 'поселок Сумино',\n",
       "       'поселок Сосново', 'деревня Старосиверская', 'поселок Кикерино',\n",
       "       'деревня Низино', 'поселок Возрождение', 'поселок Пригородный',\n",
       "       'поселок Торфяное', 'поселок Суходолье', 'поселок Красная Долина',\n",
       "       'деревня Хапо-Ое', 'поселок Дружная Горка', 'поселок Лисий Нос',\n",
       "       'Новая Ладога', 'деревня Яльгелево', 'Каменногорск',\n",
       "       'поселок Семрино', 'деревня Камышовка', 'деревня Ялгино',\n",
       "       'деревня Батово', 'поселок Гончарово', 'поселок Почап',\n",
       "       'поселок Сапёрное', 'поселок Платформа 69-й километр',\n",
       "       'поселок Важины', 'поселок Лукаши', 'поселок Мичуринское',\n",
       "       'Лодейное Поле', 'поселок Никольский', 'поселок Вещево',\n",
       "       'деревня Извара', 'поселок Ушаки', 'деревня Котлы',\n",
       "       'деревня Новолисино', 'поселок станции Громово',\n",
       "       'поселок Ефимовский', 'деревня Глинка', 'поселок Глажево',\n",
       "       'деревня Старая Пустошь', 'поселок Коммунары', 'поселок Починок',\n",
       "       'поселок Репино', 'деревня Разбегаево', 'деревня Фалилеево',\n",
       "       'поселок Гладкое', 'поселок Приветнинское', 'поселок Жилгородок',\n",
       "       'деревня Бор', 'поселок Коробицыно', 'деревня Большая Вруда',\n",
       "       'деревня Лампово', 'поселок Лесогорский', 'поселок Серебрянский',\n",
       "       'деревня Малое Карлино', 'поселок Кобралово',\n",
       "       'поселок Кондратьево', 'поселок Мельниково', 'поселок Любань',\n",
       "       'поселок Будогощь', 'деревня Зимитицы', 'деревня Тойворово',\n",
       "       'поселок Лесное', 'поселок Совхозный', 'деревня Парицы',\n",
       "       'поселок Суйда', 'поселок Форносово', 'деревня Сяськелево',\n",
       "       'поселок Перово', 'Высоцк', 'деревня Малое Верево',\n",
       "       'поселок Гарболово', 'поселок Копорье', 'поселок Котельский',\n",
       "       'поселок Ленинское', 'деревня Пудомяги',\n",
       "       'деревня Большая Пустомержа', 'коттеджный поселок Кивеннапа Север',\n",
       "       'поселок Ромашки', 'поселок Новый Учхоз', 'деревня Ваганово',\n",
       "       'поселок Пушное', 'поселок станции Приветнинское',\n",
       "       'деревня Кисельня', 'поселок Старая Малукса', 'деревня Торосово',\n",
       "       'деревня Ненимяки', 'поселок Пансионат Зелёный Бор',\n",
       "       'поселок Громово', 'деревня Рапполово', 'поселок Житково',\n",
       "       'поселок Рабитицы', 'деревня Суоранда', 'поселок Дружноселье',\n",
       "       'деревня Нижняя', 'деревня Борисова Грива', 'поселок Глебычево',\n",
       "       'поселок Дзержинского'], dtype=object)"
      ]
     },
     "execution_count": 56,
     "metadata": {},
     "output_type": "execute_result"
    }
   ],
   "source": [
    "data['locality_name'].unique()"
   ]
  },
  {
   "cell_type": "code",
   "execution_count": 57,
   "metadata": {},
   "outputs": [
    {
     "data": {
      "text/plain": [
       "array([50898., 38357., 37868., ..., 28323., 11751., 24665.])"
      ]
     },
     "execution_count": 57,
     "metadata": {},
     "output_type": "execute_result"
    }
   ],
   "source": [
    "data['airports_nearest'].unique()"
   ]
  },
  {
   "cell_type": "code",
   "execution_count": 58,
   "metadata": {},
   "outputs": [
    {
     "data": {
      "text/plain": [
       "array([15008., 13878., 33058., ..., 27977.,  7262.,  4232.])"
      ]
     },
     "execution_count": 58,
     "metadata": {},
     "output_type": "execute_result"
    }
   ],
   "source": [
    "data['city_centers_nearest'].unique()"
   ]
  },
  {
   "cell_type": "markdown",
   "metadata": {},
   "source": [
    "В рамках проекта была проведена детальная предобработка данных, в частности, удалены как аномалии квартиры с более 10 комнатами, строки без этажей,  квартиры с потолками ниже 2,4 м. Потолки типа 25 м были приведены к более адекватному виду 2,5 м. Удалены квартиры с жилплощадью менее 3 м и кухней более 20 м. Пропуски в апартаментах заменены на False. Детально обработаны неявные дубликаты."
   ]
  },
  {
   "cell_type": "markdown",
   "metadata": {},
   "source": [
    "### Посчитайте и добавьте в таблицу новые столбцы"
   ]
  },
  {
   "cell_type": "code",
   "execution_count": 59,
   "metadata": {},
   "outputs": [],
   "source": [
    "#Посчитаем и добавим в таблицу цену квадратного метра:\n",
    "data['price_for_m2']=data['last_price'] / data['total_area']"
   ]
  },
  {
   "cell_type": "code",
   "execution_count": 60,
   "metadata": {},
   "outputs": [],
   "source": [
    "#Посчитаем и добавим в таблицу день недели публикации объявления:\n",
    "data['week_day']=pd.DatetimeIndex(data['first_day_exposition']).weekday"
   ]
  },
  {
   "cell_type": "code",
   "execution_count": 61,
   "metadata": {},
   "outputs": [],
   "source": [
    "#Посчитаем и добавим в таблицу месяц публикации объявления:\n",
    "data['month']=pd.DatetimeIndex(data['first_day_exposition']).month"
   ]
  },
  {
   "cell_type": "code",
   "execution_count": 62,
   "metadata": {},
   "outputs": [],
   "source": [
    "#Посчитаем и добавим в таблицу год публикации объявления:\n",
    "data['year']=pd.DatetimeIndex(data['first_day_exposition']).year"
   ]
  },
  {
   "cell_type": "code",
   "execution_count": 63,
   "metadata": {},
   "outputs": [],
   "source": [
    "#Добавим в таблицу характеристику этажа квартиры (первый, последний или другой):\n",
    "import numpy as np\n",
    "def floor_group(floor, floors_total):\n",
    "    return np.where(floor==floors_total, 'последний', np.where(floor==1, 'первый', 'другой'))\n",
    "data['floor_group'] = floor_group(data['floor'], data['floors_total'])"
   ]
  },
  {
   "cell_type": "code",
   "execution_count": 64,
   "metadata": {},
   "outputs": [],
   "source": [
    "#Добавим в таблицу соотношение жилой и общей площади (k_living), а также отношение площади кухни к общей (k_kitchen):\n",
    "data['k_living'] = data['living_area'] / data['total_area']\n",
    "data['k_kitchen'] = data['kitchen_area'] / data['total_area']"
   ]
  },
  {
   "cell_type": "code",
   "execution_count": 65,
   "metadata": {},
   "outputs": [
    {
     "data": {
      "text/html": [
       "<div>\n",
       "<style scoped>\n",
       "    .dataframe tbody tr th:only-of-type {\n",
       "        vertical-align: middle;\n",
       "    }\n",
       "\n",
       "    .dataframe tbody tr th {\n",
       "        vertical-align: top;\n",
       "    }\n",
       "\n",
       "    .dataframe thead th {\n",
       "        text-align: right;\n",
       "    }\n",
       "</style>\n",
       "<table border=\"1\" class=\"dataframe\">\n",
       "  <thead>\n",
       "    <tr style=\"text-align: right;\">\n",
       "      <th></th>\n",
       "      <th>total_images</th>\n",
       "      <th>last_price</th>\n",
       "      <th>total_area</th>\n",
       "      <th>first_day_exposition</th>\n",
       "      <th>rooms</th>\n",
       "      <th>ceiling_height</th>\n",
       "      <th>floors_total</th>\n",
       "      <th>living_area</th>\n",
       "      <th>floor</th>\n",
       "      <th>is_apartment</th>\n",
       "      <th>studio</th>\n",
       "      <th>open_plan</th>\n",
       "      <th>kitchen_area</th>\n",
       "      <th>balcony</th>\n",
       "      <th>locality_name</th>\n",
       "      <th>airports_nearest</th>\n",
       "      <th>city_centers_nearest</th>\n",
       "      <th>parks_around3000</th>\n",
       "      <th>parks_nearest</th>\n",
       "      <th>ponds_around3000</th>\n",
       "      <th>ponds_nearest</th>\n",
       "      <th>days_exposition</th>\n",
       "      <th>price_for_m2</th>\n",
       "      <th>week_day</th>\n",
       "      <th>month</th>\n",
       "      <th>year</th>\n",
       "      <th>floor_group</th>\n",
       "      <th>k_living</th>\n",
       "      <th>k_kitchen</th>\n",
       "    </tr>\n",
       "  </thead>\n",
       "  <tbody>\n",
       "    <tr>\n",
       "      <th>9</th>\n",
       "      <td>18</td>\n",
       "      <td>5400000.0</td>\n",
       "      <td>61.0</td>\n",
       "      <td>2017-02-26</td>\n",
       "      <td>3</td>\n",
       "      <td>2.50</td>\n",
       "      <td>9.0</td>\n",
       "      <td>43.6</td>\n",
       "      <td>7</td>\n",
       "      <td>False</td>\n",
       "      <td>False</td>\n",
       "      <td>False</td>\n",
       "      <td>6.5</td>\n",
       "      <td>2</td>\n",
       "      <td>Санкт-Петербург</td>\n",
       "      <td>50898.0</td>\n",
       "      <td>15008.0</td>\n",
       "      <td>0.0</td>\n",
       "      <td>NaN</td>\n",
       "      <td>0.0</td>\n",
       "      <td>NaN</td>\n",
       "      <td>289.0</td>\n",
       "      <td>88524.590164</td>\n",
       "      <td>6</td>\n",
       "      <td>2</td>\n",
       "      <td>2017</td>\n",
       "      <td>другой</td>\n",
       "      <td>0.714754</td>\n",
       "      <td>0.106557</td>\n",
       "    </tr>\n",
       "    <tr>\n",
       "      <th>10</th>\n",
       "      <td>5</td>\n",
       "      <td>5050000.0</td>\n",
       "      <td>39.6</td>\n",
       "      <td>2017-11-16</td>\n",
       "      <td>1</td>\n",
       "      <td>2.67</td>\n",
       "      <td>12.0</td>\n",
       "      <td>20.3</td>\n",
       "      <td>3</td>\n",
       "      <td>False</td>\n",
       "      <td>False</td>\n",
       "      <td>False</td>\n",
       "      <td>8.5</td>\n",
       "      <td>0</td>\n",
       "      <td>Санкт-Петербург</td>\n",
       "      <td>38357.0</td>\n",
       "      <td>13878.0</td>\n",
       "      <td>1.0</td>\n",
       "      <td>310.0</td>\n",
       "      <td>2.0</td>\n",
       "      <td>553.0</td>\n",
       "      <td>137.0</td>\n",
       "      <td>127525.252525</td>\n",
       "      <td>3</td>\n",
       "      <td>11</td>\n",
       "      <td>2017</td>\n",
       "      <td>другой</td>\n",
       "      <td>0.512626</td>\n",
       "      <td>0.214646</td>\n",
       "    </tr>\n",
       "    <tr>\n",
       "      <th>13</th>\n",
       "      <td>20</td>\n",
       "      <td>3550000.0</td>\n",
       "      <td>42.8</td>\n",
       "      <td>2017-07-01</td>\n",
       "      <td>2</td>\n",
       "      <td>2.56</td>\n",
       "      <td>5.0</td>\n",
       "      <td>27.0</td>\n",
       "      <td>5</td>\n",
       "      <td>False</td>\n",
       "      <td>False</td>\n",
       "      <td>False</td>\n",
       "      <td>5.2</td>\n",
       "      <td>1</td>\n",
       "      <td>Петергоф</td>\n",
       "      <td>37868.0</td>\n",
       "      <td>33058.0</td>\n",
       "      <td>1.0</td>\n",
       "      <td>294.0</td>\n",
       "      <td>3.0</td>\n",
       "      <td>298.0</td>\n",
       "      <td>366.0</td>\n",
       "      <td>82943.925234</td>\n",
       "      <td>5</td>\n",
       "      <td>7</td>\n",
       "      <td>2017</td>\n",
       "      <td>последний</td>\n",
       "      <td>0.630841</td>\n",
       "      <td>0.121495</td>\n",
       "    </tr>\n",
       "    <tr>\n",
       "      <th>16</th>\n",
       "      <td>11</td>\n",
       "      <td>6700000.0</td>\n",
       "      <td>82.0</td>\n",
       "      <td>2017-11-23</td>\n",
       "      <td>3</td>\n",
       "      <td>3.05</td>\n",
       "      <td>5.0</td>\n",
       "      <td>55.6</td>\n",
       "      <td>1</td>\n",
       "      <td>False</td>\n",
       "      <td>False</td>\n",
       "      <td>False</td>\n",
       "      <td>9.0</td>\n",
       "      <td>0</td>\n",
       "      <td>Санкт-Петербург</td>\n",
       "      <td>22108.0</td>\n",
       "      <td>10698.0</td>\n",
       "      <td>3.0</td>\n",
       "      <td>420.0</td>\n",
       "      <td>0.0</td>\n",
       "      <td>NaN</td>\n",
       "      <td>397.0</td>\n",
       "      <td>81707.317073</td>\n",
       "      <td>3</td>\n",
       "      <td>11</td>\n",
       "      <td>2017</td>\n",
       "      <td>первый</td>\n",
       "      <td>0.678049</td>\n",
       "      <td>0.109756</td>\n",
       "    </tr>\n",
       "    <tr>\n",
       "      <th>18</th>\n",
       "      <td>8</td>\n",
       "      <td>3250000.0</td>\n",
       "      <td>31.0</td>\n",
       "      <td>2017-01-27</td>\n",
       "      <td>1</td>\n",
       "      <td>2.50</td>\n",
       "      <td>5.0</td>\n",
       "      <td>19.4</td>\n",
       "      <td>2</td>\n",
       "      <td>False</td>\n",
       "      <td>False</td>\n",
       "      <td>False</td>\n",
       "      <td>5.6</td>\n",
       "      <td>1</td>\n",
       "      <td>Санкт-Петербург</td>\n",
       "      <td>44060.0</td>\n",
       "      <td>10842.0</td>\n",
       "      <td>1.0</td>\n",
       "      <td>759.0</td>\n",
       "      <td>0.0</td>\n",
       "      <td>NaN</td>\n",
       "      <td>168.0</td>\n",
       "      <td>104838.709677</td>\n",
       "      <td>4</td>\n",
       "      <td>1</td>\n",
       "      <td>2017</td>\n",
       "      <td>другой</td>\n",
       "      <td>0.625806</td>\n",
       "      <td>0.180645</td>\n",
       "    </tr>\n",
       "  </tbody>\n",
       "</table>\n",
       "</div>"
      ],
      "text/plain": [
       "    total_images  last_price  total_area first_day_exposition  rooms  \\\n",
       "9             18   5400000.0        61.0           2017-02-26      3   \n",
       "10             5   5050000.0        39.6           2017-11-16      1   \n",
       "13            20   3550000.0        42.8           2017-07-01      2   \n",
       "16            11   6700000.0        82.0           2017-11-23      3   \n",
       "18             8   3250000.0        31.0           2017-01-27      1   \n",
       "\n",
       "    ceiling_height  floors_total  living_area  floor  is_apartment  studio  \\\n",
       "9             2.50           9.0         43.6      7         False   False   \n",
       "10            2.67          12.0         20.3      3         False   False   \n",
       "13            2.56           5.0         27.0      5         False   False   \n",
       "16            3.05           5.0         55.6      1         False   False   \n",
       "18            2.50           5.0         19.4      2         False   False   \n",
       "\n",
       "    open_plan  kitchen_area  balcony    locality_name  airports_nearest  \\\n",
       "9       False           6.5        2  Санкт-Петербург           50898.0   \n",
       "10      False           8.5        0  Санкт-Петербург           38357.0   \n",
       "13      False           5.2        1         Петергоф           37868.0   \n",
       "16      False           9.0        0  Санкт-Петербург           22108.0   \n",
       "18      False           5.6        1  Санкт-Петербург           44060.0   \n",
       "\n",
       "    city_centers_nearest  parks_around3000  parks_nearest  ponds_around3000  \\\n",
       "9                15008.0               0.0            NaN               0.0   \n",
       "10               13878.0               1.0          310.0               2.0   \n",
       "13               33058.0               1.0          294.0               3.0   \n",
       "16               10698.0               3.0          420.0               0.0   \n",
       "18               10842.0               1.0          759.0               0.0   \n",
       "\n",
       "    ponds_nearest  days_exposition   price_for_m2  week_day  month  year  \\\n",
       "9             NaN            289.0   88524.590164         6      2  2017   \n",
       "10          553.0            137.0  127525.252525         3     11  2017   \n",
       "13          298.0            366.0   82943.925234         5      7  2017   \n",
       "16            NaN            397.0   81707.317073         3     11  2017   \n",
       "18            NaN            168.0  104838.709677         4      1  2017   \n",
       "\n",
       "   floor_group  k_living  k_kitchen  \n",
       "9       другой  0.714754   0.106557  \n",
       "10      другой  0.512626   0.214646  \n",
       "13   последний  0.630841   0.121495  \n",
       "16      первый  0.678049   0.109756  \n",
       "18      другой  0.625806   0.180645  "
      ]
     },
     "execution_count": 65,
     "metadata": {},
     "output_type": "execute_result"
    }
   ],
   "source": [
    "data.head()"
   ]
  },
  {
   "cell_type": "markdown",
   "metadata": {},
   "source": [
    "### Проведите исследовательский анализ данных"
   ]
  },
  {
   "cell_type": "markdown",
   "metadata": {},
   "source": [
    "# Изучение параметров объектов:"
   ]
  },
  {
   "cell_type": "code",
   "execution_count": 66,
   "metadata": {},
   "outputs": [
    {
     "data": {
      "text/plain": [
       "Text(0, 0.5, 'Количество квартир')"
      ]
     },
     "execution_count": 66,
     "metadata": {},
     "output_type": "execute_result"
    },
    {
     "data": {
      "image/png": "[encoded data removed]",
      "text/plain": [
       "<Figure size 432x288 with 1 Axes>"
      ]
     },
     "metadata": {
      "needs_background": "light"
     },
     "output_type": "display_data"
    }
   ],
   "source": [
    "#Построим гистограму для площади квартиры:\n",
    "data['total_area'].hist()\n",
    "plt.title('Площадь квартир')\n",
    "plt.xlabel('м2')\n",
    "plt.ylabel('Количество квартир')"
   ]
  },
  {
   "cell_type": "markdown",
   "metadata": {},
   "source": [
    "Большая часть значений собралась в столбце с площадью до 100 м2. Возможно стоит увеличить число корзин до 100 и изучить распределение значений total_area, находящихся в диапазоне от 0 до 200 м2"
   ]
  },
  {
   "cell_type": "code",
   "execution_count": 67,
   "metadata": {},
   "outputs": [
    {
     "data": {
      "text/plain": [
       "Text(0, 0.5, 'Количество квартир')"
      ]
     },
     "execution_count": 67,
     "metadata": {},
     "output_type": "execute_result"
    },
    {
     "data": {
      "image/png": "[encoded data removed]",
      "text/plain": [
       "<Figure size 432x288 with 1 Axes>"
      ]
     },
     "metadata": {
      "needs_background": "light"
     },
     "output_type": "display_data"
    }
   ],
   "source": [
    "data['total_area'].hist(bins=100, range=(0, 200))\n",
    "plt.title('Площадь квартир')\n",
    "plt.xlabel('м2')\n",
    "plt.ylabel('Количество квартир')"
   ]
  },
  {
   "cell_type": "markdown",
   "metadata": {},
   "source": [
    "Есть 2 пика в диапазоне площади от 25 до 50 м2. Очень мало значений площади после 125 м2"
   ]
  },
  {
   "cell_type": "code",
   "execution_count": 68,
   "metadata": {},
   "outputs": [
    {
     "data": {
      "text/plain": [
       "Text(0, 0.5, 'Количество квартир')"
      ]
     },
     "execution_count": 68,
     "metadata": {},
     "output_type": "execute_result"
    },
    {
     "data": {
      "image/png": "[encoded data removed]",
      "text/plain": [
       "<Figure size 432x288 with 1 Axes>"
      ]
     },
     "metadata": {
      "needs_background": "light"
     },
     "output_type": "display_data"
    }
   ],
   "source": [
    "#Построим гистограму для жилой площади:\n",
    "data['living_area'].hist()\n",
    "plt.title('Жилплощадь')\n",
    "plt.xlabel('м2')\n",
    "plt.ylabel('Количество квартир')"
   ]
  },
  {
   "cell_type": "markdown",
   "metadata": {},
   "source": [
    "Большая часть квартир имеет жилплощадь не более 55 м2."
   ]
  },
  {
   "cell_type": "code",
   "execution_count": 69,
   "metadata": {},
   "outputs": [
    {
     "data": {
      "text/plain": [
       "Text(0, 0.5, 'Количество квартир')"
      ]
     },
     "execution_count": 69,
     "metadata": {},
     "output_type": "execute_result"
    },
    {
     "data": {
      "image/png": "[encoded data removed]",
      "text/plain": [
       "<Figure size 432x288 with 1 Axes>"
      ]
     },
     "metadata": {
      "needs_background": "light"
     },
     "output_type": "display_data"
    }
   ],
   "source": [
    "#Построим гистограму для площади кухни:\n",
    "data['kitchen_area'].hist()\n",
    "plt.title('Площадь кухни')\n",
    "plt.xlabel('м2')\n",
    "plt.ylabel('Количество квартир')"
   ]
  },
  {
   "cell_type": "markdown",
   "metadata": {},
   "source": [
    "В большинстве квартир кухни площадью от 5 до 10,5 м2."
   ]
  },
  {
   "cell_type": "code",
   "execution_count": 70,
   "metadata": {},
   "outputs": [
    {
     "data": {
      "text/plain": [
       "Text(0, 0.5, 'Количество квартир')"
      ]
     },
     "execution_count": 70,
     "metadata": {},
     "output_type": "execute_result"
    },
    {
     "data": {
      "image/png": "[encoded data removed]",
      "text/plain": [
       "<Figure size 432x288 with 1 Axes>"
      ]
     },
     "metadata": {
      "needs_background": "light"
     },
     "output_type": "display_data"
    }
   ],
   "source": [
    "#Построим гистограму для цены квартиры:\n",
    "data['last_price'].hist()\n",
    "plt.title('Цена квартир')\n",
    "plt.xlabel('цена, сто млн руб')\n",
    "plt.ylabel('Количество квартир')"
   ]
  },
  {
   "cell_type": "markdown",
   "metadata": {},
   "source": [
    "Почти все значения цены находятся в столбце от 0 до 75 млн руб. Следует изучить распределение значений last_price, находящихся в диапазоне от 0 до 30 млн руб"
   ]
  },
  {
   "cell_type": "code",
   "execution_count": 71,
   "metadata": {},
   "outputs": [
    {
     "data": {
      "text/plain": [
       "Text(0, 0.5, 'Количество квартир')"
      ]
     },
     "execution_count": 71,
     "metadata": {},
     "output_type": "execute_result"
    },
    {
     "data": {
      "image/png": "[encoded data removed]",
      "text/plain": [
       "<Figure size 432x288 with 1 Axes>"
      ]
     },
     "metadata": {
      "needs_background": "light"
     },
     "output_type": "display_data"
    }
   ],
   "source": [
    "data['last_price'].hist(bins=100, range=(0,30000000))\n",
    "plt.title('Цена квартир')\n",
    "plt.xlabel('цена, десять млн руб')\n",
    "plt.ylabel('Количество квартир')"
   ]
  },
  {
   "cell_type": "markdown",
   "metadata": {},
   "source": [
    "В целом, в СПБ и окрестностях достаточно недорогие кваритиры (в сраванении с Мск). Выделяется пик около 4 млн руб. В целом большую часть гистограммы занимают значения от 3 млн до 7 млн руб. Более 12-13 млн руб квартир немного."
   ]
  },
  {
   "cell_type": "code",
   "execution_count": 72,
   "metadata": {},
   "outputs": [
    {
     "data": {
      "text/plain": [
       "Text(0, 0.5, 'Количество квартир')"
      ]
     },
     "execution_count": 72,
     "metadata": {},
     "output_type": "execute_result"
    },
    {
     "data": {
      "image/png": "[encoded data removed]",
      "text/plain": [
       "<Figure size 432x288 with 1 Axes>"
      ]
     },
     "metadata": {
      "needs_background": "light"
     },
     "output_type": "display_data"
    }
   ],
   "source": [
    "#Построим гистограму для цены за 1 м2 квартиры:\n",
    "data['price_for_m2'].hist(bins=100, range=(0,500000))\n",
    "plt.title('Цена за м2')\n",
    "plt.xlabel('цена, руб')\n",
    "plt.ylabel('Количество квартир')"
   ]
  },
  {
   "cell_type": "markdown",
   "metadata": {},
   "source": [
    "В среднем цена за метр составляет около 90 тыс руб, цена самого дешевого метра не превышает 10 тыс руб (это маловероятно даже для пригородных городков), а самого дорогого - примерно 450 тыс рублей (в целом вероятно, если речь о недвижимости бизнес-класса)"
   ]
  },
  {
   "cell_type": "code",
   "execution_count": 73,
   "metadata": {},
   "outputs": [],
   "source": []
  },
  {
   "cell_type": "code",
   "execution_count": 74,
   "metadata": {},
   "outputs": [
    {
     "data": {
      "text/plain": [
       "Text(0, 0.5, 'Количество квартир')"
      ]
     },
     "execution_count": 74,
     "metadata": {},
     "output_type": "execute_result"
    },
    {
     "data": {
      "image/png": "[encoded data removed]",
      "text/plain": [
       "<Figure size 432x288 with 1 Axes>"
      ]
     },
     "metadata": {
      "needs_background": "light"
     },
     "output_type": "display_data"
    }
   ],
   "source": [
    "#Построим countplot для количества комнат:\n",
    "sns.countplot(data['rooms'])\n",
    "plt.title('Количество комнат')\n",
    "plt.xlabel('Количество комнат')\n",
    "plt.ylabel('Количество квартир')"
   ]
  },
  {
   "cell_type": "markdown",
   "metadata": {},
   "source": [
    "Чаще всего продают 1 и 2-х комнатные квартиры. Относительно \"догоняет\" продажа 3-х комнатных квартир. Начиная с 4-х комнатных количество квартир на продажу резко падает."
   ]
  },
  {
   "cell_type": "code",
   "execution_count": 75,
   "metadata": {},
   "outputs": [
    {
     "data": {
      "text/plain": [
       "Text(0, 0.5, 'Количество квартир')"
      ]
     },
     "execution_count": 75,
     "metadata": {},
     "output_type": "execute_result"
    },
    {
     "data": {
      "image/png": "[encoded data removed]",
      "text/plain": [
       "<Figure size 432x288 with 1 Axes>"
      ]
     },
     "metadata": {
      "needs_background": "light"
     },
     "output_type": "display_data"
    }
   ],
   "source": [
    "#Построим гистограму для высоты потолка:\n",
    "data['ceiling_height'].hist()\n",
    "plt.title('Высота потолков')\n",
    "plt.xlabel('Высота, м')\n",
    "plt.ylabel('Количество квартир')"
   ]
  },
  {
   "cell_type": "markdown",
   "metadata": {},
   "source": [
    "Согласно графику, в основном высота потолков приходится между 2,5 и 3 м. Вспоминая данные в таблице, предположу, что в большинстве квартир высота потолков - 2,7 м."
   ]
  },
  {
   "cell_type": "code",
   "execution_count": 76,
   "metadata": {},
   "outputs": [
    {
     "data": {
      "text/plain": [
       "Text(0, 0.5, 'Количество квартир')"
      ]
     },
     "execution_count": 76,
     "metadata": {},
     "output_type": "execute_result"
    },
    {
     "data": {
      "image/png": "[encoded data removed]",
      "text/plain": [
       "<Figure size 432x288 with 1 Axes>"
      ]
     },
     "metadata": {
      "needs_background": "light"
     },
     "output_type": "display_data"
    }
   ],
   "source": [
    "#Построим гистограму для этажа:\n",
    "data['floor'].hist()\n",
    "plt.title('Этаж, на котором расположена квартира')\n",
    "plt.xlabel('Этаж')\n",
    "plt.ylabel('Количество квартир')"
   ]
  },
  {
   "cell_type": "markdown",
   "metadata": {},
   "source": [
    "Наибольшее количество продаваемых квартир находятся ниже 10 этажа."
   ]
  },
  {
   "cell_type": "code",
   "execution_count": 77,
   "metadata": {},
   "outputs": [
    {
     "data": {
      "text/plain": [
       "Text(0, 0.5, 'Количество квартир')"
      ]
     },
     "execution_count": 77,
     "metadata": {},
     "output_type": "execute_result"
    },
    {
     "data": {
      "image/png": "[encoded data removed]",
      "text/plain": [
       "<Figure size 432x288 with 1 Axes>"
      ]
     },
     "metadata": {
      "needs_background": "light"
     },
     "output_type": "display_data"
    }
   ],
   "source": [
    "#Построим гистограму для количества этажей:\n",
    "data['floors_total'].hist()\n",
    "plt.title('Количество этажей в доме')\n",
    "plt.xlabel('Этаж')\n",
    "plt.ylabel('Количество квартир')"
   ]
  },
  {
   "cell_type": "markdown",
   "metadata": {},
   "source": [
    "Квартиры расположены в домах, в которых от 1 до 31 этажа. Наиболее часто - до 7 этажей."
   ]
  },
  {
   "cell_type": "code",
   "execution_count": 78,
   "metadata": {},
   "outputs": [
    {
     "data": {
      "text/plain": [
       "Text(0, 0.5, 'Количество квартир')"
      ]
     },
     "execution_count": 78,
     "metadata": {},
     "output_type": "execute_result"
    },
    {
     "data": {
      "image/png": "[encoded data removed]",
      "text/plain": [
       "<Figure size 432x288 with 1 Axes>"
      ]
     },
     "metadata": {
      "needs_background": "light"
     },
     "output_type": "display_data"
    }
   ],
   "source": [
    "#Построим гистограму для типа этажа:\n",
    "data['floor_group'].hist()\n",
    "plt.title('Тип этажа')\n",
    "plt.xlabel('Этаж')\n",
    "plt.ylabel('Количество квартир')"
   ]
  },
  {
   "cell_type": "markdown",
   "metadata": {},
   "source": [
    "В основном квартиры расположены между первым и последним этажами."
   ]
  },
  {
   "cell_type": "code",
   "execution_count": 79,
   "metadata": {},
   "outputs": [
    {
     "data": {
      "text/plain": [
       "Text(0, 0.5, 'Количество квартир')"
      ]
     },
     "execution_count": 79,
     "metadata": {},
     "output_type": "execute_result"
    },
    {
     "data": {
      "image/png": "[encoded data removed]",
      "text/plain": [
       "<Figure size 432x288 with 1 Axes>"
      ]
     },
     "metadata": {
      "needs_background": "light"
     },
     "output_type": "display_data"
    }
   ],
   "source": [
    "#Построим гистограму для расстояния до центра Спб:\n",
    "data['city_centers_nearest'].hist()\n",
    "plt.title('Расстояние до центра')\n",
    "plt.xlabel('м')\n",
    "plt.ylabel('Количество квартир')"
   ]
  },
  {
   "cell_type": "markdown",
   "metadata": {},
   "source": [
    "В основном квартиры находятся в пределах 20 км от центра города."
   ]
  },
  {
   "cell_type": "code",
   "execution_count": 80,
   "metadata": {},
   "outputs": [
    {
     "data": {
      "text/plain": [
       "Text(0, 0.5, 'Количество квартир')"
      ]
     },
     "execution_count": 80,
     "metadata": {},
     "output_type": "execute_result"
    },
    {
     "data": {
      "image/png": "[encoded data removed]",
      "text/plain": [
       "<Figure size 432x288 with 1 Axes>"
      ]
     },
     "metadata": {
      "needs_background": "light"
     },
     "output_type": "display_data"
    }
   ],
   "source": [
    "#Построим гистограму для расстояния до аэропорта:\n",
    "data['airports_nearest'].hist()\n",
    "plt.title('Расстояние до аэропорта')\n",
    "plt.xlabel('м')\n",
    "plt.ylabel('Количество квартир')"
   ]
  },
  {
   "cell_type": "markdown",
   "metadata": {},
   "source": [
    "Почти все квартиры находятся в пределах 10-60 км от аэропорта."
   ]
  },
  {
   "cell_type": "code",
   "execution_count": 81,
   "metadata": {},
   "outputs": [
    {
     "data": {
      "text/plain": [
       "Text(0, 0.5, 'Количество квартир')"
      ]
     },
     "execution_count": 81,
     "metadata": {},
     "output_type": "execute_result"
    },
    {
     "data": {
      "image/png": "[encoded data removed]",
      "text/plain": [
       "<Figure size 432x288 with 1 Axes>"
      ]
     },
     "metadata": {
      "needs_background": "light"
     },
     "output_type": "display_data"
    }
   ],
   "source": [
    "#Построим гистограму для расстояния до парка:\n",
    "data['parks_nearest'].hist()\n",
    "plt.title('Расстояние до парка')\n",
    "plt.xlabel('м')\n",
    "plt.ylabel('Количество квартир')"
   ]
  },
  {
   "cell_type": "markdown",
   "metadata": {},
   "source": [
    "Большинство квартир находятся недалекот от парковых зон - в пределах 1 км."
   ]
  },
  {
   "cell_type": "code",
   "execution_count": 82,
   "metadata": {},
   "outputs": [
    {
     "data": {
      "text/plain": [
       "Text(0, 0.5, 'Количество квартир')"
      ]
     },
     "execution_count": 82,
     "metadata": {},
     "output_type": "execute_result"
    },
    {
     "data": {
      "image/png": "[encoded data removed]",
      "text/plain": [
       "<Figure size 432x288 with 1 Axes>"
      ]
     },
     "metadata": {
      "needs_background": "light"
     },
     "output_type": "display_data"
    }
   ],
   "source": [
    "#Построим гистограму для месяца публикации объявления:\n",
    "data['month'].hist()\n",
    "plt.title('Месяц публикации')\n",
    "plt.xlabel('Номер месяца')\n",
    "plt.ylabel('Количество квартир')"
   ]
  },
  {
   "cell_type": "markdown",
   "metadata": {},
   "source": [
    "Больше всего квартир выставлено на продажу в зимние месяцы."
   ]
  },
  {
   "cell_type": "code",
   "execution_count": 83,
   "metadata": {},
   "outputs": [
    {
     "data": {
      "text/plain": [
       "Text(0, 0.5, 'Количество квартир')"
      ]
     },
     "execution_count": 83,
     "metadata": {},
     "output_type": "execute_result"
    },
    {
     "data": {
      "image/png": "[encoded data removed]",
      "text/plain": [
       "<Figure size 432x288 with 1 Axes>"
      ]
     },
     "metadata": {
      "needs_background": "light"
     },
     "output_type": "display_data"
    }
   ],
   "source": [
    "#Построим гистограму для дня публикации объявления:\n",
    "data['week_day'].hist()\n",
    "plt.title('День публикации')\n",
    "plt.xlabel('Номер дня')\n",
    "plt.ylabel('Количество квартир')"
   ]
  },
  {
   "cell_type": "markdown",
   "metadata": {},
   "source": [
    "В будни выставляется больше квартир, в выходные их количество резко сокращается."
   ]
  },
  {
   "cell_type": "markdown",
   "metadata": {},
   "source": [
    "# Изучение времени продажи квартир"
   ]
  },
  {
   "cell_type": "code",
   "execution_count": 84,
   "metadata": {},
   "outputs": [
    {
     "data": {
      "text/html": [
       "<div>\n",
       "<style scoped>\n",
       "    .dataframe tbody tr th:only-of-type {\n",
       "        vertical-align: middle;\n",
       "    }\n",
       "\n",
       "    .dataframe tbody tr th {\n",
       "        vertical-align: top;\n",
       "    }\n",
       "\n",
       "    .dataframe thead th {\n",
       "        text-align: right;\n",
       "    }\n",
       "</style>\n",
       "<table border=\"1\" class=\"dataframe\">\n",
       "  <thead>\n",
       "    <tr style=\"text-align: right;\">\n",
       "      <th></th>\n",
       "      <th>total_images</th>\n",
       "      <th>last_price</th>\n",
       "      <th>total_area</th>\n",
       "      <th>first_day_exposition</th>\n",
       "      <th>rooms</th>\n",
       "      <th>ceiling_height</th>\n",
       "      <th>floors_total</th>\n",
       "      <th>living_area</th>\n",
       "      <th>floor</th>\n",
       "      <th>is_apartment</th>\n",
       "      <th>studio</th>\n",
       "      <th>open_plan</th>\n",
       "      <th>kitchen_area</th>\n",
       "      <th>balcony</th>\n",
       "      <th>locality_name</th>\n",
       "      <th>airports_nearest</th>\n",
       "      <th>city_centers_nearest</th>\n",
       "      <th>parks_around3000</th>\n",
       "      <th>parks_nearest</th>\n",
       "      <th>ponds_around3000</th>\n",
       "      <th>ponds_nearest</th>\n",
       "      <th>days_exposition</th>\n",
       "      <th>price_for_m2</th>\n",
       "      <th>week_day</th>\n",
       "      <th>month</th>\n",
       "      <th>year</th>\n",
       "      <th>floor_group</th>\n",
       "      <th>k_living</th>\n",
       "      <th>k_kitchen</th>\n",
       "    </tr>\n",
       "  </thead>\n",
       "  <tbody>\n",
       "    <tr>\n",
       "      <th>18843</th>\n",
       "      <td>11</td>\n",
       "      <td>3500000.0</td>\n",
       "      <td>48.20</td>\n",
       "      <td>2014-12-15</td>\n",
       "      <td>2</td>\n",
       "      <td>2.50</td>\n",
       "      <td>5.0</td>\n",
       "      <td>27.40</td>\n",
       "      <td>2</td>\n",
       "      <td>False</td>\n",
       "      <td>False</td>\n",
       "      <td>False</td>\n",
       "      <td>7.70</td>\n",
       "      <td>3</td>\n",
       "      <td>деревня Новое Девяткино</td>\n",
       "      <td>NaN</td>\n",
       "      <td>NaN</td>\n",
       "      <td>NaN</td>\n",
       "      <td>NaN</td>\n",
       "      <td>NaN</td>\n",
       "      <td>NaN</td>\n",
       "      <td>1580.0</td>\n",
       "      <td>72614.107884</td>\n",
       "      <td>0</td>\n",
       "      <td>12</td>\n",
       "      <td>2014</td>\n",
       "      <td>другой</td>\n",
       "      <td>0.568465</td>\n",
       "      <td>0.159751</td>\n",
       "    </tr>\n",
       "    <tr>\n",
       "      <th>9553</th>\n",
       "      <td>11</td>\n",
       "      <td>10600000.0</td>\n",
       "      <td>80.00</td>\n",
       "      <td>2014-12-09</td>\n",
       "      <td>3</td>\n",
       "      <td>2.85</td>\n",
       "      <td>17.0</td>\n",
       "      <td>44.00</td>\n",
       "      <td>9</td>\n",
       "      <td>False</td>\n",
       "      <td>False</td>\n",
       "      <td>False</td>\n",
       "      <td>15.00</td>\n",
       "      <td>0</td>\n",
       "      <td>Санкт-Петербург</td>\n",
       "      <td>17101.0</td>\n",
       "      <td>17110.0</td>\n",
       "      <td>0.0</td>\n",
       "      <td>NaN</td>\n",
       "      <td>0.0</td>\n",
       "      <td>NaN</td>\n",
       "      <td>1553.0</td>\n",
       "      <td>132500.000000</td>\n",
       "      <td>1</td>\n",
       "      <td>12</td>\n",
       "      <td>2014</td>\n",
       "      <td>другой</td>\n",
       "      <td>0.550000</td>\n",
       "      <td>0.187500</td>\n",
       "    </tr>\n",
       "    <tr>\n",
       "      <th>1885</th>\n",
       "      <td>2</td>\n",
       "      <td>13300000.0</td>\n",
       "      <td>79.60</td>\n",
       "      <td>2014-12-09</td>\n",
       "      <td>2</td>\n",
       "      <td>3.00</td>\n",
       "      <td>8.0</td>\n",
       "      <td>42.70</td>\n",
       "      <td>7</td>\n",
       "      <td>False</td>\n",
       "      <td>False</td>\n",
       "      <td>False</td>\n",
       "      <td>18.00</td>\n",
       "      <td>0</td>\n",
       "      <td>Санкт-Петербург</td>\n",
       "      <td>39393.0</td>\n",
       "      <td>11096.0</td>\n",
       "      <td>1.0</td>\n",
       "      <td>537.0</td>\n",
       "      <td>0.0</td>\n",
       "      <td>NaN</td>\n",
       "      <td>1513.0</td>\n",
       "      <td>167085.427136</td>\n",
       "      <td>1</td>\n",
       "      <td>12</td>\n",
       "      <td>2014</td>\n",
       "      <td>другой</td>\n",
       "      <td>0.536432</td>\n",
       "      <td>0.226131</td>\n",
       "    </tr>\n",
       "    <tr>\n",
       "      <th>14093</th>\n",
       "      <td>7</td>\n",
       "      <td>9500000.0</td>\n",
       "      <td>100.00</td>\n",
       "      <td>2015-02-19</td>\n",
       "      <td>4</td>\n",
       "      <td>3.00</td>\n",
       "      <td>5.0</td>\n",
       "      <td>76.00</td>\n",
       "      <td>5</td>\n",
       "      <td>False</td>\n",
       "      <td>False</td>\n",
       "      <td>False</td>\n",
       "      <td>10.00</td>\n",
       "      <td>0</td>\n",
       "      <td>Санкт-Петербург</td>\n",
       "      <td>25950.0</td>\n",
       "      <td>4798.0</td>\n",
       "      <td>1.0</td>\n",
       "      <td>690.0</td>\n",
       "      <td>0.0</td>\n",
       "      <td>NaN</td>\n",
       "      <td>1497.0</td>\n",
       "      <td>95000.000000</td>\n",
       "      <td>3</td>\n",
       "      <td>2</td>\n",
       "      <td>2015</td>\n",
       "      <td>последний</td>\n",
       "      <td>0.760000</td>\n",
       "      <td>0.100000</td>\n",
       "    </tr>\n",
       "    <tr>\n",
       "      <th>19123</th>\n",
       "      <td>9</td>\n",
       "      <td>5990000.0</td>\n",
       "      <td>82.00</td>\n",
       "      <td>2015-02-19</td>\n",
       "      <td>3</td>\n",
       "      <td>3.00</td>\n",
       "      <td>4.0</td>\n",
       "      <td>60.00</td>\n",
       "      <td>2</td>\n",
       "      <td>False</td>\n",
       "      <td>False</td>\n",
       "      <td>False</td>\n",
       "      <td>8.00</td>\n",
       "      <td>0</td>\n",
       "      <td>Павловск</td>\n",
       "      <td>22465.0</td>\n",
       "      <td>34619.0</td>\n",
       "      <td>0.0</td>\n",
       "      <td>NaN</td>\n",
       "      <td>2.0</td>\n",
       "      <td>458.0</td>\n",
       "      <td>1485.0</td>\n",
       "      <td>73048.780488</td>\n",
       "      <td>3</td>\n",
       "      <td>2</td>\n",
       "      <td>2015</td>\n",
       "      <td>другой</td>\n",
       "      <td>0.731707</td>\n",
       "      <td>0.097561</td>\n",
       "    </tr>\n",
       "    <tr>\n",
       "      <th>4736</th>\n",
       "      <td>11</td>\n",
       "      <td>6650000.0</td>\n",
       "      <td>68.30</td>\n",
       "      <td>2015-02-19</td>\n",
       "      <td>4</td>\n",
       "      <td>2.63</td>\n",
       "      <td>5.0</td>\n",
       "      <td>45.10</td>\n",
       "      <td>4</td>\n",
       "      <td>False</td>\n",
       "      <td>False</td>\n",
       "      <td>False</td>\n",
       "      <td>9.00</td>\n",
       "      <td>0</td>\n",
       "      <td>Санкт-Петербург</td>\n",
       "      <td>20182.0</td>\n",
       "      <td>1724.0</td>\n",
       "      <td>3.0</td>\n",
       "      <td>606.0</td>\n",
       "      <td>3.0</td>\n",
       "      <td>453.0</td>\n",
       "      <td>1477.0</td>\n",
       "      <td>97364.568082</td>\n",
       "      <td>3</td>\n",
       "      <td>2</td>\n",
       "      <td>2015</td>\n",
       "      <td>другой</td>\n",
       "      <td>0.660322</td>\n",
       "      <td>0.131772</td>\n",
       "    </tr>\n",
       "    <tr>\n",
       "      <th>6006</th>\n",
       "      <td>4</td>\n",
       "      <td>4400000.0</td>\n",
       "      <td>38.63</td>\n",
       "      <td>2015-02-03</td>\n",
       "      <td>1</td>\n",
       "      <td>2.85</td>\n",
       "      <td>25.0</td>\n",
       "      <td>15.00</td>\n",
       "      <td>6</td>\n",
       "      <td>False</td>\n",
       "      <td>False</td>\n",
       "      <td>False</td>\n",
       "      <td>12.30</td>\n",
       "      <td>2</td>\n",
       "      <td>поселок Парголово</td>\n",
       "      <td>52611.0</td>\n",
       "      <td>18783.0</td>\n",
       "      <td>0.0</td>\n",
       "      <td>NaN</td>\n",
       "      <td>0.0</td>\n",
       "      <td>NaN</td>\n",
       "      <td>1452.0</td>\n",
       "      <td>113901.113125</td>\n",
       "      <td>1</td>\n",
       "      <td>2</td>\n",
       "      <td>2015</td>\n",
       "      <td>другой</td>\n",
       "      <td>0.388299</td>\n",
       "      <td>0.318405</td>\n",
       "    </tr>\n",
       "    <tr>\n",
       "      <th>9555</th>\n",
       "      <td>11</td>\n",
       "      <td>9950000.0</td>\n",
       "      <td>61.20</td>\n",
       "      <td>2015-04-06</td>\n",
       "      <td>2</td>\n",
       "      <td>3.17</td>\n",
       "      <td>7.0</td>\n",
       "      <td>39.70</td>\n",
       "      <td>2</td>\n",
       "      <td>False</td>\n",
       "      <td>False</td>\n",
       "      <td>False</td>\n",
       "      <td>8.00</td>\n",
       "      <td>0</td>\n",
       "      <td>Санкт-Петербург</td>\n",
       "      <td>9740.0</td>\n",
       "      <td>10123.0</td>\n",
       "      <td>1.0</td>\n",
       "      <td>114.0</td>\n",
       "      <td>0.0</td>\n",
       "      <td>NaN</td>\n",
       "      <td>1434.0</td>\n",
       "      <td>162581.699346</td>\n",
       "      <td>0</td>\n",
       "      <td>4</td>\n",
       "      <td>2015</td>\n",
       "      <td>другой</td>\n",
       "      <td>0.648693</td>\n",
       "      <td>0.130719</td>\n",
       "    </tr>\n",
       "    <tr>\n",
       "      <th>14873</th>\n",
       "      <td>5</td>\n",
       "      <td>6400000.0</td>\n",
       "      <td>70.00</td>\n",
       "      <td>2015-02-19</td>\n",
       "      <td>4</td>\n",
       "      <td>3.10</td>\n",
       "      <td>5.0</td>\n",
       "      <td>56.70</td>\n",
       "      <td>3</td>\n",
       "      <td>False</td>\n",
       "      <td>False</td>\n",
       "      <td>False</td>\n",
       "      <td>8.00</td>\n",
       "      <td>0</td>\n",
       "      <td>Санкт-Петербург</td>\n",
       "      <td>24451.0</td>\n",
       "      <td>2780.0</td>\n",
       "      <td>3.0</td>\n",
       "      <td>273.0</td>\n",
       "      <td>1.0</td>\n",
       "      <td>753.0</td>\n",
       "      <td>1430.0</td>\n",
       "      <td>91428.571429</td>\n",
       "      <td>3</td>\n",
       "      <td>2</td>\n",
       "      <td>2015</td>\n",
       "      <td>другой</td>\n",
       "      <td>0.810000</td>\n",
       "      <td>0.114286</td>\n",
       "    </tr>\n",
       "    <tr>\n",
       "      <th>11985</th>\n",
       "      <td>1</td>\n",
       "      <td>15104000.0</td>\n",
       "      <td>118.00</td>\n",
       "      <td>2015-05-19</td>\n",
       "      <td>3</td>\n",
       "      <td>3.10</td>\n",
       "      <td>16.0</td>\n",
       "      <td>64.32</td>\n",
       "      <td>5</td>\n",
       "      <td>False</td>\n",
       "      <td>False</td>\n",
       "      <td>False</td>\n",
       "      <td>14.27</td>\n",
       "      <td>0</td>\n",
       "      <td>Санкт-Петербург</td>\n",
       "      <td>37434.0</td>\n",
       "      <td>8460.0</td>\n",
       "      <td>1.0</td>\n",
       "      <td>441.0</td>\n",
       "      <td>2.0</td>\n",
       "      <td>427.0</td>\n",
       "      <td>1417.0</td>\n",
       "      <td>128000.000000</td>\n",
       "      <td>1</td>\n",
       "      <td>5</td>\n",
       "      <td>2015</td>\n",
       "      <td>другой</td>\n",
       "      <td>0.545085</td>\n",
       "      <td>0.120932</td>\n",
       "    </tr>\n",
       "  </tbody>\n",
       "</table>\n",
       "</div>"
      ],
      "text/plain": [
       "       total_images  last_price  total_area first_day_exposition  rooms  \\\n",
       "18843            11   3500000.0       48.20           2014-12-15      2   \n",
       "9553             11  10600000.0       80.00           2014-12-09      3   \n",
       "1885              2  13300000.0       79.60           2014-12-09      2   \n",
       "14093             7   9500000.0      100.00           2015-02-19      4   \n",
       "19123             9   5990000.0       82.00           2015-02-19      3   \n",
       "4736             11   6650000.0       68.30           2015-02-19      4   \n",
       "6006              4   4400000.0       38.63           2015-02-03      1   \n",
       "9555             11   9950000.0       61.20           2015-04-06      2   \n",
       "14873             5   6400000.0       70.00           2015-02-19      4   \n",
       "11985             1  15104000.0      118.00           2015-05-19      3   \n",
       "\n",
       "       ceiling_height  floors_total  living_area  floor  is_apartment  studio  \\\n",
       "18843            2.50           5.0        27.40      2         False   False   \n",
       "9553             2.85          17.0        44.00      9         False   False   \n",
       "1885             3.00           8.0        42.70      7         False   False   \n",
       "14093            3.00           5.0        76.00      5         False   False   \n",
       "19123            3.00           4.0        60.00      2         False   False   \n",
       "4736             2.63           5.0        45.10      4         False   False   \n",
       "6006             2.85          25.0        15.00      6         False   False   \n",
       "9555             3.17           7.0        39.70      2         False   False   \n",
       "14873            3.10           5.0        56.70      3         False   False   \n",
       "11985            3.10          16.0        64.32      5         False   False   \n",
       "\n",
       "       open_plan  kitchen_area  balcony            locality_name  \\\n",
       "18843      False          7.70        3  деревня Новое Девяткино   \n",
       "9553       False         15.00        0          Санкт-Петербург   \n",
       "1885       False         18.00        0          Санкт-Петербург   \n",
       "14093      False         10.00        0          Санкт-Петербург   \n",
       "19123      False          8.00        0                 Павловск   \n",
       "4736       False          9.00        0          Санкт-Петербург   \n",
       "6006       False         12.30        2        поселок Парголово   \n",
       "9555       False          8.00        0          Санкт-Петербург   \n",
       "14873      False          8.00        0          Санкт-Петербург   \n",
       "11985      False         14.27        0          Санкт-Петербург   \n",
       "\n",
       "       airports_nearest  city_centers_nearest  parks_around3000  \\\n",
       "18843               NaN                   NaN               NaN   \n",
       "9553            17101.0               17110.0               0.0   \n",
       "1885            39393.0               11096.0               1.0   \n",
       "14093           25950.0                4798.0               1.0   \n",
       "19123           22465.0               34619.0               0.0   \n",
       "4736            20182.0                1724.0               3.0   \n",
       "6006            52611.0               18783.0               0.0   \n",
       "9555             9740.0               10123.0               1.0   \n",
       "14873           24451.0                2780.0               3.0   \n",
       "11985           37434.0                8460.0               1.0   \n",
       "\n",
       "       parks_nearest  ponds_around3000  ponds_nearest  days_exposition  \\\n",
       "18843            NaN               NaN            NaN           1580.0   \n",
       "9553             NaN               0.0            NaN           1553.0   \n",
       "1885           537.0               0.0            NaN           1513.0   \n",
       "14093          690.0               0.0            NaN           1497.0   \n",
       "19123            NaN               2.0          458.0           1485.0   \n",
       "4736           606.0               3.0          453.0           1477.0   \n",
       "6006             NaN               0.0            NaN           1452.0   \n",
       "9555           114.0               0.0            NaN           1434.0   \n",
       "14873          273.0               1.0          753.0           1430.0   \n",
       "11985          441.0               2.0          427.0           1417.0   \n",
       "\n",
       "        price_for_m2  week_day  month  year floor_group  k_living  k_kitchen  \n",
       "18843   72614.107884         0     12  2014      другой  0.568465   0.159751  \n",
       "9553   132500.000000         1     12  2014      другой  0.550000   0.187500  \n",
       "1885   167085.427136         1     12  2014      другой  0.536432   0.226131  \n",
       "14093   95000.000000         3      2  2015   последний  0.760000   0.100000  \n",
       "19123   73048.780488         3      2  2015      другой  0.731707   0.097561  \n",
       "4736    97364.568082         3      2  2015      другой  0.660322   0.131772  \n",
       "6006   113901.113125         1      2  2015      другой  0.388299   0.318405  \n",
       "9555   162581.699346         0      4  2015      другой  0.648693   0.130719  \n",
       "14873   91428.571429         3      2  2015      другой  0.810000   0.114286  \n",
       "11985  128000.000000         1      5  2015      другой  0.545085   0.120932  "
      ]
     },
     "execution_count": 84,
     "metadata": {},
     "output_type": "execute_result"
    }
   ],
   "source": [
    "#Посмотрим, какие квартиры продавались дольше всего\n",
    "data.sort_values(by = 'days_exposition', ascending=False).head(10)"
   ]
  },
  {
   "cell_type": "markdown",
   "metadata": {},
   "source": [
    "В таблице имеются квартиры, которые продавались дольше 4-х лет."
   ]
  },
  {
   "cell_type": "code",
   "execution_count": 85,
   "metadata": {},
   "outputs": [
    {
     "data": {
      "text/plain": [
       "Text(0, 0.5, 'Количество квартир')"
      ]
     },
     "execution_count": 85,
     "metadata": {},
     "output_type": "execute_result"
    },
    {
     "data": {
      "image/png": "[encoded data removed]",
      "text/plain": [
       "<Figure size 432x288 with 1 Axes>"
      ]
     },
     "metadata": {
      "needs_background": "light"
     },
     "output_type": "display_data"
    }
   ],
   "source": [
    "#Построим гистограму для времени продажи квартиры:\n",
    "data['days_exposition'].hist()\n",
    "plt.title('Срок продажи квартиры')\n",
    "plt.xlabel('Время, дни')\n",
    "plt.ylabel('Количество квартир')"
   ]
  },
  {
   "cell_type": "code",
   "execution_count": 86,
   "metadata": {},
   "outputs": [
    {
     "data": {
      "text/plain": [
       "Text(0, 0.5, 'Количество квартир')"
      ]
     },
     "execution_count": 86,
     "metadata": {},
     "output_type": "execute_result"
    },
    {
     "data": {
      "image/png": "[encoded data removed]",
      "text/plain": [
       "<Figure size 432x288 with 1 Axes>"
      ]
     },
     "metadata": {
      "needs_background": "light"
     },
     "output_type": "display_data"
    }
   ],
   "source": [
    "data['days_exposition'].hist(bins=100, range=(0, 1000))\n",
    "plt.title('Срок продажи квартиры')\n",
    "plt.xlabel('Время, дни')\n",
    "plt.ylabel('Количество квартир')"
   ]
  },
  {
   "cell_type": "code",
   "execution_count": 87,
   "metadata": {},
   "outputs": [
    {
     "data": {
      "text/plain": [
       "count    10551.000000\n",
       "mean       188.562695\n",
       "std        225.244391\n",
       "min          1.000000\n",
       "25%         44.000000\n",
       "50%        105.000000\n",
       "75%        244.000000\n",
       "max       1580.000000\n",
       "Name: days_exposition, dtype: float64"
      ]
     },
     "execution_count": 87,
     "metadata": {},
     "output_type": "execute_result"
    }
   ],
   "source": [
    "data['days_exposition'].describe()"
   ]
  },
  {
   "cell_type": "markdown",
   "metadata": {},
   "source": [
    "Есть много квартир, которые продаются всего по 40-50 дней, однако медианное время составляет 105 дней. В среднем квартиры продаются за 188,5 дней. Получается, что часть квартир продается в 1,7 раза дольше, чем обычно. Быстрее всего квартира была продана за день, дольше всего за 1590 дней, более 600 дней продавалось очень мало квартир."
   ]
  },
  {
   "cell_type": "markdown",
   "metadata": {},
   "source": [
    "Думаю, что быстрой можно назвать продажу менее 45 дней, долгой - соответсвенно - более 240 дней."
   ]
  },
  {
   "cell_type": "markdown",
   "metadata": {},
   "source": [
    "# Факторы, влияющие на общую (полную) стоимость объекта"
   ]
  },
  {
   "cell_type": "markdown",
   "metadata": {},
   "source": [
    "Для начала изучим, зависит ли цена за м2 от площади квартиры"
   ]
  },
  {
   "cell_type": "code",
   "execution_count": 88,
   "metadata": {},
   "outputs": [
    {
     "data": {
      "text/plain": [
       "0.1906345664910154"
      ]
     },
     "execution_count": 88,
     "metadata": {},
     "output_type": "execute_result"
    },
    {
     "data": {
      "image/png": "[encoded data removed]",
      "text/plain": [
       "<Figure size 1440x288 with 2 Axes>"
      ]
     },
     "metadata": {
      "needs_background": "light"
     },
     "output_type": "display_data"
    }
   ],
   "source": [
    "data.plot(x='total_area', y='price_for_m2', kind='hexbin', gridsize=70, figsize=(20, 4), sharex=False, grid=True) \n",
    "plt.xlim(0, 100)\n",
    "plt.ylim(0, 200000)\n",
    "\n",
    "#рассчитаем коэффициент корреляции Пирсона:\n",
    "data['total_area'].corr(data['price_for_m2'])"
   ]
  },
  {
   "cell_type": "markdown",
   "metadata": {},
   "source": [
    "Т.к. коэффициент корреляции составляет примерно 0.19, думаю, следует считать, что зависимости между площадью квартиры и ценой за м2 нет."
   ]
  },
  {
   "cell_type": "markdown",
   "metadata": {},
   "source": [
    "Далее изучим, зависит ли цена за м2 от жилой площади "
   ]
  },
  {
   "cell_type": "code",
   "execution_count": 89,
   "metadata": {},
   "outputs": [
    {
     "data": {
      "text/plain": [
       "0.11728301748116263"
      ]
     },
     "execution_count": 89,
     "metadata": {},
     "output_type": "execute_result"
    },
    {
     "data": {
      "image/png": "[encoded data removed]",
      "text/plain": [
       "<Figure size 1440x288 with 2 Axes>"
      ]
     },
     "metadata": {
      "needs_background": "light"
     },
     "output_type": "display_data"
    }
   ],
   "source": [
    "data.plot(x='living_area', y='price_for_m2', kind='hexbin', gridsize=70, figsize=(20, 4), sharex=False, grid=True) \n",
    "plt.xlim(0, 100)\n",
    "plt.ylim(0, 200000)\n",
    "\n",
    "#рассчитаем коэффициент корреляции Пирсона:\n",
    "data['living_area'].corr(data['price_for_m2'])"
   ]
  },
  {
   "cell_type": "markdown",
   "metadata": {},
   "source": [
    "зависимости также нет, коэффицент корреляции равен 0.11"
   ]
  },
  {
   "cell_type": "markdown",
   "metadata": {},
   "source": [
    "Далее изучим, зависит ли цена за м2 от  площади кухни "
   ]
  },
  {
   "cell_type": "code",
   "execution_count": 90,
   "metadata": {},
   "outputs": [
    {
     "data": {
      "text/plain": [
       "0.3083772597880294"
      ]
     },
     "execution_count": 90,
     "metadata": {},
     "output_type": "execute_result"
    },
    {
     "data": {
      "image/png": "[encoded data removed]",
      "text/plain": [
       "<Figure size 1440x288 with 2 Axes>"
      ]
     },
     "metadata": {
      "needs_background": "light"
     },
     "output_type": "display_data"
    }
   ],
   "source": [
    "data.plot(x='kitchen_area', y='price_for_m2', kind='hexbin', gridsize=70, figsize=(20, 4), sharex=False, grid=True) \n",
    "plt.xlim(0, 100)\n",
    "plt.ylim(0, 200000)\n",
    "\n",
    "#рассчитаем коэффициент корреляции Пирсона:\n",
    "data['kitchen_area'].corr(data['price_for_m2'])"
   ]
  },
  {
   "cell_type": "markdown",
   "metadata": {},
   "source": [
    "В целом, между площадью кухни и ценой за м2 есть средней силы связь, однако все же, на мой взгляд, не столь существенная."
   ]
  },
  {
   "cell_type": "markdown",
   "metadata": {},
   "source": [
    "Далее изучим, зависит ли цена за м2 от числа комнат"
   ]
  },
  {
   "cell_type": "code",
   "execution_count": 91,
   "metadata": {},
   "outputs": [
    {
     "data": {
      "text/plain": [
       "<AxesSubplot:xlabel='rooms'>"
      ]
     },
     "execution_count": 91,
     "metadata": {},
     "output_type": "execute_result"
    },
    {
     "data": {
      "image/png": "[encoded data removed]",
      "text/plain": [
       "<Figure size 432x288 with 1 Axes>"
      ]
     },
     "metadata": {
      "needs_background": "light"
     },
     "output_type": "display_data"
    }
   ],
   "source": [
    "data.pivot_table(index='rooms', values='price_for_m2').plot(y='price_for_m2', kind='bar')"
   ]
  },
  {
   "cell_type": "markdown",
   "metadata": {},
   "source": [
    "В целом на мой взгляд, особой зависимости нет, хотя м2 в многокомнатных квартирах (9 и 10) стоит все же дешевле. Однако и покупают такие квартиры крайне редко, а в квартирах с 1-3 комнатами цена за м2 близкая."
   ]
  },
  {
   "cell_type": "markdown",
   "metadata": {},
   "source": [
    "Изучим, зависит ли цена за м2 от этажа."
   ]
  },
  {
   "cell_type": "code",
   "execution_count": 92,
   "metadata": {},
   "outputs": [
    {
     "data": {
      "text/plain": [
       "Text(0, 0.5, 'Количество квартир')"
      ]
     },
     "execution_count": 92,
     "metadata": {},
     "output_type": "execute_result"
    },
    {
     "data": {
      "image/png": "[encoded data removed]",
      "text/plain": [
       "<Figure size 432x288 with 1 Axes>"
      ]
     },
     "metadata": {
      "needs_background": "light"
     },
     "output_type": "display_data"
    }
   ],
   "source": [
    "data.pivot_table(index='floor_group', values='price_for_m2', aggfunc='median').plot(kind='bar', grid=True)\n",
    "plt.title('Этаж квартиры')\n",
    "plt.xlabel('Этаж')\n",
    "plt.ylabel('Количество квартир')"
   ]
  },
  {
   "cell_type": "markdown",
   "metadata": {},
   "source": [
    "Зависимость между ценой за м2 и этажом имеется, т.к. самые дорогие квартиры расположены между первым и последним этажами. Самые дешевые квартиры располагаются на первых этажах, на последнем - чуть дороже."
   ]
  },
  {
   "cell_type": "markdown",
   "metadata": {},
   "source": [
    "Изучим, зависит ли цена за м2 от даты размещения объявления"
   ]
  },
  {
   "cell_type": "code",
   "execution_count": 93,
   "metadata": {},
   "outputs": [
    {
     "data": {
      "text/plain": [
       "<AxesSubplot:xlabel='year'>"
      ]
     },
     "execution_count": 93,
     "metadata": {},
     "output_type": "execute_result"
    },
    {
     "data": {
      "image/png": "[encoded data removed]",
      "text/plain": [
       "<Figure size 432x288 with 1 Axes>"
      ]
     },
     "metadata": {
      "needs_background": "light"
     },
     "output_type": "display_data"
    },
    {
     "data": {
      "image/png": "[encoded data removed]",
      "text/plain": [
       "<Figure size 432x288 with 1 Axes>"
      ]
     },
     "metadata": {
      "needs_background": "light"
     },
     "output_type": "display_data"
    },
    {
     "data": {
      "image/png": "[encoded data removed]",
      "text/plain": [
       "<Figure size 432x288 with 1 Axes>"
      ]
     },
     "metadata": {
      "needs_background": "light"
     },
     "output_type": "display_data"
    }
   ],
   "source": [
    "#зависимость от дня недели:\n",
    "data.pivot_table(index='week_day', values='price_for_m2', aggfunc='median').plot(grid=True)\n",
    "\n",
    "#зависимость от месяца:\n",
    "data.pivot_table(index='month', values='price_for_m2', aggfunc='median').plot(grid=True)\n",
    "\n",
    "#зависимость от года:\n",
    "data.pivot_table(index='year', values='price_for_m2', aggfunc='median').plot(grid=True)"
   ]
  },
  {
   "cell_type": "markdown",
   "metadata": {},
   "source": [
    "День недели особенно не влияет, но все же самые дешевые квартиры чаще всего публикуются по субботам. Месяц в целом не влияет тоже, хотя все равно самые дешевые квартиры публикуются летом в июне. А вот с годом зависимость есть - после кризиса 2014 г. цены на жилье упали в среднем на 10-20%, а по некоторомы данным - на 40-50%, согласно РБК.  Стабилизация рынка пришлась уже на рубеж 2018-2019 гг."
   ]
  },
  {
   "cell_type": "markdown",
   "metadata": {},
   "source": [
    "# Средняя цена одного квадратного метра в 10 населенных пунктах с наибольшим числом объявлений."
   ]
  },
  {
   "cell_type": "markdown",
   "metadata": {},
   "source": [
    "Выберем 10 населенных пунктов с наибольшим числом объявлений и посчитаем среднюю цену квадратного метра в них"
   ]
  },
  {
   "cell_type": "code",
   "execution_count": 94,
   "metadata": {},
   "outputs": [
    {
     "data": {
      "text/html": [
       "<div>\n",
       "<style scoped>\n",
       "    .dataframe tbody tr th:only-of-type {\n",
       "        vertical-align: middle;\n",
       "    }\n",
       "\n",
       "    .dataframe tbody tr th {\n",
       "        vertical-align: top;\n",
       "    }\n",
       "\n",
       "    .dataframe thead th {\n",
       "        text-align: right;\n",
       "    }\n",
       "</style>\n",
       "<table border=\"1\" class=\"dataframe\">\n",
       "  <thead>\n",
       "    <tr style=\"text-align: right;\">\n",
       "      <th></th>\n",
       "      <th>count</th>\n",
       "      <th>mean</th>\n",
       "    </tr>\n",
       "    <tr>\n",
       "      <th>locality_name</th>\n",
       "      <th></th>\n",
       "      <th></th>\n",
       "    </tr>\n",
       "  </thead>\n",
       "  <tbody>\n",
       "    <tr>\n",
       "      <th>Санкт-Петербург</th>\n",
       "      <td>8764</td>\n",
       "      <td>111162.712234</td>\n",
       "    </tr>\n",
       "    <tr>\n",
       "      <th>Всеволожск</th>\n",
       "      <td>240</td>\n",
       "      <td>67448.132640</td>\n",
       "    </tr>\n",
       "    <tr>\n",
       "      <th>Пушкин</th>\n",
       "      <td>203</td>\n",
       "      <td>101737.486379</td>\n",
       "    </tr>\n",
       "    <tr>\n",
       "      <th>поселок Шушары</th>\n",
       "      <td>199</td>\n",
       "      <td>79371.643933</td>\n",
       "    </tr>\n",
       "    <tr>\n",
       "      <th>Колпино</th>\n",
       "      <td>188</td>\n",
       "      <td>75701.660037</td>\n",
       "    </tr>\n",
       "    <tr>\n",
       "      <th>поселок Мурино</th>\n",
       "      <td>186</td>\n",
       "      <td>86840.370842</td>\n",
       "    </tr>\n",
       "    <tr>\n",
       "      <th>Петергоф</th>\n",
       "      <td>135</td>\n",
       "      <td>84535.864624</td>\n",
       "    </tr>\n",
       "    <tr>\n",
       "      <th>Гатчина</th>\n",
       "      <td>133</td>\n",
       "      <td>69493.135186</td>\n",
       "    </tr>\n",
       "    <tr>\n",
       "      <th>поселок Парголово</th>\n",
       "      <td>130</td>\n",
       "      <td>91177.100569</td>\n",
       "    </tr>\n",
       "    <tr>\n",
       "      <th>Сестрорецк</th>\n",
       "      <td>110</td>\n",
       "      <td>101886.901920</td>\n",
       "    </tr>\n",
       "  </tbody>\n",
       "</table>\n",
       "</div>"
      ],
      "text/plain": [
       "                   count           mean\n",
       "locality_name                          \n",
       "Санкт-Петербург     8764  111162.712234\n",
       "Всеволожск           240   67448.132640\n",
       "Пушкин               203  101737.486379\n",
       "поселок Шушары       199   79371.643933\n",
       "Колпино              188   75701.660037\n",
       "поселок Мурино       186   86840.370842\n",
       "Петергоф             135   84535.864624\n",
       "Гатчина              133   69493.135186\n",
       "поселок Парголово    130   91177.100569\n",
       "Сестрорецк           110  101886.901920"
      ]
     },
     "execution_count": 94,
     "metadata": {},
     "output_type": "execute_result"
    }
   ],
   "source": [
    "sample=data.pivot_table(index = 'locality_name', values = 'price_for_m2', aggfunc=('count', 'mean')).sort_values(by='count', ascending = False).head(10)\n",
    "sample"
   ]
  },
  {
   "cell_type": "markdown",
   "metadata": {},
   "source": [
    "Посмотрим, в каких населенных пунктах самые дорогие и самые дешевые квартиры"
   ]
  },
  {
   "cell_type": "code",
   "execution_count": 95,
   "metadata": {},
   "outputs": [
    {
     "data": {
      "text/html": [
       "<div>\n",
       "<style scoped>\n",
       "    .dataframe tbody tr th:only-of-type {\n",
       "        vertical-align: middle;\n",
       "    }\n",
       "\n",
       "    .dataframe tbody tr th {\n",
       "        vertical-align: top;\n",
       "    }\n",
       "\n",
       "    .dataframe thead th {\n",
       "        text-align: right;\n",
       "    }\n",
       "</style>\n",
       "<table border=\"1\" class=\"dataframe\">\n",
       "  <thead>\n",
       "    <tr style=\"text-align: right;\">\n",
       "      <th></th>\n",
       "      <th>count</th>\n",
       "      <th>mean</th>\n",
       "    </tr>\n",
       "    <tr>\n",
       "      <th>locality_name</th>\n",
       "      <th></th>\n",
       "      <th></th>\n",
       "    </tr>\n",
       "  </thead>\n",
       "  <tbody>\n",
       "    <tr>\n",
       "      <th>Санкт-Петербург</th>\n",
       "      <td>8764</td>\n",
       "      <td>111162.712234</td>\n",
       "    </tr>\n",
       "  </tbody>\n",
       "</table>\n",
       "</div>"
      ],
      "text/plain": [
       "                 count           mean\n",
       "locality_name                        \n",
       "Санкт-Петербург   8764  111162.712234"
      ]
     },
     "metadata": {},
     "output_type": "display_data"
    },
    {
     "data": {
      "text/html": [
       "<div>\n",
       "<style scoped>\n",
       "    .dataframe tbody tr th:only-of-type {\n",
       "        vertical-align: middle;\n",
       "    }\n",
       "\n",
       "    .dataframe tbody tr th {\n",
       "        vertical-align: top;\n",
       "    }\n",
       "\n",
       "    .dataframe thead th {\n",
       "        text-align: right;\n",
       "    }\n",
       "</style>\n",
       "<table border=\"1\" class=\"dataframe\">\n",
       "  <thead>\n",
       "    <tr style=\"text-align: right;\">\n",
       "      <th></th>\n",
       "      <th>count</th>\n",
       "      <th>mean</th>\n",
       "    </tr>\n",
       "    <tr>\n",
       "      <th>locality_name</th>\n",
       "      <th></th>\n",
       "      <th></th>\n",
       "    </tr>\n",
       "  </thead>\n",
       "  <tbody>\n",
       "    <tr>\n",
       "      <th>Всеволожск</th>\n",
       "      <td>240</td>\n",
       "      <td>67448.13264</td>\n",
       "    </tr>\n",
       "  </tbody>\n",
       "</table>\n",
       "</div>"
      ],
      "text/plain": [
       "               count         mean\n",
       "locality_name                    \n",
       "Всеволожск       240  67448.13264"
      ]
     },
     "metadata": {},
     "output_type": "display_data"
    }
   ],
   "source": [
    "display(sample[sample['mean']==sample['mean'].max()])\n",
    "display(sample[sample['mean']==sample['mean'].min()])"
   ]
  },
  {
   "cell_type": "markdown",
   "metadata": {},
   "source": [
    "Самая высокая стоимость жилья представлена в самом городе СПб и составляет 111163 рублей. Самые дешевые квартиры в Всеволожске - 67448 рублей."
   ]
  },
  {
   "cell_type": "markdown",
   "metadata": {},
   "source": [
    "# Стоимость объектов зависит от расстояния до центра города."
   ]
  },
  {
   "cell_type": "code",
   "execution_count": 96,
   "metadata": {},
   "outputs": [
    {
     "data": {
      "text/html": [
       "<div>\n",
       "<style scoped>\n",
       "    .dataframe tbody tr th:only-of-type {\n",
       "        vertical-align: middle;\n",
       "    }\n",
       "\n",
       "    .dataframe tbody tr th {\n",
       "        vertical-align: top;\n",
       "    }\n",
       "\n",
       "    .dataframe thead th {\n",
       "        text-align: right;\n",
       "    }\n",
       "</style>\n",
       "<table border=\"1\" class=\"dataframe\">\n",
       "  <thead>\n",
       "    <tr style=\"text-align: right;\">\n",
       "      <th></th>\n",
       "      <th>total_images</th>\n",
       "      <th>last_price</th>\n",
       "      <th>total_area</th>\n",
       "      <th>first_day_exposition</th>\n",
       "      <th>rooms</th>\n",
       "      <th>ceiling_height</th>\n",
       "      <th>floors_total</th>\n",
       "      <th>living_area</th>\n",
       "      <th>floor</th>\n",
       "      <th>is_apartment</th>\n",
       "      <th>studio</th>\n",
       "      <th>open_plan</th>\n",
       "      <th>kitchen_area</th>\n",
       "      <th>balcony</th>\n",
       "      <th>locality_name</th>\n",
       "      <th>airports_nearest</th>\n",
       "      <th>city_centers_nearest</th>\n",
       "      <th>parks_around3000</th>\n",
       "      <th>parks_nearest</th>\n",
       "      <th>ponds_around3000</th>\n",
       "      <th>ponds_nearest</th>\n",
       "      <th>days_exposition</th>\n",
       "      <th>price_for_m2</th>\n",
       "      <th>week_day</th>\n",
       "      <th>month</th>\n",
       "      <th>year</th>\n",
       "      <th>floor_group</th>\n",
       "      <th>k_living</th>\n",
       "      <th>k_kitchen</th>\n",
       "      <th>citycenters_km</th>\n",
       "    </tr>\n",
       "  </thead>\n",
       "  <tbody>\n",
       "    <tr>\n",
       "      <th>9</th>\n",
       "      <td>18</td>\n",
       "      <td>5400000.0</td>\n",
       "      <td>61.0</td>\n",
       "      <td>2017-02-26</td>\n",
       "      <td>3</td>\n",
       "      <td>2.50</td>\n",
       "      <td>9.0</td>\n",
       "      <td>43.6</td>\n",
       "      <td>7</td>\n",
       "      <td>False</td>\n",
       "      <td>False</td>\n",
       "      <td>False</td>\n",
       "      <td>6.5</td>\n",
       "      <td>2</td>\n",
       "      <td>Санкт-Петербург</td>\n",
       "      <td>50898.0</td>\n",
       "      <td>15008.0</td>\n",
       "      <td>0.0</td>\n",
       "      <td>NaN</td>\n",
       "      <td>0.0</td>\n",
       "      <td>NaN</td>\n",
       "      <td>289.0</td>\n",
       "      <td>88524.590164</td>\n",
       "      <td>6</td>\n",
       "      <td>2</td>\n",
       "      <td>2017</td>\n",
       "      <td>другой</td>\n",
       "      <td>0.714754</td>\n",
       "      <td>0.106557</td>\n",
       "      <td>15.0</td>\n",
       "    </tr>\n",
       "    <tr>\n",
       "      <th>10</th>\n",
       "      <td>5</td>\n",
       "      <td>5050000.0</td>\n",
       "      <td>39.6</td>\n",
       "      <td>2017-11-16</td>\n",
       "      <td>1</td>\n",
       "      <td>2.67</td>\n",
       "      <td>12.0</td>\n",
       "      <td>20.3</td>\n",
       "      <td>3</td>\n",
       "      <td>False</td>\n",
       "      <td>False</td>\n",
       "      <td>False</td>\n",
       "      <td>8.5</td>\n",
       "      <td>0</td>\n",
       "      <td>Санкт-Петербург</td>\n",
       "      <td>38357.0</td>\n",
       "      <td>13878.0</td>\n",
       "      <td>1.0</td>\n",
       "      <td>310.0</td>\n",
       "      <td>2.0</td>\n",
       "      <td>553.0</td>\n",
       "      <td>137.0</td>\n",
       "      <td>127525.252525</td>\n",
       "      <td>3</td>\n",
       "      <td>11</td>\n",
       "      <td>2017</td>\n",
       "      <td>другой</td>\n",
       "      <td>0.512626</td>\n",
       "      <td>0.214646</td>\n",
       "      <td>14.0</td>\n",
       "    </tr>\n",
       "    <tr>\n",
       "      <th>16</th>\n",
       "      <td>11</td>\n",
       "      <td>6700000.0</td>\n",
       "      <td>82.0</td>\n",
       "      <td>2017-11-23</td>\n",
       "      <td>3</td>\n",
       "      <td>3.05</td>\n",
       "      <td>5.0</td>\n",
       "      <td>55.6</td>\n",
       "      <td>1</td>\n",
       "      <td>False</td>\n",
       "      <td>False</td>\n",
       "      <td>False</td>\n",
       "      <td>9.0</td>\n",
       "      <td>0</td>\n",
       "      <td>Санкт-Петербург</td>\n",
       "      <td>22108.0</td>\n",
       "      <td>10698.0</td>\n",
       "      <td>3.0</td>\n",
       "      <td>420.0</td>\n",
       "      <td>0.0</td>\n",
       "      <td>NaN</td>\n",
       "      <td>397.0</td>\n",
       "      <td>81707.317073</td>\n",
       "      <td>3</td>\n",
       "      <td>11</td>\n",
       "      <td>2017</td>\n",
       "      <td>первый</td>\n",
       "      <td>0.678049</td>\n",
       "      <td>0.109756</td>\n",
       "      <td>11.0</td>\n",
       "    </tr>\n",
       "    <tr>\n",
       "      <th>18</th>\n",
       "      <td>8</td>\n",
       "      <td>3250000.0</td>\n",
       "      <td>31.0</td>\n",
       "      <td>2017-01-27</td>\n",
       "      <td>1</td>\n",
       "      <td>2.50</td>\n",
       "      <td>5.0</td>\n",
       "      <td>19.4</td>\n",
       "      <td>2</td>\n",
       "      <td>False</td>\n",
       "      <td>False</td>\n",
       "      <td>False</td>\n",
       "      <td>5.6</td>\n",
       "      <td>1</td>\n",
       "      <td>Санкт-Петербург</td>\n",
       "      <td>44060.0</td>\n",
       "      <td>10842.0</td>\n",
       "      <td>1.0</td>\n",
       "      <td>759.0</td>\n",
       "      <td>0.0</td>\n",
       "      <td>NaN</td>\n",
       "      <td>168.0</td>\n",
       "      <td>104838.709677</td>\n",
       "      <td>4</td>\n",
       "      <td>1</td>\n",
       "      <td>2017</td>\n",
       "      <td>другой</td>\n",
       "      <td>0.625806</td>\n",
       "      <td>0.180645</td>\n",
       "      <td>11.0</td>\n",
       "    </tr>\n",
       "    <tr>\n",
       "      <th>19</th>\n",
       "      <td>16</td>\n",
       "      <td>14200000.0</td>\n",
       "      <td>121.0</td>\n",
       "      <td>2019-01-09</td>\n",
       "      <td>3</td>\n",
       "      <td>2.75</td>\n",
       "      <td>16.0</td>\n",
       "      <td>76.0</td>\n",
       "      <td>8</td>\n",
       "      <td>False</td>\n",
       "      <td>False</td>\n",
       "      <td>False</td>\n",
       "      <td>12.0</td>\n",
       "      <td>0</td>\n",
       "      <td>Санкт-Петербург</td>\n",
       "      <td>38900.0</td>\n",
       "      <td>12843.0</td>\n",
       "      <td>0.0</td>\n",
       "      <td>NaN</td>\n",
       "      <td>0.0</td>\n",
       "      <td>NaN</td>\n",
       "      <td>97.0</td>\n",
       "      <td>117355.371901</td>\n",
       "      <td>2</td>\n",
       "      <td>1</td>\n",
       "      <td>2019</td>\n",
       "      <td>другой</td>\n",
       "      <td>0.628099</td>\n",
       "      <td>0.099174</td>\n",
       "      <td>13.0</td>\n",
       "    </tr>\n",
       "  </tbody>\n",
       "</table>\n",
       "</div>"
      ],
      "text/plain": [
       "    total_images  last_price  total_area first_day_exposition  rooms  \\\n",
       "9             18   5400000.0        61.0           2017-02-26      3   \n",
       "10             5   5050000.0        39.6           2017-11-16      1   \n",
       "16            11   6700000.0        82.0           2017-11-23      3   \n",
       "18             8   3250000.0        31.0           2017-01-27      1   \n",
       "19            16  14200000.0       121.0           2019-01-09      3   \n",
       "\n",
       "    ceiling_height  floors_total  living_area  floor  is_apartment  studio  \\\n",
       "9             2.50           9.0         43.6      7         False   False   \n",
       "10            2.67          12.0         20.3      3         False   False   \n",
       "16            3.05           5.0         55.6      1         False   False   \n",
       "18            2.50           5.0         19.4      2         False   False   \n",
       "19            2.75          16.0         76.0      8         False   False   \n",
       "\n",
       "    open_plan  kitchen_area  balcony    locality_name  airports_nearest  \\\n",
       "9       False           6.5        2  Санкт-Петербург           50898.0   \n",
       "10      False           8.5        0  Санкт-Петербург           38357.0   \n",
       "16      False           9.0        0  Санкт-Петербург           22108.0   \n",
       "18      False           5.6        1  Санкт-Петербург           44060.0   \n",
       "19      False          12.0        0  Санкт-Петербург           38900.0   \n",
       "\n",
       "    city_centers_nearest  parks_around3000  parks_nearest  ponds_around3000  \\\n",
       "9                15008.0               0.0            NaN               0.0   \n",
       "10               13878.0               1.0          310.0               2.0   \n",
       "16               10698.0               3.0          420.0               0.0   \n",
       "18               10842.0               1.0          759.0               0.0   \n",
       "19               12843.0               0.0            NaN               0.0   \n",
       "\n",
       "    ponds_nearest  days_exposition   price_for_m2  week_day  month  year  \\\n",
       "9             NaN            289.0   88524.590164         6      2  2017   \n",
       "10          553.0            137.0  127525.252525         3     11  2017   \n",
       "16            NaN            397.0   81707.317073         3     11  2017   \n",
       "18            NaN            168.0  104838.709677         4      1  2017   \n",
       "19            NaN             97.0  117355.371901         2      1  2019   \n",
       "\n",
       "   floor_group  k_living  k_kitchen  citycenters_km  \n",
       "9       другой  0.714754   0.106557            15.0  \n",
       "10      другой  0.512626   0.214646            14.0  \n",
       "16      первый  0.678049   0.109756            11.0  \n",
       "18      другой  0.625806   0.180645            11.0  \n",
       "19      другой  0.628099   0.099174            13.0  "
      ]
     },
     "execution_count": 96,
     "metadata": {},
     "output_type": "execute_result"
    }
   ],
   "source": [
    "#Выделим квартиры в Санкт-Петербурге:\n",
    "spb_data=data.query('locality_name == \"Санкт-Петербург\"')\n",
    "\n",
    "#Создадим столбец с расстоянием до центра в километрах (округлим метры до целых значений):\n",
    "spb_data['citycenters_km'] = round(spb_data['city_centers_nearest'] / 1000, 0)\n",
    "\n",
    "spb_data.head()"
   ]
  },
  {
   "cell_type": "code",
   "execution_count": 97,
   "metadata": {},
   "outputs": [
    {
     "data": {
      "text/html": [
       "<div>\n",
       "<style scoped>\n",
       "    .dataframe tbody tr th:only-of-type {\n",
       "        vertical-align: middle;\n",
       "    }\n",
       "\n",
       "    .dataframe tbody tr th {\n",
       "        vertical-align: top;\n",
       "    }\n",
       "\n",
       "    .dataframe thead th {\n",
       "        text-align: right;\n",
       "    }\n",
       "</style>\n",
       "<table border=\"1\" class=\"dataframe\">\n",
       "  <thead>\n",
       "    <tr style=\"text-align: right;\">\n",
       "      <th></th>\n",
       "      <th>price_for_m2</th>\n",
       "    </tr>\n",
       "    <tr>\n",
       "      <th>citycenters_km</th>\n",
       "      <th></th>\n",
       "    </tr>\n",
       "  </thead>\n",
       "  <tbody>\n",
       "    <tr>\n",
       "      <th>0.0</th>\n",
       "      <td>169210.381031</td>\n",
       "    </tr>\n",
       "    <tr>\n",
       "      <th>1.0</th>\n",
       "      <td>139601.559534</td>\n",
       "    </tr>\n",
       "    <tr>\n",
       "      <th>2.0</th>\n",
       "      <td>157862.730451</td>\n",
       "    </tr>\n",
       "    <tr>\n",
       "      <th>3.0</th>\n",
       "      <td>117006.229359</td>\n",
       "    </tr>\n",
       "    <tr>\n",
       "      <th>4.0</th>\n",
       "      <td>123455.652067</td>\n",
       "    </tr>\n",
       "    <tr>\n",
       "      <th>5.0</th>\n",
       "      <td>129966.546260</td>\n",
       "    </tr>\n",
       "    <tr>\n",
       "      <th>6.0</th>\n",
       "      <td>131529.509116</td>\n",
       "    </tr>\n",
       "    <tr>\n",
       "      <th>7.0</th>\n",
       "      <td>145506.053706</td>\n",
       "    </tr>\n",
       "    <tr>\n",
       "      <th>8.0</th>\n",
       "      <td>122851.970991</td>\n",
       "    </tr>\n",
       "    <tr>\n",
       "      <th>9.0</th>\n",
       "      <td>114032.479321</td>\n",
       "    </tr>\n",
       "    <tr>\n",
       "      <th>10.0</th>\n",
       "      <td>112371.818102</td>\n",
       "    </tr>\n",
       "    <tr>\n",
       "      <th>11.0</th>\n",
       "      <td>107194.455586</td>\n",
       "    </tr>\n",
       "    <tr>\n",
       "      <th>12.0</th>\n",
       "      <td>108198.930666</td>\n",
       "    </tr>\n",
       "    <tr>\n",
       "      <th>13.0</th>\n",
       "      <td>107519.495298</td>\n",
       "    </tr>\n",
       "    <tr>\n",
       "      <th>14.0</th>\n",
       "      <td>103714.424607</td>\n",
       "    </tr>\n",
       "    <tr>\n",
       "      <th>15.0</th>\n",
       "      <td>104231.817815</td>\n",
       "    </tr>\n",
       "    <tr>\n",
       "      <th>16.0</th>\n",
       "      <td>100113.411400</td>\n",
       "    </tr>\n",
       "    <tr>\n",
       "      <th>17.0</th>\n",
       "      <td>97545.426599</td>\n",
       "    </tr>\n",
       "    <tr>\n",
       "      <th>18.0</th>\n",
       "      <td>95087.498696</td>\n",
       "    </tr>\n",
       "    <tr>\n",
       "      <th>19.0</th>\n",
       "      <td>96554.049467</td>\n",
       "    </tr>\n",
       "  </tbody>\n",
       "</table>\n",
       "</div>"
      ],
      "text/plain": [
       "                 price_for_m2\n",
       "citycenters_km               \n",
       "0.0             169210.381031\n",
       "1.0             139601.559534\n",
       "2.0             157862.730451\n",
       "3.0             117006.229359\n",
       "4.0             123455.652067\n",
       "5.0             129966.546260\n",
       "6.0             131529.509116\n",
       "7.0             145506.053706\n",
       "8.0             122851.970991\n",
       "9.0             114032.479321\n",
       "10.0            112371.818102\n",
       "11.0            107194.455586\n",
       "12.0            108198.930666\n",
       "13.0            107519.495298\n",
       "14.0            103714.424607\n",
       "15.0            104231.817815\n",
       "16.0            100113.411400\n",
       "17.0             97545.426599\n",
       "18.0             95087.498696\n",
       "19.0             96554.049467"
      ]
     },
     "metadata": {},
     "output_type": "display_data"
    }
   ],
   "source": [
    "#посчитаем среднюю цену для каждого километра.:\n",
    "spb_pivot=spb_data.pivot_table(index = 'citycenters_km', values = 'price_for_m2', aggfunc = 'mean')\n",
    "display(spb_pivot.head(20))"
   ]
  },
  {
   "cell_type": "code",
   "execution_count": 98,
   "metadata": {},
   "outputs": [
    {
     "data": {
      "text/plain": [
       "<AxesSubplot:xlabel='citycenters_km'>"
      ]
     },
     "execution_count": 98,
     "metadata": {},
     "output_type": "execute_result"
    },
    {
     "data": {
      "image/png": "[encoded data removed]",
      "text/plain": [
       "<Figure size 432x288 with 1 Axes>"
      ]
     },
     "metadata": {
      "needs_background": "light"
     },
     "output_type": "display_data"
    }
   ],
   "source": [
    "#постром график зависимости цены от удаленности от центра:\n",
    "spb_pivot.plot(grid=True)"
   ]
  },
  {
   "cell_type": "markdown",
   "metadata": {},
   "source": [
    "В целом, очевидный изначально вывод, что чем дальше от центра, тем дешевле, подтвержждается, однако, на 2ом и на 7ом километрах наблюдается подъемы, вероятно, обусловленные наличием более элитного жилья в более пригодных для жилья районах: у парков, набережных и тд. После 7 км график идет стабильно вниз, чем дальше от центра, тем дешевле. Таким образом, самое дорогое жилье сосрежоточено в пределах 7 км от центра."
   ]
  },
  {
   "cell_type": "markdown",
   "metadata": {},
   "source": [
    "### Общий вывод"
   ]
  },
  {
   "cell_type": "markdown",
   "metadata": {},
   "source": [
    "В данном анализе сначала проведена подробная предобработка данных, затем добавлены дополнительные недостающие столбцы. \n",
    "Выявлено, чт о в основном площадь квартир составляет от 25 до 60 м2 стоимостью от 3 до 7 млн рублей. Цена за м2 в среднем - 90 тыс рублей. \n",
    "Чаще всего продают однушки и двушки, за ними не очень отстали трешки. Четыере и более комнат продаются редко. Высота потолков в среднем 2,7м., при этом чаще всего продаются квартиры не выше 10 этажа (вероятно, девятиэтажки). Иногда квартиру удается продать за 2 месяца, самая долгая продажа длилась более 4х лет.\n",
    "На стоимость за м2 не особенно влияет площадь, жилая площадь, площадь кухни, количество комнат, день и месяц продажи, но влияет год продажи.\n",
    "Самые дорогие квартиры расположены между первым и последним этажом, самые дешевые - на первом.\n",
    "Самое дорогое жилье находится в Сантк-Петербурге, стоимость за м2 сотавила 111163 руб, самая дешевая в представленной выборке - во Всеволожске - 67448 рублей.\n",
    "И последний очевидный  вывод, что чем дальше от центра, тем дешевле, однако, на 2ом и на 7ом километрах наблюдаются подъемы, вероятно, обусловленные наличием более элитного жилья в более пригодных для жилья районах: у парков, набережных и тд. После 7 км график идет стабильно вниз, чем дальше от центра, тем дешевле. Таким образом, самое дорогое жилье сосредоточено в пределах 7 км от центра."
   ]
  }
 ],
 "metadata": {
  "ExecuteTimeLog": [
   {
    "duration": 421,
    "start_time": "2022-12-24T13:49:47.204Z"
   },
   {
    "duration": 160,
    "start_time": "2022-12-24T13:50:21.896Z"
   },
   {
    "duration": 14,
    "start_time": "2022-12-24T13:50:37.105Z"
   },
   {
    "duration": 115,
    "start_time": "2022-12-24T13:53:02.618Z"
   },
   {
    "duration": 13,
    "start_time": "2022-12-24T13:53:15.641Z"
   },
   {
    "duration": 415,
    "start_time": "2022-12-25T11:18:22.300Z"
   },
   {
    "duration": 664,
    "start_time": "2022-12-25T11:18:24.693Z"
   },
   {
    "duration": 13,
    "start_time": "2022-12-25T11:18:26.360Z"
   },
   {
    "duration": 91,
    "start_time": "2022-12-25T11:18:43.416Z"
   },
   {
    "duration": 2,
    "start_time": "2022-12-25T11:18:56.936Z"
   },
   {
    "duration": 36,
    "start_time": "2022-12-25T11:19:03.870Z"
   },
   {
    "duration": 3,
    "start_time": "2022-12-25T11:40:30.535Z"
   },
   {
    "duration": 19,
    "start_time": "2022-12-25T11:40:38.068Z"
   },
   {
    "duration": 2,
    "start_time": "2022-12-25T11:49:11.300Z"
   },
   {
    "duration": 928,
    "start_time": "2022-12-25T11:49:12.755Z"
   },
   {
    "duration": 2,
    "start_time": "2022-12-25T11:49:17.272Z"
   },
   {
    "duration": 104,
    "start_time": "2022-12-25T11:49:20.336Z"
   },
   {
    "duration": 13,
    "start_time": "2022-12-25T11:49:23.588Z"
   },
   {
    "duration": 94,
    "start_time": "2022-12-25T11:49:26.584Z"
   },
   {
    "duration": 2,
    "start_time": "2022-12-25T11:49:27.000Z"
   },
   {
    "duration": 21,
    "start_time": "2022-12-25T11:49:29.344Z"
   },
   {
    "duration": 45,
    "start_time": "2022-12-25T12:14:17.063Z"
   },
   {
    "duration": 151,
    "start_time": "2022-12-25T12:19:02.704Z"
   },
   {
    "duration": 1808,
    "start_time": "2022-12-25T12:30:28.384Z"
   },
   {
    "duration": 1954,
    "start_time": "2022-12-25T12:31:29.654Z"
   },
   {
    "duration": 14,
    "start_time": "2022-12-25T12:34:01.241Z"
   },
   {
    "duration": 92,
    "start_time": "2022-12-25T13:03:55.730Z"
   },
   {
    "duration": 700,
    "start_time": "2022-12-25T13:04:02.517Z"
   },
   {
    "duration": 1204,
    "start_time": "2022-12-25T13:05:15.334Z"
   },
   {
    "duration": 715,
    "start_time": "2022-12-25T13:05:52.281Z"
   },
   {
    "duration": 23,
    "start_time": "2022-12-25T13:14:54.461Z"
   },
   {
    "duration": 20,
    "start_time": "2022-12-25T13:18:50.772Z"
   },
   {
    "duration": 15,
    "start_time": "2022-12-25T13:19:30.846Z"
   },
   {
    "duration": 10,
    "start_time": "2022-12-25T13:20:31.119Z"
   },
   {
    "duration": 6,
    "start_time": "2022-12-25T13:25:34.781Z"
   },
   {
    "duration": 11,
    "start_time": "2022-12-25T13:28:22.002Z"
   },
   {
    "duration": 6,
    "start_time": "2022-12-25T13:30:41.537Z"
   },
   {
    "duration": 5,
    "start_time": "2022-12-25T13:31:00.152Z"
   },
   {
    "duration": 5,
    "start_time": "2022-12-25T13:32:57.656Z"
   },
   {
    "duration": 6,
    "start_time": "2022-12-25T13:33:21.169Z"
   },
   {
    "duration": 5,
    "start_time": "2022-12-25T13:33:45.503Z"
   },
   {
    "duration": 6,
    "start_time": "2022-12-25T13:43:11.652Z"
   },
   {
    "duration": 5,
    "start_time": "2022-12-25T13:49:22.879Z"
   },
   {
    "duration": 9,
    "start_time": "2022-12-25T14:10:58.474Z"
   },
   {
    "duration": 5,
    "start_time": "2022-12-25T14:11:13.351Z"
   },
   {
    "duration": 5,
    "start_time": "2022-12-25T14:12:08.305Z"
   },
   {
    "duration": 10,
    "start_time": "2022-12-25T14:24:29.581Z"
   },
   {
    "duration": 33,
    "start_time": "2022-12-25T14:24:40.787Z"
   },
   {
    "duration": 5,
    "start_time": "2022-12-25T14:30:17.741Z"
   },
   {
    "duration": 4,
    "start_time": "2022-12-25T14:31:48.986Z"
   },
   {
    "duration": 3,
    "start_time": "2022-12-25T14:32:09.750Z"
   },
   {
    "duration": 5,
    "start_time": "2022-12-25T14:32:12.338Z"
   },
   {
    "duration": 4,
    "start_time": "2022-12-25T14:32:51.772Z"
   },
   {
    "duration": 4,
    "start_time": "2022-12-25T14:35:23.444Z"
   },
   {
    "duration": 4,
    "start_time": "2022-12-25T14:35:28.802Z"
   },
   {
    "duration": 4,
    "start_time": "2022-12-25T14:35:34.471Z"
   },
   {
    "duration": 5,
    "start_time": "2022-12-25T14:35:40.483Z"
   },
   {
    "duration": 4,
    "start_time": "2022-12-25T14:36:32.762Z"
   },
   {
    "duration": 4,
    "start_time": "2022-12-25T14:37:08.616Z"
   },
   {
    "duration": 4,
    "start_time": "2022-12-25T14:37:19.317Z"
   },
   {
    "duration": 4,
    "start_time": "2022-12-25T14:37:22.706Z"
   },
   {
    "duration": 10,
    "start_time": "2022-12-25T14:37:53.621Z"
   },
   {
    "duration": 5,
    "start_time": "2022-12-25T14:37:56.708Z"
   },
   {
    "duration": 4,
    "start_time": "2022-12-25T14:38:54.781Z"
   },
   {
    "duration": 5,
    "start_time": "2022-12-25T14:39:34.603Z"
   },
   {
    "duration": 2,
    "start_time": "2022-12-25T14:39:40.848Z"
   },
   {
    "duration": 3,
    "start_time": "2022-12-25T14:39:42.415Z"
   },
   {
    "duration": 3,
    "start_time": "2022-12-25T14:39:42.854Z"
   },
   {
    "duration": 76,
    "start_time": "2022-12-25T14:39:43.516Z"
   },
   {
    "duration": 12,
    "start_time": "2022-12-25T14:39:44.632Z"
   },
   {
    "duration": 84,
    "start_time": "2022-12-25T14:39:48.076Z"
   },
   {
    "duration": 3,
    "start_time": "2022-12-25T14:39:48.721Z"
   },
   {
    "duration": 19,
    "start_time": "2022-12-25T14:39:50.020Z"
   },
   {
    "duration": 4,
    "start_time": "2022-12-25T14:39:54.604Z"
   },
   {
    "duration": 20,
    "start_time": "2022-12-25T14:39:57.519Z"
   },
   {
    "duration": 1705,
    "start_time": "2022-12-25T14:39:59.656Z"
   },
   {
    "duration": 13,
    "start_time": "2022-12-25T14:40:06.487Z"
   },
   {
    "duration": 5,
    "start_time": "2022-12-25T14:40:10.566Z"
   },
   {
    "duration": 5,
    "start_time": "2022-12-25T14:40:13.602Z"
   },
   {
    "duration": 4,
    "start_time": "2022-12-25T14:40:23.187Z"
   },
   {
    "duration": 5,
    "start_time": "2022-12-25T14:40:24.819Z"
   },
   {
    "duration": 5,
    "start_time": "2022-12-25T14:40:27.233Z"
   },
   {
    "duration": 9,
    "start_time": "2022-12-25T14:40:34.347Z"
   },
   {
    "duration": 5,
    "start_time": "2022-12-25T14:40:37.851Z"
   },
   {
    "duration": 5,
    "start_time": "2022-12-25T14:40:42.360Z"
   },
   {
    "duration": 6,
    "start_time": "2022-12-25T14:41:40.079Z"
   },
   {
    "duration": 5,
    "start_time": "2022-12-25T14:43:17.348Z"
   },
   {
    "duration": 6,
    "start_time": "2022-12-25T14:43:27.751Z"
   },
   {
    "duration": 6,
    "start_time": "2022-12-25T15:00:04.664Z"
   },
   {
    "duration": 5,
    "start_time": "2022-12-25T15:00:17.107Z"
   },
   {
    "duration": 42,
    "start_time": "2022-12-25T15:02:02.139Z"
   },
   {
    "duration": 54,
    "start_time": "2022-12-25T15:05:19.207Z"
   },
   {
    "duration": 62,
    "start_time": "2022-12-25T15:06:07.421Z"
   },
   {
    "duration": 5,
    "start_time": "2022-12-25T15:06:52.746Z"
   },
   {
    "duration": 7,
    "start_time": "2022-12-25T15:07:08.903Z"
   },
   {
    "duration": 6,
    "start_time": "2022-12-25T15:08:18.611Z"
   },
   {
    "duration": 7,
    "start_time": "2022-12-25T15:08:20.377Z"
   },
   {
    "duration": 5,
    "start_time": "2022-12-25T15:10:56.636Z"
   },
   {
    "duration": 3,
    "start_time": "2022-12-25T15:12:22.403Z"
   },
   {
    "duration": 5,
    "start_time": "2022-12-25T15:12:29.513Z"
   },
   {
    "duration": 3,
    "start_time": "2022-12-25T15:12:46.005Z"
   },
   {
    "duration": 5,
    "start_time": "2022-12-25T15:12:47.607Z"
   },
   {
    "duration": 3,
    "start_time": "2022-12-25T15:13:01.263Z"
   },
   {
    "duration": 3,
    "start_time": "2022-12-25T15:13:01.464Z"
   },
   {
    "duration": 3,
    "start_time": "2022-12-25T15:13:01.640Z"
   },
   {
    "duration": 81,
    "start_time": "2022-12-25T15:13:02.051Z"
   },
   {
    "duration": 13,
    "start_time": "2022-12-25T15:13:02.134Z"
   },
   {
    "duration": 67,
    "start_time": "2022-12-25T15:13:02.260Z"
   },
   {
    "duration": 3,
    "start_time": "2022-12-25T15:13:02.356Z"
   },
   {
    "duration": 22,
    "start_time": "2022-12-25T15:13:02.758Z"
   },
   {
    "duration": 3,
    "start_time": "2022-12-25T15:13:02.884Z"
   },
   {
    "duration": 31,
    "start_time": "2022-12-25T15:13:03.050Z"
   },
   {
    "duration": 1952,
    "start_time": "2022-12-25T15:13:03.413Z"
   },
   {
    "duration": 19,
    "start_time": "2022-12-25T15:13:05.368Z"
   },
   {
    "duration": 33,
    "start_time": "2022-12-25T15:13:05.389Z"
   },
   {
    "duration": 58,
    "start_time": "2022-12-25T15:13:05.424Z"
   },
   {
    "duration": 37,
    "start_time": "2022-12-25T15:13:05.484Z"
   },
   {
    "duration": 18,
    "start_time": "2022-12-25T15:13:05.523Z"
   },
   {
    "duration": 34,
    "start_time": "2022-12-25T15:13:05.543Z"
   },
   {
    "duration": 43,
    "start_time": "2022-12-25T15:13:05.578Z"
   },
   {
    "duration": 25,
    "start_time": "2022-12-25T15:13:05.623Z"
   },
   {
    "duration": 4,
    "start_time": "2022-12-25T15:13:07.196Z"
   },
   {
    "duration": 6,
    "start_time": "2022-12-25T15:13:07.840Z"
   },
   {
    "duration": 5,
    "start_time": "2022-12-25T15:13:08.315Z"
   },
   {
    "duration": 5,
    "start_time": "2022-12-25T15:13:08.742Z"
   },
   {
    "duration": 5,
    "start_time": "2022-12-25T15:13:09.529Z"
   },
   {
    "duration": 5,
    "start_time": "2022-12-25T15:13:10.078Z"
   },
   {
    "duration": 5,
    "start_time": "2022-12-25T15:13:11.424Z"
   },
   {
    "duration": 6,
    "start_time": "2022-12-25T15:13:11.929Z"
   },
   {
    "duration": 5,
    "start_time": "2022-12-25T15:13:13.147Z"
   },
   {
    "duration": 5,
    "start_time": "2022-12-25T15:13:13.956Z"
   },
   {
    "duration": 5,
    "start_time": "2022-12-25T15:13:14.733Z"
   },
   {
    "duration": 5,
    "start_time": "2022-12-25T15:18:01.459Z"
   },
   {
    "duration": 5,
    "start_time": "2022-12-25T15:18:44.443Z"
   },
   {
    "duration": 5,
    "start_time": "2022-12-25T15:19:27.441Z"
   },
   {
    "duration": 5,
    "start_time": "2022-12-25T15:20:07.849Z"
   },
   {
    "duration": 3,
    "start_time": "2022-12-25T15:26:16.336Z"
   },
   {
    "duration": 3,
    "start_time": "2022-12-25T15:26:16.511Z"
   },
   {
    "duration": 3,
    "start_time": "2022-12-25T15:26:16.688Z"
   },
   {
    "duration": 77,
    "start_time": "2022-12-25T15:26:16.853Z"
   },
   {
    "duration": 12,
    "start_time": "2022-12-25T15:26:17.037Z"
   },
   {
    "duration": 67,
    "start_time": "2022-12-25T15:26:17.208Z"
   },
   {
    "duration": 2,
    "start_time": "2022-12-25T15:26:17.394Z"
   },
   {
    "duration": 19,
    "start_time": "2022-12-25T15:26:17.551Z"
   },
   {
    "duration": 3,
    "start_time": "2022-12-25T15:26:17.910Z"
   },
   {
    "duration": 21,
    "start_time": "2022-12-25T15:26:18.084Z"
   },
   {
    "duration": 1879,
    "start_time": "2022-12-25T15:26:18.468Z"
   },
   {
    "duration": 16,
    "start_time": "2022-12-25T15:26:20.348Z"
   },
   {
    "duration": 4,
    "start_time": "2022-12-25T15:26:20.365Z"
   },
   {
    "duration": 5,
    "start_time": "2022-12-25T15:26:28.574Z"
   },
   {
    "duration": 5,
    "start_time": "2022-12-25T15:26:29.198Z"
   },
   {
    "duration": 4,
    "start_time": "2022-12-25T15:26:29.839Z"
   },
   {
    "duration": 5,
    "start_time": "2022-12-25T15:26:30.514Z"
   },
   {
    "duration": 8,
    "start_time": "2022-12-25T15:26:31.214Z"
   },
   {
    "duration": 5,
    "start_time": "2022-12-25T15:26:32.859Z"
   },
   {
    "duration": 6,
    "start_time": "2022-12-25T15:26:34.315Z"
   },
   {
    "duration": 8,
    "start_time": "2022-12-25T15:26:38.628Z"
   },
   {
    "duration": 6,
    "start_time": "2022-12-25T15:26:42.956Z"
   },
   {
    "duration": 3890,
    "start_time": "2022-12-25T15:26:43.941Z"
   },
   {
    "duration": 6,
    "start_time": "2022-12-25T15:27:27.038Z"
   },
   {
    "duration": 7,
    "start_time": "2022-12-25T15:27:27.990Z"
   },
   {
    "duration": 5,
    "start_time": "2022-12-25T15:27:29.637Z"
   },
   {
    "duration": 5,
    "start_time": "2022-12-25T15:27:30.230Z"
   },
   {
    "duration": 5,
    "start_time": "2022-12-25T15:27:32.312Z"
   },
   {
    "duration": 6,
    "start_time": "2022-12-25T15:27:33.116Z"
   },
   {
    "duration": 5,
    "start_time": "2022-12-25T15:27:34.634Z"
   },
   {
    "duration": 6,
    "start_time": "2022-12-25T15:27:35.237Z"
   },
   {
    "duration": 5,
    "start_time": "2022-12-25T15:27:37.212Z"
   },
   {
    "duration": 4,
    "start_time": "2022-12-25T15:27:39.198Z"
   },
   {
    "duration": 5,
    "start_time": "2022-12-25T15:27:39.956Z"
   },
   {
    "duration": 5,
    "start_time": "2022-12-25T15:27:41.884Z"
   },
   {
    "duration": 8,
    "start_time": "2022-12-25T15:27:44.498Z"
   },
   {
    "duration": 3,
    "start_time": "2022-12-25T15:30:40.313Z"
   },
   {
    "duration": 2,
    "start_time": "2022-12-25T15:30:40.937Z"
   },
   {
    "duration": 11,
    "start_time": "2022-12-25T15:30:40.941Z"
   },
   {
    "duration": 75,
    "start_time": "2022-12-25T15:30:40.961Z"
   },
   {
    "duration": 13,
    "start_time": "2022-12-25T15:30:41.436Z"
   },
   {
    "duration": 69,
    "start_time": "2022-12-25T15:30:41.451Z"
   },
   {
    "duration": 3,
    "start_time": "2022-12-25T15:30:41.523Z"
   },
   {
    "duration": 20,
    "start_time": "2022-12-25T15:30:41.680Z"
   },
   {
    "duration": 3,
    "start_time": "2022-12-25T15:30:42.343Z"
   },
   {
    "duration": 27,
    "start_time": "2022-12-25T15:30:42.348Z"
   },
   {
    "duration": 1911,
    "start_time": "2022-12-25T15:30:43.030Z"
   },
   {
    "duration": 14,
    "start_time": "2022-12-25T15:30:44.943Z"
   },
   {
    "duration": 10,
    "start_time": "2022-12-25T15:30:44.964Z"
   },
   {
    "duration": 11,
    "start_time": "2022-12-25T15:30:44.975Z"
   },
   {
    "duration": 6,
    "start_time": "2022-12-25T15:30:46.167Z"
   },
   {
    "duration": 8,
    "start_time": "2022-12-25T15:30:47.020Z"
   },
   {
    "duration": 5,
    "start_time": "2022-12-25T15:30:48.521Z"
   },
   {
    "duration": 7,
    "start_time": "2022-12-25T15:30:51.069Z"
   },
   {
    "duration": 6,
    "start_time": "2022-12-25T15:30:53.496Z"
   },
   {
    "duration": 5,
    "start_time": "2022-12-25T15:31:04.616Z"
   },
   {
    "duration": 4,
    "start_time": "2022-12-25T15:31:06.443Z"
   },
   {
    "duration": 4,
    "start_time": "2022-12-25T15:31:07.312Z"
   },
   {
    "duration": 11,
    "start_time": "2022-12-25T15:31:15.109Z"
   },
   {
    "duration": 4,
    "start_time": "2022-12-25T15:31:16.046Z"
   },
   {
    "duration": 9,
    "start_time": "2022-12-25T15:31:28.272Z"
   },
   {
    "duration": 7,
    "start_time": "2022-12-25T15:31:28.282Z"
   },
   {
    "duration": 7,
    "start_time": "2022-12-25T15:31:28.290Z"
   },
   {
    "duration": 10,
    "start_time": "2022-12-25T15:31:28.298Z"
   },
   {
    "duration": 7,
    "start_time": "2022-12-25T15:31:35.211Z"
   },
   {
    "duration": 17,
    "start_time": "2022-12-25T15:31:35.221Z"
   },
   {
    "duration": 19,
    "start_time": "2022-12-25T15:31:35.240Z"
   },
   {
    "duration": 18,
    "start_time": "2022-12-25T15:31:35.261Z"
   },
   {
    "duration": 10,
    "start_time": "2022-12-25T15:31:35.282Z"
   },
   {
    "duration": 10,
    "start_time": "2022-12-25T15:31:35.294Z"
   },
   {
    "duration": 18,
    "start_time": "2022-12-25T15:31:35.305Z"
   },
   {
    "duration": 17,
    "start_time": "2022-12-25T15:31:35.325Z"
   },
   {
    "duration": 11,
    "start_time": "2022-12-25T15:31:35.344Z"
   },
   {
    "duration": 16,
    "start_time": "2022-12-25T15:31:35.357Z"
   },
   {
    "duration": 11,
    "start_time": "2022-12-25T15:31:35.375Z"
   },
   {
    "duration": 8,
    "start_time": "2022-12-25T15:31:35.387Z"
   },
   {
    "duration": 11,
    "start_time": "2022-12-25T15:31:35.397Z"
   },
   {
    "duration": 10,
    "start_time": "2022-12-25T15:31:35.410Z"
   },
   {
    "duration": 8,
    "start_time": "2022-12-25T15:31:35.422Z"
   },
   {
    "duration": 5,
    "start_time": "2022-12-25T15:34:02.800Z"
   },
   {
    "duration": 9,
    "start_time": "2022-12-25T15:34:39.266Z"
   },
   {
    "duration": 6,
    "start_time": "2022-12-25T16:34:47.041Z"
   },
   {
    "duration": 8,
    "start_time": "2022-12-25T16:35:03.999Z"
   },
   {
    "duration": 5,
    "start_time": "2022-12-25T16:37:37.686Z"
   },
   {
    "duration": 5,
    "start_time": "2022-12-25T16:38:49.291Z"
   },
   {
    "duration": 4,
    "start_time": "2022-12-25T16:38:50.896Z"
   },
   {
    "duration": 6,
    "start_time": "2022-12-25T16:40:40.417Z"
   },
   {
    "duration": 5,
    "start_time": "2022-12-25T16:44:42.817Z"
   },
   {
    "duration": 10,
    "start_time": "2022-12-25T16:45:26.277Z"
   },
   {
    "duration": 10,
    "start_time": "2022-12-25T16:45:26.755Z"
   },
   {
    "duration": 5,
    "start_time": "2022-12-25T16:45:36.595Z"
   },
   {
    "duration": 9,
    "start_time": "2022-12-25T16:47:32.551Z"
   },
   {
    "duration": 9,
    "start_time": "2022-12-25T16:47:33.018Z"
   },
   {
    "duration": 5,
    "start_time": "2022-12-25T16:47:33.629Z"
   },
   {
    "duration": 9,
    "start_time": "2022-12-25T16:50:27.634Z"
   },
   {
    "duration": 9,
    "start_time": "2022-12-25T16:50:28.345Z"
   },
   {
    "duration": 10,
    "start_time": "2022-12-25T16:50:28.959Z"
   },
   {
    "duration": 6,
    "start_time": "2022-12-25T16:50:29.699Z"
   },
   {
    "duration": 14,
    "start_time": "2022-12-25T16:51:40.057Z"
   },
   {
    "duration": 10,
    "start_time": "2022-12-25T16:51:40.456Z"
   },
   {
    "duration": 5,
    "start_time": "2022-12-25T16:51:41.449Z"
   },
   {
    "duration": 9,
    "start_time": "2022-12-25T16:55:57.621Z"
   },
   {
    "duration": 6,
    "start_time": "2022-12-25T16:55:58.590Z"
   },
   {
    "duration": 10,
    "start_time": "2022-12-25T16:57:12.293Z"
   },
   {
    "duration": 6,
    "start_time": "2022-12-25T16:57:12.747Z"
   },
   {
    "duration": 5,
    "start_time": "2022-12-25T16:59:22.985Z"
   },
   {
    "duration": 5,
    "start_time": "2022-12-25T17:05:03.017Z"
   },
   {
    "duration": 11,
    "start_time": "2022-12-25T17:05:38.860Z"
   },
   {
    "duration": 35,
    "start_time": "2022-12-25T17:14:03.332Z"
   },
   {
    "duration": 4,
    "start_time": "2022-12-25T17:15:18.459Z"
   },
   {
    "duration": 4,
    "start_time": "2022-12-25T17:18:12.835Z"
   },
   {
    "duration": 4,
    "start_time": "2022-12-25T17:18:13.250Z"
   },
   {
    "duration": 4,
    "start_time": "2022-12-25T17:18:13.673Z"
   },
   {
    "duration": 5,
    "start_time": "2022-12-25T17:18:14.106Z"
   },
   {
    "duration": 7,
    "start_time": "2022-12-25T17:18:14.589Z"
   },
   {
    "duration": 5,
    "start_time": "2022-12-25T17:18:15.186Z"
   },
   {
    "duration": 23,
    "start_time": "2022-12-25T17:18:15.840Z"
   },
   {
    "duration": 44,
    "start_time": "2022-12-26T20:20:24.485Z"
   },
   {
    "duration": 346,
    "start_time": "2022-12-26T20:20:46.766Z"
   },
   {
    "duration": 869,
    "start_time": "2022-12-26T20:20:47.149Z"
   },
   {
    "duration": 3,
    "start_time": "2022-12-26T20:20:48.020Z"
   },
   {
    "duration": 309,
    "start_time": "2022-12-26T20:20:48.024Z"
   },
   {
    "duration": 12,
    "start_time": "2022-12-26T20:20:48.334Z"
   },
   {
    "duration": 87,
    "start_time": "2022-12-26T20:20:49.655Z"
   },
   {
    "duration": 3,
    "start_time": "2022-12-26T20:20:50.656Z"
   },
   {
    "duration": 23,
    "start_time": "2022-12-26T20:20:51.445Z"
   },
   {
    "duration": 3,
    "start_time": "2022-12-26T20:20:52.641Z"
   },
   {
    "duration": 21,
    "start_time": "2022-12-26T20:20:53.219Z"
   },
   {
    "duration": 1836,
    "start_time": "2022-12-26T20:20:54.512Z"
   },
   {
    "duration": 15,
    "start_time": "2022-12-26T20:20:56.673Z"
   },
   {
    "duration": 5,
    "start_time": "2022-12-26T20:20:59.612Z"
   },
   {
    "duration": 6,
    "start_time": "2022-12-26T20:21:01.056Z"
   },
   {
    "duration": 4,
    "start_time": "2022-12-26T20:21:02.503Z"
   },
   {
    "duration": 5,
    "start_time": "2022-12-26T20:21:03.096Z"
   },
   {
    "duration": 7,
    "start_time": "2022-12-26T20:21:03.556Z"
   },
   {
    "duration": 4,
    "start_time": "2022-12-26T20:21:08.269Z"
   },
   {
    "duration": 12,
    "start_time": "2022-12-26T20:21:08.773Z"
   },
   {
    "duration": 4,
    "start_time": "2022-12-26T20:21:09.186Z"
   },
   {
    "duration": 5,
    "start_time": "2022-12-26T20:21:09.984Z"
   },
   {
    "duration": 9,
    "start_time": "2022-12-26T20:21:10.475Z"
   },
   {
    "duration": 6,
    "start_time": "2022-12-26T20:21:11.515Z"
   },
   {
    "duration": 5,
    "start_time": "2022-12-26T20:21:11.988Z"
   },
   {
    "duration": 5,
    "start_time": "2022-12-26T20:21:12.413Z"
   },
   {
    "duration": 6,
    "start_time": "2022-12-26T20:21:13.324Z"
   },
   {
    "duration": 5,
    "start_time": "2022-12-26T20:21:13.792Z"
   },
   {
    "duration": 5,
    "start_time": "2022-12-26T20:21:14.631Z"
   },
   {
    "duration": 6,
    "start_time": "2022-12-26T20:21:15.094Z"
   },
   {
    "duration": 5,
    "start_time": "2022-12-26T20:21:15.984Z"
   },
   {
    "duration": 5,
    "start_time": "2022-12-26T20:21:16.516Z"
   },
   {
    "duration": 6,
    "start_time": "2022-12-26T20:21:17.281Z"
   },
   {
    "duration": 4,
    "start_time": "2022-12-26T20:21:18.385Z"
   },
   {
    "duration": 4,
    "start_time": "2022-12-26T20:21:18.484Z"
   },
   {
    "duration": 4,
    "start_time": "2022-12-26T20:21:18.970Z"
   },
   {
    "duration": 5,
    "start_time": "2022-12-26T20:21:19.828Z"
   },
   {
    "duration": 4,
    "start_time": "2022-12-26T20:21:20.375Z"
   },
   {
    "duration": 5,
    "start_time": "2022-12-26T20:21:20.795Z"
   },
   {
    "duration": 8,
    "start_time": "2022-12-26T20:21:21.398Z"
   },
   {
    "duration": 5,
    "start_time": "2022-12-26T20:21:21.985Z"
   },
   {
    "duration": 7,
    "start_time": "2022-12-26T20:21:22.894Z"
   },
   {
    "duration": 4,
    "start_time": "2022-12-26T20:21:23.357Z"
   },
   {
    "duration": 5,
    "start_time": "2022-12-26T20:21:23.963Z"
   },
   {
    "duration": 4,
    "start_time": "2022-12-26T20:21:24.942Z"
   },
   {
    "duration": 5,
    "start_time": "2022-12-26T20:21:25.403Z"
   },
   {
    "duration": 4,
    "start_time": "2022-12-26T20:21:25.911Z"
   },
   {
    "duration": 11,
    "start_time": "2022-12-26T20:21:26.428Z"
   },
   {
    "duration": 9,
    "start_time": "2022-12-26T20:21:26.695Z"
   },
   {
    "duration": 9,
    "start_time": "2022-12-26T20:21:26.904Z"
   },
   {
    "duration": 13,
    "start_time": "2022-12-26T20:21:27.123Z"
   },
   {
    "duration": 9,
    "start_time": "2022-12-26T20:21:27.300Z"
   },
   {
    "duration": 9,
    "start_time": "2022-12-26T20:21:27.758Z"
   },
   {
    "duration": 11,
    "start_time": "2022-12-26T20:21:28.209Z"
   },
   {
    "duration": 9,
    "start_time": "2022-12-26T20:21:28.542Z"
   },
   {
    "duration": 5,
    "start_time": "2022-12-26T20:21:29.143Z"
   },
   {
    "duration": 4,
    "start_time": "2022-12-26T20:21:29.645Z"
   },
   {
    "duration": 5,
    "start_time": "2022-12-26T20:21:30.352Z"
   },
   {
    "duration": 4,
    "start_time": "2022-12-26T20:21:31.584Z"
   },
   {
    "duration": 5,
    "start_time": "2022-12-26T20:21:32.215Z"
   },
   {
    "duration": 4,
    "start_time": "2022-12-26T20:21:33.013Z"
   },
   {
    "duration": 4,
    "start_time": "2022-12-26T20:21:33.750Z"
   },
   {
    "duration": 6,
    "start_time": "2022-12-26T20:21:34.366Z"
   },
   {
    "duration": 6,
    "start_time": "2022-12-26T20:21:34.875Z"
   },
   {
    "duration": 24,
    "start_time": "2022-12-26T20:21:35.543Z"
   },
   {
    "duration": 124,
    "start_time": "2022-12-26T20:21:37.245Z"
   },
   {
    "duration": 252,
    "start_time": "2022-12-26T20:24:32.423Z"
   },
   {
    "duration": 145,
    "start_time": "2022-12-26T20:29:07.367Z"
   },
   {
    "duration": 241,
    "start_time": "2022-12-26T20:32:02.384Z"
   },
   {
    "duration": 273,
    "start_time": "2022-12-26T20:35:55.267Z"
   },
   {
    "duration": 49,
    "start_time": "2022-12-27T14:55:35.459Z"
   },
   {
    "duration": 364,
    "start_time": "2022-12-27T14:56:29.620Z"
   },
   {
    "duration": 919,
    "start_time": "2022-12-27T14:56:30.366Z"
   },
   {
    "duration": 3,
    "start_time": "2022-12-27T14:56:33.952Z"
   },
   {
    "duration": 132,
    "start_time": "2022-12-27T14:56:34.113Z"
   },
   {
    "duration": 13,
    "start_time": "2022-12-27T14:56:34.284Z"
   },
   {
    "duration": 70,
    "start_time": "2022-12-27T14:56:34.461Z"
   },
   {
    "duration": 3,
    "start_time": "2022-12-27T14:56:34.620Z"
   },
   {
    "duration": 28,
    "start_time": "2022-12-27T14:56:34.811Z"
   },
   {
    "duration": 4,
    "start_time": "2022-12-27T14:56:35.153Z"
   },
   {
    "duration": 22,
    "start_time": "2022-12-27T14:56:35.324Z"
   },
   {
    "duration": 1868,
    "start_time": "2022-12-27T14:56:41.440Z"
   },
   {
    "duration": 14,
    "start_time": "2022-12-27T14:56:43.310Z"
   },
   {
    "duration": 4,
    "start_time": "2022-12-27T14:56:43.326Z"
   },
   {
    "duration": 7,
    "start_time": "2022-12-27T14:56:43.332Z"
   },
   {
    "duration": 6,
    "start_time": "2022-12-27T14:56:43.340Z"
   },
   {
    "duration": 7,
    "start_time": "2022-12-27T14:56:43.347Z"
   },
   {
    "duration": 95,
    "start_time": "2022-12-27T14:56:43.355Z"
   },
   {
    "duration": 10,
    "start_time": "2022-12-27T14:56:43.451Z"
   },
   {
    "duration": 13,
    "start_time": "2022-12-27T14:56:43.478Z"
   },
   {
    "duration": 4,
    "start_time": "2022-12-27T14:56:43.666Z"
   },
   {
    "duration": 6,
    "start_time": "2022-12-27T14:56:44.046Z"
   },
   {
    "duration": 11,
    "start_time": "2022-12-27T14:56:44.232Z"
   },
   {
    "duration": 7,
    "start_time": "2022-12-27T14:56:44.577Z"
   },
   {
    "duration": 6,
    "start_time": "2022-12-27T14:56:44.743Z"
   },
   {
    "duration": 7,
    "start_time": "2022-12-27T14:56:44.937Z"
   },
   {
    "duration": 5,
    "start_time": "2022-12-27T14:56:45.300Z"
   },
   {
    "duration": 7,
    "start_time": "2022-12-27T14:56:45.504Z"
   },
   {
    "duration": 5,
    "start_time": "2022-12-27T14:56:45.838Z"
   },
   {
    "duration": 6,
    "start_time": "2022-12-27T14:56:46.021Z"
   },
   {
    "duration": 6,
    "start_time": "2022-12-27T14:56:46.377Z"
   },
   {
    "duration": 5,
    "start_time": "2022-12-27T14:56:46.562Z"
   },
   {
    "duration": 6,
    "start_time": "2022-12-27T14:56:46.732Z"
   },
   {
    "duration": 5,
    "start_time": "2022-12-27T14:56:47.110Z"
   },
   {
    "duration": 5,
    "start_time": "2022-12-27T14:56:47.285Z"
   },
   {
    "duration": 4,
    "start_time": "2022-12-27T14:56:47.477Z"
   },
   {
    "duration": 5,
    "start_time": "2022-12-27T14:56:47.830Z"
   },
   {
    "duration": 5,
    "start_time": "2022-12-27T14:56:48.059Z"
   },
   {
    "duration": 5,
    "start_time": "2022-12-27T14:56:48.260Z"
   },
   {
    "duration": 9,
    "start_time": "2022-12-27T14:56:48.480Z"
   },
   {
    "duration": 6,
    "start_time": "2022-12-27T14:56:49.216Z"
   },
   {
    "duration": 7,
    "start_time": "2022-12-27T14:56:49.739Z"
   },
   {
    "duration": 4,
    "start_time": "2022-12-27T14:56:49.904Z"
   },
   {
    "duration": 5,
    "start_time": "2022-12-27T14:56:50.080Z"
   },
   {
    "duration": 4,
    "start_time": "2022-12-27T14:56:50.426Z"
   },
   {
    "duration": 6,
    "start_time": "2022-12-27T14:56:50.600Z"
   },
   {
    "duration": 4,
    "start_time": "2022-12-27T14:56:50.782Z"
   },
   {
    "duration": 15,
    "start_time": "2022-12-27T14:56:50.944Z"
   },
   {
    "duration": 10,
    "start_time": "2022-12-27T14:56:51.159Z"
   },
   {
    "duration": 9,
    "start_time": "2022-12-27T14:56:51.479Z"
   },
   {
    "duration": 11,
    "start_time": "2022-12-27T14:56:51.652Z"
   },
   {
    "duration": 9,
    "start_time": "2022-12-27T14:56:51.810Z"
   },
   {
    "duration": 21,
    "start_time": "2022-12-27T14:56:51.991Z"
   },
   {
    "duration": 14,
    "start_time": "2022-12-27T14:56:52.149Z"
   },
   {
    "duration": 13,
    "start_time": "2022-12-27T14:56:52.321Z"
   },
   {
    "duration": 6,
    "start_time": "2022-12-27T14:56:52.500Z"
   },
   {
    "duration": 6,
    "start_time": "2022-12-27T14:56:52.686Z"
   },
   {
    "duration": 6,
    "start_time": "2022-12-27T14:56:52.911Z"
   },
   {
    "duration": 5,
    "start_time": "2022-12-27T14:56:53.876Z"
   },
   {
    "duration": 6,
    "start_time": "2022-12-27T14:56:54.052Z"
   },
   {
    "duration": 5,
    "start_time": "2022-12-27T14:56:54.214Z"
   },
   {
    "duration": 5,
    "start_time": "2022-12-27T14:56:54.387Z"
   },
   {
    "duration": 10,
    "start_time": "2022-12-27T14:56:54.563Z"
   },
   {
    "duration": 5,
    "start_time": "2022-12-27T14:56:54.885Z"
   },
   {
    "duration": 34,
    "start_time": "2022-12-27T14:56:55.068Z"
   },
   {
    "duration": 152,
    "start_time": "2022-12-27T14:56:55.421Z"
   },
   {
    "duration": 318,
    "start_time": "2022-12-27T14:56:55.803Z"
   },
   {
    "duration": 190,
    "start_time": "2022-12-27T14:56:56.179Z"
   },
   {
    "duration": 277,
    "start_time": "2022-12-27T14:56:56.544Z"
   },
   {
    "duration": 268,
    "start_time": "2022-12-27T14:56:56.886Z"
   },
   {
    "duration": 160,
    "start_time": "2022-12-27T14:56:57.355Z"
   },
   {
    "duration": 121,
    "start_time": "2022-12-27T15:03:44.453Z"
   },
   {
    "duration": 134,
    "start_time": "2022-12-27T15:10:28.292Z"
   },
   {
    "duration": 8,
    "start_time": "2022-12-27T15:12:13.390Z"
   },
   {
    "duration": 79,
    "start_time": "2022-12-27T15:18:53.013Z"
   },
   {
    "duration": 3,
    "start_time": "2022-12-27T15:19:29.560Z"
   },
   {
    "duration": 3,
    "start_time": "2022-12-27T15:19:30.148Z"
   },
   {
    "duration": 3,
    "start_time": "2022-12-27T15:19:30.466Z"
   },
   {
    "duration": 86,
    "start_time": "2022-12-27T15:19:30.519Z"
   },
   {
    "duration": 12,
    "start_time": "2022-12-27T15:19:30.698Z"
   },
   {
    "duration": 79,
    "start_time": "2022-12-27T15:19:30.856Z"
   },
   {
    "duration": 3,
    "start_time": "2022-12-27T15:19:31.025Z"
   },
   {
    "duration": 23,
    "start_time": "2022-12-27T15:19:31.197Z"
   },
   {
    "duration": 3,
    "start_time": "2022-12-27T15:19:31.542Z"
   },
   {
    "duration": 21,
    "start_time": "2022-12-27T15:19:31.709Z"
   },
   {
    "duration": 2222,
    "start_time": "2022-12-27T15:19:32.063Z"
   },
   {
    "duration": 16,
    "start_time": "2022-12-27T15:19:34.288Z"
   },
   {
    "duration": 15,
    "start_time": "2022-12-27T15:19:34.306Z"
   },
   {
    "duration": 23,
    "start_time": "2022-12-27T15:19:34.323Z"
   },
   {
    "duration": 27,
    "start_time": "2022-12-27T15:19:34.348Z"
   },
   {
    "duration": 28,
    "start_time": "2022-12-27T15:19:34.376Z"
   },
   {
    "duration": 43,
    "start_time": "2022-12-27T15:19:34.405Z"
   },
   {
    "duration": 18,
    "start_time": "2022-12-27T15:19:34.450Z"
   },
   {
    "duration": 56,
    "start_time": "2022-12-27T15:19:34.470Z"
   },
   {
    "duration": 43,
    "start_time": "2022-12-27T15:19:34.528Z"
   },
   {
    "duration": 6,
    "start_time": "2022-12-27T15:19:34.739Z"
   },
   {
    "duration": 12,
    "start_time": "2022-12-27T15:19:34.945Z"
   },
   {
    "duration": 6,
    "start_time": "2022-12-27T15:19:35.306Z"
   },
   {
    "duration": 5,
    "start_time": "2022-12-27T15:19:35.504Z"
   },
   {
    "duration": 7,
    "start_time": "2022-12-27T15:19:35.662Z"
   },
   {
    "duration": 7,
    "start_time": "2022-12-27T15:19:36.039Z"
   },
   {
    "duration": 5,
    "start_time": "2022-12-27T15:19:36.197Z"
   },
   {
    "duration": 5,
    "start_time": "2022-12-27T15:19:36.565Z"
   },
   {
    "duration": 5,
    "start_time": "2022-12-27T15:19:36.755Z"
   },
   {
    "duration": 5,
    "start_time": "2022-12-27T15:19:37.152Z"
   },
   {
    "duration": 5,
    "start_time": "2022-12-27T15:19:37.324Z"
   },
   {
    "duration": 6,
    "start_time": "2022-12-27T15:19:39.478Z"
   },
   {
    "duration": 5,
    "start_time": "2022-12-27T15:19:39.842Z"
   },
   {
    "duration": 5,
    "start_time": "2022-12-27T15:19:40.037Z"
   },
   {
    "duration": 5,
    "start_time": "2022-12-27T15:19:40.233Z"
   },
   {
    "duration": 10,
    "start_time": "2022-12-27T15:19:40.585Z"
   },
   {
    "duration": 5,
    "start_time": "2022-12-27T15:19:40.766Z"
   },
   {
    "duration": 5,
    "start_time": "2022-12-27T15:19:40.949Z"
   },
   {
    "duration": 12,
    "start_time": "2022-12-27T15:19:41.132Z"
   },
   {
    "duration": 6,
    "start_time": "2022-12-27T15:19:41.315Z"
   },
   {
    "duration": 8,
    "start_time": "2022-12-27T15:19:41.696Z"
   },
   {
    "duration": 5,
    "start_time": "2022-12-27T15:19:41.874Z"
   },
   {
    "duration": 5,
    "start_time": "2022-12-27T15:19:42.035Z"
   },
   {
    "duration": 5,
    "start_time": "2022-12-27T15:19:42.399Z"
   },
   {
    "duration": 16,
    "start_time": "2022-12-27T15:19:42.580Z"
   },
   {
    "duration": 5,
    "start_time": "2022-12-27T15:19:42.759Z"
   },
   {
    "duration": 10,
    "start_time": "2022-12-27T15:19:42.951Z"
   },
   {
    "duration": 9,
    "start_time": "2022-12-27T15:19:43.143Z"
   },
   {
    "duration": 9,
    "start_time": "2022-12-27T15:19:43.347Z"
   },
   {
    "duration": 11,
    "start_time": "2022-12-27T15:19:43.510Z"
   },
   {
    "duration": 10,
    "start_time": "2022-12-27T15:19:43.723Z"
   },
   {
    "duration": 13,
    "start_time": "2022-12-27T15:19:43.903Z"
   },
   {
    "duration": 13,
    "start_time": "2022-12-27T15:19:44.107Z"
   },
   {
    "duration": 10,
    "start_time": "2022-12-27T15:19:44.300Z"
   },
   {
    "duration": 5,
    "start_time": "2022-12-27T15:19:44.499Z"
   },
   {
    "duration": 5,
    "start_time": "2022-12-27T15:19:44.673Z"
   },
   {
    "duration": 5,
    "start_time": "2022-12-27T15:19:44.864Z"
   },
   {
    "duration": 5,
    "start_time": "2022-12-27T15:19:45.263Z"
   },
   {
    "duration": 6,
    "start_time": "2022-12-27T15:19:45.451Z"
   },
   {
    "duration": 6,
    "start_time": "2022-12-27T15:19:45.663Z"
   },
   {
    "duration": 5,
    "start_time": "2022-12-27T15:19:45.838Z"
   },
   {
    "duration": 10,
    "start_time": "2022-12-27T15:19:46.036Z"
   },
   {
    "duration": 6,
    "start_time": "2022-12-27T15:19:46.214Z"
   },
   {
    "duration": 35,
    "start_time": "2022-12-27T15:19:46.443Z"
   },
   {
    "duration": 66,
    "start_time": "2022-12-27T15:19:46.794Z"
   },
   {
    "duration": 158,
    "start_time": "2022-12-27T15:19:46.996Z"
   },
   {
    "duration": 428,
    "start_time": "2022-12-27T15:19:47.398Z"
   },
   {
    "duration": 182,
    "start_time": "2022-12-27T15:19:47.829Z"
   },
   {
    "duration": 268,
    "start_time": "2022-12-27T15:19:48.755Z"
   },
   {
    "duration": 250,
    "start_time": "2022-12-27T15:19:49.935Z"
   },
   {
    "duration": 139,
    "start_time": "2022-12-27T15:19:51.414Z"
   },
   {
    "duration": 146,
    "start_time": "2022-12-27T15:19:52.453Z"
   },
   {
    "duration": 160,
    "start_time": "2022-12-27T15:19:53.560Z"
   },
   {
    "duration": 245,
    "start_time": "2022-12-27T15:20:13.423Z"
   },
   {
    "duration": 157,
    "start_time": "2022-12-27T15:20:15.245Z"
   },
   {
    "duration": 146,
    "start_time": "2022-12-27T15:20:16.153Z"
   },
   {
    "duration": 149,
    "start_time": "2022-12-27T15:20:16.520Z"
   },
   {
    "duration": 42,
    "start_time": "2022-12-27T15:23:01.931Z"
   },
   {
    "duration": 34,
    "start_time": "2022-12-27T15:23:18.834Z"
   },
   {
    "duration": 1271,
    "start_time": "2022-12-27T15:33:46.796Z"
   },
   {
    "duration": 174,
    "start_time": "2022-12-27T15:33:56.964Z"
   },
   {
    "duration": 1301,
    "start_time": "2022-12-27T15:34:51.137Z"
   },
   {
    "duration": 139,
    "start_time": "2022-12-27T15:35:09.172Z"
   },
   {
    "duration": 197,
    "start_time": "2022-12-27T15:35:44.094Z"
   },
   {
    "duration": 433,
    "start_time": "2022-12-27T15:37:57.297Z"
   },
   {
    "duration": 8,
    "start_time": "2022-12-27T15:38:42.401Z"
   },
   {
    "duration": 294,
    "start_time": "2022-12-27T15:49:45.871Z"
   },
   {
    "duration": 285,
    "start_time": "2022-12-27T15:53:55.334Z"
   },
   {
    "duration": 235,
    "start_time": "2022-12-27T15:57:06.287Z"
   },
   {
    "duration": 196,
    "start_time": "2022-12-27T16:00:44.655Z"
   },
   {
    "duration": 407,
    "start_time": "2022-12-27T18:40:18.778Z"
   },
   {
    "duration": 856,
    "start_time": "2022-12-27T18:40:19.864Z"
   },
   {
    "duration": 3,
    "start_time": "2022-12-27T18:40:20.722Z"
   },
   {
    "duration": 308,
    "start_time": "2022-12-27T18:40:20.726Z"
   },
   {
    "duration": 12,
    "start_time": "2022-12-27T18:40:21.035Z"
   },
   {
    "duration": 64,
    "start_time": "2022-12-27T18:40:21.048Z"
   },
   {
    "duration": 3,
    "start_time": "2022-12-27T18:40:21.113Z"
   },
   {
    "duration": 25,
    "start_time": "2022-12-27T18:40:21.118Z"
   },
   {
    "duration": 3,
    "start_time": "2022-12-27T18:40:21.462Z"
   },
   {
    "duration": 19,
    "start_time": "2022-12-27T18:40:21.663Z"
   },
   {
    "duration": 1709,
    "start_time": "2022-12-27T18:40:22.153Z"
   },
   {
    "duration": 12,
    "start_time": "2022-12-27T18:40:23.864Z"
   },
   {
    "duration": 92,
    "start_time": "2022-12-27T18:40:23.877Z"
   },
   {
    "duration": 6,
    "start_time": "2022-12-27T18:40:23.971Z"
   },
   {
    "duration": 5,
    "start_time": "2022-12-27T18:40:23.978Z"
   },
   {
    "duration": 6,
    "start_time": "2022-12-27T18:40:23.984Z"
   },
   {
    "duration": 71,
    "start_time": "2022-12-27T18:40:23.991Z"
   },
   {
    "duration": 4,
    "start_time": "2022-12-27T18:40:24.125Z"
   },
   {
    "duration": 9,
    "start_time": "2022-12-27T18:40:24.311Z"
   },
   {
    "duration": 4,
    "start_time": "2022-12-27T18:40:24.513Z"
   },
   {
    "duration": 5,
    "start_time": "2022-12-27T18:40:24.943Z"
   },
   {
    "duration": 8,
    "start_time": "2022-12-27T18:40:25.192Z"
   },
   {
    "duration": 6,
    "start_time": "2022-12-27T18:40:25.613Z"
   },
   {
    "duration": 5,
    "start_time": "2022-12-27T18:40:25.818Z"
   },
   {
    "duration": 5,
    "start_time": "2022-12-27T18:40:26.047Z"
   },
   {
    "duration": 5,
    "start_time": "2022-12-27T18:40:26.471Z"
   },
   {
    "duration": 6,
    "start_time": "2022-12-27T18:40:26.698Z"
   },
   {
    "duration": 6,
    "start_time": "2022-12-27T18:40:27.128Z"
   },
   {
    "duration": 6,
    "start_time": "2022-12-27T18:40:27.585Z"
   },
   {
    "duration": 4,
    "start_time": "2022-12-27T18:40:28.189Z"
   },
   {
    "duration": 5,
    "start_time": "2022-12-27T18:40:28.360Z"
   },
   {
    "duration": 5,
    "start_time": "2022-12-27T18:40:28.580Z"
   },
   {
    "duration": 4,
    "start_time": "2022-12-27T18:40:28.967Z"
   },
   {
    "duration": 5,
    "start_time": "2022-12-27T18:40:29.204Z"
   },
   {
    "duration": 5,
    "start_time": "2022-12-27T18:40:29.421Z"
   },
   {
    "duration": 4,
    "start_time": "2022-12-27T18:40:30.063Z"
   },
   {
    "duration": 4,
    "start_time": "2022-12-27T18:40:30.458Z"
   },
   {
    "duration": 5,
    "start_time": "2022-12-27T18:40:30.648Z"
   },
   {
    "duration": 9,
    "start_time": "2022-12-27T18:40:30.822Z"
   },
   {
    "duration": 5,
    "start_time": "2022-12-27T18:40:31.005Z"
   },
   {
    "duration": 8,
    "start_time": "2022-12-27T18:40:31.396Z"
   },
   {
    "duration": 4,
    "start_time": "2022-12-27T18:40:31.594Z"
   },
   {
    "duration": 5,
    "start_time": "2022-12-27T18:40:31.763Z"
   },
   {
    "duration": 4,
    "start_time": "2022-12-27T18:40:32.137Z"
   },
   {
    "duration": 6,
    "start_time": "2022-12-27T18:40:32.337Z"
   },
   {
    "duration": 4,
    "start_time": "2022-12-27T18:40:32.521Z"
   },
   {
    "duration": 9,
    "start_time": "2022-12-27T18:40:32.717Z"
   },
   {
    "duration": 9,
    "start_time": "2022-12-27T18:40:32.895Z"
   },
   {
    "duration": 9,
    "start_time": "2022-12-27T18:40:33.093Z"
   },
   {
    "duration": 11,
    "start_time": "2022-12-27T18:40:33.398Z"
   },
   {
    "duration": 10,
    "start_time": "2022-12-27T18:40:33.642Z"
   },
   {
    "duration": 11,
    "start_time": "2022-12-27T18:40:33.853Z"
   },
   {
    "duration": 8,
    "start_time": "2022-12-27T18:40:34.101Z"
   },
   {
    "duration": 9,
    "start_time": "2022-12-27T18:40:34.359Z"
   },
   {
    "duration": 5,
    "start_time": "2022-12-27T18:40:34.565Z"
   },
   {
    "duration": 5,
    "start_time": "2022-12-27T18:40:34.919Z"
   },
   {
    "duration": 5,
    "start_time": "2022-12-27T18:40:35.439Z"
   },
   {
    "duration": 4,
    "start_time": "2022-12-27T18:40:36.105Z"
   },
   {
    "duration": 4,
    "start_time": "2022-12-27T18:40:36.393Z"
   },
   {
    "duration": 4,
    "start_time": "2022-12-27T18:40:36.666Z"
   },
   {
    "duration": 4,
    "start_time": "2022-12-27T18:40:36.927Z"
   },
   {
    "duration": 7,
    "start_time": "2022-12-27T18:40:37.154Z"
   },
   {
    "duration": 5,
    "start_time": "2022-12-27T18:40:37.514Z"
   },
   {
    "duration": 21,
    "start_time": "2022-12-27T18:40:37.865Z"
   },
   {
    "duration": 133,
    "start_time": "2022-12-27T18:40:39.808Z"
   },
   {
    "duration": 252,
    "start_time": "2022-12-27T18:40:40.615Z"
   },
   {
    "duration": 179,
    "start_time": "2022-12-27T18:40:41.496Z"
   },
   {
    "duration": 259,
    "start_time": "2022-12-27T18:40:42.358Z"
   },
   {
    "duration": 221,
    "start_time": "2022-12-27T18:40:43.309Z"
   },
   {
    "duration": 155,
    "start_time": "2022-12-27T18:40:44.707Z"
   },
   {
    "duration": 140,
    "start_time": "2022-12-27T18:40:45.624Z"
   },
   {
    "duration": 122,
    "start_time": "2022-12-27T18:40:46.732Z"
   },
   {
    "duration": 34,
    "start_time": "2022-12-27T18:40:49.400Z"
   },
   {
    "duration": 232,
    "start_time": "2022-12-27T18:40:51.956Z"
   },
   {
    "duration": 233,
    "start_time": "2022-12-27T18:40:52.940Z"
   },
   {
    "duration": 8,
    "start_time": "2022-12-27T18:40:55.896Z"
   },
   {
    "duration": 222,
    "start_time": "2022-12-27T18:41:02.828Z"
   },
   {
    "duration": 301,
    "start_time": "2022-12-27T18:41:04.315Z"
   },
   {
    "duration": 251,
    "start_time": "2022-12-27T18:41:06.940Z"
   },
   {
    "duration": 185,
    "start_time": "2022-12-27T18:41:09.557Z"
   },
   {
    "duration": 41,
    "start_time": "2022-12-27T18:41:13.392Z"
   },
   {
    "duration": 132,
    "start_time": "2022-12-27T18:42:19.673Z"
   },
   {
    "duration": 434,
    "start_time": "2022-12-27T18:49:26.337Z"
   },
   {
    "duration": 140,
    "start_time": "2022-12-27T19:08:59.999Z"
   },
   {
    "duration": 18,
    "start_time": "2022-12-27T19:09:27.854Z"
   },
   {
    "duration": 16,
    "start_time": "2022-12-27T19:14:18.425Z"
   },
   {
    "duration": 35,
    "start_time": "2022-12-27T19:21:04.710Z"
   },
   {
    "duration": 14,
    "start_time": "2022-12-27T19:22:59.365Z"
   },
   {
    "duration": 127,
    "start_time": "2022-12-27T19:23:18.837Z"
   },
   {
    "duration": 15,
    "start_time": "2022-12-27T19:26:03.944Z"
   },
   {
    "duration": 117,
    "start_time": "2022-12-27T19:26:07.705Z"
   },
   {
    "duration": 63,
    "start_time": "2022-12-27T19:48:31.940Z"
   },
   {
    "duration": 359,
    "start_time": "2022-12-29T18:46:36.048Z"
   },
   {
    "duration": 873,
    "start_time": "2022-12-29T18:46:36.409Z"
   },
   {
    "duration": 3,
    "start_time": "2022-12-29T18:46:37.284Z"
   },
   {
    "duration": 723,
    "start_time": "2022-12-29T18:46:37.288Z"
   },
   {
    "duration": 12,
    "start_time": "2022-12-29T18:46:38.013Z"
   },
   {
    "duration": 68,
    "start_time": "2022-12-29T18:46:38.026Z"
   },
   {
    "duration": 2,
    "start_time": "2022-12-29T18:46:38.230Z"
   },
   {
    "duration": 24,
    "start_time": "2022-12-29T18:46:38.692Z"
   },
   {
    "duration": 3,
    "start_time": "2022-12-29T18:46:40.144Z"
   },
   {
    "duration": 20,
    "start_time": "2022-12-29T18:46:40.690Z"
   },
   {
    "duration": 1768,
    "start_time": "2022-12-29T18:46:41.801Z"
   },
   {
    "duration": 14,
    "start_time": "2022-12-29T18:46:43.712Z"
   },
   {
    "duration": 4,
    "start_time": "2022-12-29T18:46:44.891Z"
   },
   {
    "duration": 5,
    "start_time": "2022-12-29T18:46:45.609Z"
   },
   {
    "duration": 6,
    "start_time": "2022-12-29T18:46:46.136Z"
   },
   {
    "duration": 6,
    "start_time": "2022-12-29T18:46:46.728Z"
   },
   {
    "duration": 8,
    "start_time": "2022-12-29T18:46:47.346Z"
   },
   {
    "duration": 5,
    "start_time": "2022-12-29T18:46:49.826Z"
   },
   {
    "duration": 4,
    "start_time": "2022-12-29T18:46:50.260Z"
   },
   {
    "duration": 7,
    "start_time": "2022-12-29T18:47:43.845Z"
   },
   {
    "duration": 48,
    "start_time": "2022-12-29T18:47:53.599Z"
   },
   {
    "duration": 93,
    "start_time": "2022-12-29T18:48:31.024Z"
   },
   {
    "duration": 3,
    "start_time": "2022-12-29T18:48:56.544Z"
   },
   {
    "duration": 2,
    "start_time": "2022-12-29T18:48:56.730Z"
   },
   {
    "duration": 2,
    "start_time": "2022-12-29T18:48:56.913Z"
   },
   {
    "duration": 75,
    "start_time": "2022-12-29T18:48:57.072Z"
   },
   {
    "duration": 84,
    "start_time": "2022-12-29T18:48:57.239Z"
   },
   {
    "duration": 64,
    "start_time": "2022-12-29T18:48:57.424Z"
   },
   {
    "duration": 3,
    "start_time": "2022-12-29T18:48:57.555Z"
   },
   {
    "duration": 20,
    "start_time": "2022-12-29T18:48:57.745Z"
   },
   {
    "duration": 3,
    "start_time": "2022-12-29T18:48:58.222Z"
   },
   {
    "duration": 21,
    "start_time": "2022-12-29T18:48:58.631Z"
   },
   {
    "duration": 1811,
    "start_time": "2022-12-29T18:48:59.444Z"
   },
   {
    "duration": 15,
    "start_time": "2022-12-29T18:49:01.256Z"
   },
   {
    "duration": 4,
    "start_time": "2022-12-29T18:49:01.566Z"
   },
   {
    "duration": 6,
    "start_time": "2022-12-29T18:49:05.644Z"
   },
   {
    "duration": 6,
    "start_time": "2022-12-29T18:49:05.989Z"
   },
   {
    "duration": 6,
    "start_time": "2022-12-29T18:49:06.322Z"
   },
   {
    "duration": 8,
    "start_time": "2022-12-29T18:49:06.870Z"
   },
   {
    "duration": 5,
    "start_time": "2022-12-29T18:49:08.755Z"
   },
   {
    "duration": 6,
    "start_time": "2022-12-29T18:49:09.332Z"
   },
   {
    "duration": 13,
    "start_time": "2022-12-29T18:49:11.959Z"
   },
   {
    "duration": 10,
    "start_time": "2022-12-29T18:49:22.394Z"
   },
   {
    "duration": 3,
    "start_time": "2022-12-29T18:54:30.014Z"
   },
   {
    "duration": 3,
    "start_time": "2022-12-29T18:54:30.204Z"
   },
   {
    "duration": 2,
    "start_time": "2022-12-29T18:54:30.381Z"
   },
   {
    "duration": 75,
    "start_time": "2022-12-29T18:54:30.552Z"
   },
   {
    "duration": 13,
    "start_time": "2022-12-29T18:54:30.762Z"
   },
   {
    "duration": 67,
    "start_time": "2022-12-29T18:54:31.290Z"
   },
   {
    "duration": 11,
    "start_time": "2022-12-29T18:54:31.359Z"
   },
   {
    "duration": 68,
    "start_time": "2022-12-29T18:54:31.372Z"
   },
   {
    "duration": 3,
    "start_time": "2022-12-29T18:54:31.599Z"
   },
   {
    "duration": 20,
    "start_time": "2022-12-29T18:54:31.765Z"
   },
   {
    "duration": 1889,
    "start_time": "2022-12-29T18:54:32.113Z"
   },
   {
    "duration": 15,
    "start_time": "2022-12-29T18:54:34.004Z"
   },
   {
    "duration": 5,
    "start_time": "2022-12-29T18:54:34.021Z"
   },
   {
    "duration": 8,
    "start_time": "2022-12-29T18:54:34.028Z"
   },
   {
    "duration": 7,
    "start_time": "2022-12-29T18:54:34.038Z"
   },
   {
    "duration": 7,
    "start_time": "2022-12-29T18:54:34.046Z"
   },
   {
    "duration": 10,
    "start_time": "2022-12-29T18:54:34.054Z"
   },
   {
    "duration": 4,
    "start_time": "2022-12-29T18:54:34.336Z"
   },
   {
    "duration": 5,
    "start_time": "2022-12-29T18:54:34.550Z"
   },
   {
    "duration": 10,
    "start_time": "2022-12-29T18:54:35.105Z"
   },
   {
    "duration": 10,
    "start_time": "2022-12-29T18:55:20.338Z"
   },
   {
    "duration": 3,
    "start_time": "2022-12-29T19:00:44.181Z"
   },
   {
    "duration": 3,
    "start_time": "2022-12-29T19:00:44.688Z"
   },
   {
    "duration": 3,
    "start_time": "2022-12-29T19:00:45.113Z"
   },
   {
    "duration": 76,
    "start_time": "2022-12-29T19:00:45.341Z"
   },
   {
    "duration": 12,
    "start_time": "2022-12-29T19:00:45.552Z"
   },
   {
    "duration": 63,
    "start_time": "2022-12-29T19:00:45.726Z"
   },
   {
    "duration": 3,
    "start_time": "2022-12-29T19:00:45.965Z"
   },
   {
    "duration": 19,
    "start_time": "2022-12-29T19:00:46.541Z"
   },
   {
    "duration": 4,
    "start_time": "2022-12-29T19:00:47.736Z"
   },
   {
    "duration": 20,
    "start_time": "2022-12-29T19:00:48.399Z"
   },
   {
    "duration": 1880,
    "start_time": "2022-12-29T19:00:49.653Z"
   },
   {
    "duration": 14,
    "start_time": "2022-12-29T19:00:53.781Z"
   },
   {
    "duration": 4,
    "start_time": "2022-12-29T19:00:55.748Z"
   },
   {
    "duration": 4,
    "start_time": "2022-12-29T19:00:56.977Z"
   },
   {
    "duration": 4,
    "start_time": "2022-12-29T19:00:57.899Z"
   },
   {
    "duration": 5,
    "start_time": "2022-12-29T19:00:59.247Z"
   },
   {
    "duration": 8,
    "start_time": "2022-12-29T19:01:00.151Z"
   },
   {
    "duration": 4,
    "start_time": "2022-12-29T19:01:03.121Z"
   },
   {
    "duration": 6,
    "start_time": "2022-12-29T19:01:04.042Z"
   },
   {
    "duration": 10,
    "start_time": "2022-12-29T19:01:10.293Z"
   },
   {
    "duration": 12,
    "start_time": "2022-12-29T19:01:36.094Z"
   },
   {
    "duration": 11,
    "start_time": "2022-12-29T19:01:37.936Z"
   },
   {
    "duration": 8,
    "start_time": "2022-12-29T19:01:39.575Z"
   },
   {
    "duration": 10,
    "start_time": "2022-12-29T19:01:47.669Z"
   },
   {
    "duration": 394,
    "start_time": "2022-12-29T19:10:55.596Z"
   },
   {
    "duration": 700,
    "start_time": "2022-12-29T19:10:56.367Z"
   },
   {
    "duration": 2,
    "start_time": "2022-12-29T19:10:57.069Z"
   },
   {
    "duration": 80,
    "start_time": "2022-12-29T19:10:57.813Z"
   },
   {
    "duration": 15,
    "start_time": "2022-12-29T19:10:58.723Z"
   },
   {
    "duration": 89,
    "start_time": "2022-12-29T19:10:59.361Z"
   },
   {
    "duration": 3,
    "start_time": "2022-12-29T19:11:00.194Z"
   },
   {
    "duration": 26,
    "start_time": "2022-12-29T19:11:00.877Z"
   },
   {
    "duration": 4,
    "start_time": "2022-12-29T19:11:02.354Z"
   },
   {
    "duration": 23,
    "start_time": "2022-12-29T19:11:03.102Z"
   },
   {
    "duration": 1938,
    "start_time": "2022-12-29T19:11:04.420Z"
   },
   {
    "duration": 14,
    "start_time": "2022-12-29T19:11:06.934Z"
   },
   {
    "duration": 5,
    "start_time": "2022-12-29T19:11:08.590Z"
   },
   {
    "duration": 5,
    "start_time": "2022-12-29T19:11:09.173Z"
   },
   {
    "duration": 5,
    "start_time": "2022-12-29T19:11:09.698Z"
   },
   {
    "duration": 6,
    "start_time": "2022-12-29T19:11:10.376Z"
   },
   {
    "duration": 8,
    "start_time": "2022-12-29T19:11:11.018Z"
   },
   {
    "duration": 5,
    "start_time": "2022-12-29T19:11:13.168Z"
   },
   {
    "duration": 6,
    "start_time": "2022-12-29T19:11:14.094Z"
   },
   {
    "duration": 95,
    "start_time": "2022-12-29T19:11:25.461Z"
   },
   {
    "duration": 11,
    "start_time": "2022-12-29T19:12:01.879Z"
   },
   {
    "duration": 432,
    "start_time": "2022-12-29T19:14:03.769Z"
   },
   {
    "duration": 731,
    "start_time": "2022-12-29T19:14:04.202Z"
   },
   {
    "duration": 3,
    "start_time": "2022-12-29T19:14:04.935Z"
   },
   {
    "duration": 86,
    "start_time": "2022-12-29T19:14:04.940Z"
   },
   {
    "duration": 12,
    "start_time": "2022-12-29T19:14:05.028Z"
   },
   {
    "duration": 84,
    "start_time": "2022-12-29T19:14:05.042Z"
   },
   {
    "duration": 2,
    "start_time": "2022-12-29T19:14:05.215Z"
   },
   {
    "duration": 31,
    "start_time": "2022-12-29T19:14:05.861Z"
   },
   {
    "duration": 3,
    "start_time": "2022-12-29T19:14:06.395Z"
   },
   {
    "duration": 18,
    "start_time": "2022-12-29T19:14:06.559Z"
   },
   {
    "duration": 1814,
    "start_time": "2022-12-29T19:14:06.955Z"
   },
   {
    "duration": 13,
    "start_time": "2022-12-29T19:14:08.771Z"
   },
   {
    "duration": 4,
    "start_time": "2022-12-29T19:14:08.801Z"
   },
   {
    "duration": 5,
    "start_time": "2022-12-29T19:14:09.135Z"
   },
   {
    "duration": 4,
    "start_time": "2022-12-29T19:14:09.700Z"
   },
   {
    "duration": 5,
    "start_time": "2022-12-29T19:14:10.839Z"
   },
   {
    "duration": 81,
    "start_time": "2022-12-29T19:14:11.472Z"
   },
   {
    "duration": 4,
    "start_time": "2022-12-29T19:14:17.302Z"
   },
   {
    "duration": 7,
    "start_time": "2022-12-29T19:14:18.597Z"
   },
   {
    "duration": 97,
    "start_time": "2022-12-29T19:14:33.928Z"
   },
   {
    "duration": 10,
    "start_time": "2022-12-29T19:14:39.307Z"
   },
   {
    "duration": 8,
    "start_time": "2022-12-29T19:14:40.156Z"
   },
   {
    "duration": 11,
    "start_time": "2022-12-29T19:14:42.556Z"
   },
   {
    "duration": 10,
    "start_time": "2022-12-29T19:14:43.614Z"
   },
   {
    "duration": 11,
    "start_time": "2022-12-29T19:14:44.121Z"
   },
   {
    "duration": 15,
    "start_time": "2022-12-29T19:14:45.939Z"
   },
   {
    "duration": 10,
    "start_time": "2022-12-29T19:14:46.595Z"
   },
   {
    "duration": 10,
    "start_time": "2022-12-29T19:14:47.256Z"
   },
   {
    "duration": 14,
    "start_time": "2022-12-29T19:14:47.861Z"
   },
   {
    "duration": 46,
    "start_time": "2022-12-29T19:23:24.658Z"
   },
   {
    "duration": 334,
    "start_time": "2022-12-29T19:23:41.244Z"
   },
   {
    "duration": 715,
    "start_time": "2022-12-29T19:23:41.580Z"
   },
   {
    "duration": 3,
    "start_time": "2022-12-29T19:23:42.297Z"
   },
   {
    "duration": 79,
    "start_time": "2022-12-29T19:23:42.494Z"
   },
   {
    "duration": 13,
    "start_time": "2022-12-29T19:23:43.193Z"
   },
   {
    "duration": 104,
    "start_time": "2022-12-29T19:23:44.453Z"
   },
   {
    "duration": 3,
    "start_time": "2022-12-29T19:23:45.155Z"
   },
   {
    "duration": 33,
    "start_time": "2022-12-29T19:23:46.052Z"
   },
   {
    "duration": 3,
    "start_time": "2022-12-29T19:23:47.701Z"
   },
   {
    "duration": 20,
    "start_time": "2022-12-29T19:23:48.596Z"
   },
   {
    "duration": 1791,
    "start_time": "2022-12-29T19:23:50.779Z"
   },
   {
    "duration": 13,
    "start_time": "2022-12-29T19:23:59.776Z"
   },
   {
    "duration": 5,
    "start_time": "2022-12-29T19:24:03.636Z"
   },
   {
    "duration": 5,
    "start_time": "2022-12-29T19:24:04.446Z"
   },
   {
    "duration": 4,
    "start_time": "2022-12-29T19:24:05.393Z"
   },
   {
    "duration": 5,
    "start_time": "2022-12-29T19:24:06.278Z"
   },
   {
    "duration": 80,
    "start_time": "2022-12-29T19:24:13.555Z"
   },
   {
    "duration": 5,
    "start_time": "2022-12-29T19:24:16.662Z"
   },
   {
    "duration": 8,
    "start_time": "2022-12-29T19:25:06.782Z"
   },
   {
    "duration": 58,
    "start_time": "2022-12-29T19:25:09.351Z"
   },
   {
    "duration": 8,
    "start_time": "2022-12-29T19:33:45.767Z"
   },
   {
    "duration": 8,
    "start_time": "2022-12-29T19:33:48.268Z"
   },
   {
    "duration": 406,
    "start_time": "2022-12-29T19:34:53.470Z"
   },
   {
    "duration": 763,
    "start_time": "2022-12-29T19:34:53.878Z"
   },
   {
    "duration": 3,
    "start_time": "2022-12-29T19:34:54.643Z"
   },
   {
    "duration": 83,
    "start_time": "2022-12-29T19:34:54.647Z"
   },
   {
    "duration": 13,
    "start_time": "2022-12-29T19:34:54.732Z"
   },
   {
    "duration": 65,
    "start_time": "2022-12-29T19:34:54.873Z"
   },
   {
    "duration": 3,
    "start_time": "2022-12-29T19:34:55.437Z"
   },
   {
    "duration": 35,
    "start_time": "2022-12-29T19:34:56.072Z"
   },
   {
    "duration": 3,
    "start_time": "2022-12-29T19:34:57.075Z"
   },
   {
    "duration": 19,
    "start_time": "2022-12-29T19:34:57.268Z"
   },
   {
    "duration": 1825,
    "start_time": "2022-12-29T19:34:57.628Z"
   },
   {
    "duration": 13,
    "start_time": "2022-12-29T19:34:59.456Z"
   },
   {
    "duration": 4,
    "start_time": "2022-12-29T19:34:59.471Z"
   },
   {
    "duration": 5,
    "start_time": "2022-12-29T19:34:59.897Z"
   },
   {
    "duration": 6,
    "start_time": "2022-12-29T19:35:01.092Z"
   },
   {
    "duration": 7,
    "start_time": "2022-12-29T19:35:01.997Z"
   },
   {
    "duration": 8,
    "start_time": "2022-12-29T19:35:02.738Z"
   },
   {
    "duration": 5,
    "start_time": "2022-12-29T19:35:05.093Z"
   },
   {
    "duration": 11,
    "start_time": "2022-12-29T19:35:05.759Z"
   },
   {
    "duration": 5,
    "start_time": "2022-12-29T19:35:12.638Z"
   },
   {
    "duration": 5,
    "start_time": "2022-12-29T19:38:04.139Z"
   },
   {
    "duration": 9,
    "start_time": "2022-12-29T19:38:05.639Z"
   },
   {
    "duration": 81,
    "start_time": "2022-12-29T19:38:09.563Z"
   },
   {
    "duration": 5,
    "start_time": "2022-12-29T19:38:10.545Z"
   },
   {
    "duration": 6,
    "start_time": "2022-12-29T19:38:11.259Z"
   },
   {
    "duration": 6,
    "start_time": "2022-12-29T19:38:13.969Z"
   },
   {
    "duration": 5,
    "start_time": "2022-12-29T19:38:14.396Z"
   },
   {
    "duration": 6,
    "start_time": "2022-12-29T19:38:16.019Z"
   },
   {
    "duration": 6,
    "start_time": "2022-12-29T19:38:16.745Z"
   },
   {
    "duration": 4,
    "start_time": "2022-12-29T19:38:18.082Z"
   },
   {
    "duration": 5,
    "start_time": "2022-12-29T19:38:18.667Z"
   },
   {
    "duration": 5,
    "start_time": "2022-12-29T19:38:19.948Z"
   },
   {
    "duration": 4,
    "start_time": "2022-12-29T19:38:21.203Z"
   },
   {
    "duration": 5,
    "start_time": "2022-12-29T19:38:21.805Z"
   },
   {
    "duration": 5,
    "start_time": "2022-12-29T19:38:22.635Z"
   },
   {
    "duration": 4,
    "start_time": "2022-12-29T19:38:24.862Z"
   },
   {
    "duration": 4,
    "start_time": "2022-12-29T19:38:25.753Z"
   },
   {
    "duration": 4,
    "start_time": "2022-12-29T19:38:26.506Z"
   },
   {
    "duration": 9,
    "start_time": "2022-12-29T19:38:27.219Z"
   },
   {
    "duration": 6,
    "start_time": "2022-12-29T19:38:27.974Z"
   },
   {
    "duration": 9,
    "start_time": "2022-12-29T19:38:30.715Z"
   },
   {
    "duration": 4,
    "start_time": "2022-12-29T19:38:31.406Z"
   },
   {
    "duration": 5,
    "start_time": "2022-12-29T19:38:32.262Z"
   },
   {
    "duration": 5,
    "start_time": "2022-12-29T19:38:34.139Z"
   },
   {
    "duration": 6,
    "start_time": "2022-12-29T19:38:35.043Z"
   },
   {
    "duration": 5,
    "start_time": "2022-12-29T19:38:35.982Z"
   },
   {
    "duration": 9,
    "start_time": "2022-12-29T19:38:36.750Z"
   },
   {
    "duration": 9,
    "start_time": "2022-12-29T19:38:37.268Z"
   },
   {
    "duration": 9,
    "start_time": "2022-12-29T19:38:37.830Z"
   },
   {
    "duration": 9,
    "start_time": "2022-12-29T19:38:38.358Z"
   },
   {
    "duration": 10,
    "start_time": "2022-12-29T19:38:38.832Z"
   },
   {
    "duration": 11,
    "start_time": "2022-12-29T19:38:39.491Z"
   },
   {
    "duration": 10,
    "start_time": "2022-12-29T19:38:40.052Z"
   },
   {
    "duration": 9,
    "start_time": "2022-12-29T19:38:40.595Z"
   },
   {
    "duration": 5,
    "start_time": "2022-12-29T19:38:41.295Z"
   },
   {
    "duration": 4,
    "start_time": "2022-12-29T19:38:42.932Z"
   },
   {
    "duration": 5,
    "start_time": "2022-12-29T19:38:43.641Z"
   },
   {
    "duration": 4,
    "start_time": "2022-12-29T19:39:17.369Z"
   },
   {
    "duration": 5,
    "start_time": "2022-12-29T19:39:17.870Z"
   },
   {
    "duration": 5,
    "start_time": "2022-12-29T19:39:18.368Z"
   },
   {
    "duration": 4,
    "start_time": "2022-12-29T19:39:18.853Z"
   },
   {
    "duration": 6,
    "start_time": "2022-12-29T19:39:19.356Z"
   },
   {
    "duration": 6,
    "start_time": "2022-12-29T19:39:19.951Z"
   },
   {
    "duration": 29,
    "start_time": "2022-12-29T19:39:20.816Z"
   },
   {
    "duration": 4,
    "start_time": "2022-12-29T19:41:56.729Z"
   },
   {
    "duration": 4,
    "start_time": "2022-12-29T19:41:57.258Z"
   },
   {
    "duration": 4,
    "start_time": "2022-12-29T19:41:57.743Z"
   },
   {
    "duration": 4,
    "start_time": "2022-12-29T19:41:58.044Z"
   },
   {
    "duration": 8,
    "start_time": "2022-12-29T19:41:58.236Z"
   },
   {
    "duration": 5,
    "start_time": "2022-12-29T19:41:58.444Z"
   },
   {
    "duration": 27,
    "start_time": "2022-12-29T19:41:58.636Z"
   },
   {
    "duration": 154,
    "start_time": "2022-12-29T19:41:59.832Z"
   },
   {
    "duration": 271,
    "start_time": "2022-12-29T19:42:01.568Z"
   },
   {
    "duration": 154,
    "start_time": "2022-12-29T19:42:03.791Z"
   },
   {
    "duration": 238,
    "start_time": "2022-12-29T19:42:04.762Z"
   },
   {
    "duration": 255,
    "start_time": "2022-12-29T19:42:06.690Z"
   },
   {
    "duration": 3,
    "start_time": "2022-12-29T19:42:09.315Z"
   },
   {
    "duration": 139,
    "start_time": "2022-12-29T19:42:10.145Z"
   },
   {
    "duration": 126,
    "start_time": "2022-12-29T19:42:19.590Z"
   },
   {
    "duration": 132,
    "start_time": "2022-12-29T19:42:26.873Z"
   },
   {
    "duration": 253,
    "start_time": "2022-12-29T19:55:06.934Z"
   },
   {
    "duration": 151,
    "start_time": "2022-12-29T19:57:58.503Z"
   },
   {
    "duration": 106,
    "start_time": "2022-12-29T20:00:59.703Z"
   },
   {
    "duration": 115,
    "start_time": "2022-12-29T20:01:21.104Z"
   },
   {
    "duration": 110,
    "start_time": "2022-12-29T20:02:01.613Z"
   },
   {
    "duration": 136,
    "start_time": "2022-12-29T20:08:34.874Z"
   },
   {
    "duration": 181,
    "start_time": "2022-12-29T20:12:40.263Z"
   },
   {
    "duration": 134,
    "start_time": "2022-12-29T20:12:54.493Z"
   },
   {
    "duration": 173,
    "start_time": "2022-12-29T20:13:00.963Z"
   },
   {
    "duration": 799,
    "start_time": "2022-12-29T20:14:09.693Z"
   },
   {
    "duration": 122,
    "start_time": "2022-12-29T20:14:24.668Z"
   },
   {
    "duration": 124,
    "start_time": "2022-12-29T20:16:54.766Z"
   },
   {
    "duration": 134,
    "start_time": "2022-12-29T20:20:05.478Z"
   },
   {
    "duration": 133,
    "start_time": "2022-12-29T20:20:23.538Z"
   },
   {
    "duration": 143,
    "start_time": "2022-12-29T20:21:59.911Z"
   },
   {
    "duration": 70,
    "start_time": "2022-12-29T21:09:20.076Z"
   },
   {
    "duration": 397,
    "start_time": "2022-12-29T21:09:29.014Z"
   },
   {
    "duration": 909,
    "start_time": "2022-12-29T21:09:29.413Z"
   },
   {
    "duration": 3,
    "start_time": "2022-12-29T21:09:30.323Z"
   },
   {
    "duration": 143,
    "start_time": "2022-12-29T21:09:30.328Z"
   },
   {
    "duration": 15,
    "start_time": "2022-12-29T21:09:30.472Z"
   },
   {
    "duration": 78,
    "start_time": "2022-12-29T21:09:30.488Z"
   },
   {
    "duration": 3,
    "start_time": "2022-12-29T21:09:30.568Z"
   },
   {
    "duration": 25,
    "start_time": "2022-12-29T21:09:30.650Z"
   },
   {
    "duration": 3,
    "start_time": "2022-12-29T21:09:30.986Z"
   },
   {
    "duration": 23,
    "start_time": "2022-12-29T21:09:31.152Z"
   },
   {
    "duration": 1886,
    "start_time": "2022-12-29T21:09:31.518Z"
   },
   {
    "duration": 14,
    "start_time": "2022-12-29T21:09:33.406Z"
   },
   {
    "duration": 4,
    "start_time": "2022-12-29T21:09:33.422Z"
   },
   {
    "duration": 7,
    "start_time": "2022-12-29T21:09:33.428Z"
   },
   {
    "duration": 5,
    "start_time": "2022-12-29T21:09:33.436Z"
   },
   {
    "duration": 10,
    "start_time": "2022-12-29T21:09:33.442Z"
   },
   {
    "duration": 118,
    "start_time": "2022-12-29T21:09:33.454Z"
   },
   {
    "duration": 5,
    "start_time": "2022-12-29T21:09:33.721Z"
   },
   {
    "duration": 10,
    "start_time": "2022-12-29T21:09:33.897Z"
   },
   {
    "duration": 6,
    "start_time": "2022-12-29T21:09:34.444Z"
   },
   {
    "duration": 4,
    "start_time": "2022-12-29T21:09:34.807Z"
   },
   {
    "duration": 9,
    "start_time": "2022-12-29T21:09:35.000Z"
   },
   {
    "duration": 6,
    "start_time": "2022-12-29T21:09:35.579Z"
   },
   {
    "duration": 6,
    "start_time": "2022-12-29T21:09:35.762Z"
   },
   {
    "duration": 6,
    "start_time": "2022-12-29T21:09:35.957Z"
   },
   {
    "duration": 6,
    "start_time": "2022-12-29T21:09:36.534Z"
   },
   {
    "duration": 6,
    "start_time": "2022-12-29T21:09:36.733Z"
   },
   {
    "duration": 5,
    "start_time": "2022-12-29T21:09:37.124Z"
   },
   {
    "duration": 6,
    "start_time": "2022-12-29T21:09:37.321Z"
   },
   {
    "duration": 5,
    "start_time": "2022-12-29T21:09:37.711Z"
   },
   {
    "duration": 5,
    "start_time": "2022-12-29T21:09:37.909Z"
   },
   {
    "duration": 5,
    "start_time": "2022-12-29T21:09:38.288Z"
   },
   {
    "duration": 4,
    "start_time": "2022-12-29T21:09:38.664Z"
   },
   {
    "duration": 6,
    "start_time": "2022-12-29T21:09:38.873Z"
   },
   {
    "duration": 5,
    "start_time": "2022-12-29T21:09:39.256Z"
   },
   {
    "duration": 5,
    "start_time": "2022-12-29T21:09:39.961Z"
   },
   {
    "duration": 5,
    "start_time": "2022-12-29T21:09:40.181Z"
   },
   {
    "duration": 4,
    "start_time": "2022-12-29T21:09:40.446Z"
   },
   {
    "duration": 9,
    "start_time": "2022-12-29T21:09:40.645Z"
   },
   {
    "duration": 5,
    "start_time": "2022-12-29T21:09:40.873Z"
   },
   {
    "duration": 7,
    "start_time": "2022-12-29T21:09:42.001Z"
   },
   {
    "duration": 5,
    "start_time": "2022-12-29T21:09:42.427Z"
   },
   {
    "duration": 5,
    "start_time": "2022-12-29T21:09:42.674Z"
   },
   {
    "duration": 4,
    "start_time": "2022-12-29T21:09:43.268Z"
   },
   {
    "duration": 6,
    "start_time": "2022-12-29T21:09:43.750Z"
   },
   {
    "duration": 7,
    "start_time": "2022-12-29T21:09:44.208Z"
   },
   {
    "duration": 10,
    "start_time": "2022-12-29T21:09:44.579Z"
   },
   {
    "duration": 11,
    "start_time": "2022-12-29T21:09:44.790Z"
   },
   {
    "duration": 9,
    "start_time": "2022-12-29T21:09:44.974Z"
   },
   {
    "duration": 14,
    "start_time": "2022-12-29T21:09:45.162Z"
   },
   {
    "duration": 9,
    "start_time": "2022-12-29T21:09:45.384Z"
   },
   {
    "duration": 10,
    "start_time": "2022-12-29T21:09:45.572Z"
   },
   {
    "duration": 9,
    "start_time": "2022-12-29T21:09:45.968Z"
   },
   {
    "duration": 13,
    "start_time": "2022-12-29T21:09:46.186Z"
   },
   {
    "duration": 7,
    "start_time": "2022-12-29T21:09:46.359Z"
   },
   {
    "duration": 5,
    "start_time": "2022-12-29T21:09:46.787Z"
   },
   {
    "duration": 6,
    "start_time": "2022-12-29T21:09:47.099Z"
   },
   {
    "duration": 4,
    "start_time": "2022-12-29T21:09:48.655Z"
   },
   {
    "duration": 5,
    "start_time": "2022-12-29T21:09:48.853Z"
   },
   {
    "duration": 6,
    "start_time": "2022-12-29T21:09:49.049Z"
   },
   {
    "duration": 5,
    "start_time": "2022-12-29T21:09:49.238Z"
   },
   {
    "duration": 7,
    "start_time": "2022-12-29T21:09:49.423Z"
   },
   {
    "duration": 5,
    "start_time": "2022-12-29T21:09:49.607Z"
   },
   {
    "duration": 24,
    "start_time": "2022-12-29T21:09:49.790Z"
   },
   {
    "duration": 133,
    "start_time": "2022-12-29T21:09:51.036Z"
   },
   {
    "duration": 268,
    "start_time": "2022-12-29T21:09:52.372Z"
   },
   {
    "duration": 174,
    "start_time": "2022-12-29T21:09:54.191Z"
   },
   {
    "duration": 143,
    "start_time": "2022-12-29T21:09:55.125Z"
   },
   {
    "duration": 158,
    "start_time": "2022-12-29T21:09:56.102Z"
   },
   {
    "duration": 252,
    "start_time": "2022-12-29T21:09:57.062Z"
   },
   {
    "duration": 265,
    "start_time": "2022-12-29T21:09:58.999Z"
   },
   {
    "duration": 3,
    "start_time": "2022-12-29T21:10:01.211Z"
   },
   {
    "duration": 144,
    "start_time": "2022-12-29T21:10:01.656Z"
   },
   {
    "duration": 235,
    "start_time": "2022-12-29T21:10:03.057Z"
   },
   {
    "duration": 134,
    "start_time": "2022-12-29T21:10:04.442Z"
   },
   {
    "duration": 135,
    "start_time": "2022-12-29T21:10:05.433Z"
   },
   {
    "duration": 118,
    "start_time": "2022-12-29T21:10:06.779Z"
   },
   {
    "duration": 144,
    "start_time": "2022-12-29T21:10:07.830Z"
   },
   {
    "duration": 126,
    "start_time": "2022-12-29T21:10:08.906Z"
   },
   {
    "duration": 127,
    "start_time": "2022-12-29T21:10:10.959Z"
   },
   {
    "duration": 126,
    "start_time": "2022-12-29T21:10:11.466Z"
   },
   {
    "duration": 139,
    "start_time": "2022-12-29T21:10:12.311Z"
   },
   {
    "duration": 35,
    "start_time": "2022-12-29T21:10:15.108Z"
   },
   {
    "duration": 176,
    "start_time": "2022-12-29T21:10:16.280Z"
   },
   {
    "duration": 246,
    "start_time": "2022-12-29T21:10:16.848Z"
   },
   {
    "duration": 9,
    "start_time": "2022-12-29T21:10:17.393Z"
   },
   {
    "duration": 235,
    "start_time": "2022-12-29T21:10:20.766Z"
   },
   {
    "duration": 234,
    "start_time": "2022-12-29T21:10:23.414Z"
   },
   {
    "duration": 232,
    "start_time": "2022-12-29T21:10:37.832Z"
   },
   {
    "duration": 302,
    "start_time": "2022-12-29T21:10:41.109Z"
   },
   {
    "duration": 136,
    "start_time": "2022-12-29T21:15:39.850Z"
   },
   {
    "duration": 442,
    "start_time": "2022-12-29T21:15:42.427Z"
   },
   {
    "duration": 20,
    "start_time": "2022-12-29T21:15:44.947Z"
   },
   {
    "duration": 23,
    "start_time": "2022-12-29T21:15:45.876Z"
   },
   {
    "duration": 34,
    "start_time": "2022-12-29T21:15:48.065Z"
   },
   {
    "duration": 17,
    "start_time": "2022-12-29T21:15:52.954Z"
   },
   {
    "duration": 131,
    "start_time": "2022-12-29T21:15:58.554Z"
   },
   {
    "duration": 69,
    "start_time": "2022-12-29T21:16:46.120Z"
   },
   {
    "duration": 1401,
    "start_time": "2023-07-13T10:43:49.812Z"
   }
  ],
  "kernelspec": {
   "display_name": "Python 3 (ipykernel)",
   "language": "python",
   "name": "python3"
  },
  "language_info": {
   "codemirror_mode": {
    "name": "ipython",
    "version": 3
   },
   "file_extension": ".py",
   "mimetype": "text/x-python",
   "name": "python",
   "nbconvert_exporter": "python",
   "pygments_lexer": "ipython3",
   "version": "3.9.5"
  },
  "toc": {
   "base_numbering": 1,
   "nav_menu": {},
   "number_sections": true,
   "sideBar": true,
   "skip_h1_title": true,
   "title_cell": "Table of Contents",
   "title_sidebar": "Contents",
   "toc_cell": false,
   "toc_position": {},
   "toc_section_display": true,
   "toc_window_display": false
  }
 },
 "nbformat": 4,
 "nbformat_minor": 2
}
